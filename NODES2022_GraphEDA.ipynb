{
  "nbformat": 4,
  "nbformat_minor": 0,
  "metadata": {
    "colab": {
      "provenance": [],
      "collapsed_sections": [],
      "authorship_tag": "ABX9TyOkslN3qHy3wYjAA1MCP/sT",
      "include_colab_link": true
    },
    "kernelspec": {
      "name": "python3",
      "display_name": "Python 3"
    },
    "language_info": {
      "name": "python"
    }
  },
  "cells": [
    {
      "cell_type": "markdown",
      "metadata": {
        "id": "view-in-github",
        "colab_type": "text"
      },
      "source": [
        "<a href=\"https://colab.research.google.com/github/danb-neo4j/NODES2022_GraphEDA/blob/main/NODES2022_GraphEDA.ipynb\" target=\"_parent\"><img src=\"https://colab.research.google.com/assets/colab-badge.svg\" alt=\"Open In Colab\"/></a>"
      ]
    },
    {
      "cell_type": "markdown",
      "source": [
        "# NODES 2022 Graph EDA Workshop \n",
        "## Notebook Three: Graph EDA\n",
        "\n",
        "Author: Daniel Bukowski, Neo4j Graph Data Science Customer Success Architect\n",
        "\n",
        "Workshop Date: November 2, 2022"
      ],
      "metadata": {
        "id": "rp8Lllj0TAIj"
      }
    },
    {
      "cell_type": "markdown",
      "source": [
        "# Import Libraries"
      ],
      "metadata": {
        "id": "NZTuAO5DS6xX"
      }
    },
    {
      "cell_type": "code",
      "source": [
        "import numpy as np\n",
        "import pandas as pd\n",
        "pd.set_option('display.max_columns', None)\n",
        "pd.set_option('display.max_rows', None)\n",
        "pd.set_option('display.max_colwidth', None)\n",
        "\n",
        "import matplotlib.pyplot as plt \n",
        "import seaborn as sns\n",
        "sns.set_style('darkgrid')\n",
        "sns.set_palette(\"colorblind\")\n",
        "sns.set(rc={'figure.figsize':(11,6)})\n",
        "\n",
        "import os \n",
        "import configparser"
      ],
      "metadata": {
        "id": "cw7kzxpq2Toq"
      },
      "execution_count": null,
      "outputs": []
    },
    {
      "cell_type": "code",
      "source": [
        "# install or import Neo4j GraphDataScience library\n",
        "try: \n",
        "  from graphdatascience import GraphDataScience\n",
        "  print('Successfully imported GraphDataScience')\n",
        "except ModuleNotFoundError:\n",
        "  !pip install graphdatascience\n",
        "  from graphdatascience import GraphDataScience\n",
        "  print('installed and imported GraphDataScience')"
      ],
      "metadata": {
        "colab": {
          "base_uri": "https://localhost:8080/"
        },
        "id": "7dU6wOlq2TrR",
        "outputId": "028c038c-fb49-4953-ba07-6ddf2fc1571c"
      },
      "execution_count": null,
      "outputs": [
        {
          "output_type": "stream",
          "name": "stdout",
          "text": [
            "Looking in indexes: https://pypi.org/simple, https://us-python.pkg.dev/colab-wheels/public/simple/\n",
            "Collecting graphdatascience\n",
            "  Downloading graphdatascience-1.4-py3-none-any.whl (182 kB)\n",
            "\u001b[K     |████████████████████████████████| 182 kB 3.8 MB/s \n",
            "\u001b[?25hRequirement already satisfied: pyarrow<10.0,>=4.0 in /usr/local/lib/python3.7/dist-packages (from graphdatascience) (6.0.1)\n",
            "Collecting neo4j<6.0,>=4.4.2\n",
            "  Downloading neo4j-5.2.0.tar.gz (173 kB)\n",
            "\u001b[K     |████████████████████████████████| 173 kB 18.9 MB/s \n",
            "\u001b[?25hRequirement already satisfied: tqdm<5.0,>=4.0 in /usr/local/lib/python3.7/dist-packages (from graphdatascience) (4.64.1)\n",
            "Requirement already satisfied: pandas<2.0,>=1.0 in /usr/local/lib/python3.7/dist-packages (from graphdatascience) (1.3.5)\n",
            "Collecting multimethod<2.0,>=1.0\n",
            "  Downloading multimethod-1.9-py3-none-any.whl (10 kB)\n",
            "Requirement already satisfied: pytz in /usr/local/lib/python3.7/dist-packages (from neo4j<6.0,>=4.4.2->graphdatascience) (2022.5)\n",
            "Requirement already satisfied: python-dateutil>=2.7.3 in /usr/local/lib/python3.7/dist-packages (from pandas<2.0,>=1.0->graphdatascience) (2.8.2)\n",
            "Requirement already satisfied: numpy>=1.17.3 in /usr/local/lib/python3.7/dist-packages (from pandas<2.0,>=1.0->graphdatascience) (1.21.6)\n",
            "Requirement already satisfied: six>=1.5 in /usr/local/lib/python3.7/dist-packages (from python-dateutil>=2.7.3->pandas<2.0,>=1.0->graphdatascience) (1.15.0)\n",
            "Building wheels for collected packages: neo4j\n",
            "  Building wheel for neo4j (setup.py) ... \u001b[?25l\u001b[?25hdone\n",
            "  Created wheel for neo4j: filename=neo4j-5.2.0-py3-none-any.whl size=248023 sha256=fe021d543d5148feae4a7875821098b0ed489522317e531fe609a02dcc6d20e9\n",
            "  Stored in directory: /root/.cache/pip/wheels/5a/07/16/4d845d69ef310660c14b7148848c95da3ef3950c7b58daec42\n",
            "Successfully built neo4j\n",
            "Installing collected packages: neo4j, multimethod, graphdatascience\n",
            "Successfully installed graphdatascience-1.4 multimethod-1.9 neo4j-5.2.0\n",
            "installed and imported GraphDataScience\n"
          ]
        }
      ]
    },
    {
      "cell_type": "markdown",
      "source": [
        "# Custom Functions"
      ],
      "metadata": {
        "id": "5OO6-1oq2TuB"
      }
    },
    {
      "cell_type": "code",
      "source": [
        "# function adapted from Neo4j GDS Fraud Demo Notebook (h/t Zach B.)\n",
        "def read_neo4j_properties(NEO4J_PROPERTIES_FILE: str=None) -> str:\n",
        "  '''Parses Neo4j database or Aura connection details from provided .ini filepath.\n",
        "  Requirements:\n",
        "    configparser\n",
        "\n",
        "  Args:\n",
        "    NEO4J_PROPERTIES_FILE: path to a .ini file\n",
        "  \n",
        "  Returns:\n",
        "    HOST: link to Neo4j or Aura host \n",
        "    USERNAME: login username\n",
        "    PASSWORD: login password \n",
        "\n",
        "  Note: The .ini file should use the following syntax\n",
        "    [NEO4J]\n",
        "    PASSWORD=<password>\n",
        "    USERNAME=<database name>\n",
        "    HOST=<host uri>\n",
        "\n",
        "  If no path is passed, the function will return the defaults:\n",
        "    HOST = 'neo4j://localhost'\n",
        "    USERNAME = 'neo4j'\n",
        "    PASSWORD = 'password'\n",
        "  '''\n",
        "\n",
        "  if NEO4J_PROPERTIES_FILE is not None and os.path.exists(NEO4J_PROPERTIES_FILE):\n",
        "      config = configparser.RawConfigParser()\n",
        "      config.read(NEO4J_PROPERTIES_FILE)\n",
        "      HOST = config['NEO4J']['HOST']\n",
        "      USERNAME = config['NEO4J']['USERNAME']\n",
        "      PASSWORD = config['NEO4J']['PASSWORD']\n",
        "      print('Using HOST, USERNAME, PASSWORD from .ini file')\n",
        "      return HOST, USERNAME, PASSWORD\n",
        "  else:\n",
        "      print('Could not find database properties file, using defaults:')\n",
        "      HOST = 'neo4j://localhost'\n",
        "      USERNAME = 'neo4j'\n",
        "      PASSWORD = 'password'\n",
        "      print(f'HOST: {HOST} \\nUSERHAME: {USERNAME} \\nPASSWORD: {PASSWORD}')\n",
        "      return HOST, USERNAME, PASSWORD "
      ],
      "metadata": {
        "id": "yN3FmKZhXH2C"
      },
      "execution_count": null,
      "outputs": []
    },
    {
      "cell_type": "code",
      "source": [
        "def gen_graph_counts(df: pd.DataFrame) -> None:\n",
        "  '''return count columns from output of apoc.meta.stats()\n",
        "\n",
        "  Args:\n",
        "    df: dataframe containing output of apoc.meta.stats()\n",
        "\n",
        "  Returns:\n",
        "    print count columns to notebook \n",
        "  '''\n",
        "\n",
        "  print(summary_df[['nodeCount', 'labelCount', 'propertyKeyCount', 'relCount', 'relTypeCount']].T)"
      ],
      "metadata": {
        "id": "GBRFQFp4mbGt"
      },
      "execution_count": null,
      "outputs": []
    },
    {
      "cell_type": "code",
      "source": [
        "def gen_nodeLabel_count(summary_df: pd.DataFrame) -> None:\n",
        "  '''import summary_df and return dataframe with node label count\n",
        "  args:\n",
        "    summary_df: dataframe returned from apoc.meta.stats()\n",
        "  \n",
        "  returns:\n",
        "    Nothing; will print the dataframe to the notebook\n",
        "  '''\n",
        "  # generate a new dataframe from the nested dictionary in the 'labels' column\n",
        "  labels_df = pd.DataFrame(summary_df['labels']['values'].items()).set_index(0)\n",
        "\n",
        "  # rename the index and column\n",
        "  labels_df.columns = ['nodeCount']\n",
        "  labels_df.index.rename('nodeLabel', inplace=True)\n",
        "\n",
        "  # sort by descending count \n",
        "  labels_df.sort_values(by='nodeCount', ascending=False, inplace=True)\n",
        "  print(labels_df)"
      ],
      "metadata": {
        "id": "7Un6MLpL-P6S"
      },
      "execution_count": null,
      "outputs": []
    },
    {
      "cell_type": "code",
      "source": [
        "def gen_nodeLabel_properties() -> None:\n",
        "  '''cypher call for properties; return node properties table\n",
        "  args:\n",
        "    None\n",
        "\n",
        "  returns:\n",
        "    Nothing; prints dataframe to notebook\n",
        "  '''\n",
        "  # query for nodeProperty schema dataframe \n",
        "  node_properties_df = gds.run_cypher('''CALL db.schema.nodeTypeProperties()''')\n",
        "\n",
        "  # remove extra text from nodeType column and sort\n",
        "  node_properties_df['nodeType'] = node_properties_df['nodeType'].str.replace('`', '')\n",
        "  node_properties_df['nodeType'] = node_properties_df['nodeType'].str.replace(':', '')\n",
        "  node_properties_df.sort_values(by=['nodeType', 'propertyName'], inplace=True)\n",
        "\n",
        "  # view dimensions \n",
        "  print(node_properties_df)"
      ],
      "metadata": {
        "id": "LzoPhlOSAl1b"
      },
      "execution_count": null,
      "outputs": []
    },
    {
      "cell_type": "code",
      "source": [
        "def gen_graph_rel_patterns(summary_df: pd.DataFrame) -> None:\n",
        "  '''generate list of graph relationship patterns from apoc.meta.stats()\n",
        "  '''\n",
        "  # extract nested dictionary into a dataframe \n",
        "  graphPatterns_df = pd.DataFrame(summary_df['relTypes']['values'].items())\n",
        "\n",
        "  # # rename columns and set an index \n",
        "  graphPatterns_df.rename(columns = {0: 'relPattern', 1:'relCount'}, inplace=True)\n",
        "  graphPatterns_df.set_index('relPattern', inplace=True)\n",
        "\n",
        "  # sort descending\n",
        "  graphPatterns_df.sort_values(by=['relCount', 'relPattern'], ascending=False, inplace=True)\n",
        "\n",
        "  print(graphPatterns_df)"
      ],
      "metadata": {
        "id": "OIBVcQEsmzoo"
      },
      "execution_count": null,
      "outputs": []
    },
    {
      "cell_type": "code",
      "source": [
        "def gen_relType_count(summary_df: pd.DataFrame) -> None:\n",
        "  '''generate relationship type count from apoc.meta.stats()\n",
        "  inputs:\n",
        "    summary_df: output from apoc.meta.stats()\n",
        "  '''\n",
        "  # generate a new dataframe from the nested dictionary in the 'labels' column\n",
        "  relTypes_df = pd.DataFrame(summary_df['relTypesCount']['values'].items()).set_index(0)\n",
        "\n",
        "  # rename the index and column\n",
        "  relTypes_df.columns = ['relCount']\n",
        "  relTypes_df.index.rename('relType', inplace=True)\n",
        "\n",
        "  # sort by descending count \n",
        "  relTypes_df.sort_values(by='relCount', ascending=False, inplace=True)\n",
        "  print(relTypes_df)"
      ],
      "metadata": {
        "id": "hjLqShdbeDA1"
      },
      "execution_count": null,
      "outputs": []
    },
    {
      "cell_type": "code",
      "source": [
        "def gen_relType_properties() -> None:\n",
        "  '''generate and print table of relationship properties\n",
        "  inputs:\n",
        "    None\n",
        "\n",
        "  outputs:\n",
        "    None; prints table to notebook\n",
        "  '''\n",
        "  # query for schema dataframe \n",
        "  rel_properties_df = gds.run_cypher('''CALL db.schema.relTypeProperties()''')\n",
        "\n",
        "  # remove extra text from nodeType column\n",
        "  rel_properties_df['relType'] = rel_properties_df['relType'].str.replace('`', '')\n",
        "  rel_properties_df['relType'] = rel_properties_df['relType'].str.replace(':', '')\n",
        "\n",
        "  # view dimensions \n",
        "  print(rel_properties_df.sort_values(by='relType', ascending=True))"
      ],
      "metadata": {
        "id": "qKRYQdHpfQPq"
      },
      "execution_count": null,
      "outputs": []
    },
    {
      "cell_type": "code",
      "source": [
        "def gen_apoc_stats(df: pd.DataFrame, col: str) -> None:\n",
        "  '''generate statistics from an array of node degree values\n",
        "  inputs:\n",
        "    df: dataframe containing the degree values\n",
        "    col: df column to perform the calculation on\n",
        "  '''\n",
        "  return round(df[col].describe(percentiles=[.25, .5, .75, .9, .95, .99]), 2)"
      ],
      "metadata": {
        "id": "rCY6OsDuMS33"
      },
      "execution_count": null,
      "outputs": []
    },
    {
      "cell_type": "markdown",
      "source": [
        "# Connect to Colab"
      ],
      "metadata": {
        "id": "CnTWIq_dJzRo"
      }
    },
    {
      "cell_type": "code",
      "source": [
        "from google.colab import drive \n",
        "drive.mount('/content/drive')"
      ],
      "metadata": {
        "colab": {
          "base_uri": "https://localhost:8080/"
        },
        "id": "rjJZunOaZusu",
        "outputId": "9d43ff9a-ff6c-4799-c6b1-fad05820b8be"
      },
      "execution_count": null,
      "outputs": [
        {
          "output_type": "stream",
          "name": "stdout",
          "text": [
            "Mounted at /content/drive\n"
          ]
        }
      ]
    },
    {
      "cell_type": "code",
      "source": [
        "os.chdir('drive/MyDrive/Colab Notebooks/NODES_2022_Workshop/')"
      ],
      "metadata": {
        "id": "DHcdQwzBZuo-"
      },
      "execution_count": null,
      "outputs": []
    },
    {
      "cell_type": "code",
      "source": [
        "train_df = pd.read_csv(\"source_data/spaceshipTitanic_train_processed.csv\")\n",
        "\n",
        "print('train dataframe dimensions:', train_df.shape)"
      ],
      "metadata": {
        "colab": {
          "base_uri": "https://localhost:8080/"
        },
        "id": "yn49JiEIJ-e_",
        "outputId": "f948c525-fd0e-4022-e294-2e310f53d642"
      },
      "execution_count": null,
      "outputs": [
        {
          "output_type": "stream",
          "name": "stdout",
          "text": [
            "train dataframe dimensions: (8693, 21)\n"
          ]
        }
      ]
    },
    {
      "cell_type": "markdown",
      "source": [
        "# Connect to AuraDS\n",
        "If using a persistent AuraDS instance, it is recommended to store authentication credentials in a separate file and read them in to the notebook as variables. This code assumes the notebook is running Colab and the files are stored in a local auth directory."
      ],
      "metadata": {
        "id": "wpI8CLgiYLBm"
      }
    },
    {
      "cell_type": "code",
      "source": [
        "NEO4J_PROPERTIES_FILE = 'auth/nodes_titanic_auth.ini'\n",
        "HOST, USERNAME, PASSWORD = read_neo4j_properties(NEO4J_PROPERTIES_FILE=NEO4J_PROPERTIES_FILE)"
      ],
      "metadata": {
        "colab": {
          "base_uri": "https://localhost:8080/"
        },
        "id": "-b17nzZqZuh4",
        "outputId": "8b0faa79-5160-49ef-8f61-ca21936a2d5d"
      },
      "execution_count": null,
      "outputs": [
        {
          "output_type": "stream",
          "name": "stdout",
          "text": [
            "Using HOST, USERNAME, PASSWORD from .ini file\n"
          ]
        }
      ]
    },
    {
      "cell_type": "code",
      "source": [
        "# connect to AuraDS instance \n",
        "gds = GraphDataScience(HOST, auth=(USERNAME, PASSWORD), aura_ds=True)"
      ],
      "metadata": {
        "id": "6BPT_tFSaf0p"
      },
      "execution_count": null,
      "outputs": []
    },
    {
      "cell_type": "code",
      "source": [
        "# confirm connection with GDS version \n",
        "gds.version()"
      ],
      "metadata": {
        "id": "-d1lwIoeaf6X",
        "colab": {
          "base_uri": "https://localhost:8080/",
          "height": 35
        },
        "outputId": "a192a8a5-11c4-4a50-fb81-ac3c62f8c17f"
      },
      "execution_count": null,
      "outputs": [
        {
          "output_type": "execute_result",
          "data": {
            "text/plain": [
              "'2.2.2'"
            ],
            "application/vnd.google.colaboratory.intrinsic+json": {
              "type": "string"
            }
          },
          "metadata": {},
          "execution_count": 16
        }
      ]
    },
    {
      "cell_type": "markdown",
      "source": [
        "# High-Level Graph Database overview"
      ],
      "metadata": {
        "id": "kGjkMnhA84Eg"
      }
    },
    {
      "cell_type": "markdown",
      "source": [
        "## View Graph Database Schema in Browser\n",
        "* There is no one 'right way' to perform EDA on a data set and Graph EDA is an emerging area of Graph Data Science (GDS) with few established best practices. \n",
        "* We have multiple tools available and we want to use any and all of them that can be most beneficial.\n",
        "* It is always recommended to call `CALL db.schema.visualization()` on the data from the Neo4j Browser to view the data model. It will not render if called from the Python GDS client.\n",
        "  * At a minimum, review the schema and confirm it passes the *common sense test* especially if you loaded the data manually. \n",
        "  * If possible, compare it to an expected model as well to identify any potential errors or other data schema issues. \n"
      ],
      "metadata": {
        "id": "fZgIXBwM7GFY"
      }
    },
    {
      "cell_type": "markdown",
      "source": [
        "## Data Summary\n",
        "Calling `apoc.meta.stats()` will yield an output (or in this case, a DataFrame) containing several high level statistics about the contents of our graph database.  \n",
        "\n",
        "There are multiple ways we can work with this data, either in Python itself or through multiple Cypher calls to the database. However it may be preferrable for some to make one Cypher call to the database and then work with the returned DataFrame."
      ],
      "metadata": {
        "id": "GlSYGTI58l45"
      }
    },
    {
      "cell_type": "code",
      "source": [
        "# return full dataframe of summary data \n",
        "summary_df = gds.run_cypher('''\n",
        "                            CALL apoc.meta.stats()\n",
        "                            YIELD *\n",
        "                            ''')\n",
        "\n",
        "# set a named index, rather than the default 0\n",
        "summary_df.index = ['values']\n",
        "\n",
        "# view dimensions of dataframe\n",
        "summary_df.shape"
      ],
      "metadata": {
        "colab": {
          "base_uri": "https://localhost:8080/"
        },
        "id": "ToB0T0g28pDJ",
        "outputId": "2448e60c-65b1-4059-84b7-54763f45d8ea"
      },
      "execution_count": null,
      "outputs": [
        {
          "output_type": "execute_result",
          "data": {
            "text/plain": [
              "(1, 9)"
            ]
          },
          "metadata": {},
          "execution_count": 17
        }
      ]
    },
    {
      "cell_type": "markdown",
      "source": [
        "## Summary Statistics"
      ],
      "metadata": {
        "id": "KHrB8_4G8yVF"
      }
    },
    {
      "cell_type": "code",
      "source": [
        "summary_df"
      ],
      "metadata": {
        "colab": {
          "base_uri": "https://localhost:8080/",
          "height": 489
        },
        "id": "T33WmH-88KmA",
        "outputId": "0d59bf74-da2d-4dde-8db7-9447f9fbd3cb"
      },
      "execution_count": null,
      "outputs": [
        {
          "output_type": "execute_result",
          "data": {
            "text/plain": [
              "        labelCount  relTypeCount  propertyKeyCount  nodeCount  relCount  \\\n",
              "values           8             9                19      18904     68645   \n",
              "\n",
              "                                                                                                                               labels  \\\n",
              "values  {'CabinSide': 2, 'Group': 1412, 'Amenity': 5, 'Cabin': 6560, 'Passenger': 8693, 'Planet': 6, 'CabinDeck': 8, 'Surname': 2218}   \n",
              "\n",
              "                                                                                                                                                                                                                                                                                                                                                                                                                                                                                                                                                                                                                                                                                                                                                                                                                                                                                                                                        relTypes  \\\n",
              "values  {'()-[:ASSIGNED]->(:Cabin)': 8693, '()-[:ORIGINATED]->()': 8693, '()-[:HAS_SURNAME]->()': 8693, '()-[:ON_SIDE]->()': 6560, '(:Passenger)-[:MEMBER]->()': 3888, '()-[:ON_DECK]->(:CabinDeck)': 6560, '()-[:ON_SIDE]->(:CabinSide)': 6560, '()-[:TRAVELING]->(:Planet)': 8693, '()-[:MEMBER]->(:Group)': 3888, '()-[:SPEND]->()': 15083, '()-[:IN_GROUP]->()': 1782, '(:Passenger)-[:SPEND]->()': 15083, '()-[:HAS_SURNAME]->(:Surname)': 8693, '(:Passenger)-[:ORIGINATED]->()': 8693, '()-[:TRAVELING]->()': 8693, '(:Passenger)-[:HAS_SURNAME]->()': 8693, '()-[:ASSIGNED]->()': 8693, '()-[:MEMBER]->()': 3888, '(:Passenger)-[:TRAVELING]->()': 8693, '()-[:ORIGINATED]->(:Planet)': 8693, '()-[:IN_GROUP]->(:Group)': 1782, '(:Surname)-[:IN_GROUP]->()': 1782, '(:Cabin)-[:ON_DECK]->()': 6560, '(:Passenger)-[:ASSIGNED]->()': 8693, '(:Cabin)-[:ON_SIDE]->()': 6560, '()-[:SPEND]->(:Amenity)': 15083, '()-[:ON_DECK]->()': 6560}   \n",
              "\n",
              "                                                                                                                                                             relTypesCount  \\\n",
              "values  {'ON_SIDE': 6560, 'IN_GROUP': 1782, 'TRAVELING': 8693, 'HAS_SURNAME': 8693, 'ASSIGNED': 8693, 'ON_DECK': 6560, 'ORIGINATED': 8693, 'SPEND': 15083, 'MEMBER': 3888}   \n",
              "\n",
              "                                                                                                                                                                                                                                                                                                                                                                                                                                                                                                                                                                                                                                                                                                                                                                                                                                                                                                                                                                                                                                                                                                                                                                                                     stats  \n",
              "values  {'relTypeCount': 9, 'propertyKeyCount': 19, 'labelCount': 8, 'nodeCount': 18904, 'relCount': 68645, 'labels': {'CabinSide': 2, 'Group': 1412, 'Amenity': 5, 'Cabin': 6560, 'Passenger': 8693, 'Planet': 6, 'CabinDeck': 8, 'Surname': 2218}, 'relTypes': {'()-[:ASSIGNED]->(:Cabin)': 8693, '()-[:ORIGINATED]->()': 8693, '()-[:HAS_SURNAME]->()': 8693, '()-[:ON_SIDE]->()': 6560, '(:Passenger)-[:MEMBER]->()': 3888, '()-[:ON_DECK]->(:CabinDeck)': 6560, '()-[:ON_SIDE]->(:CabinSide)': 6560, '()-[:TRAVELING]->(:Planet)': 8693, '()-[:MEMBER]->(:Group)': 3888, '()-[:SPEND]->()': 15083, '()-[:IN_GROUP]->()': 1782, '(:Passenger)-[:SPEND]->()': 15083, '()-[:HAS_SURNAME]->(:Surname)': 8693, '(:Passenger)-[:ORIGINATED]->()': 8693, '()-[:TRAVELING]->()': 8693, '(:Passenger)-[:HAS_SURNAME]->()': 8693, '()-[:ASSIGNED]->()': 8693, '()-[:MEMBER]->()': 3888, '(:Passenger)-[:TRAVELING]->()': 8693, '()-[:ORIGINATED]->(:Planet)': 8693, '()-[:IN_GROUP]->(:Group)': 1782, '(:Surname)-[:IN_GROUP]->()': 1782, '(:Cabin)-[:ON_DECK]->()': 6560, '(:Passenger)-[:ASSIGNED]->()': 8693, '(:Cabin)-[:ON_SIDE]->()': 6560, '()-[:SPEND]->(:Amenity)': 15083, '()-[:ON_DECK]->()': 6560}}  "
            ],
            "text/html": [
              "\n",
              "  <div id=\"df-e9f8f106-bda4-48ca-8a66-9d4ae5455fc4\">\n",
              "    <div class=\"colab-df-container\">\n",
              "      <div>\n",
              "<style scoped>\n",
              "    .dataframe tbody tr th:only-of-type {\n",
              "        vertical-align: middle;\n",
              "    }\n",
              "\n",
              "    .dataframe tbody tr th {\n",
              "        vertical-align: top;\n",
              "    }\n",
              "\n",
              "    .dataframe thead th {\n",
              "        text-align: right;\n",
              "    }\n",
              "</style>\n",
              "<table border=\"1\" class=\"dataframe\">\n",
              "  <thead>\n",
              "    <tr style=\"text-align: right;\">\n",
              "      <th></th>\n",
              "      <th>labelCount</th>\n",
              "      <th>relTypeCount</th>\n",
              "      <th>propertyKeyCount</th>\n",
              "      <th>nodeCount</th>\n",
              "      <th>relCount</th>\n",
              "      <th>labels</th>\n",
              "      <th>relTypes</th>\n",
              "      <th>relTypesCount</th>\n",
              "      <th>stats</th>\n",
              "    </tr>\n",
              "  </thead>\n",
              "  <tbody>\n",
              "    <tr>\n",
              "      <th>values</th>\n",
              "      <td>8</td>\n",
              "      <td>9</td>\n",
              "      <td>19</td>\n",
              "      <td>18904</td>\n",
              "      <td>68645</td>\n",
              "      <td>{'CabinSide': 2, 'Group': 1412, 'Amenity': 5, 'Cabin': 6560, 'Passenger': 8693, 'Planet': 6, 'CabinDeck': 8, 'Surname': 2218}</td>\n",
              "      <td>{'()-[:ASSIGNED]-&gt;(:Cabin)': 8693, '()-[:ORIGINATED]-&gt;()': 8693, '()-[:HAS_SURNAME]-&gt;()': 8693, '()-[:ON_SIDE]-&gt;()': 6560, '(:Passenger)-[:MEMBER]-&gt;()': 3888, '()-[:ON_DECK]-&gt;(:CabinDeck)': 6560, '()-[:ON_SIDE]-&gt;(:CabinSide)': 6560, '()-[:TRAVELING]-&gt;(:Planet)': 8693, '()-[:MEMBER]-&gt;(:Group)': 3888, '()-[:SPEND]-&gt;()': 15083, '()-[:IN_GROUP]-&gt;()': 1782, '(:Passenger)-[:SPEND]-&gt;()': 15083, '()-[:HAS_SURNAME]-&gt;(:Surname)': 8693, '(:Passenger)-[:ORIGINATED]-&gt;()': 8693, '()-[:TRAVELING]-&gt;()': 8693, '(:Passenger)-[:HAS_SURNAME]-&gt;()': 8693, '()-[:ASSIGNED]-&gt;()': 8693, '()-[:MEMBER]-&gt;()': 3888, '(:Passenger)-[:TRAVELING]-&gt;()': 8693, '()-[:ORIGINATED]-&gt;(:Planet)': 8693, '()-[:IN_GROUP]-&gt;(:Group)': 1782, '(:Surname)-[:IN_GROUP]-&gt;()': 1782, '(:Cabin)-[:ON_DECK]-&gt;()': 6560, '(:Passenger)-[:ASSIGNED]-&gt;()': 8693, '(:Cabin)-[:ON_SIDE]-&gt;()': 6560, '()-[:SPEND]-&gt;(:Amenity)': 15083, '()-[:ON_DECK]-&gt;()': 6560}</td>\n",
              "      <td>{'ON_SIDE': 6560, 'IN_GROUP': 1782, 'TRAVELING': 8693, 'HAS_SURNAME': 8693, 'ASSIGNED': 8693, 'ON_DECK': 6560, 'ORIGINATED': 8693, 'SPEND': 15083, 'MEMBER': 3888}</td>\n",
              "      <td>{'relTypeCount': 9, 'propertyKeyCount': 19, 'labelCount': 8, 'nodeCount': 18904, 'relCount': 68645, 'labels': {'CabinSide': 2, 'Group': 1412, 'Amenity': 5, 'Cabin': 6560, 'Passenger': 8693, 'Planet': 6, 'CabinDeck': 8, 'Surname': 2218}, 'relTypes': {'()-[:ASSIGNED]-&gt;(:Cabin)': 8693, '()-[:ORIGINATED]-&gt;()': 8693, '()-[:HAS_SURNAME]-&gt;()': 8693, '()-[:ON_SIDE]-&gt;()': 6560, '(:Passenger)-[:MEMBER]-&gt;()': 3888, '()-[:ON_DECK]-&gt;(:CabinDeck)': 6560, '()-[:ON_SIDE]-&gt;(:CabinSide)': 6560, '()-[:TRAVELING]-&gt;(:Planet)': 8693, '()-[:MEMBER]-&gt;(:Group)': 3888, '()-[:SPEND]-&gt;()': 15083, '()-[:IN_GROUP]-&gt;()': 1782, '(:Passenger)-[:SPEND]-&gt;()': 15083, '()-[:HAS_SURNAME]-&gt;(:Surname)': 8693, '(:Passenger)-[:ORIGINATED]-&gt;()': 8693, '()-[:TRAVELING]-&gt;()': 8693, '(:Passenger)-[:HAS_SURNAME]-&gt;()': 8693, '()-[:ASSIGNED]-&gt;()': 8693, '()-[:MEMBER]-&gt;()': 3888, '(:Passenger)-[:TRAVELING]-&gt;()': 8693, '()-[:ORIGINATED]-&gt;(:Planet)': 8693, '()-[:IN_GROUP]-&gt;(:Group)': 1782, '(:Surname)-[:IN_GROUP]-&gt;()': 1782, '(:Cabin)-[:ON_DECK]-&gt;()': 6560, '(:Passenger)-[:ASSIGNED]-&gt;()': 8693, '(:Cabin)-[:ON_SIDE]-&gt;()': 6560, '()-[:SPEND]-&gt;(:Amenity)': 15083, '()-[:ON_DECK]-&gt;()': 6560}}</td>\n",
              "    </tr>\n",
              "  </tbody>\n",
              "</table>\n",
              "</div>\n",
              "      <button class=\"colab-df-convert\" onclick=\"convertToInteractive('df-e9f8f106-bda4-48ca-8a66-9d4ae5455fc4')\"\n",
              "              title=\"Convert this dataframe to an interactive table.\"\n",
              "              style=\"display:none;\">\n",
              "        \n",
              "  <svg xmlns=\"http://www.w3.org/2000/svg\" height=\"24px\"viewBox=\"0 0 24 24\"\n",
              "       width=\"24px\">\n",
              "    <path d=\"M0 0h24v24H0V0z\" fill=\"none\"/>\n",
              "    <path d=\"M18.56 5.44l.94 2.06.94-2.06 2.06-.94-2.06-.94-.94-2.06-.94 2.06-2.06.94zm-11 1L8.5 8.5l.94-2.06 2.06-.94-2.06-.94L8.5 2.5l-.94 2.06-2.06.94zm10 10l.94 2.06.94-2.06 2.06-.94-2.06-.94-.94-2.06-.94 2.06-2.06.94z\"/><path d=\"M17.41 7.96l-1.37-1.37c-.4-.4-.92-.59-1.43-.59-.52 0-1.04.2-1.43.59L10.3 9.45l-7.72 7.72c-.78.78-.78 2.05 0 2.83L4 21.41c.39.39.9.59 1.41.59.51 0 1.02-.2 1.41-.59l7.78-7.78 2.81-2.81c.8-.78.8-2.07 0-2.86zM5.41 20L4 18.59l7.72-7.72 1.47 1.35L5.41 20z\"/>\n",
              "  </svg>\n",
              "      </button>\n",
              "      \n",
              "  <style>\n",
              "    .colab-df-container {\n",
              "      display:flex;\n",
              "      flex-wrap:wrap;\n",
              "      gap: 12px;\n",
              "    }\n",
              "\n",
              "    .colab-df-convert {\n",
              "      background-color: #E8F0FE;\n",
              "      border: none;\n",
              "      border-radius: 50%;\n",
              "      cursor: pointer;\n",
              "      display: none;\n",
              "      fill: #1967D2;\n",
              "      height: 32px;\n",
              "      padding: 0 0 0 0;\n",
              "      width: 32px;\n",
              "    }\n",
              "\n",
              "    .colab-df-convert:hover {\n",
              "      background-color: #E2EBFA;\n",
              "      box-shadow: 0px 1px 2px rgba(60, 64, 67, 0.3), 0px 1px 3px 1px rgba(60, 64, 67, 0.15);\n",
              "      fill: #174EA6;\n",
              "    }\n",
              "\n",
              "    [theme=dark] .colab-df-convert {\n",
              "      background-color: #3B4455;\n",
              "      fill: #D2E3FC;\n",
              "    }\n",
              "\n",
              "    [theme=dark] .colab-df-convert:hover {\n",
              "      background-color: #434B5C;\n",
              "      box-shadow: 0px 1px 3px 1px rgba(0, 0, 0, 0.15);\n",
              "      filter: drop-shadow(0px 1px 2px rgba(0, 0, 0, 0.3));\n",
              "      fill: #FFFFFF;\n",
              "    }\n",
              "  </style>\n",
              "\n",
              "      <script>\n",
              "        const buttonEl =\n",
              "          document.querySelector('#df-e9f8f106-bda4-48ca-8a66-9d4ae5455fc4 button.colab-df-convert');\n",
              "        buttonEl.style.display =\n",
              "          google.colab.kernel.accessAllowed ? 'block' : 'none';\n",
              "\n",
              "        async function convertToInteractive(key) {\n",
              "          const element = document.querySelector('#df-e9f8f106-bda4-48ca-8a66-9d4ae5455fc4');\n",
              "          const dataTable =\n",
              "            await google.colab.kernel.invokeFunction('convertToInteractive',\n",
              "                                                     [key], {});\n",
              "          if (!dataTable) return;\n",
              "\n",
              "          const docLinkHtml = 'Like what you see? Visit the ' +\n",
              "            '<a target=\"_blank\" href=https://colab.research.google.com/notebooks/data_table.ipynb>data table notebook</a>'\n",
              "            + ' to learn more about interactive tables.';\n",
              "          element.innerHTML = '';\n",
              "          dataTable['output_type'] = 'display_data';\n",
              "          await google.colab.output.renderOutput(dataTable, element);\n",
              "          const docLink = document.createElement('div');\n",
              "          docLink.innerHTML = docLinkHtml;\n",
              "          element.appendChild(docLink);\n",
              "        }\n",
              "      </script>\n",
              "    </div>\n",
              "  </div>\n",
              "  "
            ]
          },
          "metadata": {},
          "execution_count": 18
        }
      ]
    },
    {
      "cell_type": "markdown",
      "source": [
        "## Graph Value Counts"
      ],
      "metadata": {
        "id": "UqscSs81QT2n"
      }
    },
    {
      "cell_type": "code",
      "source": [
        "gen_graph_counts(df=summary_df)"
      ],
      "metadata": {
        "colab": {
          "base_uri": "https://localhost:8080/"
        },
        "id": "g3FitqG7mSlB",
        "outputId": "c83473ae-5f6a-40fa-a46a-5da2063c73ed"
      },
      "execution_count": null,
      "outputs": [
        {
          "output_type": "stream",
          "name": "stdout",
          "text": [
            "                  values\n",
            "nodeCount          18904\n",
            "labelCount             8\n",
            "propertyKeyCount      19\n",
            "relCount           68645\n",
            "relTypeCount           9\n"
          ]
        }
      ]
    },
    {
      "cell_type": "markdown",
      "source": [
        "# Nodes"
      ],
      "metadata": {
        "id": "dN99DLbUAgDX"
      }
    },
    {
      "cell_type": "markdown",
      "source": [
        "## Node Label Count"
      ],
      "metadata": {
        "id": "Z9qbh8g_9Hjr"
      }
    },
    {
      "cell_type": "code",
      "source": [
        "# use function defined above\n",
        "gen_nodeLabel_count(summary_df=summary_df)"
      ],
      "metadata": {
        "colab": {
          "base_uri": "https://localhost:8080/"
        },
        "id": "EjA8AGY89g4f",
        "outputId": "27fad27a-bebd-468c-f58b-c5c229464fcb"
      },
      "execution_count": null,
      "outputs": [
        {
          "output_type": "stream",
          "name": "stdout",
          "text": [
            "           nodeCount\n",
            "nodeLabel           \n",
            "Passenger       8693\n",
            "Cabin           6560\n",
            "Surname         2218\n",
            "Group           1412\n",
            "CabinDeck          8\n",
            "Planet             6\n",
            "Amenity            5\n",
            "CabinSide          2\n"
          ]
        }
      ]
    },
    {
      "cell_type": "markdown",
      "source": [
        "## Node Label Properties"
      ],
      "metadata": {
        "id": "LJCkjYIb-AVj"
      }
    },
    {
      "cell_type": "code",
      "source": [
        "# use function defined above\n",
        "gen_nodeLabel_properties()"
      ],
      "metadata": {
        "colab": {
          "base_uri": "https://localhost:8080/"
        },
        "id": "QzDGaI1D__Nq",
        "outputId": "532f7b71-4f63-4db5-afce-d7517398161b"
      },
      "execution_count": null,
      "outputs": [
        {
          "output_type": "stream",
          "name": "stdout",
          "text": [
            "     nodeType   nodeLabels propertyName propertyTypes  mandatory\n",
            "7     Amenity    [Amenity]           id      [String]       True\n",
            "2       Cabin      [Cabin]           id      [String]       True\n",
            "4   CabinDeck  [CabinDeck]           id      [String]       True\n",
            "5   CabinSide  [CabinSide]           id      [String]       True\n",
            "1       Group      [Group]   Group_Size      [Double]       True\n",
            "0       Group      [Group]           id        [Long]       True\n",
            "9   Passenger  [Passenger]          age      [Double]       True\n",
            "10  Passenger  [Passenger]    cryosleep     [Boolean]       True\n",
            "8   Passenger  [Passenger]           id      [String]       True\n",
            "11  Passenger  [Passenger]   totalspend      [Double]       True\n",
            "12  Passenger  [Passenger]  transported     [Boolean]       True\n",
            "3      Planet     [Planet]           id      [String]       True\n",
            "6     Surname    [Surname]           id      [String]       True\n"
          ]
        }
      ]
    },
    {
      "cell_type": "markdown",
      "source": [
        "## Delete Imputed 'SuperNodes'\n",
        "The imputed value has a high count of relationships, making it an outlier that distorts our other analysis. "
      ],
      "metadata": {
        "id": "HVeaGZnICJJT"
      }
    },
    {
      "cell_type": "code",
      "source": [
        "gds.run_cypher('''\n",
        "  MATCH (s:Surname {id:'NoSurname'})\n",
        "  DETACH DELETE s\n",
        "''')"
      ],
      "metadata": {
        "colab": {
          "base_uri": "https://localhost:8080/",
          "height": 49
        },
        "id": "rccX60N0CDbI",
        "outputId": "2c1966f6-757d-4a52-f83f-57b1edb13373"
      },
      "execution_count": null,
      "outputs": [
        {
          "output_type": "execute_result",
          "data": {
            "text/plain": [
              "Empty DataFrame\n",
              "Columns: []\n",
              "Index: []"
            ],
            "text/html": [
              "\n",
              "  <div id=\"df-bf61e54e-83df-4e57-a6ce-12bea401b7d8\">\n",
              "    <div class=\"colab-df-container\">\n",
              "      <div>\n",
              "<style scoped>\n",
              "    .dataframe tbody tr th:only-of-type {\n",
              "        vertical-align: middle;\n",
              "    }\n",
              "\n",
              "    .dataframe tbody tr th {\n",
              "        vertical-align: top;\n",
              "    }\n",
              "\n",
              "    .dataframe thead th {\n",
              "        text-align: right;\n",
              "    }\n",
              "</style>\n",
              "<table border=\"1\" class=\"dataframe\">\n",
              "  <thead>\n",
              "    <tr style=\"text-align: right;\">\n",
              "      <th></th>\n",
              "    </tr>\n",
              "  </thead>\n",
              "  <tbody>\n",
              "  </tbody>\n",
              "</table>\n",
              "</div>\n",
              "      <button class=\"colab-df-convert\" onclick=\"convertToInteractive('df-bf61e54e-83df-4e57-a6ce-12bea401b7d8')\"\n",
              "              title=\"Convert this dataframe to an interactive table.\"\n",
              "              style=\"display:none;\">\n",
              "        \n",
              "  <svg xmlns=\"http://www.w3.org/2000/svg\" height=\"24px\"viewBox=\"0 0 24 24\"\n",
              "       width=\"24px\">\n",
              "    <path d=\"M0 0h24v24H0V0z\" fill=\"none\"/>\n",
              "    <path d=\"M18.56 5.44l.94 2.06.94-2.06 2.06-.94-2.06-.94-.94-2.06-.94 2.06-2.06.94zm-11 1L8.5 8.5l.94-2.06 2.06-.94-2.06-.94L8.5 2.5l-.94 2.06-2.06.94zm10 10l.94 2.06.94-2.06 2.06-.94-2.06-.94-.94-2.06-.94 2.06-2.06.94z\"/><path d=\"M17.41 7.96l-1.37-1.37c-.4-.4-.92-.59-1.43-.59-.52 0-1.04.2-1.43.59L10.3 9.45l-7.72 7.72c-.78.78-.78 2.05 0 2.83L4 21.41c.39.39.9.59 1.41.59.51 0 1.02-.2 1.41-.59l7.78-7.78 2.81-2.81c.8-.78.8-2.07 0-2.86zM5.41 20L4 18.59l7.72-7.72 1.47 1.35L5.41 20z\"/>\n",
              "  </svg>\n",
              "      </button>\n",
              "      \n",
              "  <style>\n",
              "    .colab-df-container {\n",
              "      display:flex;\n",
              "      flex-wrap:wrap;\n",
              "      gap: 12px;\n",
              "    }\n",
              "\n",
              "    .colab-df-convert {\n",
              "      background-color: #E8F0FE;\n",
              "      border: none;\n",
              "      border-radius: 50%;\n",
              "      cursor: pointer;\n",
              "      display: none;\n",
              "      fill: #1967D2;\n",
              "      height: 32px;\n",
              "      padding: 0 0 0 0;\n",
              "      width: 32px;\n",
              "    }\n",
              "\n",
              "    .colab-df-convert:hover {\n",
              "      background-color: #E2EBFA;\n",
              "      box-shadow: 0px 1px 2px rgba(60, 64, 67, 0.3), 0px 1px 3px 1px rgba(60, 64, 67, 0.15);\n",
              "      fill: #174EA6;\n",
              "    }\n",
              "\n",
              "    [theme=dark] .colab-df-convert {\n",
              "      background-color: #3B4455;\n",
              "      fill: #D2E3FC;\n",
              "    }\n",
              "\n",
              "    [theme=dark] .colab-df-convert:hover {\n",
              "      background-color: #434B5C;\n",
              "      box-shadow: 0px 1px 3px 1px rgba(0, 0, 0, 0.15);\n",
              "      filter: drop-shadow(0px 1px 2px rgba(0, 0, 0, 0.3));\n",
              "      fill: #FFFFFF;\n",
              "    }\n",
              "  </style>\n",
              "\n",
              "      <script>\n",
              "        const buttonEl =\n",
              "          document.querySelector('#df-bf61e54e-83df-4e57-a6ce-12bea401b7d8 button.colab-df-convert');\n",
              "        buttonEl.style.display =\n",
              "          google.colab.kernel.accessAllowed ? 'block' : 'none';\n",
              "\n",
              "        async function convertToInteractive(key) {\n",
              "          const element = document.querySelector('#df-bf61e54e-83df-4e57-a6ce-12bea401b7d8');\n",
              "          const dataTable =\n",
              "            await google.colab.kernel.invokeFunction('convertToInteractive',\n",
              "                                                     [key], {});\n",
              "          if (!dataTable) return;\n",
              "\n",
              "          const docLinkHtml = 'Like what you see? Visit the ' +\n",
              "            '<a target=\"_blank\" href=https://colab.research.google.com/notebooks/data_table.ipynb>data table notebook</a>'\n",
              "            + ' to learn more about interactive tables.';\n",
              "          element.innerHTML = '';\n",
              "          dataTable['output_type'] = 'display_data';\n",
              "          await google.colab.output.renderOutput(dataTable, element);\n",
              "          const docLink = document.createElement('div');\n",
              "          docLink.innerHTML = docLinkHtml;\n",
              "          element.appendChild(docLink);\n",
              "        }\n",
              "      </script>\n",
              "    </div>\n",
              "  </div>\n",
              "  "
            ]
          },
          "metadata": {},
          "execution_count": 25
        }
      ]
    },
    {
      "cell_type": "code",
      "source": [
        "gds.run_cypher('''\n",
        "  MATCH (c:Cabin {id:'F999P'})\n",
        "  DETACH DELETE c\n",
        "''')"
      ],
      "metadata": {
        "colab": {
          "base_uri": "https://localhost:8080/",
          "height": 49
        },
        "id": "RY6ei7NiRL3-",
        "outputId": "90e18411-b07d-4859-a6d1-141880469907"
      },
      "execution_count": null,
      "outputs": [
        {
          "output_type": "execute_result",
          "data": {
            "text/plain": [
              "Empty DataFrame\n",
              "Columns: []\n",
              "Index: []"
            ],
            "text/html": [
              "\n",
              "  <div id=\"df-c6322684-5da5-4d06-81e0-00c3b8d2d271\">\n",
              "    <div class=\"colab-df-container\">\n",
              "      <div>\n",
              "<style scoped>\n",
              "    .dataframe tbody tr th:only-of-type {\n",
              "        vertical-align: middle;\n",
              "    }\n",
              "\n",
              "    .dataframe tbody tr th {\n",
              "        vertical-align: top;\n",
              "    }\n",
              "\n",
              "    .dataframe thead th {\n",
              "        text-align: right;\n",
              "    }\n",
              "</style>\n",
              "<table border=\"1\" class=\"dataframe\">\n",
              "  <thead>\n",
              "    <tr style=\"text-align: right;\">\n",
              "      <th></th>\n",
              "    </tr>\n",
              "  </thead>\n",
              "  <tbody>\n",
              "  </tbody>\n",
              "</table>\n",
              "</div>\n",
              "      <button class=\"colab-df-convert\" onclick=\"convertToInteractive('df-c6322684-5da5-4d06-81e0-00c3b8d2d271')\"\n",
              "              title=\"Convert this dataframe to an interactive table.\"\n",
              "              style=\"display:none;\">\n",
              "        \n",
              "  <svg xmlns=\"http://www.w3.org/2000/svg\" height=\"24px\"viewBox=\"0 0 24 24\"\n",
              "       width=\"24px\">\n",
              "    <path d=\"M0 0h24v24H0V0z\" fill=\"none\"/>\n",
              "    <path d=\"M18.56 5.44l.94 2.06.94-2.06 2.06-.94-2.06-.94-.94-2.06-.94 2.06-2.06.94zm-11 1L8.5 8.5l.94-2.06 2.06-.94-2.06-.94L8.5 2.5l-.94 2.06-2.06.94zm10 10l.94 2.06.94-2.06 2.06-.94-2.06-.94-.94-2.06-.94 2.06-2.06.94z\"/><path d=\"M17.41 7.96l-1.37-1.37c-.4-.4-.92-.59-1.43-.59-.52 0-1.04.2-1.43.59L10.3 9.45l-7.72 7.72c-.78.78-.78 2.05 0 2.83L4 21.41c.39.39.9.59 1.41.59.51 0 1.02-.2 1.41-.59l7.78-7.78 2.81-2.81c.8-.78.8-2.07 0-2.86zM5.41 20L4 18.59l7.72-7.72 1.47 1.35L5.41 20z\"/>\n",
              "  </svg>\n",
              "      </button>\n",
              "      \n",
              "  <style>\n",
              "    .colab-df-container {\n",
              "      display:flex;\n",
              "      flex-wrap:wrap;\n",
              "      gap: 12px;\n",
              "    }\n",
              "\n",
              "    .colab-df-convert {\n",
              "      background-color: #E8F0FE;\n",
              "      border: none;\n",
              "      border-radius: 50%;\n",
              "      cursor: pointer;\n",
              "      display: none;\n",
              "      fill: #1967D2;\n",
              "      height: 32px;\n",
              "      padding: 0 0 0 0;\n",
              "      width: 32px;\n",
              "    }\n",
              "\n",
              "    .colab-df-convert:hover {\n",
              "      background-color: #E2EBFA;\n",
              "      box-shadow: 0px 1px 2px rgba(60, 64, 67, 0.3), 0px 1px 3px 1px rgba(60, 64, 67, 0.15);\n",
              "      fill: #174EA6;\n",
              "    }\n",
              "\n",
              "    [theme=dark] .colab-df-convert {\n",
              "      background-color: #3B4455;\n",
              "      fill: #D2E3FC;\n",
              "    }\n",
              "\n",
              "    [theme=dark] .colab-df-convert:hover {\n",
              "      background-color: #434B5C;\n",
              "      box-shadow: 0px 1px 3px 1px rgba(0, 0, 0, 0.15);\n",
              "      filter: drop-shadow(0px 1px 2px rgba(0, 0, 0, 0.3));\n",
              "      fill: #FFFFFF;\n",
              "    }\n",
              "  </style>\n",
              "\n",
              "      <script>\n",
              "        const buttonEl =\n",
              "          document.querySelector('#df-c6322684-5da5-4d06-81e0-00c3b8d2d271 button.colab-df-convert');\n",
              "        buttonEl.style.display =\n",
              "          google.colab.kernel.accessAllowed ? 'block' : 'none';\n",
              "\n",
              "        async function convertToInteractive(key) {\n",
              "          const element = document.querySelector('#df-c6322684-5da5-4d06-81e0-00c3b8d2d271');\n",
              "          const dataTable =\n",
              "            await google.colab.kernel.invokeFunction('convertToInteractive',\n",
              "                                                     [key], {});\n",
              "          if (!dataTable) return;\n",
              "\n",
              "          const docLinkHtml = 'Like what you see? Visit the ' +\n",
              "            '<a target=\"_blank\" href=https://colab.research.google.com/notebooks/data_table.ipynb>data table notebook</a>'\n",
              "            + ' to learn more about interactive tables.';\n",
              "          element.innerHTML = '';\n",
              "          dataTable['output_type'] = 'display_data';\n",
              "          await google.colab.output.renderOutput(dataTable, element);\n",
              "          const docLink = document.createElement('div');\n",
              "          docLink.innerHTML = docLinkHtml;\n",
              "          element.appendChild(docLink);\n",
              "        }\n",
              "      </script>\n",
              "    </div>\n",
              "  </div>\n",
              "  "
            ]
          },
          "metadata": {},
          "execution_count": 27
        }
      ]
    },
    {
      "cell_type": "markdown",
      "source": [
        "# Relationships"
      ],
      "metadata": {
        "id": "zOgdsQZQAAxF"
      }
    },
    {
      "cell_type": "markdown",
      "source": [
        "## Relationship Type Count"
      ],
      "metadata": {
        "id": "EUGz7jPeZ4rE"
      }
    },
    {
      "cell_type": "code",
      "source": [
        "# using the summary_df \n",
        "gen_relType_count(summary_df)"
      ],
      "metadata": {
        "colab": {
          "base_uri": "https://localhost:8080/"
        },
        "id": "dSQ6OSSJaDfo",
        "outputId": "81353ed4-3f93-48fd-c239-d71a46132275"
      },
      "execution_count": null,
      "outputs": [
        {
          "output_type": "stream",
          "name": "stdout",
          "text": [
            "             relCount\n",
            "relType              \n",
            "SPEND           15083\n",
            "TRAVELING        8693\n",
            "HAS_SURNAME      8693\n",
            "ASSIGNED         8693\n",
            "ORIGINATED       8693\n",
            "ON_SIDE          6560\n",
            "ON_DECK          6560\n",
            "MEMBER           3888\n",
            "IN_GROUP         1782\n"
          ]
        }
      ]
    },
    {
      "cell_type": "markdown",
      "source": [
        "## Relationship Type Properties"
      ],
      "metadata": {
        "id": "NfNwRvmYfiAF"
      }
    },
    {
      "cell_type": "code",
      "source": [
        "gen_relType_properties()"
      ],
      "metadata": {
        "colab": {
          "base_uri": "https://localhost:8080/"
        },
        "id": "Iqk-y-u9fHKG",
        "outputId": "8728c79d-16e2-43d2-810a-aa901b8a4f57"
      },
      "execution_count": null,
      "outputs": [
        {
          "output_type": "stream",
          "name": "stdout",
          "text": [
            "       relType propertyName propertyTypes  mandatory\n",
            "6     ASSIGNED         None          None      False\n",
            "0  HAS_SURNAME         None          None      False\n",
            "3     IN_GROUP         None          None      False\n",
            "5       MEMBER         None          None      False\n",
            "1      ON_DECK         None          None      False\n",
            "2      ON_SIDE         None          None      False\n",
            "4   ORIGINATED         None          None      False\n",
            "7        SPEND       amount      [Double]       True\n",
            "8    TRAVELING         None          None      False\n"
          ]
        }
      ]
    },
    {
      "cell_type": "markdown",
      "source": [
        "## Relationship Patterns"
      ],
      "metadata": {
        "id": "p2cu0AcPfHt5"
      }
    },
    {
      "cell_type": "code",
      "source": [
        "gen_graph_rel_patterns(summary_df)"
      ],
      "metadata": {
        "colab": {
          "base_uri": "https://localhost:8080/"
        },
        "id": "zabbzFtugION",
        "outputId": "2190806b-22b9-488d-c58a-a9f50c519411"
      },
      "execution_count": null,
      "outputs": [
        {
          "output_type": "stream",
          "name": "stdout",
          "text": [
            "                                 relCount\n",
            "relPattern                               \n",
            "(:Passenger)-[:SPEND]->()           15083\n",
            "()-[:SPEND]->(:Amenity)             15083\n",
            "()-[:SPEND]->()                     15083\n",
            "(:Passenger)-[:TRAVELING]->()        8693\n",
            "(:Passenger)-[:ORIGINATED]->()       8693\n",
            "(:Passenger)-[:HAS_SURNAME]->()      8693\n",
            "(:Passenger)-[:ASSIGNED]->()         8693\n",
            "()-[:TRAVELING]->(:Planet)           8693\n",
            "()-[:TRAVELING]->()                  8693\n",
            "()-[:ORIGINATED]->(:Planet)          8693\n",
            "()-[:ORIGINATED]->()                 8693\n",
            "()-[:HAS_SURNAME]->(:Surname)        8693\n",
            "()-[:HAS_SURNAME]->()                8693\n",
            "()-[:ASSIGNED]->(:Cabin)             8693\n",
            "()-[:ASSIGNED]->()                   8693\n",
            "(:Cabin)-[:ON_SIDE]->()              6560\n",
            "(:Cabin)-[:ON_DECK]->()              6560\n",
            "()-[:ON_SIDE]->(:CabinSide)          6560\n",
            "()-[:ON_SIDE]->()                    6560\n",
            "()-[:ON_DECK]->(:CabinDeck)          6560\n",
            "()-[:ON_DECK]->()                    6560\n",
            "(:Passenger)-[:MEMBER]->()           3888\n",
            "()-[:MEMBER]->(:Group)               3888\n",
            "()-[:MEMBER]->()                     3888\n",
            "(:Surname)-[:IN_GROUP]->()           1782\n",
            "()-[:IN_GROUP]->(:Group)             1782\n",
            "()-[:IN_GROUP]->()                   1782\n"
          ]
        }
      ]
    },
    {
      "cell_type": "markdown",
      "source": [
        "# Bloom\n",
        "Bloom is a fantastic graph visualization tool to quickly explore different node and relationship combinations.\n",
        "\n",
        "We can use it for high-level exploration of nodes and relationships we did not analyze as much in tabular format:\n",
        "* Cabin\n",
        "* Surname\n",
        "* Group\n",
        "\n",
        "`(c:Cabin)<-[:ASSIGNED]-(p:Passenger)-[HAS_SURNAME]->(s:Surname)-[IN_GROUP]->(g:Group)`"
      ],
      "metadata": {
        "id": "HY-hFqAOn5td"
      }
    },
    {
      "cell_type": "markdown",
      "source": [
        "# Path Exploration in Neo4j Browser\n",
        "\n"
      ],
      "metadata": {
        "id": "RRyOy9_Ri_N-"
      }
    },
    {
      "cell_type": "code",
      "source": [
        "'''\n",
        "MATCH x=(c:Cabin)<-[:ASSIGNED]-(p:Passenger)-[HAS_SURNAME]->(s:Surname)-[IN_GROUP]->(g:Group)\n",
        "WHERE \n",
        "    g.Group_Size > 5 AND\n",
        "    p.transported=True \n",
        "RETURN x LIMIT 200\n",
        "'''"
      ],
      "metadata": {
        "colab": {
          "base_uri": "https://localhost:8080/",
          "height": 52
        },
        "id": "pLjFJenE-0yE",
        "outputId": "45f311ec-9d13-4a8a-cbbd-82375b7007f2"
      },
      "execution_count": null,
      "outputs": [
        {
          "output_type": "execute_result",
          "data": {
            "text/plain": [
              "\"\\nMATCH x=(c:Cabin)<-[:ASSIGNED]-(p:Passenger)-[HAS_SURNAME]->(s:Surname)-[IN_GROUP]->(g:Group)\\nWHERE \\n    s.id <> 'NoSurname' AND\\n    g.Group_Size > 5 AND\\n    p.transported=True AND\\n    c.id <> 'F999P'\\nRETURN x LIMIT 100\\n\""
            ],
            "application/vnd.google.colaboratory.intrinsic+json": {
              "type": "string"
            }
          },
          "metadata": {},
          "execution_count": 65
        }
      ]
    },
    {
      "cell_type": "markdown",
      "source": [
        "# Node Degree Statistics\n",
        "The objective is to calculate the in-degree or out-degree of specific node and relationship combinations. \n",
        "\n",
        "Can generate aggregate node statistics using multiple approaches:\n",
        "* Cypher query passing the results to `apoc.agg.statistics()`\n",
        "* Return array to a pandas DataFrame and pass to `.describe()`."
      ],
      "metadata": {
        "id": "1qU82zYh_E6Q"
      }
    },
    {
      "cell_type": "markdown",
      "source": [
        "## (c:Cabin)<-[:ASSIGNED]-(p:Passenger)\n",
        "*Excluding imputed cabin F999P*"
      ],
      "metadata": {
        "id": "4_GXDVldBWaN"
      }
    },
    {
      "cell_type": "code",
      "source": [
        "# using apoc.agg.statistics()\n",
        "cabin_inDegree_stats = gds.run_cypher('''\n",
        "MATCH (c:Cabin)\n",
        "WITH c, \n",
        "  SIZE((c)<-[:ASSIGNED]-()) as inDegree\n",
        "RETURN apoc.agg.statistics(inDegree) AS stats\n",
        "''')\n",
        "\n",
        "cabin_inDegree_stats['stats'][0]"
      ],
      "metadata": {
        "colab": {
          "base_uri": "https://localhost:8080/"
        },
        "outputId": "589b2371-0529-4750-eeee-bd3108a54dd9",
        "id": "dB-ESqBpBWaO"
      },
      "execution_count": null,
      "outputs": [
        {
          "output_type": "execute_result",
          "data": {
            "text/plain": [
              "{'total': 6559,\n",
              " 'min': 1,\n",
              " 'minNonZero': 1.0,\n",
              " 'max': 8,\n",
              " 'mean': 1.3101082482085684,\n",
              " '0.5': 1,\n",
              " '0.99': 5,\n",
              " '0.75': 1,\n",
              " '0.9': 2,\n",
              " '0.95': 3,\n",
              " 'stdev': 0.8212047032751133}"
            ]
          },
          "metadata": {},
          "execution_count": 32
        }
      ]
    },
    {
      "cell_type": "code",
      "source": [
        "cabin_inDegree_data = gds.run_cypher('''\n",
        "  MATCH (c:Cabin)\n",
        "  WITH c \n",
        "  RETURN SIZE((c)<-[:ASSIGNED]-()) as inDegree\n",
        "''')\n",
        "\n",
        "cabin_inDegree_data.shape"
      ],
      "metadata": {
        "colab": {
          "base_uri": "https://localhost:8080/"
        },
        "id": "ZHYl07HZEO2C",
        "outputId": "919769d3-dc77-4bc2-c137-8038ca2e8b7c"
      },
      "execution_count": null,
      "outputs": [
        {
          "output_type": "execute_result",
          "data": {
            "text/plain": [
              "(6559, 1)"
            ]
          },
          "metadata": {},
          "execution_count": 33
        }
      ]
    },
    {
      "cell_type": "code",
      "source": [
        "gen_apoc_stats(df=cabin_inDegree_data, col='inDegree')"
      ],
      "metadata": {
        "colab": {
          "base_uri": "https://localhost:8080/"
        },
        "id": "u2_7N6a3MdPg",
        "outputId": "4ff21319-5e8b-4d27-8323-31a126751a86"
      },
      "execution_count": null,
      "outputs": [
        {
          "output_type": "execute_result",
          "data": {
            "text/plain": [
              "count    6559.00\n",
              "mean        1.31\n",
              "std         0.82\n",
              "min         1.00\n",
              "25%         1.00\n",
              "50%         1.00\n",
              "75%         1.00\n",
              "90%         2.00\n",
              "95%         3.00\n",
              "99%         5.00\n",
              "max         8.00\n",
              "Name: inDegree, dtype: float64"
            ]
          },
          "metadata": {},
          "execution_count": 34
        }
      ]
    },
    {
      "cell_type": "code",
      "source": [
        "sns.histplot(cabin_inDegree_data, bins=10).set(title='Distribution of (c:Cabin)<-[:ASSIGNED]-(p:Passenger)')\n",
        "plt.show()"
      ],
      "metadata": {
        "colab": {
          "base_uri": "https://localhost:8080/",
          "height": 393
        },
        "id": "mqOT5OdMEjIu",
        "outputId": "920efb6a-1c95-46f4-a8ad-43f2cd77a407"
      },
      "execution_count": null,
      "outputs": [
        {
          "output_type": "display_data",
          "data": {
            "text/plain": [
              "<Figure size 792x432 with 1 Axes>"
            ],
            "image/png": "[encoded data removed]"
          },
          "metadata": {}
        }
      ]
    },
    {
      "cell_type": "markdown",
      "source": [
        "## (p:Passenger)-[:HAS_SURNAME]->(s:Surname)\n",
        "*Excluding imputed NoSurname*"
      ],
      "metadata": {
        "id": "o6Bf7alv7EXp"
      }
    },
    {
      "cell_type": "code",
      "source": [
        "passenger_surname_inDegree = gds.run_cypher('''\n",
        "  MATCH (s:Surname)\n",
        "  WITH s \n",
        "    RETURN SIZE(()-[:HAS_SURNAME]->(s)) AS inDegree\n",
        "''')\n",
        "\n",
        "passenger_surname_inDegree.shape"
      ],
      "metadata": {
        "colab": {
          "base_uri": "https://localhost:8080/"
        },
        "id": "pAbgJWzL7MSV",
        "outputId": "5ec5051e-a00b-4b6b-ba5f-91c43889d235"
      },
      "execution_count": null,
      "outputs": [
        {
          "output_type": "execute_result",
          "data": {
            "text/plain": [
              "(2217, 1)"
            ]
          },
          "metadata": {},
          "execution_count": 36
        }
      ]
    },
    {
      "cell_type": "code",
      "source": [
        "gen_apoc_stats(df=passenger_surname_inDegree, col='inDegree')"
      ],
      "metadata": {
        "colab": {
          "base_uri": "https://localhost:8080/"
        },
        "id": "GrIZaVR6OB5n",
        "outputId": "aff7bedf-c154-4392-8b0e-f0224eb89457"
      },
      "execution_count": null,
      "outputs": [
        {
          "output_type": "execute_result",
          "data": {
            "text/plain": [
              "count    2217.00\n",
              "mean        3.83\n",
              "std         2.47\n",
              "min         1.00\n",
              "25%         2.00\n",
              "50%         3.00\n",
              "75%         5.00\n",
              "90%         7.00\n",
              "95%         8.20\n",
              "99%        11.00\n",
              "max        18.00\n",
              "Name: inDegree, dtype: float64"
            ]
          },
          "metadata": {},
          "execution_count": 37
        }
      ]
    },
    {
      "cell_type": "code",
      "source": [
        "sns.histplot(passenger_surname_inDegree, bins=18).set(title='Distribution of (p:Passenger)-[:HAS_SURNAME]->(s:Surname)')\n",
        "plt.show()"
      ],
      "metadata": {
        "colab": {
          "base_uri": "https://localhost:8080/",
          "height": 393
        },
        "id": "hLESa9g4OB95",
        "outputId": "07d972a3-ee92-43b0-dd8c-4f8391174c0a"
      },
      "execution_count": null,
      "outputs": [
        {
          "output_type": "display_data",
          "data": {
            "text/plain": [
              "<Figure size 792x432 with 1 Axes>"
            ],
            "image/png": "[encoded data removed]"
          },
          "metadata": {}
        }
      ]
    },
    {
      "cell_type": "markdown",
      "source": [
        "## (s:Surname)-[:IN_GROUP]->(g:Group)\n",
        "*Excluding imputed NoSurname*"
      ],
      "metadata": {
        "id": "hgg-8wkLrKKs"
      }
    },
    {
      "cell_type": "code",
      "source": [
        "surname_group_inDegree = gds.run_cypher('''\n",
        "  MATCH (g:Group)\n",
        "  WITH g\n",
        "    RETURN SIZE(()-[:IN_GROUP]->(g)) AS inDegree\n",
        "''')\n",
        "\n",
        "surname_group_inDegree.shape"
      ],
      "metadata": {
        "colab": {
          "base_uri": "https://localhost:8080/"
        },
        "id": "UvVoXP8X6gqg",
        "outputId": "376aec26-99ae-44cf-8ed9-2d917cb0f82a"
      },
      "execution_count": null,
      "outputs": [
        {
          "output_type": "execute_result",
          "data": {
            "text/plain": [
              "(1412, 1)"
            ]
          },
          "metadata": {},
          "execution_count": 39
        }
      ]
    },
    {
      "cell_type": "code",
      "source": [
        "gen_apoc_stats(df=surname_group_inDegree, col='inDegree')"
      ],
      "metadata": {
        "colab": {
          "base_uri": "https://localhost:8080/"
        },
        "id": "qYwUWFhANev0",
        "outputId": "c51a4a7a-c255-4321-89b3-c7a5f4959eee"
      },
      "execution_count": null,
      "outputs": [
        {
          "output_type": "execute_result",
          "data": {
            "text/plain": [
              "count    1412.00\n",
              "mean        1.19\n",
              "std         0.44\n",
              "min         1.00\n",
              "25%         1.00\n",
              "50%         1.00\n",
              "75%         1.00\n",
              "90%         2.00\n",
              "95%         2.00\n",
              "99%         3.00\n",
              "max         4.00\n",
              "Name: inDegree, dtype: float64"
            ]
          },
          "metadata": {},
          "execution_count": 41
        }
      ]
    },
    {
      "cell_type": "code",
      "source": [
        "sns.histplot(surname_group_inDegree, bins=5).set(title='Distribution of Surname to Group In-Degree')\n",
        "plt.show()"
      ],
      "metadata": {
        "colab": {
          "base_uri": "https://localhost:8080/",
          "height": 393
        },
        "id": "_d8TbD0URotq",
        "outputId": "72d87d25-395b-4aad-bbab-b831e26c2f60"
      },
      "execution_count": null,
      "outputs": [
        {
          "output_type": "display_data",
          "data": {
            "text/plain": [
              "<Figure size 792x432 with 1 Axes>"
            ],
            "image/png": "[encoded data removed]"
          },
          "metadata": {}
        }
      ]
    },
    {
      "cell_type": "markdown",
      "source": [
        "## (p:Passenger)-[:MEMBER]->(g:Group)"
      ],
      "metadata": {
        "id": "elJ2LyUH6oEe"
      }
    },
    {
      "cell_type": "code",
      "source": [
        "passenger_group_inDegree = gds.run_cypher('''\n",
        "  MATCH (g:Group)\n",
        "  WITH g \n",
        "    RETURN SIZE(()-[:MEMBER]->(g)) AS inDegree\n",
        "''')\n",
        "\n",
        "passenger_group_inDegree.shape"
      ],
      "metadata": {
        "colab": {
          "base_uri": "https://localhost:8080/"
        },
        "id": "phg99vSo5N2k",
        "outputId": "e1875c8c-3423-42c7-f395-e7d5e858013c"
      },
      "execution_count": null,
      "outputs": [
        {
          "output_type": "execute_result",
          "data": {
            "text/plain": [
              "(1412, 1)"
            ]
          },
          "metadata": {},
          "execution_count": 43
        }
      ]
    },
    {
      "cell_type": "code",
      "source": [
        "gen_apoc_stats(df=passenger_group_inDegree, col='inDegree')"
      ],
      "metadata": {
        "colab": {
          "base_uri": "https://localhost:8080/"
        },
        "id": "6P0dabTsMvVq",
        "outputId": "b847f01d-ce38-441b-adfa-de38afb9ee28"
      },
      "execution_count": null,
      "outputs": [
        {
          "output_type": "execute_result",
          "data": {
            "text/plain": [
              "count    1412.00\n",
              "mean        2.75\n",
              "std         1.24\n",
              "min         2.00\n",
              "25%         2.00\n",
              "50%         2.00\n",
              "75%         3.00\n",
              "90%         4.00\n",
              "95%         6.00\n",
              "99%         7.00\n",
              "max         8.00\n",
              "Name: inDegree, dtype: float64"
            ]
          },
          "metadata": {},
          "execution_count": 44
        }
      ]
    },
    {
      "cell_type": "code",
      "source": [
        "sns.histplot(passenger_group_inDegree, bins=10).set(title='Distribution of Passenger to Group In-Degree')\n",
        "plt.show()"
      ],
      "metadata": {
        "colab": {
          "base_uri": "https://localhost:8080/",
          "height": 393
        },
        "id": "8ROXqLT9Mvci",
        "outputId": "59a6c164-8003-4968-95d7-9123daaf27a5"
      },
      "execution_count": null,
      "outputs": [
        {
          "output_type": "display_data",
          "data": {
            "text/plain": [
              "<Figure size 792x432 with 1 Axes>"
            ],
            "image/png": "[encoded data removed]"
          },
          "metadata": {}
        }
      ]
    },
    {
      "cell_type": "markdown",
      "source": [
        "# Analysis of Surname Nodes"
      ],
      "metadata": {
        "id": "nxeM9QYL5mkq"
      }
    },
    {
      "cell_type": "markdown",
      "source": [
        "## Distinct Surnames that are in Groups"
      ],
      "metadata": {
        "id": "IecvXU4hTmHP"
      }
    },
    {
      "cell_type": "code",
      "source": [
        "# count of distinct surnames that are in groups \n",
        "# groups must have 2+ members to be in the graph\n",
        "gds.run_cypher('''\n",
        "  MATCH (s:Surname)-[:IN_GROUP]->(g:Group)\n",
        "  RETURN COUNT(DISTINCT s) AS group_surnames\n",
        "''')"
      ],
      "metadata": {
        "colab": {
          "base_uri": "https://localhost:8080/",
          "height": 81
        },
        "id": "CndTuysBXagF",
        "outputId": "3cda3520-3194-4a65-d289-d39b1b5038ce"
      },
      "execution_count": null,
      "outputs": [
        {
          "output_type": "execute_result",
          "data": {
            "text/plain": [
              "   group_surnames\n",
              "0            1236"
            ],
            "text/html": [
              "\n",
              "  <div id=\"df-ad919fcf-4af4-42fe-af9b-c346d5b5d50d\">\n",
              "    <div class=\"colab-df-container\">\n",
              "      <div>\n",
              "<style scoped>\n",
              "    .dataframe tbody tr th:only-of-type {\n",
              "        vertical-align: middle;\n",
              "    }\n",
              "\n",
              "    .dataframe tbody tr th {\n",
              "        vertical-align: top;\n",
              "    }\n",
              "\n",
              "    .dataframe thead th {\n",
              "        text-align: right;\n",
              "    }\n",
              "</style>\n",
              "<table border=\"1\" class=\"dataframe\">\n",
              "  <thead>\n",
              "    <tr style=\"text-align: right;\">\n",
              "      <th></th>\n",
              "      <th>group_surnames</th>\n",
              "    </tr>\n",
              "  </thead>\n",
              "  <tbody>\n",
              "    <tr>\n",
              "      <th>0</th>\n",
              "      <td>1236</td>\n",
              "    </tr>\n",
              "  </tbody>\n",
              "</table>\n",
              "</div>\n",
              "      <button class=\"colab-df-convert\" onclick=\"convertToInteractive('df-ad919fcf-4af4-42fe-af9b-c346d5b5d50d')\"\n",
              "              title=\"Convert this dataframe to an interactive table.\"\n",
              "              style=\"display:none;\">\n",
              "        \n",
              "  <svg xmlns=\"http://www.w3.org/2000/svg\" height=\"24px\"viewBox=\"0 0 24 24\"\n",
              "       width=\"24px\">\n",
              "    <path d=\"M0 0h24v24H0V0z\" fill=\"none\"/>\n",
              "    <path d=\"M18.56 5.44l.94 2.06.94-2.06 2.06-.94-2.06-.94-.94-2.06-.94 2.06-2.06.94zm-11 1L8.5 8.5l.94-2.06 2.06-.94-2.06-.94L8.5 2.5l-.94 2.06-2.06.94zm10 10l.94 2.06.94-2.06 2.06-.94-2.06-.94-.94-2.06-.94 2.06-2.06.94z\"/><path d=\"M17.41 7.96l-1.37-1.37c-.4-.4-.92-.59-1.43-.59-.52 0-1.04.2-1.43.59L10.3 9.45l-7.72 7.72c-.78.78-.78 2.05 0 2.83L4 21.41c.39.39.9.59 1.41.59.51 0 1.02-.2 1.41-.59l7.78-7.78 2.81-2.81c.8-.78.8-2.07 0-2.86zM5.41 20L4 18.59l7.72-7.72 1.47 1.35L5.41 20z\"/>\n",
              "  </svg>\n",
              "      </button>\n",
              "      \n",
              "  <style>\n",
              "    .colab-df-container {\n",
              "      display:flex;\n",
              "      flex-wrap:wrap;\n",
              "      gap: 12px;\n",
              "    }\n",
              "\n",
              "    .colab-df-convert {\n",
              "      background-color: #E8F0FE;\n",
              "      border: none;\n",
              "      border-radius: 50%;\n",
              "      cursor: pointer;\n",
              "      display: none;\n",
              "      fill: #1967D2;\n",
              "      height: 32px;\n",
              "      padding: 0 0 0 0;\n",
              "      width: 32px;\n",
              "    }\n",
              "\n",
              "    .colab-df-convert:hover {\n",
              "      background-color: #E2EBFA;\n",
              "      box-shadow: 0px 1px 2px rgba(60, 64, 67, 0.3), 0px 1px 3px 1px rgba(60, 64, 67, 0.15);\n",
              "      fill: #174EA6;\n",
              "    }\n",
              "\n",
              "    [theme=dark] .colab-df-convert {\n",
              "      background-color: #3B4455;\n",
              "      fill: #D2E3FC;\n",
              "    }\n",
              "\n",
              "    [theme=dark] .colab-df-convert:hover {\n",
              "      background-color: #434B5C;\n",
              "      box-shadow: 0px 1px 3px 1px rgba(0, 0, 0, 0.15);\n",
              "      filter: drop-shadow(0px 1px 2px rgba(0, 0, 0, 0.3));\n",
              "      fill: #FFFFFF;\n",
              "    }\n",
              "  </style>\n",
              "\n",
              "      <script>\n",
              "        const buttonEl =\n",
              "          document.querySelector('#df-ad919fcf-4af4-42fe-af9b-c346d5b5d50d button.colab-df-convert');\n",
              "        buttonEl.style.display =\n",
              "          google.colab.kernel.accessAllowed ? 'block' : 'none';\n",
              "\n",
              "        async function convertToInteractive(key) {\n",
              "          const element = document.querySelector('#df-ad919fcf-4af4-42fe-af9b-c346d5b5d50d');\n",
              "          const dataTable =\n",
              "            await google.colab.kernel.invokeFunction('convertToInteractive',\n",
              "                                                     [key], {});\n",
              "          if (!dataTable) return;\n",
              "\n",
              "          const docLinkHtml = 'Like what you see? Visit the ' +\n",
              "            '<a target=\"_blank\" href=https://colab.research.google.com/notebooks/data_table.ipynb>data table notebook</a>'\n",
              "            + ' to learn more about interactive tables.';\n",
              "          element.innerHTML = '';\n",
              "          dataTable['output_type'] = 'display_data';\n",
              "          await google.colab.output.renderOutput(dataTable, element);\n",
              "          const docLink = document.createElement('div');\n",
              "          docLink.innerHTML = docLinkHtml;\n",
              "          element.appendChild(docLink);\n",
              "        }\n",
              "      </script>\n",
              "    </div>\n",
              "  </div>\n",
              "  "
            ]
          },
          "metadata": {},
          "execution_count": 46
        }
      ]
    },
    {
      "cell_type": "markdown",
      "source": [
        "## Surname and Transported"
      ],
      "metadata": {
        "id": "4mOJb500rMF5"
      }
    },
    {
      "cell_type": "code",
      "source": [
        "# generate dataframe of surnames, passengers, and transported \n",
        "surname_transported_df = gds.run_cypher('''\n",
        "  MATCH (p:Passenger)-[:HAS_SURNAME]->(s:Surname)\n",
        "  WITH \n",
        "      s.id AS surname,\n",
        "      COUNT(p) AS totalPassengers,\n",
        "      COUNT(CASE WHEN p.transported=True THEN 1 END) AS transported\n",
        "  RETURN\n",
        "      surname,\n",
        "      totalPassengers,\n",
        "      transported,\n",
        "      ROUND(toFloat(transported)/toFloat(totalPassengers), 3) AS pct_transported\n",
        "  ORDER BY totalPassengers DESC\n",
        "''')\n",
        "surname_transported_df.shape"
      ],
      "metadata": {
        "colab": {
          "base_uri": "https://localhost:8080/"
        },
        "id": "Azz_20warPUl",
        "outputId": "60aaf9b3-ca80-4d29-e1b7-cbac6846fd13"
      },
      "execution_count": null,
      "outputs": [
        {
          "output_type": "execute_result",
          "data": {
            "text/plain": [
              "(2217, 4)"
            ]
          },
          "metadata": {},
          "execution_count": 47
        }
      ]
    },
    {
      "cell_type": "code",
      "source": [
        "# top five surnames sorted by transported passenger count\n",
        "surname_transported_df.sort_values('transported', ascending=False).head()"
      ],
      "metadata": {
        "colab": {
          "base_uri": "https://localhost:8080/",
          "height": 206
        },
        "id": "9lJh7IXITR30",
        "outputId": "db4a8327-4ccf-4f3a-b630-c27bb2c30c5a"
      },
      "execution_count": null,
      "outputs": [
        {
          "output_type": "execute_result",
          "data": {
            "text/plain": [
              "       surname  totalPassengers  transported  pct_transported\n",
              "3    Domington               15           14            0.933\n",
              "10      Barbes               13           10            0.769\n",
              "50     Moodsey               10            9            0.900\n",
              "6   Browlerson               14            9            0.643\n",
              "57   Mckinsond               10            9            0.900"
            ],
            "text/html": [
              "\n",
              "  <div id=\"df-fa5f8d2c-25de-4512-99d0-ff6606a95f6e\">\n",
              "    <div class=\"colab-df-container\">\n",
              "      <div>\n",
              "<style scoped>\n",
              "    .dataframe tbody tr th:only-of-type {\n",
              "        vertical-align: middle;\n",
              "    }\n",
              "\n",
              "    .dataframe tbody tr th {\n",
              "        vertical-align: top;\n",
              "    }\n",
              "\n",
              "    .dataframe thead th {\n",
              "        text-align: right;\n",
              "    }\n",
              "</style>\n",
              "<table border=\"1\" class=\"dataframe\">\n",
              "  <thead>\n",
              "    <tr style=\"text-align: right;\">\n",
              "      <th></th>\n",
              "      <th>surname</th>\n",
              "      <th>totalPassengers</th>\n",
              "      <th>transported</th>\n",
              "      <th>pct_transported</th>\n",
              "    </tr>\n",
              "  </thead>\n",
              "  <tbody>\n",
              "    <tr>\n",
              "      <th>3</th>\n",
              "      <td>Domington</td>\n",
              "      <td>15</td>\n",
              "      <td>14</td>\n",
              "      <td>0.933</td>\n",
              "    </tr>\n",
              "    <tr>\n",
              "      <th>10</th>\n",
              "      <td>Barbes</td>\n",
              "      <td>13</td>\n",
              "      <td>10</td>\n",
              "      <td>0.769</td>\n",
              "    </tr>\n",
              "    <tr>\n",
              "      <th>50</th>\n",
              "      <td>Moodsey</td>\n",
              "      <td>10</td>\n",
              "      <td>9</td>\n",
              "      <td>0.900</td>\n",
              "    </tr>\n",
              "    <tr>\n",
              "      <th>6</th>\n",
              "      <td>Browlerson</td>\n",
              "      <td>14</td>\n",
              "      <td>9</td>\n",
              "      <td>0.643</td>\n",
              "    </tr>\n",
              "    <tr>\n",
              "      <th>57</th>\n",
              "      <td>Mckinsond</td>\n",
              "      <td>10</td>\n",
              "      <td>9</td>\n",
              "      <td>0.900</td>\n",
              "    </tr>\n",
              "  </tbody>\n",
              "</table>\n",
              "</div>\n",
              "      <button class=\"colab-df-convert\" onclick=\"convertToInteractive('df-fa5f8d2c-25de-4512-99d0-ff6606a95f6e')\"\n",
              "              title=\"Convert this dataframe to an interactive table.\"\n",
              "              style=\"display:none;\">\n",
              "        \n",
              "  <svg xmlns=\"http://www.w3.org/2000/svg\" height=\"24px\"viewBox=\"0 0 24 24\"\n",
              "       width=\"24px\">\n",
              "    <path d=\"M0 0h24v24H0V0z\" fill=\"none\"/>\n",
              "    <path d=\"M18.56 5.44l.94 2.06.94-2.06 2.06-.94-2.06-.94-.94-2.06-.94 2.06-2.06.94zm-11 1L8.5 8.5l.94-2.06 2.06-.94-2.06-.94L8.5 2.5l-.94 2.06-2.06.94zm10 10l.94 2.06.94-2.06 2.06-.94-2.06-.94-.94-2.06-.94 2.06-2.06.94z\"/><path d=\"M17.41 7.96l-1.37-1.37c-.4-.4-.92-.59-1.43-.59-.52 0-1.04.2-1.43.59L10.3 9.45l-7.72 7.72c-.78.78-.78 2.05 0 2.83L4 21.41c.39.39.9.59 1.41.59.51 0 1.02-.2 1.41-.59l7.78-7.78 2.81-2.81c.8-.78.8-2.07 0-2.86zM5.41 20L4 18.59l7.72-7.72 1.47 1.35L5.41 20z\"/>\n",
              "  </svg>\n",
              "      </button>\n",
              "      \n",
              "  <style>\n",
              "    .colab-df-container {\n",
              "      display:flex;\n",
              "      flex-wrap:wrap;\n",
              "      gap: 12px;\n",
              "    }\n",
              "\n",
              "    .colab-df-convert {\n",
              "      background-color: #E8F0FE;\n",
              "      border: none;\n",
              "      border-radius: 50%;\n",
              "      cursor: pointer;\n",
              "      display: none;\n",
              "      fill: #1967D2;\n",
              "      height: 32px;\n",
              "      padding: 0 0 0 0;\n",
              "      width: 32px;\n",
              "    }\n",
              "\n",
              "    .colab-df-convert:hover {\n",
              "      background-color: #E2EBFA;\n",
              "      box-shadow: 0px 1px 2px rgba(60, 64, 67, 0.3), 0px 1px 3px 1px rgba(60, 64, 67, 0.15);\n",
              "      fill: #174EA6;\n",
              "    }\n",
              "\n",
              "    [theme=dark] .colab-df-convert {\n",
              "      background-color: #3B4455;\n",
              "      fill: #D2E3FC;\n",
              "    }\n",
              "\n",
              "    [theme=dark] .colab-df-convert:hover {\n",
              "      background-color: #434B5C;\n",
              "      box-shadow: 0px 1px 3px 1px rgba(0, 0, 0, 0.15);\n",
              "      filter: drop-shadow(0px 1px 2px rgba(0, 0, 0, 0.3));\n",
              "      fill: #FFFFFF;\n",
              "    }\n",
              "  </style>\n",
              "\n",
              "      <script>\n",
              "        const buttonEl =\n",
              "          document.querySelector('#df-fa5f8d2c-25de-4512-99d0-ff6606a95f6e button.colab-df-convert');\n",
              "        buttonEl.style.display =\n",
              "          google.colab.kernel.accessAllowed ? 'block' : 'none';\n",
              "\n",
              "        async function convertToInteractive(key) {\n",
              "          const element = document.querySelector('#df-fa5f8d2c-25de-4512-99d0-ff6606a95f6e');\n",
              "          const dataTable =\n",
              "            await google.colab.kernel.invokeFunction('convertToInteractive',\n",
              "                                                     [key], {});\n",
              "          if (!dataTable) return;\n",
              "\n",
              "          const docLinkHtml = 'Like what you see? Visit the ' +\n",
              "            '<a target=\"_blank\" href=https://colab.research.google.com/notebooks/data_table.ipynb>data table notebook</a>'\n",
              "            + ' to learn more about interactive tables.';\n",
              "          element.innerHTML = '';\n",
              "          dataTable['output_type'] = 'display_data';\n",
              "          await google.colab.output.renderOutput(dataTable, element);\n",
              "          const docLink = document.createElement('div');\n",
              "          docLink.innerHTML = docLinkHtml;\n",
              "          element.appendChild(docLink);\n",
              "        }\n",
              "      </script>\n",
              "    </div>\n",
              "  </div>\n",
              "  "
            ]
          },
          "metadata": {},
          "execution_count": 48
        }
      ]
    },
    {
      "cell_type": "code",
      "source": [
        "print('count of surnames with all members transported:')\n",
        "surname_transported_df[surname_transported_df['pct_transported'] == 1].shape[0]"
      ],
      "metadata": {
        "colab": {
          "base_uri": "https://localhost:8080/"
        },
        "id": "8oiZFCnRWMZD",
        "outputId": "2f3e352a-b6ac-4037-f783-a0330f10be22"
      },
      "execution_count": null,
      "outputs": [
        {
          "output_type": "stream",
          "name": "stdout",
          "text": [
            "count of surnames with all members transported:\n"
          ]
        },
        {
          "output_type": "execute_result",
          "data": {
            "text/plain": [
              "444"
            ]
          },
          "metadata": {},
          "execution_count": 50
        }
      ]
    },
    {
      "cell_type": "code",
      "source": [
        "# passenger surname statistical distribution\n",
        "gen_apoc_stats(df=surname_transported_df, col='totalPassengers')"
      ],
      "metadata": {
        "colab": {
          "base_uri": "https://localhost:8080/"
        },
        "id": "SjXKu19MPKKi",
        "outputId": "f0c12bcb-60df-42db-d4ee-f6c4b9a247f0"
      },
      "execution_count": null,
      "outputs": [
        {
          "output_type": "execute_result",
          "data": {
            "text/plain": [
              "count    2217.00\n",
              "mean        3.83\n",
              "std         2.47\n",
              "min         1.00\n",
              "25%         2.00\n",
              "50%         3.00\n",
              "75%         5.00\n",
              "90%         7.00\n",
              "95%         8.20\n",
              "99%        11.00\n",
              "max        18.00\n",
              "Name: totalPassengers, dtype: float64"
            ]
          },
          "metadata": {},
          "execution_count": 51
        }
      ]
    },
    {
      "cell_type": "code",
      "source": [
        "# transported statistical distribution\n",
        "gen_apoc_stats(df=surname_transported_df, col='transported')"
      ],
      "metadata": {
        "colab": {
          "base_uri": "https://localhost:8080/"
        },
        "id": "kLSqqpNrUMle",
        "outputId": "aa31bbeb-939b-46cc-8392-a46de0d177d3"
      },
      "execution_count": null,
      "outputs": [
        {
          "output_type": "execute_result",
          "data": {
            "text/plain": [
              "count    2217.00\n",
              "mean        1.93\n",
              "std         1.59\n",
              "min         0.00\n",
              "25%         1.00\n",
              "50%         2.00\n",
              "75%         3.00\n",
              "90%         4.00\n",
              "95%         5.00\n",
              "99%         7.00\n",
              "max        14.00\n",
              "Name: transported, dtype: float64"
            ]
          },
          "metadata": {},
          "execution_count": 52
        }
      ]
    },
    {
      "cell_type": "code",
      "source": [
        "# transported statistical distribution\n",
        "gen_apoc_stats(df=surname_transported_df, col='pct_transported')"
      ],
      "metadata": {
        "colab": {
          "base_uri": "https://localhost:8080/"
        },
        "id": "zP82YvEEUsPD",
        "outputId": "b1c58e0b-44a3-493a-cbfe-4095d5ce8212"
      },
      "execution_count": null,
      "outputs": [
        {
          "output_type": "execute_result",
          "data": {
            "text/plain": [
              "count    2217.00\n",
              "mean        0.52\n",
              "std         0.33\n",
              "min         0.00\n",
              "25%         0.29\n",
              "50%         0.50\n",
              "75%         0.75\n",
              "90%         1.00\n",
              "95%         1.00\n",
              "99%         1.00\n",
              "max         1.00\n",
              "Name: pct_transported, dtype: float64"
            ]
          },
          "metadata": {},
          "execution_count": 53
        }
      ]
    },
    {
      "cell_type": "code",
      "source": [
        "(\n",
        "    sns.histplot(surname_transported_df[surname_transported_df['totalPassengers'] > 1]['pct_transported'], bins=10)\n",
        "    .set(title='Distribution of Percentage Transported by Surname')\n",
        ")\n",
        "plt.show()"
      ],
      "metadata": {
        "colab": {
          "base_uri": "https://localhost:8080/",
          "height": 410
        },
        "id": "FBqOtRXUricF",
        "outputId": "2cb22c53-e8d5-4901-e83e-7796a426bfe3"
      },
      "execution_count": null,
      "outputs": [
        {
          "output_type": "display_data",
          "data": {
            "text/plain": [
              "<Figure size 792x432 with 1 Axes>"
            ],
            "image/png": "[encoded data removed]"
          },
          "metadata": {}
        }
      ]
    },
    {
      "cell_type": "markdown",
      "source": [
        "## Write New Properties\n",
        "Write `totalPassengers` and `pctTransported` to Surname nodes."
      ],
      "metadata": {
        "id": "n6hlvIfrsye6"
      }
    },
    {
      "cell_type": "code",
      "source": [
        "# pass dataframe as list of dictionaries \n",
        "gds.run_cypher('''\n",
        "               UNWIND $surname_transported AS item\n",
        "               MATCH (s:Surname{id:item.surname})\n",
        "               SET \n",
        "                  s.totalPassengers = item.totalPassengers,\n",
        "                  s.pctTransported = item.pct_transported\n",
        "              ''', {'surname_transported': surname_transported_df.to_dict('records')})"
      ],
      "metadata": {
        "colab": {
          "base_uri": "https://localhost:8080/",
          "height": 49
        },
        "id": "ZU3EVHJls2EQ",
        "outputId": "2c2007f1-36fb-41ff-85bb-aa09f9551fc6"
      },
      "execution_count": null,
      "outputs": [
        {
          "output_type": "execute_result",
          "data": {
            "text/plain": [
              "Empty DataFrame\n",
              "Columns: []\n",
              "Index: []"
            ],
            "text/html": [
              "\n",
              "  <div id=\"df-feb5d808-2dbf-4d81-b84f-66d33ac1cbc3\">\n",
              "    <div class=\"colab-df-container\">\n",
              "      <div>\n",
              "<style scoped>\n",
              "    .dataframe tbody tr th:only-of-type {\n",
              "        vertical-align: middle;\n",
              "    }\n",
              "\n",
              "    .dataframe tbody tr th {\n",
              "        vertical-align: top;\n",
              "    }\n",
              "\n",
              "    .dataframe thead th {\n",
              "        text-align: right;\n",
              "    }\n",
              "</style>\n",
              "<table border=\"1\" class=\"dataframe\">\n",
              "  <thead>\n",
              "    <tr style=\"text-align: right;\">\n",
              "      <th></th>\n",
              "    </tr>\n",
              "  </thead>\n",
              "  <tbody>\n",
              "  </tbody>\n",
              "</table>\n",
              "</div>\n",
              "      <button class=\"colab-df-convert\" onclick=\"convertToInteractive('df-feb5d808-2dbf-4d81-b84f-66d33ac1cbc3')\"\n",
              "              title=\"Convert this dataframe to an interactive table.\"\n",
              "              style=\"display:none;\">\n",
              "        \n",
              "  <svg xmlns=\"http://www.w3.org/2000/svg\" height=\"24px\"viewBox=\"0 0 24 24\"\n",
              "       width=\"24px\">\n",
              "    <path d=\"M0 0h24v24H0V0z\" fill=\"none\"/>\n",
              "    <path d=\"M18.56 5.44l.94 2.06.94-2.06 2.06-.94-2.06-.94-.94-2.06-.94 2.06-2.06.94zm-11 1L8.5 8.5l.94-2.06 2.06-.94-2.06-.94L8.5 2.5l-.94 2.06-2.06.94zm10 10l.94 2.06.94-2.06 2.06-.94-2.06-.94-.94-2.06-.94 2.06-2.06.94z\"/><path d=\"M17.41 7.96l-1.37-1.37c-.4-.4-.92-.59-1.43-.59-.52 0-1.04.2-1.43.59L10.3 9.45l-7.72 7.72c-.78.78-.78 2.05 0 2.83L4 21.41c.39.39.9.59 1.41.59.51 0 1.02-.2 1.41-.59l7.78-7.78 2.81-2.81c.8-.78.8-2.07 0-2.86zM5.41 20L4 18.59l7.72-7.72 1.47 1.35L5.41 20z\"/>\n",
              "  </svg>\n",
              "      </button>\n",
              "      \n",
              "  <style>\n",
              "    .colab-df-container {\n",
              "      display:flex;\n",
              "      flex-wrap:wrap;\n",
              "      gap: 12px;\n",
              "    }\n",
              "\n",
              "    .colab-df-convert {\n",
              "      background-color: #E8F0FE;\n",
              "      border: none;\n",
              "      border-radius: 50%;\n",
              "      cursor: pointer;\n",
              "      display: none;\n",
              "      fill: #1967D2;\n",
              "      height: 32px;\n",
              "      padding: 0 0 0 0;\n",
              "      width: 32px;\n",
              "    }\n",
              "\n",
              "    .colab-df-convert:hover {\n",
              "      background-color: #E2EBFA;\n",
              "      box-shadow: 0px 1px 2px rgba(60, 64, 67, 0.3), 0px 1px 3px 1px rgba(60, 64, 67, 0.15);\n",
              "      fill: #174EA6;\n",
              "    }\n",
              "\n",
              "    [theme=dark] .colab-df-convert {\n",
              "      background-color: #3B4455;\n",
              "      fill: #D2E3FC;\n",
              "    }\n",
              "\n",
              "    [theme=dark] .colab-df-convert:hover {\n",
              "      background-color: #434B5C;\n",
              "      box-shadow: 0px 1px 3px 1px rgba(0, 0, 0, 0.15);\n",
              "      filter: drop-shadow(0px 1px 2px rgba(0, 0, 0, 0.3));\n",
              "      fill: #FFFFFF;\n",
              "    }\n",
              "  </style>\n",
              "\n",
              "      <script>\n",
              "        const buttonEl =\n",
              "          document.querySelector('#df-feb5d808-2dbf-4d81-b84f-66d33ac1cbc3 button.colab-df-convert');\n",
              "        buttonEl.style.display =\n",
              "          google.colab.kernel.accessAllowed ? 'block' : 'none';\n",
              "\n",
              "        async function convertToInteractive(key) {\n",
              "          const element = document.querySelector('#df-feb5d808-2dbf-4d81-b84f-66d33ac1cbc3');\n",
              "          const dataTable =\n",
              "            await google.colab.kernel.invokeFunction('convertToInteractive',\n",
              "                                                     [key], {});\n",
              "          if (!dataTable) return;\n",
              "\n",
              "          const docLinkHtml = 'Like what you see? Visit the ' +\n",
              "            '<a target=\"_blank\" href=https://colab.research.google.com/notebooks/data_table.ipynb>data table notebook</a>'\n",
              "            + ' to learn more about interactive tables.';\n",
              "          element.innerHTML = '';\n",
              "          dataTable['output_type'] = 'display_data';\n",
              "          await google.colab.output.renderOutput(dataTable, element);\n",
              "          const docLink = document.createElement('div');\n",
              "          docLink.innerHTML = docLinkHtml;\n",
              "          element.appendChild(docLink);\n",
              "        }\n",
              "      </script>\n",
              "    </div>\n",
              "  </div>\n",
              "  "
            ]
          },
          "metadata": {},
          "execution_count": 55
        }
      ]
    },
    {
      "cell_type": "markdown",
      "source": [
        "# Analysis of Group Nodes"
      ],
      "metadata": {
        "id": "SGSjUEH25jxv"
      }
    },
    {
      "cell_type": "markdown",
      "source": [
        "## Percentage of Group Transported"
      ],
      "metadata": {
        "id": "0C4veYQ3XqQp"
      }
    },
    {
      "cell_type": "code",
      "source": [
        "group_transported_df = gds.run_cypher('''\n",
        "  MATCH (p:Passenger)-[:MEMBER]->(g:Group)\n",
        "  WITH\n",
        "      g.id as group_id,\n",
        "      g.Group_Size AS group_size,\n",
        "      COUNT(CASE WHEN p.transported=True THEN 1 END) AS transported\n",
        "  RETURN\n",
        "    group_id,\n",
        "    group_size,\n",
        "    transported,\n",
        "    ROUND(toFloat(transported)/toFloat(group_size), 3) AS pct_transported\n",
        "  ORDER BY group_size DESC\n",
        "''')"
      ],
      "metadata": {
        "id": "2eMpU4zl5uoh"
      },
      "execution_count": null,
      "outputs": []
    },
    {
      "cell_type": "code",
      "source": [
        "# top five groups sorted by transported passenger count\n",
        "group_transported_df.sort_values('transported', ascending=False).head()"
      ],
      "metadata": {
        "colab": {
          "base_uri": "https://localhost:8080/",
          "height": 206
        },
        "id": "Q2lok8YPWnTZ",
        "outputId": "11576b6e-cc42-4be4-9da7-6fcd1bfaf393"
      },
      "execution_count": null,
      "outputs": [
        {
          "output_type": "execute_result",
          "data": {
            "text/plain": [
              "    group_id  group_size  transported  pct_transported\n",
              "41      6030         7.0            7            1.000\n",
              "64      6139         6.0            6            1.000\n",
              "30      3850         7.0            6            0.857\n",
              "62      5812         6.0            6            1.000\n",
              "60      4663         6.0            6            1.000"
            ],
            "text/html": [
              "\n",
              "  <div id=\"df-47629b9b-8fed-426b-b090-18523e19d91d\">\n",
              "    <div class=\"colab-df-container\">\n",
              "      <div>\n",
              "<style scoped>\n",
              "    .dataframe tbody tr th:only-of-type {\n",
              "        vertical-align: middle;\n",
              "    }\n",
              "\n",
              "    .dataframe tbody tr th {\n",
              "        vertical-align: top;\n",
              "    }\n",
              "\n",
              "    .dataframe thead th {\n",
              "        text-align: right;\n",
              "    }\n",
              "</style>\n",
              "<table border=\"1\" class=\"dataframe\">\n",
              "  <thead>\n",
              "    <tr style=\"text-align: right;\">\n",
              "      <th></th>\n",
              "      <th>group_id</th>\n",
              "      <th>group_size</th>\n",
              "      <th>transported</th>\n",
              "      <th>pct_transported</th>\n",
              "    </tr>\n",
              "  </thead>\n",
              "  <tbody>\n",
              "    <tr>\n",
              "      <th>41</th>\n",
              "      <td>6030</td>\n",
              "      <td>7.0</td>\n",
              "      <td>7</td>\n",
              "      <td>1.000</td>\n",
              "    </tr>\n",
              "    <tr>\n",
              "      <th>64</th>\n",
              "      <td>6139</td>\n",
              "      <td>6.0</td>\n",
              "      <td>6</td>\n",
              "      <td>1.000</td>\n",
              "    </tr>\n",
              "    <tr>\n",
              "      <th>30</th>\n",
              "      <td>3850</td>\n",
              "      <td>7.0</td>\n",
              "      <td>6</td>\n",
              "      <td>0.857</td>\n",
              "    </tr>\n",
              "    <tr>\n",
              "      <th>62</th>\n",
              "      <td>5812</td>\n",
              "      <td>6.0</td>\n",
              "      <td>6</td>\n",
              "      <td>1.000</td>\n",
              "    </tr>\n",
              "    <tr>\n",
              "      <th>60</th>\n",
              "      <td>4663</td>\n",
              "      <td>6.0</td>\n",
              "      <td>6</td>\n",
              "      <td>1.000</td>\n",
              "    </tr>\n",
              "  </tbody>\n",
              "</table>\n",
              "</div>\n",
              "      <button class=\"colab-df-convert\" onclick=\"convertToInteractive('df-47629b9b-8fed-426b-b090-18523e19d91d')\"\n",
              "              title=\"Convert this dataframe to an interactive table.\"\n",
              "              style=\"display:none;\">\n",
              "        \n",
              "  <svg xmlns=\"http://www.w3.org/2000/svg\" height=\"24px\"viewBox=\"0 0 24 24\"\n",
              "       width=\"24px\">\n",
              "    <path d=\"M0 0h24v24H0V0z\" fill=\"none\"/>\n",
              "    <path d=\"M18.56 5.44l.94 2.06.94-2.06 2.06-.94-2.06-.94-.94-2.06-.94 2.06-2.06.94zm-11 1L8.5 8.5l.94-2.06 2.06-.94-2.06-.94L8.5 2.5l-.94 2.06-2.06.94zm10 10l.94 2.06.94-2.06 2.06-.94-2.06-.94-.94-2.06-.94 2.06-2.06.94z\"/><path d=\"M17.41 7.96l-1.37-1.37c-.4-.4-.92-.59-1.43-.59-.52 0-1.04.2-1.43.59L10.3 9.45l-7.72 7.72c-.78.78-.78 2.05 0 2.83L4 21.41c.39.39.9.59 1.41.59.51 0 1.02-.2 1.41-.59l7.78-7.78 2.81-2.81c.8-.78.8-2.07 0-2.86zM5.41 20L4 18.59l7.72-7.72 1.47 1.35L5.41 20z\"/>\n",
              "  </svg>\n",
              "      </button>\n",
              "      \n",
              "  <style>\n",
              "    .colab-df-container {\n",
              "      display:flex;\n",
              "      flex-wrap:wrap;\n",
              "      gap: 12px;\n",
              "    }\n",
              "\n",
              "    .colab-df-convert {\n",
              "      background-color: #E8F0FE;\n",
              "      border: none;\n",
              "      border-radius: 50%;\n",
              "      cursor: pointer;\n",
              "      display: none;\n",
              "      fill: #1967D2;\n",
              "      height: 32px;\n",
              "      padding: 0 0 0 0;\n",
              "      width: 32px;\n",
              "    }\n",
              "\n",
              "    .colab-df-convert:hover {\n",
              "      background-color: #E2EBFA;\n",
              "      box-shadow: 0px 1px 2px rgba(60, 64, 67, 0.3), 0px 1px 3px 1px rgba(60, 64, 67, 0.15);\n",
              "      fill: #174EA6;\n",
              "    }\n",
              "\n",
              "    [theme=dark] .colab-df-convert {\n",
              "      background-color: #3B4455;\n",
              "      fill: #D2E3FC;\n",
              "    }\n",
              "\n",
              "    [theme=dark] .colab-df-convert:hover {\n",
              "      background-color: #434B5C;\n",
              "      box-shadow: 0px 1px 3px 1px rgba(0, 0, 0, 0.15);\n",
              "      filter: drop-shadow(0px 1px 2px rgba(0, 0, 0, 0.3));\n",
              "      fill: #FFFFFF;\n",
              "    }\n",
              "  </style>\n",
              "\n",
              "      <script>\n",
              "        const buttonEl =\n",
              "          document.querySelector('#df-47629b9b-8fed-426b-b090-18523e19d91d button.colab-df-convert');\n",
              "        buttonEl.style.display =\n",
              "          google.colab.kernel.accessAllowed ? 'block' : 'none';\n",
              "\n",
              "        async function convertToInteractive(key) {\n",
              "          const element = document.querySelector('#df-47629b9b-8fed-426b-b090-18523e19d91d');\n",
              "          const dataTable =\n",
              "            await google.colab.kernel.invokeFunction('convertToInteractive',\n",
              "                                                     [key], {});\n",
              "          if (!dataTable) return;\n",
              "\n",
              "          const docLinkHtml = 'Like what you see? Visit the ' +\n",
              "            '<a target=\"_blank\" href=https://colab.research.google.com/notebooks/data_table.ipynb>data table notebook</a>'\n",
              "            + ' to learn more about interactive tables.';\n",
              "          element.innerHTML = '';\n",
              "          dataTable['output_type'] = 'display_data';\n",
              "          await google.colab.output.renderOutput(dataTable, element);\n",
              "          const docLink = document.createElement('div');\n",
              "          docLink.innerHTML = docLinkHtml;\n",
              "          element.appendChild(docLink);\n",
              "        }\n",
              "      </script>\n",
              "    </div>\n",
              "  </div>\n",
              "  "
            ]
          },
          "metadata": {},
          "execution_count": 57
        }
      ]
    },
    {
      "cell_type": "code",
      "source": [
        "print('count of groups with all members transported:')\n",
        "group_transported_df[group_transported_df['pct_transported'] == 1].shape[0]"
      ],
      "metadata": {
        "colab": {
          "base_uri": "https://localhost:8080/"
        },
        "id": "SehwwpP0Pz58",
        "outputId": "3458050d-8cd1-419c-d074-0bd4f8a469bb"
      },
      "execution_count": null,
      "outputs": [
        {
          "output_type": "stream",
          "name": "stdout",
          "text": [
            "count of groups with all members transported:\n"
          ]
        },
        {
          "output_type": "execute_result",
          "data": {
            "text/plain": [
              "378"
            ]
          },
          "metadata": {},
          "execution_count": 58
        }
      ]
    },
    {
      "cell_type": "code",
      "source": [
        "# transported statistical distribution\n",
        "gen_apoc_stats(df=group_transported_df, col='transported')"
      ],
      "metadata": {
        "colab": {
          "base_uri": "https://localhost:8080/"
        },
        "id": "gLt4zmjCXAfA",
        "outputId": "836fac6d-b21d-46e6-d95a-6602eb5b2500"
      },
      "execution_count": null,
      "outputs": [
        {
          "output_type": "execute_result",
          "data": {
            "text/plain": [
              "count    1412.00\n",
              "mean        1.56\n",
              "std         1.15\n",
              "min         0.00\n",
              "25%         1.00\n",
              "50%         1.00\n",
              "75%         2.00\n",
              "90%         3.00\n",
              "95%         4.00\n",
              "99%         5.00\n",
              "max         7.00\n",
              "Name: transported, dtype: float64"
            ]
          },
          "metadata": {},
          "execution_count": 59
        }
      ]
    },
    {
      "cell_type": "code",
      "source": [
        "# transported statistical distribution\n",
        "gen_apoc_stats(df=group_transported_df, col='pct_transported')"
      ],
      "metadata": {
        "colab": {
          "base_uri": "https://localhost:8080/"
        },
        "id": "Vj9sLqedXAaF",
        "outputId": "2a7fedd6-09e1-4780-877e-2ff4c498c8eb"
      },
      "execution_count": null,
      "outputs": [
        {
          "output_type": "execute_result",
          "data": {
            "text/plain": [
              "count    1412.00\n",
              "mean        0.56\n",
              "std         0.34\n",
              "min         0.00\n",
              "25%         0.33\n",
              "50%         0.50\n",
              "75%         1.00\n",
              "90%         1.00\n",
              "95%         1.00\n",
              "99%         1.00\n",
              "max         1.00\n",
              "Name: pct_transported, dtype: float64"
            ]
          },
          "metadata": {},
          "execution_count": 62
        }
      ]
    },
    {
      "cell_type": "code",
      "source": [
        "(\n",
        "    sns.histplot(group_transported_df['pct_transported'], bins=10)\n",
        "    .set(title='Distribution of Percentage Transported by Group')\n",
        ")\n",
        "plt.show()"
      ],
      "metadata": {
        "colab": {
          "base_uri": "https://localhost:8080/",
          "height": 410
        },
        "id": "kRmEPl7dXANq",
        "outputId": "1d7611cf-60bf-455d-91e9-c0cf32eaf7b0"
      },
      "execution_count": null,
      "outputs": [
        {
          "output_type": "display_data",
          "data": {
            "text/plain": [
              "<Figure size 792x432 with 1 Axes>"
            ],
            "image/png": "[encoded data removed]"
          },
          "metadata": {}
        }
      ]
    },
    {
      "cell_type": "markdown",
      "source": [
        "## Write New Properties"
      ],
      "metadata": {
        "id": "x07plbntZRor"
      }
    },
    {
      "cell_type": "code",
      "source": [
        "# pass dataframe as list of dictionaries \n",
        "gds.run_cypher('''\n",
        "               UNWIND $group_transported AS item\n",
        "               MATCH (g:Group{id:item.group_id})\n",
        "               SET \n",
        "                  g.transportedMembers = item.transported_members,\n",
        "                  g.pctTransported = item.pct_transported\n",
        "              ''', {'group_transported': group_transported_df.to_dict('records')})"
      ],
      "metadata": {
        "colab": {
          "base_uri": "https://localhost:8080/",
          "height": 49
        },
        "id": "jWoHFIKsa5wN",
        "outputId": "dfd56b6c-1363-4d56-9ab5-486ab77307b2"
      },
      "execution_count": null,
      "outputs": [
        {
          "output_type": "execute_result",
          "data": {
            "text/plain": [
              "Empty DataFrame\n",
              "Columns: []\n",
              "Index: []"
            ],
            "text/html": [
              "\n",
              "  <div id=\"df-3ff66457-ff66-4661-beab-91cc648732f3\">\n",
              "    <div class=\"colab-df-container\">\n",
              "      <div>\n",
              "<style scoped>\n",
              "    .dataframe tbody tr th:only-of-type {\n",
              "        vertical-align: middle;\n",
              "    }\n",
              "\n",
              "    .dataframe tbody tr th {\n",
              "        vertical-align: top;\n",
              "    }\n",
              "\n",
              "    .dataframe thead th {\n",
              "        text-align: right;\n",
              "    }\n",
              "</style>\n",
              "<table border=\"1\" class=\"dataframe\">\n",
              "  <thead>\n",
              "    <tr style=\"text-align: right;\">\n",
              "      <th></th>\n",
              "    </tr>\n",
              "  </thead>\n",
              "  <tbody>\n",
              "  </tbody>\n",
              "</table>\n",
              "</div>\n",
              "      <button class=\"colab-df-convert\" onclick=\"convertToInteractive('df-3ff66457-ff66-4661-beab-91cc648732f3')\"\n",
              "              title=\"Convert this dataframe to an interactive table.\"\n",
              "              style=\"display:none;\">\n",
              "        \n",
              "  <svg xmlns=\"http://www.w3.org/2000/svg\" height=\"24px\"viewBox=\"0 0 24 24\"\n",
              "       width=\"24px\">\n",
              "    <path d=\"M0 0h24v24H0V0z\" fill=\"none\"/>\n",
              "    <path d=\"M18.56 5.44l.94 2.06.94-2.06 2.06-.94-2.06-.94-.94-2.06-.94 2.06-2.06.94zm-11 1L8.5 8.5l.94-2.06 2.06-.94-2.06-.94L8.5 2.5l-.94 2.06-2.06.94zm10 10l.94 2.06.94-2.06 2.06-.94-2.06-.94-.94-2.06-.94 2.06-2.06.94z\"/><path d=\"M17.41 7.96l-1.37-1.37c-.4-.4-.92-.59-1.43-.59-.52 0-1.04.2-1.43.59L10.3 9.45l-7.72 7.72c-.78.78-.78 2.05 0 2.83L4 21.41c.39.39.9.59 1.41.59.51 0 1.02-.2 1.41-.59l7.78-7.78 2.81-2.81c.8-.78.8-2.07 0-2.86zM5.41 20L4 18.59l7.72-7.72 1.47 1.35L5.41 20z\"/>\n",
              "  </svg>\n",
              "      </button>\n",
              "      \n",
              "  <style>\n",
              "    .colab-df-container {\n",
              "      display:flex;\n",
              "      flex-wrap:wrap;\n",
              "      gap: 12px;\n",
              "    }\n",
              "\n",
              "    .colab-df-convert {\n",
              "      background-color: #E8F0FE;\n",
              "      border: none;\n",
              "      border-radius: 50%;\n",
              "      cursor: pointer;\n",
              "      display: none;\n",
              "      fill: #1967D2;\n",
              "      height: 32px;\n",
              "      padding: 0 0 0 0;\n",
              "      width: 32px;\n",
              "    }\n",
              "\n",
              "    .colab-df-convert:hover {\n",
              "      background-color: #E2EBFA;\n",
              "      box-shadow: 0px 1px 2px rgba(60, 64, 67, 0.3), 0px 1px 3px 1px rgba(60, 64, 67, 0.15);\n",
              "      fill: #174EA6;\n",
              "    }\n",
              "\n",
              "    [theme=dark] .colab-df-convert {\n",
              "      background-color: #3B4455;\n",
              "      fill: #D2E3FC;\n",
              "    }\n",
              "\n",
              "    [theme=dark] .colab-df-convert:hover {\n",
              "      background-color: #434B5C;\n",
              "      box-shadow: 0px 1px 3px 1px rgba(0, 0, 0, 0.15);\n",
              "      filter: drop-shadow(0px 1px 2px rgba(0, 0, 0, 0.3));\n",
              "      fill: #FFFFFF;\n",
              "    }\n",
              "  </style>\n",
              "\n",
              "      <script>\n",
              "        const buttonEl =\n",
              "          document.querySelector('#df-3ff66457-ff66-4661-beab-91cc648732f3 button.colab-df-convert');\n",
              "        buttonEl.style.display =\n",
              "          google.colab.kernel.accessAllowed ? 'block' : 'none';\n",
              "\n",
              "        async function convertToInteractive(key) {\n",
              "          const element = document.querySelector('#df-3ff66457-ff66-4661-beab-91cc648732f3');\n",
              "          const dataTable =\n",
              "            await google.colab.kernel.invokeFunction('convertToInteractive',\n",
              "                                                     [key], {});\n",
              "          if (!dataTable) return;\n",
              "\n",
              "          const docLinkHtml = 'Like what you see? Visit the ' +\n",
              "            '<a target=\"_blank\" href=https://colab.research.google.com/notebooks/data_table.ipynb>data table notebook</a>'\n",
              "            + ' to learn more about interactive tables.';\n",
              "          element.innerHTML = '';\n",
              "          dataTable['output_type'] = 'display_data';\n",
              "          await google.colab.output.renderOutput(dataTable, element);\n",
              "          const docLink = document.createElement('div');\n",
              "          docLink.innerHTML = docLinkHtml;\n",
              "          element.appendChild(docLink);\n",
              "        }\n",
              "      </script>\n",
              "    </div>\n",
              "  </div>\n",
              "  "
            ]
          },
          "metadata": {},
          "execution_count": 64
        }
      ]
    },
    {
      "cell_type": "markdown",
      "source": [
        "# Cabins"
      ],
      "metadata": {
        "id": "ijlIJTR7XusT"
      }
    },
    {
      "cell_type": "markdown",
      "source": [
        "## Percentage of Cabin Transported"
      ],
      "metadata": {
        "id": "6Q8qfHdcX1mS"
      }
    },
    {
      "cell_type": "code",
      "source": [
        "cabin_transported_df = gds.run_cypher('''\n",
        "  MATCH (p:Passenger)-[:ASSIGNED]->(c:Cabin)\n",
        "  WITH\n",
        "      c.id as cabin_id,\n",
        "      COUNT(p) AS assignedPassengers,\n",
        "      COUNT(CASE WHEN p.transported=True THEN 1 END) AS transported\n",
        "  RETURN\n",
        "    cabin_id,\n",
        "    assignedPassengers,\n",
        "    transported,\n",
        "    ROUND(toFloat(transported)/toFloat(assignedPassengers), 3) AS pct_transported\n",
        "  ORDER BY assignedPassengers DESC\n",
        "''')"
      ],
      "metadata": {
        "id": "yz7Svv9uX1mS"
      },
      "execution_count": null,
      "outputs": []
    },
    {
      "cell_type": "code",
      "source": [
        "# sorted by transported passenger count\n",
        "cabin_transported_df.sort_values('transported', ascending=False).head()"
      ],
      "metadata": {
        "colab": {
          "base_uri": "https://localhost:8080/",
          "height": 206
        },
        "outputId": "094eb36e-a2c3-494c-ee47-d0abaf28a73a",
        "id": "5jNNRbkhX1mS"
      },
      "execution_count": null,
      "outputs": [
        {
          "output_type": "execute_result",
          "data": {
            "text/plain": [
              "   cabin_id  assignedPassengers  transported  pct_transported\n",
              "12    G981S                   7            7            1.000\n",
              "2     B183S                   7            6            0.857\n",
              "38    G943S                   6            6            1.000\n",
              "40    C230S                   6            6            1.000\n",
              "8      B82S                   7            6            0.857"
            ],
            "text/html": [
              "\n",
              "  <div id=\"df-4c8add1d-5fe2-44b6-a13c-49c4cad1a4c7\">\n",
              "    <div class=\"colab-df-container\">\n",
              "      <div>\n",
              "<style scoped>\n",
              "    .dataframe tbody tr th:only-of-type {\n",
              "        vertical-align: middle;\n",
              "    }\n",
              "\n",
              "    .dataframe tbody tr th {\n",
              "        vertical-align: top;\n",
              "    }\n",
              "\n",
              "    .dataframe thead th {\n",
              "        text-align: right;\n",
              "    }\n",
              "</style>\n",
              "<table border=\"1\" class=\"dataframe\">\n",
              "  <thead>\n",
              "    <tr style=\"text-align: right;\">\n",
              "      <th></th>\n",
              "      <th>cabin_id</th>\n",
              "      <th>assignedPassengers</th>\n",
              "      <th>transported</th>\n",
              "      <th>pct_transported</th>\n",
              "    </tr>\n",
              "  </thead>\n",
              "  <tbody>\n",
              "    <tr>\n",
              "      <th>12</th>\n",
              "      <td>G981S</td>\n",
              "      <td>7</td>\n",
              "      <td>7</td>\n",
              "      <td>1.000</td>\n",
              "    </tr>\n",
              "    <tr>\n",
              "      <th>2</th>\n",
              "      <td>B183S</td>\n",
              "      <td>7</td>\n",
              "      <td>6</td>\n",
              "      <td>0.857</td>\n",
              "    </tr>\n",
              "    <tr>\n",
              "      <th>38</th>\n",
              "      <td>G943S</td>\n",
              "      <td>6</td>\n",
              "      <td>6</td>\n",
              "      <td>1.000</td>\n",
              "    </tr>\n",
              "    <tr>\n",
              "      <th>40</th>\n",
              "      <td>C230S</td>\n",
              "      <td>6</td>\n",
              "      <td>6</td>\n",
              "      <td>1.000</td>\n",
              "    </tr>\n",
              "    <tr>\n",
              "      <th>8</th>\n",
              "      <td>B82S</td>\n",
              "      <td>7</td>\n",
              "      <td>6</td>\n",
              "      <td>0.857</td>\n",
              "    </tr>\n",
              "  </tbody>\n",
              "</table>\n",
              "</div>\n",
              "      <button class=\"colab-df-convert\" onclick=\"convertToInteractive('df-4c8add1d-5fe2-44b6-a13c-49c4cad1a4c7')\"\n",
              "              title=\"Convert this dataframe to an interactive table.\"\n",
              "              style=\"display:none;\">\n",
              "        \n",
              "  <svg xmlns=\"http://www.w3.org/2000/svg\" height=\"24px\"viewBox=\"0 0 24 24\"\n",
              "       width=\"24px\">\n",
              "    <path d=\"M0 0h24v24H0V0z\" fill=\"none\"/>\n",
              "    <path d=\"M18.56 5.44l.94 2.06.94-2.06 2.06-.94-2.06-.94-.94-2.06-.94 2.06-2.06.94zm-11 1L8.5 8.5l.94-2.06 2.06-.94-2.06-.94L8.5 2.5l-.94 2.06-2.06.94zm10 10l.94 2.06.94-2.06 2.06-.94-2.06-.94-.94-2.06-.94 2.06-2.06.94z\"/><path d=\"M17.41 7.96l-1.37-1.37c-.4-.4-.92-.59-1.43-.59-.52 0-1.04.2-1.43.59L10.3 9.45l-7.72 7.72c-.78.78-.78 2.05 0 2.83L4 21.41c.39.39.9.59 1.41.59.51 0 1.02-.2 1.41-.59l7.78-7.78 2.81-2.81c.8-.78.8-2.07 0-2.86zM5.41 20L4 18.59l7.72-7.72 1.47 1.35L5.41 20z\"/>\n",
              "  </svg>\n",
              "      </button>\n",
              "      \n",
              "  <style>\n",
              "    .colab-df-container {\n",
              "      display:flex;\n",
              "      flex-wrap:wrap;\n",
              "      gap: 12px;\n",
              "    }\n",
              "\n",
              "    .colab-df-convert {\n",
              "      background-color: #E8F0FE;\n",
              "      border: none;\n",
              "      border-radius: 50%;\n",
              "      cursor: pointer;\n",
              "      display: none;\n",
              "      fill: #1967D2;\n",
              "      height: 32px;\n",
              "      padding: 0 0 0 0;\n",
              "      width: 32px;\n",
              "    }\n",
              "\n",
              "    .colab-df-convert:hover {\n",
              "      background-color: #E2EBFA;\n",
              "      box-shadow: 0px 1px 2px rgba(60, 64, 67, 0.3), 0px 1px 3px 1px rgba(60, 64, 67, 0.15);\n",
              "      fill: #174EA6;\n",
              "    }\n",
              "\n",
              "    [theme=dark] .colab-df-convert {\n",
              "      background-color: #3B4455;\n",
              "      fill: #D2E3FC;\n",
              "    }\n",
              "\n",
              "    [theme=dark] .colab-df-convert:hover {\n",
              "      background-color: #434B5C;\n",
              "      box-shadow: 0px 1px 3px 1px rgba(0, 0, 0, 0.15);\n",
              "      filter: drop-shadow(0px 1px 2px rgba(0, 0, 0, 0.3));\n",
              "      fill: #FFFFFF;\n",
              "    }\n",
              "  </style>\n",
              "\n",
              "      <script>\n",
              "        const buttonEl =\n",
              "          document.querySelector('#df-4c8add1d-5fe2-44b6-a13c-49c4cad1a4c7 button.colab-df-convert');\n",
              "        buttonEl.style.display =\n",
              "          google.colab.kernel.accessAllowed ? 'block' : 'none';\n",
              "\n",
              "        async function convertToInteractive(key) {\n",
              "          const element = document.querySelector('#df-4c8add1d-5fe2-44b6-a13c-49c4cad1a4c7');\n",
              "          const dataTable =\n",
              "            await google.colab.kernel.invokeFunction('convertToInteractive',\n",
              "                                                     [key], {});\n",
              "          if (!dataTable) return;\n",
              "\n",
              "          const docLinkHtml = 'Like what you see? Visit the ' +\n",
              "            '<a target=\"_blank\" href=https://colab.research.google.com/notebooks/data_table.ipynb>data table notebook</a>'\n",
              "            + ' to learn more about interactive tables.';\n",
              "          element.innerHTML = '';\n",
              "          dataTable['output_type'] = 'display_data';\n",
              "          await google.colab.output.renderOutput(dataTable, element);\n",
              "          const docLink = document.createElement('div');\n",
              "          docLink.innerHTML = docLinkHtml;\n",
              "          element.appendChild(docLink);\n",
              "        }\n",
              "      </script>\n",
              "    </div>\n",
              "  </div>\n",
              "  "
            ]
          },
          "metadata": {},
          "execution_count": 67
        }
      ]
    },
    {
      "cell_type": "code",
      "source": [
        "print('count of cabins where all members transported:')\n",
        "cabin_transported_df[cabin_transported_df['pct_transported'] == 1].shape[0]"
      ],
      "metadata": {
        "colab": {
          "base_uri": "https://localhost:8080/"
        },
        "outputId": "09b2d09a-b7f9-417a-904e-c1644b302668",
        "id": "nUn8F1RBX1mS"
      },
      "execution_count": null,
      "outputs": [
        {
          "output_type": "stream",
          "name": "stdout",
          "text": [
            "count of cabins where all members transported:\n"
          ]
        },
        {
          "output_type": "execute_result",
          "data": {
            "text/plain": [
              "2768"
            ]
          },
          "metadata": {},
          "execution_count": 68
        }
      ]
    },
    {
      "cell_type": "code",
      "source": [
        "print('count of multi-passenger cabins where all members transported:')\n",
        "cabin_transported_df[(cabin_transported_df['assignedPassengers'] > 1) & \n",
        "                     (cabin_transported_df['pct_transported'] == 1)].shape[0]"
      ],
      "metadata": {
        "colab": {
          "base_uri": "https://localhost:8080/"
        },
        "id": "wHZ0tcUkAiuM",
        "outputId": "f9e5f6e6-51fd-48c9-d1e1-258e988e68be"
      },
      "execution_count": null,
      "outputs": [
        {
          "output_type": "stream",
          "name": "stdout",
          "text": [
            "count of multi-passenger cabins where all members transported:\n"
          ]
        },
        {
          "output_type": "execute_result",
          "data": {
            "text/plain": [
              "383"
            ]
          },
          "metadata": {},
          "execution_count": 69
        }
      ]
    },
    {
      "cell_type": "code",
      "source": [
        "# transported statistical distribution -- multi-passenger cabins\n",
        "gen_apoc_stats(df=cabin_transported_df[(cabin_transported_df['assignedPassengers'] > 1)], col='transported')"
      ],
      "metadata": {
        "colab": {
          "base_uri": "https://localhost:8080/"
        },
        "outputId": "dd901188-30c2-40ad-c428-59b8394b8ec1",
        "id": "k8tbdd39X1mS"
      },
      "execution_count": null,
      "outputs": [
        {
          "output_type": "execute_result",
          "data": {
            "text/plain": [
              "count    1186.00\n",
              "mean        1.64\n",
              "std         1.14\n",
              "min         0.00\n",
              "25%         1.00\n",
              "50%         2.00\n",
              "75%         2.00\n",
              "90%         3.00\n",
              "95%         4.00\n",
              "99%         5.00\n",
              "max         7.00\n",
              "Name: transported, dtype: float64"
            ]
          },
          "metadata": {},
          "execution_count": 70
        }
      ]
    },
    {
      "cell_type": "code",
      "source": [
        "# transported statistical distribution -- multi-passenger cabins\n",
        "gen_apoc_stats(df=cabin_transported_df[(cabin_transported_df['assignedPassengers'] > 1)], col='pct_transported')"
      ],
      "metadata": {
        "colab": {
          "base_uri": "https://localhost:8080/"
        },
        "outputId": "21466694-75f7-4c89-82ef-a715281b69c7",
        "id": "l-8ELadjX1mS"
      },
      "execution_count": null,
      "outputs": [
        {
          "output_type": "execute_result",
          "data": {
            "text/plain": [
              "count    1186.00\n",
              "mean        0.60\n",
              "std         0.34\n",
              "min         0.00\n",
              "25%         0.50\n",
              "50%         0.50\n",
              "75%         1.00\n",
              "90%         1.00\n",
              "95%         1.00\n",
              "99%         1.00\n",
              "max         1.00\n",
              "Name: pct_transported, dtype: float64"
            ]
          },
          "metadata": {},
          "execution_count": 71
        }
      ]
    },
    {
      "cell_type": "code",
      "source": [
        "(\n",
        "    sns.histplot(cabin_transported_df[cabin_transported_df['assignedPassengers'] > 1]['pct_transported'])\n",
        "    .set(title='Distribution of Percentage Transported by Cabin -- Multi-Passenger Cabins')\n",
        ")\n",
        "plt.show()"
      ],
      "metadata": {
        "colab": {
          "base_uri": "https://localhost:8080/",
          "height": 410
        },
        "outputId": "289ddcde-f5fb-4d2e-e316-9224a37d605f",
        "id": "CT9kLYjGX1mS"
      },
      "execution_count": null,
      "outputs": [
        {
          "output_type": "display_data",
          "data": {
            "text/plain": [
              "<Figure size 792x432 with 1 Axes>"
            ],
            "image/png": "[encoded data removed]"
          },
          "metadata": {}
        }
      ]
    },
    {
      "cell_type": "markdown",
      "source": [
        "## Write pct_transported to Group Nodes"
      ],
      "metadata": {
        "id": "ZyNrywPRX1mT"
      }
    },
    {
      "cell_type": "code",
      "source": [
        "# pass dataframe as list of dictionaries \n",
        "gds.run_cypher('''\n",
        "               UNWIND $cabin_transported AS item\n",
        "               MATCH (c:Cabin{id:item.cabin_id})\n",
        "               SET \n",
        "                  c.assignedPassengers = item.assignedPassengers,\n",
        "                  c.transportedPassengers = item.transported,\n",
        "                  c.pctTransported = item.pct_transported\n",
        "              ''', {'cabin_transported': cabin_transported_df.to_dict('records')})"
      ],
      "metadata": {
        "colab": {
          "base_uri": "https://localhost:8080/",
          "height": 49
        },
        "outputId": "1902e987-ac3f-4b2a-fcf5-2a8f6c1d14fa",
        "id": "KxhSCO7iX1mT"
      },
      "execution_count": null,
      "outputs": [
        {
          "output_type": "execute_result",
          "data": {
            "text/plain": [
              "Empty DataFrame\n",
              "Columns: []\n",
              "Index: []"
            ],
            "text/html": [
              "\n",
              "  <div id=\"df-02bf07a3-35d2-4fd8-a173-512851a780fa\">\n",
              "    <div class=\"colab-df-container\">\n",
              "      <div>\n",
              "<style scoped>\n",
              "    .dataframe tbody tr th:only-of-type {\n",
              "        vertical-align: middle;\n",
              "    }\n",
              "\n",
              "    .dataframe tbody tr th {\n",
              "        vertical-align: top;\n",
              "    }\n",
              "\n",
              "    .dataframe thead th {\n",
              "        text-align: right;\n",
              "    }\n",
              "</style>\n",
              "<table border=\"1\" class=\"dataframe\">\n",
              "  <thead>\n",
              "    <tr style=\"text-align: right;\">\n",
              "      <th></th>\n",
              "    </tr>\n",
              "  </thead>\n",
              "  <tbody>\n",
              "  </tbody>\n",
              "</table>\n",
              "</div>\n",
              "      <button class=\"colab-df-convert\" onclick=\"convertToInteractive('df-02bf07a3-35d2-4fd8-a173-512851a780fa')\"\n",
              "              title=\"Convert this dataframe to an interactive table.\"\n",
              "              style=\"display:none;\">\n",
              "        \n",
              "  <svg xmlns=\"http://www.w3.org/2000/svg\" height=\"24px\"viewBox=\"0 0 24 24\"\n",
              "       width=\"24px\">\n",
              "    <path d=\"M0 0h24v24H0V0z\" fill=\"none\"/>\n",
              "    <path d=\"M18.56 5.44l.94 2.06.94-2.06 2.06-.94-2.06-.94-.94-2.06-.94 2.06-2.06.94zm-11 1L8.5 8.5l.94-2.06 2.06-.94-2.06-.94L8.5 2.5l-.94 2.06-2.06.94zm10 10l.94 2.06.94-2.06 2.06-.94-2.06-.94-.94-2.06-.94 2.06-2.06.94z\"/><path d=\"M17.41 7.96l-1.37-1.37c-.4-.4-.92-.59-1.43-.59-.52 0-1.04.2-1.43.59L10.3 9.45l-7.72 7.72c-.78.78-.78 2.05 0 2.83L4 21.41c.39.39.9.59 1.41.59.51 0 1.02-.2 1.41-.59l7.78-7.78 2.81-2.81c.8-.78.8-2.07 0-2.86zM5.41 20L4 18.59l7.72-7.72 1.47 1.35L5.41 20z\"/>\n",
              "  </svg>\n",
              "      </button>\n",
              "      \n",
              "  <style>\n",
              "    .colab-df-container {\n",
              "      display:flex;\n",
              "      flex-wrap:wrap;\n",
              "      gap: 12px;\n",
              "    }\n",
              "\n",
              "    .colab-df-convert {\n",
              "      background-color: #E8F0FE;\n",
              "      border: none;\n",
              "      border-radius: 50%;\n",
              "      cursor: pointer;\n",
              "      display: none;\n",
              "      fill: #1967D2;\n",
              "      height: 32px;\n",
              "      padding: 0 0 0 0;\n",
              "      width: 32px;\n",
              "    }\n",
              "\n",
              "    .colab-df-convert:hover {\n",
              "      background-color: #E2EBFA;\n",
              "      box-shadow: 0px 1px 2px rgba(60, 64, 67, 0.3), 0px 1px 3px 1px rgba(60, 64, 67, 0.15);\n",
              "      fill: #174EA6;\n",
              "    }\n",
              "\n",
              "    [theme=dark] .colab-df-convert {\n",
              "      background-color: #3B4455;\n",
              "      fill: #D2E3FC;\n",
              "    }\n",
              "\n",
              "    [theme=dark] .colab-df-convert:hover {\n",
              "      background-color: #434B5C;\n",
              "      box-shadow: 0px 1px 3px 1px rgba(0, 0, 0, 0.15);\n",
              "      filter: drop-shadow(0px 1px 2px rgba(0, 0, 0, 0.3));\n",
              "      fill: #FFFFFF;\n",
              "    }\n",
              "  </style>\n",
              "\n",
              "      <script>\n",
              "        const buttonEl =\n",
              "          document.querySelector('#df-02bf07a3-35d2-4fd8-a173-512851a780fa button.colab-df-convert');\n",
              "        buttonEl.style.display =\n",
              "          google.colab.kernel.accessAllowed ? 'block' : 'none';\n",
              "\n",
              "        async function convertToInteractive(key) {\n",
              "          const element = document.querySelector('#df-02bf07a3-35d2-4fd8-a173-512851a780fa');\n",
              "          const dataTable =\n",
              "            await google.colab.kernel.invokeFunction('convertToInteractive',\n",
              "                                                     [key], {});\n",
              "          if (!dataTable) return;\n",
              "\n",
              "          const docLinkHtml = 'Like what you see? Visit the ' +\n",
              "            '<a target=\"_blank\" href=https://colab.research.google.com/notebooks/data_table.ipynb>data table notebook</a>'\n",
              "            + ' to learn more about interactive tables.';\n",
              "          element.innerHTML = '';\n",
              "          dataTable['output_type'] = 'display_data';\n",
              "          await google.colab.output.renderOutput(dataTable, element);\n",
              "          const docLink = document.createElement('div');\n",
              "          docLink.innerHTML = docLinkHtml;\n",
              "          element.appendChild(docLink);\n",
              "        }\n",
              "      </script>\n",
              "    </div>\n",
              "  </div>\n",
              "  "
            ]
          },
          "metadata": {},
          "execution_count": 73
        }
      ]
    },
    {
      "cell_type": "markdown",
      "source": [
        "# Revisit Path Exploration with New Node Features\n",
        "*Explore path where nearly all passengers involved were transported. One observation is that Surnames seem play a major role as bridges between smaller group- and cabin-based communities of passengers.*"
      ],
      "metadata": {
        "id": "AxW8QkAAFxvV"
      }
    },
    {
      "cell_type": "code",
      "source": [
        "'''\n",
        "MATCH x=(c:Cabin)<-[:ASSIGNED]-(p:Passenger)-[HAS_SURNAME]->(s:Surname)-[IN_GROUP]->(g:Group)\n",
        "WHERE \n",
        "    s.pctTransported > 0.75 AND\n",
        "    g.Group_Size > 4 AND\n",
        "    g.pctTransported > 0.75 AND\n",
        "    p.transported=True\n",
        "RETURN x \n",
        "LIMIT 250\n",
        "'''"
      ],
      "metadata": {
        "id": "5M4ofULbvD2E"
      },
      "execution_count": null,
      "outputs": []
    },
    {
      "cell_type": "markdown",
      "source": [
        "# Project Homogenous Graph\n",
        "Collapse Surnames and Groups into a graph containing only Surname nodes with edges representing shared group membership.\n",
        "\n"
      ],
      "metadata": {
        "id": "n6R-n_hT0QYn"
      }
    },
    {
      "cell_type": "code",
      "source": [
        "gds.graph.list()"
      ],
      "metadata": {
        "id": "P9HX-qwBhYZv"
      },
      "execution_count": null,
      "outputs": []
    },
    {
      "cell_type": "code",
      "source": [
        "# # if necessary, get the graph as a variable\n",
        "# g_surname_group = gds.graph.get('surname_group')"
      ],
      "metadata": {
        "id": "CTGWeUNYsQ9W"
      },
      "execution_count": null,
      "outputs": []
    },
    {
      "cell_type": "code",
      "source": [
        "# # if necessary drop existing graph\n",
        "# gds.graph.drop(g_surname_group)"
      ],
      "metadata": {
        "id": "Ci75MQwd8pZl"
      },
      "execution_count": null,
      "outputs": []
    },
    {
      "cell_type": "code",
      "source": [
        "g_surname_group, surname_group_desc = gds.graph.project.cypher(\n",
        "  graph_name='surname_group',\n",
        "  node_spec = ''' \n",
        "              MATCH (s:Surname)-[:IN_GROUP]->(g:Group)\n",
        "              WHERE\n",
        "                EXISTS { (s)-[:IN_GROUP]->(g:Group)<-[:IN_GROUP]-() }\n",
        "              RETURN ID(s) AS id\n",
        "              ''',\n",
        "  relationship_spec = ''' \n",
        "                      MATCH (p:Passenger)-[:HAS_SURNAME]->(x:Surname)-[:IN_GROUP]->(g:Group)<-[:IN_GROUP]-(y:Surname)\n",
        "                      RETURN \n",
        "                        id(x) AS source, \n",
        "                        id(y) AS target,\n",
        "                        COUNT(p) AS weight\n",
        "                      ''')"
      ],
      "metadata": {
        "id": "qZCdimGQyv8g"
      },
      "execution_count": null,
      "outputs": []
    },
    {
      "cell_type": "code",
      "source": [
        "pd.DataFrame(surname_group_desc)"
      ],
      "metadata": {
        "colab": {
          "base_uri": "https://localhost:8080/",
          "height": 237
        },
        "id": "wxXx2V0Xyv5c",
        "outputId": "50d83512-df0c-41ff-a6a4-9147c2d34103"
      },
      "execution_count": null,
      "outputs": [
        {
          "output_type": "execute_result",
          "data": {
            "text/plain": [
              "                                                                                                                                                                                                                                                                                 0\n",
              "nodeQuery                                                                                                   MATCH (s:Surname)-[:IN_GROUP]->(g:Group)\\n              WHERE\\n                EXISTS { (s)-[:IN_GROUP]->(g:Group)<-[:IN_GROUP]-() }\\n              RETURN ID(s) AS id\n",
              "relationshipQuery  MATCH (p:Passenger)-[:HAS_SURNAME]->(x:Surname)-[:IN_GROUP]->(g:Group)<-[:IN_GROUP]-(y:Surname)\\n                      RETURN \\n                        id(x) AS source, \\n                        id(y) AS target,\\n                        COUNT(p) AS weight\n",
              "graphName                                                                                                                                                                                                                                                            surname_group\n",
              "nodeCount                                                                                                                                                                                                                                                                      472\n",
              "relationshipCount                                                                                                                                                                                                                                                              600\n",
              "projectMillis                                                                                                                                                                                                                                                                   74"
            ],
            "text/html": [
              "\n",
              "  <div id=\"df-fdf6e618-e912-44a7-8d45-99c19689759d\">\n",
              "    <div class=\"colab-df-container\">\n",
              "      <div>\n",
              "<style scoped>\n",
              "    .dataframe tbody tr th:only-of-type {\n",
              "        vertical-align: middle;\n",
              "    }\n",
              "\n",
              "    .dataframe tbody tr th {\n",
              "        vertical-align: top;\n",
              "    }\n",
              "\n",
              "    .dataframe thead th {\n",
              "        text-align: right;\n",
              "    }\n",
              "</style>\n",
              "<table border=\"1\" class=\"dataframe\">\n",
              "  <thead>\n",
              "    <tr style=\"text-align: right;\">\n",
              "      <th></th>\n",
              "      <th>0</th>\n",
              "    </tr>\n",
              "  </thead>\n",
              "  <tbody>\n",
              "    <tr>\n",
              "      <th>nodeQuery</th>\n",
              "      <td>MATCH (s:Surname)-[:IN_GROUP]-&gt;(g:Group)\\n              WHERE\\n                EXISTS { (s)-[:IN_GROUP]-&gt;(g:Group)&lt;-[:IN_GROUP]-() }\\n              RETURN ID(s) AS id</td>\n",
              "    </tr>\n",
              "    <tr>\n",
              "      <th>relationshipQuery</th>\n",
              "      <td>MATCH (p:Passenger)-[:HAS_SURNAME]-&gt;(x:Surname)-[:IN_GROUP]-&gt;(g:Group)&lt;-[:IN_GROUP]-(y:Surname)\\n                      RETURN \\n                        id(x) AS source, \\n                        id(y) AS target,\\n                        COUNT(p) AS weight</td>\n",
              "    </tr>\n",
              "    <tr>\n",
              "      <th>graphName</th>\n",
              "      <td>surname_group</td>\n",
              "    </tr>\n",
              "    <tr>\n",
              "      <th>nodeCount</th>\n",
              "      <td>472</td>\n",
              "    </tr>\n",
              "    <tr>\n",
              "      <th>relationshipCount</th>\n",
              "      <td>600</td>\n",
              "    </tr>\n",
              "    <tr>\n",
              "      <th>projectMillis</th>\n",
              "      <td>74</td>\n",
              "    </tr>\n",
              "  </tbody>\n",
              "</table>\n",
              "</div>\n",
              "      <button class=\"colab-df-convert\" onclick=\"convertToInteractive('df-fdf6e618-e912-44a7-8d45-99c19689759d')\"\n",
              "              title=\"Convert this dataframe to an interactive table.\"\n",
              "              style=\"display:none;\">\n",
              "        \n",
              "  <svg xmlns=\"http://www.w3.org/2000/svg\" height=\"24px\"viewBox=\"0 0 24 24\"\n",
              "       width=\"24px\">\n",
              "    <path d=\"M0 0h24v24H0V0z\" fill=\"none\"/>\n",
              "    <path d=\"M18.56 5.44l.94 2.06.94-2.06 2.06-.94-2.06-.94-.94-2.06-.94 2.06-2.06.94zm-11 1L8.5 8.5l.94-2.06 2.06-.94-2.06-.94L8.5 2.5l-.94 2.06-2.06.94zm10 10l.94 2.06.94-2.06 2.06-.94-2.06-.94-.94-2.06-.94 2.06-2.06.94z\"/><path d=\"M17.41 7.96l-1.37-1.37c-.4-.4-.92-.59-1.43-.59-.52 0-1.04.2-1.43.59L10.3 9.45l-7.72 7.72c-.78.78-.78 2.05 0 2.83L4 21.41c.39.39.9.59 1.41.59.51 0 1.02-.2 1.41-.59l7.78-7.78 2.81-2.81c.8-.78.8-2.07 0-2.86zM5.41 20L4 18.59l7.72-7.72 1.47 1.35L5.41 20z\"/>\n",
              "  </svg>\n",
              "      </button>\n",
              "      \n",
              "  <style>\n",
              "    .colab-df-container {\n",
              "      display:flex;\n",
              "      flex-wrap:wrap;\n",
              "      gap: 12px;\n",
              "    }\n",
              "\n",
              "    .colab-df-convert {\n",
              "      background-color: #E8F0FE;\n",
              "      border: none;\n",
              "      border-radius: 50%;\n",
              "      cursor: pointer;\n",
              "      display: none;\n",
              "      fill: #1967D2;\n",
              "      height: 32px;\n",
              "      padding: 0 0 0 0;\n",
              "      width: 32px;\n",
              "    }\n",
              "\n",
              "    .colab-df-convert:hover {\n",
              "      background-color: #E2EBFA;\n",
              "      box-shadow: 0px 1px 2px rgba(60, 64, 67, 0.3), 0px 1px 3px 1px rgba(60, 64, 67, 0.15);\n",
              "      fill: #174EA6;\n",
              "    }\n",
              "\n",
              "    [theme=dark] .colab-df-convert {\n",
              "      background-color: #3B4455;\n",
              "      fill: #D2E3FC;\n",
              "    }\n",
              "\n",
              "    [theme=dark] .colab-df-convert:hover {\n",
              "      background-color: #434B5C;\n",
              "      box-shadow: 0px 1px 3px 1px rgba(0, 0, 0, 0.15);\n",
              "      filter: drop-shadow(0px 1px 2px rgba(0, 0, 0, 0.3));\n",
              "      fill: #FFFFFF;\n",
              "    }\n",
              "  </style>\n",
              "\n",
              "      <script>\n",
              "        const buttonEl =\n",
              "          document.querySelector('#df-fdf6e618-e912-44a7-8d45-99c19689759d button.colab-df-convert');\n",
              "        buttonEl.style.display =\n",
              "          google.colab.kernel.accessAllowed ? 'block' : 'none';\n",
              "\n",
              "        async function convertToInteractive(key) {\n",
              "          const element = document.querySelector('#df-fdf6e618-e912-44a7-8d45-99c19689759d');\n",
              "          const dataTable =\n",
              "            await google.colab.kernel.invokeFunction('convertToInteractive',\n",
              "                                                     [key], {});\n",
              "          if (!dataTable) return;\n",
              "\n",
              "          const docLinkHtml = 'Like what you see? Visit the ' +\n",
              "            '<a target=\"_blank\" href=https://colab.research.google.com/notebooks/data_table.ipynb>data table notebook</a>'\n",
              "            + ' to learn more about interactive tables.';\n",
              "          element.innerHTML = '';\n",
              "          dataTable['output_type'] = 'display_data';\n",
              "          await google.colab.output.renderOutput(dataTable, element);\n",
              "          const docLink = document.createElement('div');\n",
              "          docLink.innerHTML = docLinkHtml;\n",
              "          element.appendChild(docLink);\n",
              "        }\n",
              "      </script>\n",
              "    </div>\n",
              "  </div>\n",
              "  "
            ]
          },
          "metadata": {},
          "execution_count": 79
        }
      ]
    },
    {
      "cell_type": "markdown",
      "source": [
        "## Weighted Degree Centrality"
      ],
      "metadata": {
        "id": "dPZO9ivEyv1-"
      }
    },
    {
      "cell_type": "code",
      "source": [
        "surname_centrality = gds.degree.stats(G=g_surname_group,\n",
        "                                      relationshipWeightProperty='weight')\n",
        "pd.DataFrame(surname_centrality)"
      ],
      "metadata": {
        "colab": {
          "base_uri": "https://localhost:8080/",
          "height": 267
        },
        "id": "Ghl2hYUxyvyr",
        "outputId": "242412b1-3074-4ae6-cdaa-736025d1e24d"
      },
      "execution_count": null,
      "outputs": [
        {
          "output_type": "execute_result",
          "data": {
            "text/plain": [
              "                                                                                                                                                                                                                                                       0\n",
              "centralityDistribution  {'p99': 26.00011444091797, 'min': 1.0, 'max': 32.00023651123047, 'mean': 6.4661205097780385, 'p90': 12.000053405761719, 'p50': 5.000022888183594, 'p999': 32.00023651123047, 'p95': 16.00011444091797, 'p75': 8.000053405761719}\n",
              "postProcessingMillis                                                                                                                                                                                                                                  88\n",
              "preProcessingMillis                                                                                                                                                                                                                                    1\n",
              "computeMillis                                                                                                                                                                                                                                          3\n",
              "configuration                                      {'jobId': 'dd9d1554-7b0b-4fca-934c-731e028d791b', 'orientation': 'NATURAL', 'relationshipWeightProperty': 'weight', 'nodeLabels': ['*'], 'sudo': False, 'relationshipTypes': ['*'], 'concurrency': 4}"
            ],
            "text/html": [
              "\n",
              "  <div id=\"df-db8d9b83-228c-416f-8748-99bda9b8386a\">\n",
              "    <div class=\"colab-df-container\">\n",
              "      <div>\n",
              "<style scoped>\n",
              "    .dataframe tbody tr th:only-of-type {\n",
              "        vertical-align: middle;\n",
              "    }\n",
              "\n",
              "    .dataframe tbody tr th {\n",
              "        vertical-align: top;\n",
              "    }\n",
              "\n",
              "    .dataframe thead th {\n",
              "        text-align: right;\n",
              "    }\n",
              "</style>\n",
              "<table border=\"1\" class=\"dataframe\">\n",
              "  <thead>\n",
              "    <tr style=\"text-align: right;\">\n",
              "      <th></th>\n",
              "      <th>0</th>\n",
              "    </tr>\n",
              "  </thead>\n",
              "  <tbody>\n",
              "    <tr>\n",
              "      <th>centralityDistribution</th>\n",
              "      <td>{'p99': 26.00011444091797, 'min': 1.0, 'max': 32.00023651123047, 'mean': 6.4661205097780385, 'p90': 12.000053405761719, 'p50': 5.000022888183594, 'p999': 32.00023651123047, 'p95': 16.00011444091797, 'p75': 8.000053405761719}</td>\n",
              "    </tr>\n",
              "    <tr>\n",
              "      <th>postProcessingMillis</th>\n",
              "      <td>88</td>\n",
              "    </tr>\n",
              "    <tr>\n",
              "      <th>preProcessingMillis</th>\n",
              "      <td>1</td>\n",
              "    </tr>\n",
              "    <tr>\n",
              "      <th>computeMillis</th>\n",
              "      <td>3</td>\n",
              "    </tr>\n",
              "    <tr>\n",
              "      <th>configuration</th>\n",
              "      <td>{'jobId': 'dd9d1554-7b0b-4fca-934c-731e028d791b', 'orientation': 'NATURAL', 'relationshipWeightProperty': 'weight', 'nodeLabels': ['*'], 'sudo': False, 'relationshipTypes': ['*'], 'concurrency': 4}</td>\n",
              "    </tr>\n",
              "  </tbody>\n",
              "</table>\n",
              "</div>\n",
              "      <button class=\"colab-df-convert\" onclick=\"convertToInteractive('df-db8d9b83-228c-416f-8748-99bda9b8386a')\"\n",
              "              title=\"Convert this dataframe to an interactive table.\"\n",
              "              style=\"display:none;\">\n",
              "        \n",
              "  <svg xmlns=\"http://www.w3.org/2000/svg\" height=\"24px\"viewBox=\"0 0 24 24\"\n",
              "       width=\"24px\">\n",
              "    <path d=\"M0 0h24v24H0V0z\" fill=\"none\"/>\n",
              "    <path d=\"M18.56 5.44l.94 2.06.94-2.06 2.06-.94-2.06-.94-.94-2.06-.94 2.06-2.06.94zm-11 1L8.5 8.5l.94-2.06 2.06-.94-2.06-.94L8.5 2.5l-.94 2.06-2.06.94zm10 10l.94 2.06.94-2.06 2.06-.94-2.06-.94-.94-2.06-.94 2.06-2.06.94z\"/><path d=\"M17.41 7.96l-1.37-1.37c-.4-.4-.92-.59-1.43-.59-.52 0-1.04.2-1.43.59L10.3 9.45l-7.72 7.72c-.78.78-.78 2.05 0 2.83L4 21.41c.39.39.9.59 1.41.59.51 0 1.02-.2 1.41-.59l7.78-7.78 2.81-2.81c.8-.78.8-2.07 0-2.86zM5.41 20L4 18.59l7.72-7.72 1.47 1.35L5.41 20z\"/>\n",
              "  </svg>\n",
              "      </button>\n",
              "      \n",
              "  <style>\n",
              "    .colab-df-container {\n",
              "      display:flex;\n",
              "      flex-wrap:wrap;\n",
              "      gap: 12px;\n",
              "    }\n",
              "\n",
              "    .colab-df-convert {\n",
              "      background-color: #E8F0FE;\n",
              "      border: none;\n",
              "      border-radius: 50%;\n",
              "      cursor: pointer;\n",
              "      display: none;\n",
              "      fill: #1967D2;\n",
              "      height: 32px;\n",
              "      padding: 0 0 0 0;\n",
              "      width: 32px;\n",
              "    }\n",
              "\n",
              "    .colab-df-convert:hover {\n",
              "      background-color: #E2EBFA;\n",
              "      box-shadow: 0px 1px 2px rgba(60, 64, 67, 0.3), 0px 1px 3px 1px rgba(60, 64, 67, 0.15);\n",
              "      fill: #174EA6;\n",
              "    }\n",
              "\n",
              "    [theme=dark] .colab-df-convert {\n",
              "      background-color: #3B4455;\n",
              "      fill: #D2E3FC;\n",
              "    }\n",
              "\n",
              "    [theme=dark] .colab-df-convert:hover {\n",
              "      background-color: #434B5C;\n",
              "      box-shadow: 0px 1px 3px 1px rgba(0, 0, 0, 0.15);\n",
              "      filter: drop-shadow(0px 1px 2px rgba(0, 0, 0, 0.3));\n",
              "      fill: #FFFFFF;\n",
              "    }\n",
              "  </style>\n",
              "\n",
              "      <script>\n",
              "        const buttonEl =\n",
              "          document.querySelector('#df-db8d9b83-228c-416f-8748-99bda9b8386a button.colab-df-convert');\n",
              "        buttonEl.style.display =\n",
              "          google.colab.kernel.accessAllowed ? 'block' : 'none';\n",
              "\n",
              "        async function convertToInteractive(key) {\n",
              "          const element = document.querySelector('#df-db8d9b83-228c-416f-8748-99bda9b8386a');\n",
              "          const dataTable =\n",
              "            await google.colab.kernel.invokeFunction('convertToInteractive',\n",
              "                                                     [key], {});\n",
              "          if (!dataTable) return;\n",
              "\n",
              "          const docLinkHtml = 'Like what you see? Visit the ' +\n",
              "            '<a target=\"_blank\" href=https://colab.research.google.com/notebooks/data_table.ipynb>data table notebook</a>'\n",
              "            + ' to learn more about interactive tables.';\n",
              "          element.innerHTML = '';\n",
              "          dataTable['output_type'] = 'display_data';\n",
              "          await google.colab.output.renderOutput(dataTable, element);\n",
              "          const docLink = document.createElement('div');\n",
              "          docLink.innerHTML = docLinkHtml;\n",
              "          element.appendChild(docLink);\n",
              "        }\n",
              "      </script>\n",
              "    </div>\n",
              "  </div>\n",
              "  "
            ]
          },
          "metadata": {},
          "execution_count": 80
        }
      ]
    },
    {
      "cell_type": "code",
      "source": [
        "pd.DataFrame(surname_centrality)[0]['centralityDistribution']"
      ],
      "metadata": {
        "colab": {
          "base_uri": "https://localhost:8080/"
        },
        "id": "UwlO-w_dyvvf",
        "outputId": "0adedb09-bada-4853-fd2c-31904b2bbfc6"
      },
      "execution_count": null,
      "outputs": [
        {
          "output_type": "execute_result",
          "data": {
            "text/plain": [
              "{'p99': 26.00011444091797,\n",
              " 'min': 1.0,\n",
              " 'max': 32.00023651123047,\n",
              " 'mean': 6.4661205097780385,\n",
              " 'p90': 12.000053405761719,\n",
              " 'p50': 5.000022888183594,\n",
              " 'p999': 32.00023651123047,\n",
              " 'p95': 16.00011444091797,\n",
              " 'p75': 8.000053405761719}"
            ]
          },
          "metadata": {},
          "execution_count": 81
        }
      ]
    },
    {
      "cell_type": "code",
      "source": [
        "_ = gds.degree.write(G=g_surname_group, \n",
        "                     relationshipWeightProperty='weight',\n",
        "                     writeProperty='surnameWeightedDegreeCent')"
      ],
      "metadata": {
        "id": "c4WrijgaiZYU"
      },
      "execution_count": null,
      "outputs": []
    },
    {
      "cell_type": "code",
      "source": [
        "gds.run_cypher('''\n",
        "  MATCH (s:Surname)\n",
        "      WHERE s.surnameWeightedDegreeCent IS NOT NULL\n",
        "  RETURN \n",
        "      s.id AS surname,\n",
        "      s.surnameWeightedDegreeCent AS degreeCent\n",
        "  ORDER BY degreeCent DESC\n",
        "  LIMIT 10\n",
        "''')"
      ],
      "metadata": {
        "colab": {
          "base_uri": "https://localhost:8080/",
          "height": 363
        },
        "id": "HlrJbUdsyvrJ",
        "outputId": "0a869788-14b2-4b4d-bb61-ea932a0805cf"
      },
      "execution_count": null,
      "outputs": [
        {
          "output_type": "execute_result",
          "data": {
            "text/plain": [
              "       surname  degreeCent\n",
              "0    Joycerton        32.0\n",
              "1        Josey        30.0\n",
              "2     Litthews        30.0\n",
              "3       Garnes        28.0\n",
              "4  Pollarkeeks        27.0\n",
              "5      Moodman        26.0\n",
              "6    Briggston        26.0\n",
              "7  Warrishales        24.0\n",
              "8          Fla        22.0\n",
              "9    Strongers        21.0"
            ],
            "text/html": [
              "\n",
              "  <div id=\"df-a9c8219f-16bf-4a75-a848-2dfef1c567c0\">\n",
              "    <div class=\"colab-df-container\">\n",
              "      <div>\n",
              "<style scoped>\n",
              "    .dataframe tbody tr th:only-of-type {\n",
              "        vertical-align: middle;\n",
              "    }\n",
              "\n",
              "    .dataframe tbody tr th {\n",
              "        vertical-align: top;\n",
              "    }\n",
              "\n",
              "    .dataframe thead th {\n",
              "        text-align: right;\n",
              "    }\n",
              "</style>\n",
              "<table border=\"1\" class=\"dataframe\">\n",
              "  <thead>\n",
              "    <tr style=\"text-align: right;\">\n",
              "      <th></th>\n",
              "      <th>surname</th>\n",
              "      <th>degreeCent</th>\n",
              "    </tr>\n",
              "  </thead>\n",
              "  <tbody>\n",
              "    <tr>\n",
              "      <th>0</th>\n",
              "      <td>Joycerton</td>\n",
              "      <td>32.0</td>\n",
              "    </tr>\n",
              "    <tr>\n",
              "      <th>1</th>\n",
              "      <td>Josey</td>\n",
              "      <td>30.0</td>\n",
              "    </tr>\n",
              "    <tr>\n",
              "      <th>2</th>\n",
              "      <td>Litthews</td>\n",
              "      <td>30.0</td>\n",
              "    </tr>\n",
              "    <tr>\n",
              "      <th>3</th>\n",
              "      <td>Garnes</td>\n",
              "      <td>28.0</td>\n",
              "    </tr>\n",
              "    <tr>\n",
              "      <th>4</th>\n",
              "      <td>Pollarkeeks</td>\n",
              "      <td>27.0</td>\n",
              "    </tr>\n",
              "    <tr>\n",
              "      <th>5</th>\n",
              "      <td>Moodman</td>\n",
              "      <td>26.0</td>\n",
              "    </tr>\n",
              "    <tr>\n",
              "      <th>6</th>\n",
              "      <td>Briggston</td>\n",
              "      <td>26.0</td>\n",
              "    </tr>\n",
              "    <tr>\n",
              "      <th>7</th>\n",
              "      <td>Warrishales</td>\n",
              "      <td>24.0</td>\n",
              "    </tr>\n",
              "    <tr>\n",
              "      <th>8</th>\n",
              "      <td>Fla</td>\n",
              "      <td>22.0</td>\n",
              "    </tr>\n",
              "    <tr>\n",
              "      <th>9</th>\n",
              "      <td>Strongers</td>\n",
              "      <td>21.0</td>\n",
              "    </tr>\n",
              "  </tbody>\n",
              "</table>\n",
              "</div>\n",
              "      <button class=\"colab-df-convert\" onclick=\"convertToInteractive('df-a9c8219f-16bf-4a75-a848-2dfef1c567c0')\"\n",
              "              title=\"Convert this dataframe to an interactive table.\"\n",
              "              style=\"display:none;\">\n",
              "        \n",
              "  <svg xmlns=\"http://www.w3.org/2000/svg\" height=\"24px\"viewBox=\"0 0 24 24\"\n",
              "       width=\"24px\">\n",
              "    <path d=\"M0 0h24v24H0V0z\" fill=\"none\"/>\n",
              "    <path d=\"M18.56 5.44l.94 2.06.94-2.06 2.06-.94-2.06-.94-.94-2.06-.94 2.06-2.06.94zm-11 1L8.5 8.5l.94-2.06 2.06-.94-2.06-.94L8.5 2.5l-.94 2.06-2.06.94zm10 10l.94 2.06.94-2.06 2.06-.94-2.06-.94-.94-2.06-.94 2.06-2.06.94z\"/><path d=\"M17.41 7.96l-1.37-1.37c-.4-.4-.92-.59-1.43-.59-.52 0-1.04.2-1.43.59L10.3 9.45l-7.72 7.72c-.78.78-.78 2.05 0 2.83L4 21.41c.39.39.9.59 1.41.59.51 0 1.02-.2 1.41-.59l7.78-7.78 2.81-2.81c.8-.78.8-2.07 0-2.86zM5.41 20L4 18.59l7.72-7.72 1.47 1.35L5.41 20z\"/>\n",
              "  </svg>\n",
              "      </button>\n",
              "      \n",
              "  <style>\n",
              "    .colab-df-container {\n",
              "      display:flex;\n",
              "      flex-wrap:wrap;\n",
              "      gap: 12px;\n",
              "    }\n",
              "\n",
              "    .colab-df-convert {\n",
              "      background-color: #E8F0FE;\n",
              "      border: none;\n",
              "      border-radius: 50%;\n",
              "      cursor: pointer;\n",
              "      display: none;\n",
              "      fill: #1967D2;\n",
              "      height: 32px;\n",
              "      padding: 0 0 0 0;\n",
              "      width: 32px;\n",
              "    }\n",
              "\n",
              "    .colab-df-convert:hover {\n",
              "      background-color: #E2EBFA;\n",
              "      box-shadow: 0px 1px 2px rgba(60, 64, 67, 0.3), 0px 1px 3px 1px rgba(60, 64, 67, 0.15);\n",
              "      fill: #174EA6;\n",
              "    }\n",
              "\n",
              "    [theme=dark] .colab-df-convert {\n",
              "      background-color: #3B4455;\n",
              "      fill: #D2E3FC;\n",
              "    }\n",
              "\n",
              "    [theme=dark] .colab-df-convert:hover {\n",
              "      background-color: #434B5C;\n",
              "      box-shadow: 0px 1px 3px 1px rgba(0, 0, 0, 0.15);\n",
              "      filter: drop-shadow(0px 1px 2px rgba(0, 0, 0, 0.3));\n",
              "      fill: #FFFFFF;\n",
              "    }\n",
              "  </style>\n",
              "\n",
              "      <script>\n",
              "        const buttonEl =\n",
              "          document.querySelector('#df-a9c8219f-16bf-4a75-a848-2dfef1c567c0 button.colab-df-convert');\n",
              "        buttonEl.style.display =\n",
              "          google.colab.kernel.accessAllowed ? 'block' : 'none';\n",
              "\n",
              "        async function convertToInteractive(key) {\n",
              "          const element = document.querySelector('#df-a9c8219f-16bf-4a75-a848-2dfef1c567c0');\n",
              "          const dataTable =\n",
              "            await google.colab.kernel.invokeFunction('convertToInteractive',\n",
              "                                                     [key], {});\n",
              "          if (!dataTable) return;\n",
              "\n",
              "          const docLinkHtml = 'Like what you see? Visit the ' +\n",
              "            '<a target=\"_blank\" href=https://colab.research.google.com/notebooks/data_table.ipynb>data table notebook</a>'\n",
              "            + ' to learn more about interactive tables.';\n",
              "          element.innerHTML = '';\n",
              "          dataTable['output_type'] = 'display_data';\n",
              "          await google.colab.output.renderOutput(dataTable, element);\n",
              "          const docLink = document.createElement('div');\n",
              "          docLink.innerHTML = docLinkHtml;\n",
              "          element.appendChild(docLink);\n",
              "        }\n",
              "      </script>\n",
              "    </div>\n",
              "  </div>\n",
              "  "
            ]
          },
          "metadata": {},
          "execution_count": 95
        }
      ]
    },
    {
      "cell_type": "code",
      "source": [
        "'''\n",
        "MATCH x=(c:Cabin)<-[:ASSIGNED]-(p:Passenger)-[HAS_SURNAME]->(s:Surname)-[IN_GROUP]->(g:Group)\n",
        "WHERE s.id IN ['Joycerton', 'Josey', 'Litthews']\n",
        "RETURN x\n",
        "'''"
      ],
      "metadata": {
        "id": "GeyZs0APiBcn"
      },
      "execution_count": null,
      "outputs": []
    },
    {
      "cell_type": "markdown",
      "source": [
        "## Weakly Connected Components"
      ],
      "metadata": {
        "id": "iq6p5tYZHoVD"
      }
    },
    {
      "cell_type": "code",
      "source": [
        "# generate statistics for WCC\n",
        "surname_wcc = gds.wcc.stats(g_surname_group)"
      ],
      "metadata": {
        "id": "_GqbAXNbHqRS"
      },
      "execution_count": null,
      "outputs": []
    },
    {
      "cell_type": "code",
      "source": [
        "surname_wcc = pd.DataFrame(surname_wcc)[0][['componentCount', 'componentDistribution']]"
      ],
      "metadata": {
        "id": "xlNpqJA0Hxnb"
      },
      "execution_count": null,
      "outputs": []
    },
    {
      "cell_type": "code",
      "source": [
        "surname_wcc['componentCount']"
      ],
      "metadata": {
        "colab": {
          "base_uri": "https://localhost:8080/"
        },
        "id": "QRUNux7Ks92Z",
        "outputId": "2ec19c42-922c-4295-b307-91e638ea5e6d"
      },
      "execution_count": null,
      "outputs": [
        {
          "output_type": "execute_result",
          "data": {
            "text/plain": [
              "199"
            ]
          },
          "metadata": {},
          "execution_count": 86
        }
      ]
    },
    {
      "cell_type": "code",
      "source": [
        "surname_wcc['componentDistribution']"
      ],
      "metadata": {
        "colab": {
          "base_uri": "https://localhost:8080/"
        },
        "id": "H0WRq6BFs9tr",
        "outputId": "f2ce2b40-bb3b-49e3-a6cf-5a16f0d39222"
      },
      "execution_count": null,
      "outputs": [
        {
          "output_type": "execute_result",
          "data": {
            "text/plain": [
              "{'p99': 5,\n",
              " 'min': 2,\n",
              " 'max': 5,\n",
              " 'mean': 2.371859296482412,\n",
              " 'p90': 4,\n",
              " 'p50': 2,\n",
              " 'p999': 5,\n",
              " 'p95': 4,\n",
              " 'p75': 2}"
            ]
          },
          "metadata": {},
          "execution_count": 87
        }
      ]
    },
    {
      "cell_type": "code",
      "source": [
        "# write WCCs to graph \n",
        "_ = gds.wcc.write(G=g_surname_group, writeProperty='surnameWcc')"
      ],
      "metadata": {
        "id": "t4AVtwQjIPdV"
      },
      "execution_count": null,
      "outputs": []
    },
    {
      "cell_type": "code",
      "source": [
        "# view top components\n",
        "surname_WCCs = gds.run_cypher('''\n",
        "  MATCH (s:Surname)\n",
        "    WHERE s.surnameWcc IS NOT NULL\n",
        "  RETURN s.surnameWcc AS wcc, \n",
        "        COUNT(s.surnameWcc) AS wccSize\n",
        "  ORDER BY wccSize DESC\n",
        "''')\n",
        "\n",
        "surname_WCCs.shape"
      ],
      "metadata": {
        "colab": {
          "base_uri": "https://localhost:8080/"
        },
        "id": "qcj6PgRKIdLh",
        "outputId": "b2212ebf-475f-4c6e-b566-7f9666c9c882"
      },
      "execution_count": null,
      "outputs": [
        {
          "output_type": "execute_result",
          "data": {
            "text/plain": [
              "(199, 2)"
            ]
          },
          "metadata": {},
          "execution_count": 89
        }
      ]
    },
    {
      "cell_type": "code",
      "source": [
        "surname_WCCs.head(10)"
      ],
      "metadata": {
        "colab": {
          "base_uri": "https://localhost:8080/",
          "height": 363
        },
        "id": "9cSypDW4PJjx",
        "outputId": "f85d1bfe-14a6-4d67-b392-9e2204330618"
      },
      "execution_count": null,
      "outputs": [
        {
          "output_type": "execute_result",
          "data": {
            "text/plain": [
              "   wcc  wccSize\n",
              "0    9        5\n",
              "1   31        5\n",
              "2   39        5\n",
              "3  159        5\n",
              "4  160        5\n",
              "5  193        5\n",
              "6   10        4\n",
              "7   15        4\n",
              "8   35        4\n",
              "9   50        4"
            ],
            "text/html": [
              "\n",
              "  <div id=\"df-c05d4178-ba24-4128-9e51-86d1bf1404b9\">\n",
              "    <div class=\"colab-df-container\">\n",
              "      <div>\n",
              "<style scoped>\n",
              "    .dataframe tbody tr th:only-of-type {\n",
              "        vertical-align: middle;\n",
              "    }\n",
              "\n",
              "    .dataframe tbody tr th {\n",
              "        vertical-align: top;\n",
              "    }\n",
              "\n",
              "    .dataframe thead th {\n",
              "        text-align: right;\n",
              "    }\n",
              "</style>\n",
              "<table border=\"1\" class=\"dataframe\">\n",
              "  <thead>\n",
              "    <tr style=\"text-align: right;\">\n",
              "      <th></th>\n",
              "      <th>wcc</th>\n",
              "      <th>wccSize</th>\n",
              "    </tr>\n",
              "  </thead>\n",
              "  <tbody>\n",
              "    <tr>\n",
              "      <th>0</th>\n",
              "      <td>9</td>\n",
              "      <td>5</td>\n",
              "    </tr>\n",
              "    <tr>\n",
              "      <th>1</th>\n",
              "      <td>31</td>\n",
              "      <td>5</td>\n",
              "    </tr>\n",
              "    <tr>\n",
              "      <th>2</th>\n",
              "      <td>39</td>\n",
              "      <td>5</td>\n",
              "    </tr>\n",
              "    <tr>\n",
              "      <th>3</th>\n",
              "      <td>159</td>\n",
              "      <td>5</td>\n",
              "    </tr>\n",
              "    <tr>\n",
              "      <th>4</th>\n",
              "      <td>160</td>\n",
              "      <td>5</td>\n",
              "    </tr>\n",
              "    <tr>\n",
              "      <th>5</th>\n",
              "      <td>193</td>\n",
              "      <td>5</td>\n",
              "    </tr>\n",
              "    <tr>\n",
              "      <th>6</th>\n",
              "      <td>10</td>\n",
              "      <td>4</td>\n",
              "    </tr>\n",
              "    <tr>\n",
              "      <th>7</th>\n",
              "      <td>15</td>\n",
              "      <td>4</td>\n",
              "    </tr>\n",
              "    <tr>\n",
              "      <th>8</th>\n",
              "      <td>35</td>\n",
              "      <td>4</td>\n",
              "    </tr>\n",
              "    <tr>\n",
              "      <th>9</th>\n",
              "      <td>50</td>\n",
              "      <td>4</td>\n",
              "    </tr>\n",
              "  </tbody>\n",
              "</table>\n",
              "</div>\n",
              "      <button class=\"colab-df-convert\" onclick=\"convertToInteractive('df-c05d4178-ba24-4128-9e51-86d1bf1404b9')\"\n",
              "              title=\"Convert this dataframe to an interactive table.\"\n",
              "              style=\"display:none;\">\n",
              "        \n",
              "  <svg xmlns=\"http://www.w3.org/2000/svg\" height=\"24px\"viewBox=\"0 0 24 24\"\n",
              "       width=\"24px\">\n",
              "    <path d=\"M0 0h24v24H0V0z\" fill=\"none\"/>\n",
              "    <path d=\"M18.56 5.44l.94 2.06.94-2.06 2.06-.94-2.06-.94-.94-2.06-.94 2.06-2.06.94zm-11 1L8.5 8.5l.94-2.06 2.06-.94-2.06-.94L8.5 2.5l-.94 2.06-2.06.94zm10 10l.94 2.06.94-2.06 2.06-.94-2.06-.94-.94-2.06-.94 2.06-2.06.94z\"/><path d=\"M17.41 7.96l-1.37-1.37c-.4-.4-.92-.59-1.43-.59-.52 0-1.04.2-1.43.59L10.3 9.45l-7.72 7.72c-.78.78-.78 2.05 0 2.83L4 21.41c.39.39.9.59 1.41.59.51 0 1.02-.2 1.41-.59l7.78-7.78 2.81-2.81c.8-.78.8-2.07 0-2.86zM5.41 20L4 18.59l7.72-7.72 1.47 1.35L5.41 20z\"/>\n",
              "  </svg>\n",
              "      </button>\n",
              "      \n",
              "  <style>\n",
              "    .colab-df-container {\n",
              "      display:flex;\n",
              "      flex-wrap:wrap;\n",
              "      gap: 12px;\n",
              "    }\n",
              "\n",
              "    .colab-df-convert {\n",
              "      background-color: #E8F0FE;\n",
              "      border: none;\n",
              "      border-radius: 50%;\n",
              "      cursor: pointer;\n",
              "      display: none;\n",
              "      fill: #1967D2;\n",
              "      height: 32px;\n",
              "      padding: 0 0 0 0;\n",
              "      width: 32px;\n",
              "    }\n",
              "\n",
              "    .colab-df-convert:hover {\n",
              "      background-color: #E2EBFA;\n",
              "      box-shadow: 0px 1px 2px rgba(60, 64, 67, 0.3), 0px 1px 3px 1px rgba(60, 64, 67, 0.15);\n",
              "      fill: #174EA6;\n",
              "    }\n",
              "\n",
              "    [theme=dark] .colab-df-convert {\n",
              "      background-color: #3B4455;\n",
              "      fill: #D2E3FC;\n",
              "    }\n",
              "\n",
              "    [theme=dark] .colab-df-convert:hover {\n",
              "      background-color: #434B5C;\n",
              "      box-shadow: 0px 1px 3px 1px rgba(0, 0, 0, 0.15);\n",
              "      filter: drop-shadow(0px 1px 2px rgba(0, 0, 0, 0.3));\n",
              "      fill: #FFFFFF;\n",
              "    }\n",
              "  </style>\n",
              "\n",
              "      <script>\n",
              "        const buttonEl =\n",
              "          document.querySelector('#df-c05d4178-ba24-4128-9e51-86d1bf1404b9 button.colab-df-convert');\n",
              "        buttonEl.style.display =\n",
              "          google.colab.kernel.accessAllowed ? 'block' : 'none';\n",
              "\n",
              "        async function convertToInteractive(key) {\n",
              "          const element = document.querySelector('#df-c05d4178-ba24-4128-9e51-86d1bf1404b9');\n",
              "          const dataTable =\n",
              "            await google.colab.kernel.invokeFunction('convertToInteractive',\n",
              "                                                     [key], {});\n",
              "          if (!dataTable) return;\n",
              "\n",
              "          const docLinkHtml = 'Like what you see? Visit the ' +\n",
              "            '<a target=\"_blank\" href=https://colab.research.google.com/notebooks/data_table.ipynb>data table notebook</a>'\n",
              "            + ' to learn more about interactive tables.';\n",
              "          element.innerHTML = '';\n",
              "          dataTable['output_type'] = 'display_data';\n",
              "          await google.colab.output.renderOutput(dataTable, element);\n",
              "          const docLink = document.createElement('div');\n",
              "          docLink.innerHTML = docLinkHtml;\n",
              "          element.appendChild(docLink);\n",
              "        }\n",
              "      </script>\n",
              "    </div>\n",
              "  </div>\n",
              "  "
            ]
          },
          "metadata": {},
          "execution_count": 90
        }
      ]
    },
    {
      "cell_type": "markdown",
      "source": [
        "### View WCCs in Browser"
      ],
      "metadata": {
        "id": "b2cbNJtdQDxW"
      }
    },
    {
      "cell_type": "code",
      "source": [
        "# returns ~six connected components (vs. 20+ without the wcc element)\n",
        "'''\n",
        "MATCH (c:Cabin)<-[:ASSIGNED]-(p:Passenger)-[:HAS_SURNAME]->(s:Surname)-[:IN_GROUP]->(g:Group)\n",
        "WHERE s.surnameWcc IN [9, 31, 39, 159, 160, 193]\n",
        "RETURN *\n",
        "LIMIT 250\n",
        "'''"
      ],
      "metadata": {
        "id": "c8RdTDKAQDt4"
      },
      "execution_count": null,
      "outputs": []
    },
    {
      "cell_type": "markdown",
      "source": [
        "## Weighted PageRank"
      ],
      "metadata": {
        "id": "Ks_GTQTefXIe"
      }
    },
    {
      "cell_type": "code",
      "source": [
        "surname_weightedPageRank = gds.pageRank.write(G=g_surname_group, \n",
        "                                              relationshipWeightProperty='weight',\n",
        "                                              writeProperty='surnameWeightedPageRank')"
      ],
      "metadata": {
        "id": "wQjWB1M5fZMv"
      },
      "execution_count": null,
      "outputs": []
    },
    {
      "cell_type": "code",
      "source": [
        "pd.DataFrame(surname_weightedPageRank)[0]['centralityDistribution']"
      ],
      "metadata": {
        "colab": {
          "base_uri": "https://localhost:8080/"
        },
        "id": "YZgyNurTQDqH",
        "outputId": "5fba7b62-53f8-4e1b-fd6a-6e624fe4f9ba"
      },
      "execution_count": null,
      "outputs": [
        {
          "output_type": "execute_result",
          "data": {
            "text/plain": [
              "{'p99': 1.4088115692138672,\n",
              " 'min': 0.43796539306640625,\n",
              " 'max': 1.8445415496826172,\n",
              " 'mean': 0.961240594669924,\n",
              " 'p90': 1.0011119842529297,\n",
              " 'p50': 0.9612407684326172,\n",
              " 'p999': 1.8445415496826172,\n",
              " 'p95': 1.3939876556396484,\n",
              " 'p75': 0.9612407684326172}"
            ]
          },
          "metadata": {},
          "execution_count": 92
        }
      ]
    },
    {
      "cell_type": "code",
      "source": [
        "gds.run_cypher('''\n",
        "  MATCH (s:Surname)\n",
        "    WHERE s.surnameWeightedPageRank IS NOT NULL\n",
        "  WITH\n",
        "    s.id AS surname,\n",
        "    s.surnameWeightedPageRank AS pageRank\n",
        "  RETURN surname, pageRank\n",
        "  ORDER BY pageRank DESC\n",
        "  LIMIT 10\n",
        "''')"
      ],
      "metadata": {
        "colab": {
          "base_uri": "https://localhost:8080/",
          "height": 363
        },
        "id": "WW9Ui2wAk164",
        "outputId": "0986af8e-5a02-4c8b-b2ad-cf78e19e567c"
      },
      "execution_count": null,
      "outputs": [
        {
          "output_type": "execute_result",
          "data": {
            "text/plain": [
              "       surname  pageRank\n",
              "0  Pollarkeeks  1.844543\n",
              "1  Warrishales  1.844543\n",
              "2        Stpie  1.716293\n",
              "3        Josey  1.408808\n",
              "4   Clumshangs  1.408808\n",
              "5       Ingent  1.408808\n",
              "6   Brakepined  1.408808\n",
              "7       Garden  1.408808\n",
              "8    Strongers  1.408808\n",
              "9        Flité  1.408808"
            ],
            "text/html": [
              "\n",
              "  <div id=\"df-76354aa4-97a9-49ff-b404-2b45e22b0d4d\">\n",
              "    <div class=\"colab-df-container\">\n",
              "      <div>\n",
              "<style scoped>\n",
              "    .dataframe tbody tr th:only-of-type {\n",
              "        vertical-align: middle;\n",
              "    }\n",
              "\n",
              "    .dataframe tbody tr th {\n",
              "        vertical-align: top;\n",
              "    }\n",
              "\n",
              "    .dataframe thead th {\n",
              "        text-align: right;\n",
              "    }\n",
              "</style>\n",
              "<table border=\"1\" class=\"dataframe\">\n",
              "  <thead>\n",
              "    <tr style=\"text-align: right;\">\n",
              "      <th></th>\n",
              "      <th>surname</th>\n",
              "      <th>pageRank</th>\n",
              "    </tr>\n",
              "  </thead>\n",
              "  <tbody>\n",
              "    <tr>\n",
              "      <th>0</th>\n",
              "      <td>Pollarkeeks</td>\n",
              "      <td>1.844543</td>\n",
              "    </tr>\n",
              "    <tr>\n",
              "      <th>1</th>\n",
              "      <td>Warrishales</td>\n",
              "      <td>1.844543</td>\n",
              "    </tr>\n",
              "    <tr>\n",
              "      <th>2</th>\n",
              "      <td>Stpie</td>\n",
              "      <td>1.716293</td>\n",
              "    </tr>\n",
              "    <tr>\n",
              "      <th>3</th>\n",
              "      <td>Josey</td>\n",
              "      <td>1.408808</td>\n",
              "    </tr>\n",
              "    <tr>\n",
              "      <th>4</th>\n",
              "      <td>Clumshangs</td>\n",
              "      <td>1.408808</td>\n",
              "    </tr>\n",
              "    <tr>\n",
              "      <th>5</th>\n",
              "      <td>Ingent</td>\n",
              "      <td>1.408808</td>\n",
              "    </tr>\n",
              "    <tr>\n",
              "      <th>6</th>\n",
              "      <td>Brakepined</td>\n",
              "      <td>1.408808</td>\n",
              "    </tr>\n",
              "    <tr>\n",
              "      <th>7</th>\n",
              "      <td>Garden</td>\n",
              "      <td>1.408808</td>\n",
              "    </tr>\n",
              "    <tr>\n",
              "      <th>8</th>\n",
              "      <td>Strongers</td>\n",
              "      <td>1.408808</td>\n",
              "    </tr>\n",
              "    <tr>\n",
              "      <th>9</th>\n",
              "      <td>Flité</td>\n",
              "      <td>1.408808</td>\n",
              "    </tr>\n",
              "  </tbody>\n",
              "</table>\n",
              "</div>\n",
              "      <button class=\"colab-df-convert\" onclick=\"convertToInteractive('df-76354aa4-97a9-49ff-b404-2b45e22b0d4d')\"\n",
              "              title=\"Convert this dataframe to an interactive table.\"\n",
              "              style=\"display:none;\">\n",
              "        \n",
              "  <svg xmlns=\"http://www.w3.org/2000/svg\" height=\"24px\"viewBox=\"0 0 24 24\"\n",
              "       width=\"24px\">\n",
              "    <path d=\"M0 0h24v24H0V0z\" fill=\"none\"/>\n",
              "    <path d=\"M18.56 5.44l.94 2.06.94-2.06 2.06-.94-2.06-.94-.94-2.06-.94 2.06-2.06.94zm-11 1L8.5 8.5l.94-2.06 2.06-.94-2.06-.94L8.5 2.5l-.94 2.06-2.06.94zm10 10l.94 2.06.94-2.06 2.06-.94-2.06-.94-.94-2.06-.94 2.06-2.06.94z\"/><path d=\"M17.41 7.96l-1.37-1.37c-.4-.4-.92-.59-1.43-.59-.52 0-1.04.2-1.43.59L10.3 9.45l-7.72 7.72c-.78.78-.78 2.05 0 2.83L4 21.41c.39.39.9.59 1.41.59.51 0 1.02-.2 1.41-.59l7.78-7.78 2.81-2.81c.8-.78.8-2.07 0-2.86zM5.41 20L4 18.59l7.72-7.72 1.47 1.35L5.41 20z\"/>\n",
              "  </svg>\n",
              "      </button>\n",
              "      \n",
              "  <style>\n",
              "    .colab-df-container {\n",
              "      display:flex;\n",
              "      flex-wrap:wrap;\n",
              "      gap: 12px;\n",
              "    }\n",
              "\n",
              "    .colab-df-convert {\n",
              "      background-color: #E8F0FE;\n",
              "      border: none;\n",
              "      border-radius: 50%;\n",
              "      cursor: pointer;\n",
              "      display: none;\n",
              "      fill: #1967D2;\n",
              "      height: 32px;\n",
              "      padding: 0 0 0 0;\n",
              "      width: 32px;\n",
              "    }\n",
              "\n",
              "    .colab-df-convert:hover {\n",
              "      background-color: #E2EBFA;\n",
              "      box-shadow: 0px 1px 2px rgba(60, 64, 67, 0.3), 0px 1px 3px 1px rgba(60, 64, 67, 0.15);\n",
              "      fill: #174EA6;\n",
              "    }\n",
              "\n",
              "    [theme=dark] .colab-df-convert {\n",
              "      background-color: #3B4455;\n",
              "      fill: #D2E3FC;\n",
              "    }\n",
              "\n",
              "    [theme=dark] .colab-df-convert:hover {\n",
              "      background-color: #434B5C;\n",
              "      box-shadow: 0px 1px 3px 1px rgba(0, 0, 0, 0.15);\n",
              "      filter: drop-shadow(0px 1px 2px rgba(0, 0, 0, 0.3));\n",
              "      fill: #FFFFFF;\n",
              "    }\n",
              "  </style>\n",
              "\n",
              "      <script>\n",
              "        const buttonEl =\n",
              "          document.querySelector('#df-76354aa4-97a9-49ff-b404-2b45e22b0d4d button.colab-df-convert');\n",
              "        buttonEl.style.display =\n",
              "          google.colab.kernel.accessAllowed ? 'block' : 'none';\n",
              "\n",
              "        async function convertToInteractive(key) {\n",
              "          const element = document.querySelector('#df-76354aa4-97a9-49ff-b404-2b45e22b0d4d');\n",
              "          const dataTable =\n",
              "            await google.colab.kernel.invokeFunction('convertToInteractive',\n",
              "                                                     [key], {});\n",
              "          if (!dataTable) return;\n",
              "\n",
              "          const docLinkHtml = 'Like what you see? Visit the ' +\n",
              "            '<a target=\"_blank\" href=https://colab.research.google.com/notebooks/data_table.ipynb>data table notebook</a>'\n",
              "            + ' to learn more about interactive tables.';\n",
              "          element.innerHTML = '';\n",
              "          dataTable['output_type'] = 'display_data';\n",
              "          await google.colab.output.renderOutput(dataTable, element);\n",
              "          const docLink = document.createElement('div');\n",
              "          docLink.innerHTML = docLinkHtml;\n",
              "          element.appendChild(docLink);\n",
              "        }\n",
              "      </script>\n",
              "    </div>\n",
              "  </div>\n",
              "  "
            ]
          },
          "metadata": {},
          "execution_count": 94
        }
      ]
    },
    {
      "cell_type": "code",
      "source": [
        "'''\n",
        "MATCH x=(c:Cabin)<-[:ASSIGNED]-(p:Passenger)-[HAS_SURNAME]->(s:Surname)-[IN_GROUP]->(g:Group)\n",
        "WHERE s.id IN ['Pollarkeeks', 'Warrishales', 'Stpie']\n",
        "RETURN x\n",
        "'''"
      ],
      "metadata": {
        "id": "UmAgMzLslLV9"
      },
      "execution_count": null,
      "outputs": []
    }
  ]
}