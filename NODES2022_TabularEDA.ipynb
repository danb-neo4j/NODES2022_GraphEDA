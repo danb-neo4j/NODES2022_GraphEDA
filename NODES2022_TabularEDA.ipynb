{
  "nbformat": 4,
  "nbformat_minor": 0,
  "metadata": {
    "colab": {
      "provenance": [],
      "collapsed_sections": [],
      "toc_visible": true,
      "authorship_tag": "ABX9TyOV274hwwtZYX6oNrjgDtAT",
      "include_colab_link": true
    },
    "kernelspec": {
      "name": "python3",
      "display_name": "Python 3"
    },
    "language_info": {
      "name": "python"
    }
  },
  "cells": [
    {
      "cell_type": "markdown",
      "metadata": {
        "id": "view-in-github",
        "colab_type": "text"
      },
      "source": [
        "<a href=\"https://colab.research.google.com/github/danb-neo4j/NODES2022_GraphEDA/blob/main/NODES2022_TabularEDA.ipynb\" target=\"_parent\"><img src=\"https://colab.research.google.com/assets/colab-badge.svg\" alt=\"Open In Colab\"/></a>"
      ]
    },
    {
      "cell_type": "markdown",
      "source": [
        "# NODES 2022: Graph EDA Workshop Demo Notebook\n",
        "Author: Daniel Bukowski, Neo4j Graph Data Science Customer Success Architect\n",
        "\n",
        "Workshop Date: November 2, 2022\n",
        "\n",
        "Notebook Updated: October 31, 2022"
      ],
      "metadata": {
        "id": "zF8y_-fU5jZ8"
      }
    },
    {
      "cell_type": "markdown",
      "source": [
        "# Exercise Scenario\n",
        "*From the [Kaggle Competition Website](https://www.kaggle.com/competitions/spaceship-titanic)*\n",
        "\n",
        "Welcome to the year 2912, where your data science skills are needed to solve a cosmic mystery. We've received a transmission from four lightyears away and things aren't looking good.\n",
        "\n",
        "The Spaceship Titanic was an interstellar passenger liner launched a month ago. With almost 13,000 passengers on board, the vessel set out on its maiden voyage transporting emigrants from our solar system to three newly habitable exoplanets orbiting nearby stars.\n",
        "\n",
        "While rounding Alpha Centauri en route to its first destination—the torrid 55 Cancri E—the unwary Spaceship Titanic collided with a spacetime anomaly hidden within a dust cloud. Sadly, it met a similar fate as its namesake from 1000 years before. Though the ship stayed intact, almost half of the passengers were transported to an alternate dimension!\n",
        "\n",
        "**To help rescue crews and retrieve the lost passengers, you are challenged to predict which passengers were transported by the anomaly using records recovered from the spaceship’s damaged computer system.**\n",
        "\n",
        "**Help save them and change history!**"
      ],
      "metadata": {
        "id": "Ng6V5TeJUxvj"
      }
    },
    {
      "cell_type": "markdown",
      "source": [
        "# Import Libraries"
      ],
      "metadata": {
        "id": "7s-BGKif_VCB"
      }
    },
    {
      "cell_type": "code",
      "execution_count": 1,
      "metadata": {
        "id": "LrCIT0TvaJ54"
      },
      "outputs": [],
      "source": [
        "import numpy as np\n",
        "import pandas as pd\n",
        "pd.set_option('display.max_columns', None)\n",
        "pd.set_option('display.max_rows', None)\n",
        "pd.set_option('display.max_colwidth', None)\n",
        "\n",
        "import matplotlib.pyplot as plt \n",
        "import seaborn as sns\n",
        "sns.set_style('darkgrid')\n",
        "sns.set_palette(\"colorblind\")\n",
        "sns.set(rc={'figure.figsize':(11,6)})\n",
        "\n",
        "import os \n",
        "import configparser\n",
        "from collections import Counter\n",
        "\n",
        "import missingno as msno\n",
        "\n",
        "from sklearn.ensemble import RandomForestClassifier\n",
        "from sklearn.model_selection import cross_val_score, cross_validate"
      ]
    },
    {
      "cell_type": "markdown",
      "source": [
        "# Custom Functions"
      ],
      "metadata": {
        "id": "SxTSOydWXGCl"
      }
    },
    {
      "cell_type": "code",
      "source": [
        "def horizontal_countplot(df: pd.DataFrame, \n",
        "                         col: str, \n",
        "                         title: str,\n",
        "                         order: list = None) -> None:\n",
        "  '''Generate a horizontal seaborn catplot of values in a categorical feature\n",
        "\n",
        "  Args:\n",
        "    df: dataframe containing the data\n",
        "    col: categorical column to plot\n",
        "    title: title of the plot \n",
        "  '''\n",
        "\n",
        "  (\n",
        "      sns.countplot(data=df, y=col, order=order)\n",
        "      .set(title=title)\n",
        "  )\n",
        "\n",
        "  plt.show()"
      ],
      "metadata": {
        "id": "nvQjsHWBaDXA"
      },
      "execution_count": 2,
      "outputs": []
    },
    {
      "cell_type": "code",
      "source": [
        "def plot_transported_pct(df: pd.DataFrame, \n",
        "                         col: str, \n",
        "                         title: str,\n",
        "                         figsize: tuple = (10,5),\n",
        "                         color: str = 'r') -> None:\n",
        "  '''Generate a horizontal bar chart of transported pct for a category\n",
        "     using the pandas matplotlib wrapper\n",
        "\n",
        "  Args:\n",
        "    df: pandas dataframe containing the data \n",
        "    col: column to analyze transported percentage \n",
        "    title: title for the plot\n",
        "    figsize: size of the plot; defaults to (10, 5)\n",
        "    color: color of the bars; defaults to red\n",
        "\n",
        "  Returns:\n",
        "    None; plots a chart of the pct of passengers transported\n",
        "  '''\n",
        "  (\n",
        "    df[[col, 'Transported']]\n",
        "    .groupby(col)\n",
        "    .agg('mean')\n",
        "    .sort_values('Transported')\n",
        "    .plot(kind='barh',\n",
        "          figsize=figsize,\n",
        "          color = color,\n",
        "          title=title)\n",
        "  )\n",
        "  plt.show()"
      ],
      "metadata": {
        "id": "wau7OtgMrd6o"
      },
      "execution_count": 3,
      "outputs": []
    },
    {
      "cell_type": "code",
      "source": [
        "def fill_categorical(df: pd.DataFrame, \n",
        "                     col: str, \n",
        "                     fill_value: str) -> pd.DataFrame:\n",
        "  '''Impute missing values in a DataFrame feature by passenger group size\n",
        "\n",
        "  Args:\n",
        "    df: dataframe containing the data\n",
        "    col: categorical column to plot\n",
        "    fill_value: arbitrary value to fill for solo or other passengers \n",
        "  '''\n",
        "  \n",
        "  # PASSENGERS TRAVELING ALONE\n",
        "  # generate a mask of missing values; fill solo travelers with fill_value\n",
        "  mask = df[col].isna()\n",
        "  df.loc[mask, col] = np.where(df.loc[mask, 'Group_Size'].eq(1), fill_value, pd.NA)\n",
        "\n",
        "  # PASSENGERS TRAVELING IN GROUP OF 2+\n",
        "  # use forward-fill and back-fill to fill with values in same group\n",
        "  df[col] = df.groupby('Passenger_Group')[col].transform(lambda x: x.ffill())\n",
        "  df[col] = df.groupby('Passenger_Group')[col].transform(lambda x: x.bfill())\n",
        "\n",
        "  # OUTLIER CLEANUP\n",
        "  # final fill using fill_value for edge cases (all passengers in a group missing values)\n",
        "  df[col].fillna(fill_value, inplace=True)\n",
        "\n",
        "  return df"
      ],
      "metadata": {
        "id": "_CWLBHRYvUaE"
      },
      "execution_count": 4,
      "outputs": []
    },
    {
      "cell_type": "code",
      "source": [
        "def create_desc_df(df: pd.DataFrame, col: str) -> pd.DataFrame:\n",
        "  '''Create a three-column dataframe describing quantitative variables\n",
        "     as All, Transported, and, Not Transported\n",
        "  \n",
        "  Args:\n",
        "    df: dataframe containing the data\n",
        "    col: column to describe\n",
        "  '''\n",
        "  df = pd.concat([pd.DataFrame(round(train_df[col].describe(), 0)),\n",
        "                  pd.DataFrame(round(train_df[train_df['Transported'] == True][col].describe(), 0)),\n",
        "                  pd.DataFrame(round(train_df[train_df['Transported'] == False][col].describe(), 0))\n",
        "              ],axis=1)\n",
        "\n",
        "  df.columns = ['All', 'Transported', 'Not Transported']\n",
        "\n",
        "  return df"
      ],
      "metadata": {
        "id": "Zo8tgl3E7l65"
      },
      "execution_count": 5,
      "outputs": []
    },
    {
      "cell_type": "code",
      "source": [
        "def plot_transported_hist(df: pd.DataFrame, \n",
        "                          col: str, \n",
        "                          bins: int = 20, \n",
        "                          log: bool = False) -> None:\n",
        "  '''Plot a histogram overlaying transported and non-transported passengers\n",
        "\n",
        "  Args:\n",
        "    df: dataframe containing the data\n",
        "    col: column to plot\n",
        "    bins: number of histogram bins; default 20\n",
        "    log: plotting in log scale; default False\n",
        "  '''\n",
        "  df[df['Transported']==False][col].plot(kind='hist', \n",
        "                                         log=log, \n",
        "                                         bins=bins, \n",
        "                                         color='blue', \n",
        "                                         alpha=0.5,\n",
        "                                         label='Not Transported')\n",
        "  df[df['Transported']==True][col].plot(kind='hist', \n",
        "                                         log=log, \n",
        "                                         bins=bins, \n",
        "                                         color='red', \n",
        "                                         alpha=0.5,\n",
        "                                         label='Transported')\n",
        "\n",
        "  if log == True:\n",
        "    plt.title(f'{col} by Transported Status -- Log Scale')\n",
        "  else:\n",
        "    plt.title(f'{col} by Transported Status')\n",
        "  plt.legend() \n",
        "  plt.show()\n"
      ],
      "metadata": {
        "id": "yvg4fI2K-Bto"
      },
      "execution_count": 6,
      "outputs": []
    },
    {
      "cell_type": "markdown",
      "source": [
        "# Connect to Colab"
      ],
      "metadata": {
        "id": "CnTWIq_dJzRo"
      }
    },
    {
      "cell_type": "code",
      "source": [
        "from google.colab import drive \n",
        "drive.mount('/content/drive')"
      ],
      "metadata": {
        "colab": {
          "base_uri": "https://localhost:8080/"
        },
        "id": "rjJZunOaZusu",
        "outputId": "622091e6-a349-4dd1-a83c-eb202eeaf762"
      },
      "execution_count": 7,
      "outputs": [
        {
          "output_type": "stream",
          "name": "stdout",
          "text": [
            "Mounted at /content/drive\n"
          ]
        }
      ]
    },
    {
      "cell_type": "code",
      "source": [
        "os.chdir('drive/MyDrive/Colab Notebooks/NODES_2022_Workshop/')"
      ],
      "metadata": {
        "id": "DHcdQwzBZuo-"
      },
      "execution_count": 8,
      "outputs": []
    },
    {
      "cell_type": "markdown",
      "source": [
        "# Import Data"
      ],
      "metadata": {
        "id": "dlMvwRjHAL7Q"
      }
    },
    {
      "cell_type": "code",
      "source": [
        "train_df = pd.read_csv(\"source_data/spaceshipTitanic_train.csv\")\n",
        "test_df = pd.read_csv(\"source_data/spaceshipTitanic_test.csv\")\n",
        "\n",
        "print('train dataframe dimensions:', train_df.shape)\n",
        "print('test dataframe dimensions:', test_df.shape)"
      ],
      "metadata": {
        "colab": {
          "base_uri": "https://localhost:8080/"
        },
        "id": "yn49JiEIJ-e_",
        "outputId": "cde051e2-247b-456e-8dcd-08a25feae64e"
      },
      "execution_count": 9,
      "outputs": [
        {
          "output_type": "stream",
          "name": "stdout",
          "text": [
            "train dataframe dimensions: (8693, 14)\n",
            "test dataframe dimensions: (4277, 13)\n"
          ]
        }
      ]
    },
    {
      "cell_type": "code",
      "source": [
        "# list to iterate through during preprocessing\n",
        "full_data = [train_df, test_df]"
      ],
      "metadata": {
        "id": "mqHw-l84OOi8"
      },
      "execution_count": 10,
      "outputs": []
    },
    {
      "cell_type": "markdown",
      "source": [
        "# Data Overview\n",
        "*The data used in this demonstration is already split into traning and test data sets. We know from prior analysis that these data sets have similar features and missing values. For simplicity, this notebook will focus on the training data knowing that the analysis applies to the test data as well.*"
      ],
      "metadata": {
        "id": "LkXWfN4FAHpH"
      }
    },
    {
      "cell_type": "markdown",
      "source": [
        "## Feature Descriptions\n",
        "From the [Kaggle competition website](https://www.kaggle.com/competitions/spaceship-titanic/data): \n",
        "\n",
        "* `PassengerId` - A unique Id for each passenger. Each Id takes the form gggg_pp where gggg indicates a group the passenger is travelling with and pp is their number within the group. People in a group are often family members, but not always.\n",
        "* `HomePlanet` - The planet the passenger departed from, typically their planet of permanent residence.\n",
        "* `CryoSleep` - Indicates whether the passenger elected to be put into suspended animation for the duration of the voyage. Passengers in cryosleep are confined to their cabins.\n",
        "* `Cabin` - The cabin number where the passenger is staying. Takes the form deck/num/side, where side can be either P for Port or S for Starboard.\n",
        "* `Destination` - The planet the passenger will be debarking to.\n",
        "* `Age` - The age of the passenger.\n",
        "* `VIP` - Whether the passenger has paid for special VIP service during the voyage.\n",
        "* `RoomService, FoodCourt, ShoppingMall, Spa, VRDeck` - Amount the passenger has billed at each of the Spaceship Titanic's many luxury amenities.\n",
        "* `Name` - The first and last names of the passenger.\n",
        "* `Transported` - Whether the passenger was transported to another dimension. This is the target, the column you are trying to predict."
      ],
      "metadata": {
        "id": "G_u66RhKiSch"
      }
    },
    {
      "cell_type": "markdown",
      "source": [
        "## Data Summary "
      ],
      "metadata": {
        "id": "_Fqvsy1IifRF"
      }
    },
    {
      "cell_type": "code",
      "source": [
        "train_df.info()"
      ],
      "metadata": {
        "colab": {
          "base_uri": "https://localhost:8080/"
        },
        "id": "k-LJ6uciOs3y",
        "outputId": "d423d7cc-e5f6-4192-933b-d3f115f166db"
      },
      "execution_count": 11,
      "outputs": [
        {
          "output_type": "stream",
          "name": "stdout",
          "text": [
            "<class 'pandas.core.frame.DataFrame'>\n",
            "RangeIndex: 8693 entries, 0 to 8692\n",
            "Data columns (total 14 columns):\n",
            " #   Column        Non-Null Count  Dtype  \n",
            "---  ------        --------------  -----  \n",
            " 0   PassengerId   8693 non-null   object \n",
            " 1   HomePlanet    8492 non-null   object \n",
            " 2   CryoSleep     8476 non-null   object \n",
            " 3   Cabin         8494 non-null   object \n",
            " 4   Destination   8511 non-null   object \n",
            " 5   Age           8514 non-null   float64\n",
            " 6   VIP           8490 non-null   object \n",
            " 7   RoomService   8512 non-null   float64\n",
            " 8   FoodCourt     8510 non-null   float64\n",
            " 9   ShoppingMall  8485 non-null   float64\n",
            " 10  Spa           8510 non-null   float64\n",
            " 11  VRDeck        8505 non-null   float64\n",
            " 12  Name          8493 non-null   object \n",
            " 13  Transported   8693 non-null   bool   \n",
            "dtypes: bool(1), float64(6), object(7)\n",
            "memory usage: 891.5+ KB\n"
          ]
        }
      ]
    },
    {
      "cell_type": "code",
      "source": [
        "train_df.head()"
      ],
      "metadata": {
        "colab": {
          "base_uri": "https://localhost:8080/",
          "height": 206
        },
        "id": "L-yTUtouOswC",
        "outputId": "2831a5b0-0d1e-483f-b0e4-85ab74773739"
      },
      "execution_count": 12,
      "outputs": [
        {
          "output_type": "execute_result",
          "data": {
            "text/plain": [
              "  PassengerId HomePlanet CryoSleep  Cabin  Destination   Age    VIP  \\\n",
              "0     0001_01     Europa     False  B/0/P  TRAPPIST-1e  39.0  False   \n",
              "1     0002_01      Earth     False  F/0/S  TRAPPIST-1e  24.0  False   \n",
              "2     0003_01     Europa     False  A/0/S  TRAPPIST-1e  58.0   True   \n",
              "3     0003_02     Europa     False  A/0/S  TRAPPIST-1e  33.0  False   \n",
              "4     0004_01      Earth     False  F/1/S  TRAPPIST-1e  16.0  False   \n",
              "\n",
              "   RoomService  FoodCourt  ShoppingMall     Spa  VRDeck               Name  \\\n",
              "0          0.0        0.0           0.0     0.0     0.0    Maham Ofracculy   \n",
              "1        109.0        9.0          25.0   549.0    44.0       Juanna Vines   \n",
              "2         43.0     3576.0           0.0  6715.0    49.0      Altark Susent   \n",
              "3          0.0     1283.0         371.0  3329.0   193.0       Solam Susent   \n",
              "4        303.0       70.0         151.0   565.0     2.0  Willy Santantines   \n",
              "\n",
              "   Transported  \n",
              "0        False  \n",
              "1         True  \n",
              "2        False  \n",
              "3        False  \n",
              "4         True  "
            ],
            "text/html": [
              "\n",
              "  <div id=\"df-d002b595-ba2e-44db-bcd9-184bcc5373f7\">\n",
              "    <div class=\"colab-df-container\">\n",
              "      <div>\n",
              "<style scoped>\n",
              "    .dataframe tbody tr th:only-of-type {\n",
              "        vertical-align: middle;\n",
              "    }\n",
              "\n",
              "    .dataframe tbody tr th {\n",
              "        vertical-align: top;\n",
              "    }\n",
              "\n",
              "    .dataframe thead th {\n",
              "        text-align: right;\n",
              "    }\n",
              "</style>\n",
              "<table border=\"1\" class=\"dataframe\">\n",
              "  <thead>\n",
              "    <tr style=\"text-align: right;\">\n",
              "      <th></th>\n",
              "      <th>PassengerId</th>\n",
              "      <th>HomePlanet</th>\n",
              "      <th>CryoSleep</th>\n",
              "      <th>Cabin</th>\n",
              "      <th>Destination</th>\n",
              "      <th>Age</th>\n",
              "      <th>VIP</th>\n",
              "      <th>RoomService</th>\n",
              "      <th>FoodCourt</th>\n",
              "      <th>ShoppingMall</th>\n",
              "      <th>Spa</th>\n",
              "      <th>VRDeck</th>\n",
              "      <th>Name</th>\n",
              "      <th>Transported</th>\n",
              "    </tr>\n",
              "  </thead>\n",
              "  <tbody>\n",
              "    <tr>\n",
              "      <th>0</th>\n",
              "      <td>0001_01</td>\n",
              "      <td>Europa</td>\n",
              "      <td>False</td>\n",
              "      <td>B/0/P</td>\n",
              "      <td>TRAPPIST-1e</td>\n",
              "      <td>39.0</td>\n",
              "      <td>False</td>\n",
              "      <td>0.0</td>\n",
              "      <td>0.0</td>\n",
              "      <td>0.0</td>\n",
              "      <td>0.0</td>\n",
              "      <td>0.0</td>\n",
              "      <td>Maham Ofracculy</td>\n",
              "      <td>False</td>\n",
              "    </tr>\n",
              "    <tr>\n",
              "      <th>1</th>\n",
              "      <td>0002_01</td>\n",
              "      <td>Earth</td>\n",
              "      <td>False</td>\n",
              "      <td>F/0/S</td>\n",
              "      <td>TRAPPIST-1e</td>\n",
              "      <td>24.0</td>\n",
              "      <td>False</td>\n",
              "      <td>109.0</td>\n",
              "      <td>9.0</td>\n",
              "      <td>25.0</td>\n",
              "      <td>549.0</td>\n",
              "      <td>44.0</td>\n",
              "      <td>Juanna Vines</td>\n",
              "      <td>True</td>\n",
              "    </tr>\n",
              "    <tr>\n",
              "      <th>2</th>\n",
              "      <td>0003_01</td>\n",
              "      <td>Europa</td>\n",
              "      <td>False</td>\n",
              "      <td>A/0/S</td>\n",
              "      <td>TRAPPIST-1e</td>\n",
              "      <td>58.0</td>\n",
              "      <td>True</td>\n",
              "      <td>43.0</td>\n",
              "      <td>3576.0</td>\n",
              "      <td>0.0</td>\n",
              "      <td>6715.0</td>\n",
              "      <td>49.0</td>\n",
              "      <td>Altark Susent</td>\n",
              "      <td>False</td>\n",
              "    </tr>\n",
              "    <tr>\n",
              "      <th>3</th>\n",
              "      <td>0003_02</td>\n",
              "      <td>Europa</td>\n",
              "      <td>False</td>\n",
              "      <td>A/0/S</td>\n",
              "      <td>TRAPPIST-1e</td>\n",
              "      <td>33.0</td>\n",
              "      <td>False</td>\n",
              "      <td>0.0</td>\n",
              "      <td>1283.0</td>\n",
              "      <td>371.0</td>\n",
              "      <td>3329.0</td>\n",
              "      <td>193.0</td>\n",
              "      <td>Solam Susent</td>\n",
              "      <td>False</td>\n",
              "    </tr>\n",
              "    <tr>\n",
              "      <th>4</th>\n",
              "      <td>0004_01</td>\n",
              "      <td>Earth</td>\n",
              "      <td>False</td>\n",
              "      <td>F/1/S</td>\n",
              "      <td>TRAPPIST-1e</td>\n",
              "      <td>16.0</td>\n",
              "      <td>False</td>\n",
              "      <td>303.0</td>\n",
              "      <td>70.0</td>\n",
              "      <td>151.0</td>\n",
              "      <td>565.0</td>\n",
              "      <td>2.0</td>\n",
              "      <td>Willy Santantines</td>\n",
              "      <td>True</td>\n",
              "    </tr>\n",
              "  </tbody>\n",
              "</table>\n",
              "</div>\n",
              "      <button class=\"colab-df-convert\" onclick=\"convertToInteractive('df-d002b595-ba2e-44db-bcd9-184bcc5373f7')\"\n",
              "              title=\"Convert this dataframe to an interactive table.\"\n",
              "              style=\"display:none;\">\n",
              "        \n",
              "  <svg xmlns=\"http://www.w3.org/2000/svg\" height=\"24px\"viewBox=\"0 0 24 24\"\n",
              "       width=\"24px\">\n",
              "    <path d=\"M0 0h24v24H0V0z\" fill=\"none\"/>\n",
              "    <path d=\"M18.56 5.44l.94 2.06.94-2.06 2.06-.94-2.06-.94-.94-2.06-.94 2.06-2.06.94zm-11 1L8.5 8.5l.94-2.06 2.06-.94-2.06-.94L8.5 2.5l-.94 2.06-2.06.94zm10 10l.94 2.06.94-2.06 2.06-.94-2.06-.94-.94-2.06-.94 2.06-2.06.94z\"/><path d=\"M17.41 7.96l-1.37-1.37c-.4-.4-.92-.59-1.43-.59-.52 0-1.04.2-1.43.59L10.3 9.45l-7.72 7.72c-.78.78-.78 2.05 0 2.83L4 21.41c.39.39.9.59 1.41.59.51 0 1.02-.2 1.41-.59l7.78-7.78 2.81-2.81c.8-.78.8-2.07 0-2.86zM5.41 20L4 18.59l7.72-7.72 1.47 1.35L5.41 20z\"/>\n",
              "  </svg>\n",
              "      </button>\n",
              "      \n",
              "  <style>\n",
              "    .colab-df-container {\n",
              "      display:flex;\n",
              "      flex-wrap:wrap;\n",
              "      gap: 12px;\n",
              "    }\n",
              "\n",
              "    .colab-df-convert {\n",
              "      background-color: #E8F0FE;\n",
              "      border: none;\n",
              "      border-radius: 50%;\n",
              "      cursor: pointer;\n",
              "      display: none;\n",
              "      fill: #1967D2;\n",
              "      height: 32px;\n",
              "      padding: 0 0 0 0;\n",
              "      width: 32px;\n",
              "    }\n",
              "\n",
              "    .colab-df-convert:hover {\n",
              "      background-color: #E2EBFA;\n",
              "      box-shadow: 0px 1px 2px rgba(60, 64, 67, 0.3), 0px 1px 3px 1px rgba(60, 64, 67, 0.15);\n",
              "      fill: #174EA6;\n",
              "    }\n",
              "\n",
              "    [theme=dark] .colab-df-convert {\n",
              "      background-color: #3B4455;\n",
              "      fill: #D2E3FC;\n",
              "    }\n",
              "\n",
              "    [theme=dark] .colab-df-convert:hover {\n",
              "      background-color: #434B5C;\n",
              "      box-shadow: 0px 1px 3px 1px rgba(0, 0, 0, 0.15);\n",
              "      filter: drop-shadow(0px 1px 2px rgba(0, 0, 0, 0.3));\n",
              "      fill: #FFFFFF;\n",
              "    }\n",
              "  </style>\n",
              "\n",
              "      <script>\n",
              "        const buttonEl =\n",
              "          document.querySelector('#df-d002b595-ba2e-44db-bcd9-184bcc5373f7 button.colab-df-convert');\n",
              "        buttonEl.style.display =\n",
              "          google.colab.kernel.accessAllowed ? 'block' : 'none';\n",
              "\n",
              "        async function convertToInteractive(key) {\n",
              "          const element = document.querySelector('#df-d002b595-ba2e-44db-bcd9-184bcc5373f7');\n",
              "          const dataTable =\n",
              "            await google.colab.kernel.invokeFunction('convertToInteractive',\n",
              "                                                     [key], {});\n",
              "          if (!dataTable) return;\n",
              "\n",
              "          const docLinkHtml = 'Like what you see? Visit the ' +\n",
              "            '<a target=\"_blank\" href=https://colab.research.google.com/notebooks/data_table.ipynb>data table notebook</a>'\n",
              "            + ' to learn more about interactive tables.';\n",
              "          element.innerHTML = '';\n",
              "          dataTable['output_type'] = 'display_data';\n",
              "          await google.colab.output.renderOutput(dataTable, element);\n",
              "          const docLink = document.createElement('div');\n",
              "          docLink.innerHTML = docLinkHtml;\n",
              "          element.appendChild(docLink);\n",
              "        }\n",
              "      </script>\n",
              "    </div>\n",
              "  </div>\n",
              "  "
            ]
          },
          "metadata": {},
          "execution_count": 12
        }
      ]
    },
    {
      "cell_type": "markdown",
      "source": [
        "# Descriptive Statistics"
      ],
      "metadata": {
        "id": "hEfSSE7dVqT7"
      }
    },
    {
      "cell_type": "markdown",
      "source": [
        "## Categorical Features"
      ],
      "metadata": {
        "id": "T02dCAcAXY7d"
      }
    },
    {
      "cell_type": "code",
      "source": [
        "train_df.describe(include='object').round().T"
      ],
      "metadata": {
        "colab": {
          "base_uri": "https://localhost:8080/",
          "height": 269
        },
        "id": "4R9nnbapXY_7",
        "outputId": "ee46ad88-5b2b-49d7-e58f-f4359afa61d9"
      },
      "execution_count": 13,
      "outputs": [
        {
          "output_type": "execute_result",
          "data": {
            "text/plain": [
              "            count unique             top  freq\n",
              "PassengerId  8693   8693         0001_01     1\n",
              "HomePlanet   8492      3           Earth  4602\n",
              "CryoSleep    8476      2           False  5439\n",
              "Cabin        8494   6560         G/734/S     8\n",
              "Destination  8511      3     TRAPPIST-1e  5915\n",
              "VIP          8490      2           False  8291\n",
              "Name         8493   8473  Gollux Reedall     2"
            ],
            "text/html": [
              "\n",
              "  <div id=\"df-b7f8fc30-07bf-48fe-8e05-105602c84052\">\n",
              "    <div class=\"colab-df-container\">\n",
              "      <div>\n",
              "<style scoped>\n",
              "    .dataframe tbody tr th:only-of-type {\n",
              "        vertical-align: middle;\n",
              "    }\n",
              "\n",
              "    .dataframe tbody tr th {\n",
              "        vertical-align: top;\n",
              "    }\n",
              "\n",
              "    .dataframe thead th {\n",
              "        text-align: right;\n",
              "    }\n",
              "</style>\n",
              "<table border=\"1\" class=\"dataframe\">\n",
              "  <thead>\n",
              "    <tr style=\"text-align: right;\">\n",
              "      <th></th>\n",
              "      <th>count</th>\n",
              "      <th>unique</th>\n",
              "      <th>top</th>\n",
              "      <th>freq</th>\n",
              "    </tr>\n",
              "  </thead>\n",
              "  <tbody>\n",
              "    <tr>\n",
              "      <th>PassengerId</th>\n",
              "      <td>8693</td>\n",
              "      <td>8693</td>\n",
              "      <td>0001_01</td>\n",
              "      <td>1</td>\n",
              "    </tr>\n",
              "    <tr>\n",
              "      <th>HomePlanet</th>\n",
              "      <td>8492</td>\n",
              "      <td>3</td>\n",
              "      <td>Earth</td>\n",
              "      <td>4602</td>\n",
              "    </tr>\n",
              "    <tr>\n",
              "      <th>CryoSleep</th>\n",
              "      <td>8476</td>\n",
              "      <td>2</td>\n",
              "      <td>False</td>\n",
              "      <td>5439</td>\n",
              "    </tr>\n",
              "    <tr>\n",
              "      <th>Cabin</th>\n",
              "      <td>8494</td>\n",
              "      <td>6560</td>\n",
              "      <td>G/734/S</td>\n",
              "      <td>8</td>\n",
              "    </tr>\n",
              "    <tr>\n",
              "      <th>Destination</th>\n",
              "      <td>8511</td>\n",
              "      <td>3</td>\n",
              "      <td>TRAPPIST-1e</td>\n",
              "      <td>5915</td>\n",
              "    </tr>\n",
              "    <tr>\n",
              "      <th>VIP</th>\n",
              "      <td>8490</td>\n",
              "      <td>2</td>\n",
              "      <td>False</td>\n",
              "      <td>8291</td>\n",
              "    </tr>\n",
              "    <tr>\n",
              "      <th>Name</th>\n",
              "      <td>8493</td>\n",
              "      <td>8473</td>\n",
              "      <td>Gollux Reedall</td>\n",
              "      <td>2</td>\n",
              "    </tr>\n",
              "  </tbody>\n",
              "</table>\n",
              "</div>\n",
              "      <button class=\"colab-df-convert\" onclick=\"convertToInteractive('df-b7f8fc30-07bf-48fe-8e05-105602c84052')\"\n",
              "              title=\"Convert this dataframe to an interactive table.\"\n",
              "              style=\"display:none;\">\n",
              "        \n",
              "  <svg xmlns=\"http://www.w3.org/2000/svg\" height=\"24px\"viewBox=\"0 0 24 24\"\n",
              "       width=\"24px\">\n",
              "    <path d=\"M0 0h24v24H0V0z\" fill=\"none\"/>\n",
              "    <path d=\"M18.56 5.44l.94 2.06.94-2.06 2.06-.94-2.06-.94-.94-2.06-.94 2.06-2.06.94zm-11 1L8.5 8.5l.94-2.06 2.06-.94-2.06-.94L8.5 2.5l-.94 2.06-2.06.94zm10 10l.94 2.06.94-2.06 2.06-.94-2.06-.94-.94-2.06-.94 2.06-2.06.94z\"/><path d=\"M17.41 7.96l-1.37-1.37c-.4-.4-.92-.59-1.43-.59-.52 0-1.04.2-1.43.59L10.3 9.45l-7.72 7.72c-.78.78-.78 2.05 0 2.83L4 21.41c.39.39.9.59 1.41.59.51 0 1.02-.2 1.41-.59l7.78-7.78 2.81-2.81c.8-.78.8-2.07 0-2.86zM5.41 20L4 18.59l7.72-7.72 1.47 1.35L5.41 20z\"/>\n",
              "  </svg>\n",
              "      </button>\n",
              "      \n",
              "  <style>\n",
              "    .colab-df-container {\n",
              "      display:flex;\n",
              "      flex-wrap:wrap;\n",
              "      gap: 12px;\n",
              "    }\n",
              "\n",
              "    .colab-df-convert {\n",
              "      background-color: #E8F0FE;\n",
              "      border: none;\n",
              "      border-radius: 50%;\n",
              "      cursor: pointer;\n",
              "      display: none;\n",
              "      fill: #1967D2;\n",
              "      height: 32px;\n",
              "      padding: 0 0 0 0;\n",
              "      width: 32px;\n",
              "    }\n",
              "\n",
              "    .colab-df-convert:hover {\n",
              "      background-color: #E2EBFA;\n",
              "      box-shadow: 0px 1px 2px rgba(60, 64, 67, 0.3), 0px 1px 3px 1px rgba(60, 64, 67, 0.15);\n",
              "      fill: #174EA6;\n",
              "    }\n",
              "\n",
              "    [theme=dark] .colab-df-convert {\n",
              "      background-color: #3B4455;\n",
              "      fill: #D2E3FC;\n",
              "    }\n",
              "\n",
              "    [theme=dark] .colab-df-convert:hover {\n",
              "      background-color: #434B5C;\n",
              "      box-shadow: 0px 1px 3px 1px rgba(0, 0, 0, 0.15);\n",
              "      filter: drop-shadow(0px 1px 2px rgba(0, 0, 0, 0.3));\n",
              "      fill: #FFFFFF;\n",
              "    }\n",
              "  </style>\n",
              "\n",
              "      <script>\n",
              "        const buttonEl =\n",
              "          document.querySelector('#df-b7f8fc30-07bf-48fe-8e05-105602c84052 button.colab-df-convert');\n",
              "        buttonEl.style.display =\n",
              "          google.colab.kernel.accessAllowed ? 'block' : 'none';\n",
              "\n",
              "        async function convertToInteractive(key) {\n",
              "          const element = document.querySelector('#df-b7f8fc30-07bf-48fe-8e05-105602c84052');\n",
              "          const dataTable =\n",
              "            await google.colab.kernel.invokeFunction('convertToInteractive',\n",
              "                                                     [key], {});\n",
              "          if (!dataTable) return;\n",
              "\n",
              "          const docLinkHtml = 'Like what you see? Visit the ' +\n",
              "            '<a target=\"_blank\" href=https://colab.research.google.com/notebooks/data_table.ipynb>data table notebook</a>'\n",
              "            + ' to learn more about interactive tables.';\n",
              "          element.innerHTML = '';\n",
              "          dataTable['output_type'] = 'display_data';\n",
              "          await google.colab.output.renderOutput(dataTable, element);\n",
              "          const docLink = document.createElement('div');\n",
              "          docLink.innerHTML = docLinkHtml;\n",
              "          element.appendChild(docLink);\n",
              "        }\n",
              "      </script>\n",
              "    </div>\n",
              "  </div>\n",
              "  "
            ]
          },
          "metadata": {},
          "execution_count": 13
        }
      ]
    },
    {
      "cell_type": "markdown",
      "source": [
        "### Analysis of Categorical Features\n",
        "* `PassengerId:` All values are unique, so we can likely use this as a unique identifier if necesary. \n",
        "* `HomePlanet:` Three unique values with Earth as the most common, comprising slightly more than 50% of values.\n",
        "* `CryoSleep:` Boolean with False comprising almost 65% of values.\n",
        "* `Cabin:` Approximately 20% of Cabin values are duplicates, which makes sense given that some passengers share a cabin. The most frequent duplicates occur eight times in the data. \n",
        "* `Destination:` Three unique values with TRAPPIST-1e comprising 70% of values.\n",
        "* `VIP:` Boolean with False comprising 99% of values.\n",
        "* `Name:` There appear to be a small number of passengers (~20) with duplicate names, so we won't want to use this feature as a unique identifier. "
      ],
      "metadata": {
        "id": "m8WiGt5pZUQ0"
      }
    },
    {
      "cell_type": "markdown",
      "source": [
        "## Numeric Features"
      ],
      "metadata": {
        "id": "CNJGpS1PVqY1"
      }
    },
    {
      "cell_type": "code",
      "source": [
        "train_df.describe().round().T"
      ],
      "metadata": {
        "colab": {
          "base_uri": "https://localhost:8080/",
          "height": 237
        },
        "id": "_DwoFZB5Vqfm",
        "outputId": "dc54ba48-0278-4524-832d-9c8035017bbb"
      },
      "execution_count": 14,
      "outputs": [
        {
          "output_type": "execute_result",
          "data": {
            "text/plain": [
              "               count   mean     std  min   25%   50%   75%      max\n",
              "Age           8514.0   29.0    14.0  0.0  19.0  27.0  38.0     79.0\n",
              "RoomService   8512.0  225.0   667.0  0.0   0.0   0.0  47.0  14327.0\n",
              "FoodCourt     8510.0  458.0  1611.0  0.0   0.0   0.0  76.0  29813.0\n",
              "ShoppingMall  8485.0  174.0   605.0  0.0   0.0   0.0  27.0  23492.0\n",
              "Spa           8510.0  311.0  1137.0  0.0   0.0   0.0  59.0  22408.0\n",
              "VRDeck        8505.0  305.0  1146.0  0.0   0.0   0.0  46.0  24133.0"
            ],
            "text/html": [
              "\n",
              "  <div id=\"df-69f4aa34-1626-4bde-b6c3-cff1ca1b5e82\">\n",
              "    <div class=\"colab-df-container\">\n",
              "      <div>\n",
              "<style scoped>\n",
              "    .dataframe tbody tr th:only-of-type {\n",
              "        vertical-align: middle;\n",
              "    }\n",
              "\n",
              "    .dataframe tbody tr th {\n",
              "        vertical-align: top;\n",
              "    }\n",
              "\n",
              "    .dataframe thead th {\n",
              "        text-align: right;\n",
              "    }\n",
              "</style>\n",
              "<table border=\"1\" class=\"dataframe\">\n",
              "  <thead>\n",
              "    <tr style=\"text-align: right;\">\n",
              "      <th></th>\n",
              "      <th>count</th>\n",
              "      <th>mean</th>\n",
              "      <th>std</th>\n",
              "      <th>min</th>\n",
              "      <th>25%</th>\n",
              "      <th>50%</th>\n",
              "      <th>75%</th>\n",
              "      <th>max</th>\n",
              "    </tr>\n",
              "  </thead>\n",
              "  <tbody>\n",
              "    <tr>\n",
              "      <th>Age</th>\n",
              "      <td>8514.0</td>\n",
              "      <td>29.0</td>\n",
              "      <td>14.0</td>\n",
              "      <td>0.0</td>\n",
              "      <td>19.0</td>\n",
              "      <td>27.0</td>\n",
              "      <td>38.0</td>\n",
              "      <td>79.0</td>\n",
              "    </tr>\n",
              "    <tr>\n",
              "      <th>RoomService</th>\n",
              "      <td>8512.0</td>\n",
              "      <td>225.0</td>\n",
              "      <td>667.0</td>\n",
              "      <td>0.0</td>\n",
              "      <td>0.0</td>\n",
              "      <td>0.0</td>\n",
              "      <td>47.0</td>\n",
              "      <td>14327.0</td>\n",
              "    </tr>\n",
              "    <tr>\n",
              "      <th>FoodCourt</th>\n",
              "      <td>8510.0</td>\n",
              "      <td>458.0</td>\n",
              "      <td>1611.0</td>\n",
              "      <td>0.0</td>\n",
              "      <td>0.0</td>\n",
              "      <td>0.0</td>\n",
              "      <td>76.0</td>\n",
              "      <td>29813.0</td>\n",
              "    </tr>\n",
              "    <tr>\n",
              "      <th>ShoppingMall</th>\n",
              "      <td>8485.0</td>\n",
              "      <td>174.0</td>\n",
              "      <td>605.0</td>\n",
              "      <td>0.0</td>\n",
              "      <td>0.0</td>\n",
              "      <td>0.0</td>\n",
              "      <td>27.0</td>\n",
              "      <td>23492.0</td>\n",
              "    </tr>\n",
              "    <tr>\n",
              "      <th>Spa</th>\n",
              "      <td>8510.0</td>\n",
              "      <td>311.0</td>\n",
              "      <td>1137.0</td>\n",
              "      <td>0.0</td>\n",
              "      <td>0.0</td>\n",
              "      <td>0.0</td>\n",
              "      <td>59.0</td>\n",
              "      <td>22408.0</td>\n",
              "    </tr>\n",
              "    <tr>\n",
              "      <th>VRDeck</th>\n",
              "      <td>8505.0</td>\n",
              "      <td>305.0</td>\n",
              "      <td>1146.0</td>\n",
              "      <td>0.0</td>\n",
              "      <td>0.0</td>\n",
              "      <td>0.0</td>\n",
              "      <td>46.0</td>\n",
              "      <td>24133.0</td>\n",
              "    </tr>\n",
              "  </tbody>\n",
              "</table>\n",
              "</div>\n",
              "      <button class=\"colab-df-convert\" onclick=\"convertToInteractive('df-69f4aa34-1626-4bde-b6c3-cff1ca1b5e82')\"\n",
              "              title=\"Convert this dataframe to an interactive table.\"\n",
              "              style=\"display:none;\">\n",
              "        \n",
              "  <svg xmlns=\"http://www.w3.org/2000/svg\" height=\"24px\"viewBox=\"0 0 24 24\"\n",
              "       width=\"24px\">\n",
              "    <path d=\"M0 0h24v24H0V0z\" fill=\"none\"/>\n",
              "    <path d=\"M18.56 5.44l.94 2.06.94-2.06 2.06-.94-2.06-.94-.94-2.06-.94 2.06-2.06.94zm-11 1L8.5 8.5l.94-2.06 2.06-.94-2.06-.94L8.5 2.5l-.94 2.06-2.06.94zm10 10l.94 2.06.94-2.06 2.06-.94-2.06-.94-.94-2.06-.94 2.06-2.06.94z\"/><path d=\"M17.41 7.96l-1.37-1.37c-.4-.4-.92-.59-1.43-.59-.52 0-1.04.2-1.43.59L10.3 9.45l-7.72 7.72c-.78.78-.78 2.05 0 2.83L4 21.41c.39.39.9.59 1.41.59.51 0 1.02-.2 1.41-.59l7.78-7.78 2.81-2.81c.8-.78.8-2.07 0-2.86zM5.41 20L4 18.59l7.72-7.72 1.47 1.35L5.41 20z\"/>\n",
              "  </svg>\n",
              "      </button>\n",
              "      \n",
              "  <style>\n",
              "    .colab-df-container {\n",
              "      display:flex;\n",
              "      flex-wrap:wrap;\n",
              "      gap: 12px;\n",
              "    }\n",
              "\n",
              "    .colab-df-convert {\n",
              "      background-color: #E8F0FE;\n",
              "      border: none;\n",
              "      border-radius: 50%;\n",
              "      cursor: pointer;\n",
              "      display: none;\n",
              "      fill: #1967D2;\n",
              "      height: 32px;\n",
              "      padding: 0 0 0 0;\n",
              "      width: 32px;\n",
              "    }\n",
              "\n",
              "    .colab-df-convert:hover {\n",
              "      background-color: #E2EBFA;\n",
              "      box-shadow: 0px 1px 2px rgba(60, 64, 67, 0.3), 0px 1px 3px 1px rgba(60, 64, 67, 0.15);\n",
              "      fill: #174EA6;\n",
              "    }\n",
              "\n",
              "    [theme=dark] .colab-df-convert {\n",
              "      background-color: #3B4455;\n",
              "      fill: #D2E3FC;\n",
              "    }\n",
              "\n",
              "    [theme=dark] .colab-df-convert:hover {\n",
              "      background-color: #434B5C;\n",
              "      box-shadow: 0px 1px 3px 1px rgba(0, 0, 0, 0.15);\n",
              "      filter: drop-shadow(0px 1px 2px rgba(0, 0, 0, 0.3));\n",
              "      fill: #FFFFFF;\n",
              "    }\n",
              "  </style>\n",
              "\n",
              "      <script>\n",
              "        const buttonEl =\n",
              "          document.querySelector('#df-69f4aa34-1626-4bde-b6c3-cff1ca1b5e82 button.colab-df-convert');\n",
              "        buttonEl.style.display =\n",
              "          google.colab.kernel.accessAllowed ? 'block' : 'none';\n",
              "\n",
              "        async function convertToInteractive(key) {\n",
              "          const element = document.querySelector('#df-69f4aa34-1626-4bde-b6c3-cff1ca1b5e82');\n",
              "          const dataTable =\n",
              "            await google.colab.kernel.invokeFunction('convertToInteractive',\n",
              "                                                     [key], {});\n",
              "          if (!dataTable) return;\n",
              "\n",
              "          const docLinkHtml = 'Like what you see? Visit the ' +\n",
              "            '<a target=\"_blank\" href=https://colab.research.google.com/notebooks/data_table.ipynb>data table notebook</a>'\n",
              "            + ' to learn more about interactive tables.';\n",
              "          element.innerHTML = '';\n",
              "          dataTable['output_type'] = 'display_data';\n",
              "          await google.colab.output.renderOutput(dataTable, element);\n",
              "          const docLink = document.createElement('div');\n",
              "          docLink.innerHTML = docLinkHtml;\n",
              "          element.appendChild(docLink);\n",
              "        }\n",
              "      </script>\n",
              "    </div>\n",
              "  </div>\n",
              "  "
            ]
          },
          "metadata": {},
          "execution_count": 14
        }
      ]
    },
    {
      "cell_type": "markdown",
      "source": [
        "### Analysis of Quantative Features\n",
        "* `Age:` Passenger ages range from 0 to 79 years old with the mean being 29 and the median being 27. The age feature is clearly on a different scale than the spend categories, which could influence downstream modeling efforts.\n",
        "* `Spend Categories:` All the other quantitative categories (`RoomService, Food Court, ShoppingMall, Spa, and VRDeck`)\n",
        "  * Median values are zero indicating that at least half of the passengers don't spend while on the ship. \n",
        "  * The data also appear to be skewed based upon passengers who spend large amounts in each of the locations.\n"
      ],
      "metadata": {
        "id": "iIfde0PMYHoy"
      }
    },
    {
      "cell_type": "markdown",
      "source": [
        "# Missing Data"
      ],
      "metadata": {
        "id": "PJ6UbeGSOqrj"
      }
    },
    {
      "cell_type": "code",
      "source": [
        "# missing entries \n",
        "print('Percentage of missing entries per feature:\\n')\n",
        "round(train_df.isna().sum() / train_df.shape[0], 2)"
      ],
      "metadata": {
        "colab": {
          "base_uri": "https://localhost:8080/"
        },
        "id": "qCgt4x7IOm6O",
        "outputId": "30299f38-a368-405d-ddf8-13e02044107b"
      },
      "execution_count": 16,
      "outputs": [
        {
          "output_type": "stream",
          "name": "stdout",
          "text": [
            "Percentage of missing entries per feature:\n",
            "\n"
          ]
        },
        {
          "output_type": "execute_result",
          "data": {
            "text/plain": [
              "PassengerId     0.00\n",
              "HomePlanet      0.02\n",
              "CryoSleep       0.02\n",
              "Cabin           0.02\n",
              "Destination     0.02\n",
              "Age             0.02\n",
              "VIP             0.02\n",
              "RoomService     0.02\n",
              "FoodCourt       0.02\n",
              "ShoppingMall    0.02\n",
              "Spa             0.02\n",
              "VRDeck          0.02\n",
              "Name            0.02\n",
              "Transported     0.00\n",
              "dtype: float64"
            ]
          },
          "metadata": {},
          "execution_count": 16
        }
      ]
    },
    {
      "cell_type": "code",
      "source": [
        "# create a missing values heat map  \n",
        "msno.matrix(train_df)\n",
        "plt.show()"
      ],
      "metadata": {
        "id": "_KfCtHAiAQk8",
        "colab": {
          "base_uri": "https://localhost:8080/",
          "height": 592
        },
        "outputId": "c1839e3c-a284-4a6f-b94c-4f80433db0ac"
      },
      "execution_count": 17,
      "outputs": [
        {
          "output_type": "display_data",
          "data": {
            "text/plain": [
              "<Figure size 1800x720 with 2 Axes>"
            ],
            "image/png": "[encoded data removed]"
          },
          "metadata": {}
        }
      ]
    },
    {
      "cell_type": "code",
      "source": [
        "# correlation map of missing features\n",
        "msno.heatmap(train_df)\n",
        "plt.show()"
      ],
      "metadata": {
        "colab": {
          "base_uri": "https://localhost:8080/",
          "height": 784
        },
        "id": "ZltewhVLPcUo",
        "outputId": "997ab885-5305-497c-9650-a40e1dd45e83"
      },
      "execution_count": 18,
      "outputs": [
        {
          "output_type": "display_data",
          "data": {
            "text/plain": [
              "<Figure size 1440x864 with 2 Axes>"
            ],
            "image/png": "[encoded data removed]"
          },
          "metadata": {}
        }
      ]
    },
    {
      "cell_type": "markdown",
      "source": [
        "## Analysis of Missing Data\n",
        "* Transported, our target feature, does not have any missing values.\n",
        "* PassengerId also does not have missing values, so this is a good candidate for an index value if we need one.\n",
        "* All other features are missing two percent of their observations, which translates to approximately 175 per feature. \n",
        "* We know from prior analysis that the test data is missing similar features.\n",
        "* The visualizations show that there does not appear to be any correlation among the missing features, indicating that they are missing at random. "
      ],
      "metadata": {
        "id": "g7JtTxtUPY3Y"
      }
    },
    {
      "cell_type": "markdown",
      "source": [
        "# Duplicate Records"
      ],
      "metadata": {
        "id": "PTvmV1_gTtKx"
      }
    },
    {
      "cell_type": "code",
      "source": [
        "print('count of duplicate records:', train_df.duplicated().sum())"
      ],
      "metadata": {
        "colab": {
          "base_uri": "https://localhost:8080/"
        },
        "id": "bBW3UPSrwHIX",
        "outputId": "45a3bc58-9f3b-4246-dc75-82e17cfce060"
      },
      "execution_count": 19,
      "outputs": [
        {
          "output_type": "stream",
          "name": "stdout",
          "text": [
            "count of duplicate records: 0\n"
          ]
        }
      ]
    },
    {
      "cell_type": "markdown",
      "source": [
        "# Categorical Features"
      ],
      "metadata": {
        "id": "V15o4fO7wKCa"
      }
    },
    {
      "cell_type": "code",
      "source": [
        "# create list of non-numeric features\n",
        "categorical_features = train_df.select_dtypes(include=['object', 'bool']).columns\n",
        "categorical_features"
      ],
      "metadata": {
        "colab": {
          "base_uri": "https://localhost:8080/"
        },
        "id": "ZNlpSrDnbykX",
        "outputId": "297096ec-b1d9-47a8-9ffc-aa55373a14b4"
      },
      "execution_count": 20,
      "outputs": [
        {
          "output_type": "execute_result",
          "data": {
            "text/plain": [
              "Index(['PassengerId', 'HomePlanet', 'CryoSleep', 'Cabin', 'Destination', 'VIP',\n",
              "       'Name', 'Transported'],\n",
              "      dtype='object')"
            ]
          },
          "metadata": {},
          "execution_count": 20
        }
      ]
    },
    {
      "cell_type": "markdown",
      "source": [
        "## Transported\n",
        "*Whether the passenger was transported to another dimension.*"
      ],
      "metadata": {
        "id": "fNCVBwCJwixh"
      }
    },
    {
      "cell_type": "code",
      "source": [
        "horizontal_countplot(df=train_df, col='Transported', title='Distribution of Transported Passengers')"
      ],
      "metadata": {
        "colab": {
          "base_uri": "https://localhost:8080/",
          "height": 410
        },
        "id": "7RkQbma9Z3Gy",
        "outputId": "3bdc46ad-6f9f-4870-ce8b-620eef6cc2cb"
      },
      "execution_count": 15,
      "outputs": [
        {
          "output_type": "display_data",
          "data": {
            "text/plain": [
              "<Figure size 792x432 with 1 Axes>"
            ],
            "image/png": "[encoded data removed]"
          },
          "metadata": {}
        }
      ]
    },
    {
      "cell_type": "markdown",
      "source": [
        "### Analysis of Transported\n",
        "* The distribution of transported vs. not transported is about 50/50, as was described in the competition background.\n",
        "* Because this is our target feature, we may want to evaluate other features in the context versus transported and not transported passengers."
      ],
      "metadata": {
        "id": "VCwW6-mPwgcB"
      }
    },
    {
      "cell_type": "markdown",
      "source": [
        "## PassengerId\n",
        "*A unique Id for each passenger. Each Id takes the form gggg_pp where gggg indicates a group the passenger is travelling with and pp is their number within the group. People in a group are often family members, but not always.*"
      ],
      "metadata": {
        "id": "qLq3nKVkxGe9"
      }
    },
    {
      "cell_type": "code",
      "source": [
        "train_df['PassengerId'].head()"
      ],
      "metadata": {
        "colab": {
          "base_uri": "https://localhost:8080/"
        },
        "id": "tRtfrwsuxnGE",
        "outputId": "5dba56df-135a-4b55-bd19-0e353d0f0117"
      },
      "execution_count": 16,
      "outputs": [
        {
          "output_type": "execute_result",
          "data": {
            "text/plain": [
              "0    0001_01\n",
              "1    0002_01\n",
              "2    0003_01\n",
              "3    0003_02\n",
              "4    0004_01\n",
              "Name: PassengerId, dtype: object"
            ]
          },
          "metadata": {},
          "execution_count": 16
        }
      ]
    },
    {
      "cell_type": "markdown",
      "source": [
        "### Create Passenger_Group Feature\n",
        "*We can parse the PassengerGroup feature from the PassengerId feature, which may provide more information about entire groups that were transported. PassengerGroup may also serve as a stand-alone node or passenger property when we create our graph model.*"
      ],
      "metadata": {
        "id": "_C3C4A7Dx7qA"
      }
    },
    {
      "cell_type": "code",
      "source": [
        "for df in full_data:\n",
        "  df['Passenger_Group'] = df['PassengerId'].apply(lambda x: x.split('_')[0]).astype(str)"
      ],
      "metadata": {
        "id": "-ZGnwlmey2Dk"
      },
      "execution_count": 17,
      "outputs": []
    },
    {
      "cell_type": "code",
      "source": [
        "print('Count of Unique Passenger Groups:', train_df['Passenger_Group'].nunique())"
      ],
      "metadata": {
        "colab": {
          "base_uri": "https://localhost:8080/"
        },
        "id": "4Tw56HFKlqcs",
        "outputId": "47626865-989a-42dc-f465-bdd46ce3e25f"
      },
      "execution_count": 19,
      "outputs": [
        {
          "output_type": "stream",
          "name": "stdout",
          "text": [
            "Count of Unique Passenger Groups: 6217\n"
          ]
        }
      ]
    },
    {
      "cell_type": "markdown",
      "source": [
        "### Create Group_Size Feature\n",
        "*Using the Passenger_Group feature, we will count the number of passengers in each group and add that as a feature. In our graph model this may be a property for passengers or groups.*"
      ],
      "metadata": {
        "id": "jIfHI6CxyLNq"
      }
    },
    {
      "cell_type": "code",
      "source": [
        "for df in full_data:\n",
        "  df['Group_Size'] = df['Passenger_Group'].map(lambda x: pd.concat([train_df['Passenger_Group'], \n",
        "                                                                    test_df['Passenger_Group']]).value_counts()[x])"
      ],
      "metadata": {
        "id": "Nvf0Q1HEyOSQ"
      },
      "execution_count": 20,
      "outputs": []
    },
    {
      "cell_type": "code",
      "source": [
        "horizontal_countplot(df=train_df, col='Group_Size', \n",
        "                     title='Distribution of Passenger Group Sizes')"
      ],
      "metadata": {
        "colab": {
          "base_uri": "https://localhost:8080/",
          "height": 410
        },
        "id": "3eOzAlyeceuJ",
        "outputId": "b5d51c36-ab9d-4d32-fa39-d098b6b6da54"
      },
      "execution_count": 21,
      "outputs": [
        {
          "output_type": "display_data",
          "data": {
            "text/plain": [
              "<Figure size 792x432 with 1 Axes>"
            ],
            "image/png": "[encoded data removed]"
          },
          "metadata": {}
        }
      ]
    },
    {
      "cell_type": "markdown",
      "source": [
        "### Analysis of PassengerId and Related Features\n",
        "* Each PassengerId is unique, so we can use that as a unique identifier.\n",
        "* There are approximately 6,200 Passenger Groups:\n",
        "  * More than half of the passengers are traveling alone\n",
        "  * Few groups have more than five passengers, with largest comprising eight passengers."
      ],
      "metadata": {
        "id": "DKyhQOL4lZKl"
      }
    },
    {
      "cell_type": "markdown",
      "source": [
        "## Passenger Name\n",
        "*The first and last names of the passenger.*"
      ],
      "metadata": {
        "id": "bF40Y-YOeKIp"
      }
    },
    {
      "cell_type": "markdown",
      "source": [
        "### Fill Missing Values"
      ],
      "metadata": {
        "id": "H_Sn-7X6IrQs"
      }
    },
    {
      "cell_type": "code",
      "source": [
        "for df in full_data:\n",
        "  df['Name'].fillna('NoFirstName NoSurname', inplace=True)"
      ],
      "metadata": {
        "id": "pgNdBXN2gxRf"
      },
      "execution_count": 23,
      "outputs": []
    },
    {
      "cell_type": "markdown",
      "source": [
        "### Create Surname Feature"
      ],
      "metadata": {
        "id": "L8wbQPBLbNww"
      }
    },
    {
      "cell_type": "code",
      "source": [
        "train_df['Surname'] = train_df['Name'].str.split(' ').str[-1]"
      ],
      "metadata": {
        "id": "DmgwWiknbN2W"
      },
      "execution_count": 24,
      "outputs": []
    },
    {
      "cell_type": "markdown",
      "source": [
        "### Analysis of Passenger Surnames"
      ],
      "metadata": {
        "id": "aJ-O5VOJh5uG"
      }
    },
    {
      "cell_type": "code",
      "source": [
        "# count of unique surnames\n",
        "train_df[train_df['Surname'] != 'NoSurname']['Surname'].nunique()"
      ],
      "metadata": {
        "colab": {
          "base_uri": "https://localhost:8080/"
        },
        "id": "6snGSS53h8qv",
        "outputId": "dd5caec3-f855-4af9-b880-9fde3e10bfc1"
      },
      "execution_count": 25,
      "outputs": [
        {
          "output_type": "execute_result",
          "data": {
            "text/plain": [
              "2217"
            ]
          },
          "metadata": {},
          "execution_count": 25
        }
      ]
    },
    {
      "cell_type": "code",
      "source": [
        "# most common passenger Surnames\n",
        "train_df[train_df['Surname'] != 'NoSurname']['Surname'].value_counts().head(10)"
      ],
      "metadata": {
        "colab": {
          "base_uri": "https://localhost:8080/"
        },
        "id": "F4fKQ1I0hnPQ",
        "outputId": "611fee7a-3e57-4cc1-cf13-172bf474ea5c"
      },
      "execution_count": 26,
      "outputs": [
        {
          "output_type": "execute_result",
          "data": {
            "text/plain": [
              "Casonston     18\n",
              "Oneiles       16\n",
              "Domington     15\n",
              "Litthews      15\n",
              "Browlerson    14\n",
              "Garnes        14\n",
              "Cartez        14\n",
              "Fulloydez     14\n",
              "Hinglendez    13\n",
              "Distured      13\n",
              "Name: Surname, dtype: int64"
            ]
          },
          "metadata": {},
          "execution_count": 26
        }
      ]
    },
    {
      "cell_type": "code",
      "source": [
        "# distribution of Surname occurrences\n",
        "round(train_df[train_df['Surname'] != 'NoSurname']['Surname'].value_counts().describe(),0)"
      ],
      "metadata": {
        "colab": {
          "base_uri": "https://localhost:8080/"
        },
        "id": "KPnr7LFXiHtT",
        "outputId": "ebe32767-370e-43f4-84cf-ef970a410bf2"
      },
      "execution_count": 28,
      "outputs": [
        {
          "output_type": "execute_result",
          "data": {
            "text/plain": [
              "count    2217.0\n",
              "mean        4.0\n",
              "std         2.0\n",
              "min         1.0\n",
              "25%         2.0\n",
              "50%         3.0\n",
              "75%         5.0\n",
              "max        18.0\n",
              "Name: Surname, dtype: float64"
            ]
          },
          "metadata": {},
          "execution_count": 28
        }
      ]
    },
    {
      "cell_type": "markdown",
      "source": [
        "### Duplicate Passenger Names"
      ],
      "metadata": {
        "id": "XIoDVTewIwwX"
      }
    },
    {
      "cell_type": "code",
      "source": [
        "# passengers with duplicated name\n",
        "print('passengers with duplicated name:', len({x: count for x, count in Counter(train_df['Name']).items() if count == 2}))"
      ],
      "metadata": {
        "colab": {
          "base_uri": "https://localhost:8080/"
        },
        "id": "0GGU0G6Zf17x",
        "outputId": "17886892-4ede-4ba7-f58b-581f97840653"
      },
      "execution_count": 29,
      "outputs": [
        {
          "output_type": "stream",
          "name": "stdout",
          "text": [
            "passengers with duplicated name: 20\n"
          ]
        }
      ]
    },
    {
      "cell_type": "code",
      "source": [
        "# first five passengers with duplicated names\n",
        "(\n",
        "    train_df[train_df.duplicated(['Name'], keep=False)]\n",
        "    .dropna(subset=['Name'])\n",
        "    .sort_values(by='Name')\n",
        "    .head(10)\n",
        ")"
      ],
      "metadata": {
        "colab": {
          "base_uri": "https://localhost:8080/",
          "height": 583
        },
        "id": "EkMIiRVme_WD",
        "outputId": "b4b081c0-28b7-4cd4-aef9-f90b85f1586d"
      },
      "execution_count": 30,
      "outputs": [
        {
          "output_type": "execute_result",
          "data": {
            "text/plain": [
              "     PassengerId HomePlanet CryoSleep     Cabin    Destination   Age    VIP  \\\n",
              "6296     6665_01     Europa      True   B/222/P    55 Cancri e  17.0  False   \n",
              "7270     7775_01     Europa     False   C/253/P    55 Cancri e  28.0  False   \n",
              "2930     3176_01     Europa     False   E/196/P    TRAPPIST-1e  77.0  False   \n",
              "476      0512_02     Europa      True    D/18/S    TRAPPIST-1e  55.0  False   \n",
              "8488     9071_01      Earth     False  F/1855/P    55 Cancri e  22.0  False   \n",
              "2991     3236_03      Earth     False   E/200/P    TRAPPIST-1e  18.0  False   \n",
              "4108     4387_01       Mars     False   F/902/P  PSO J318.5-22  32.0  False   \n",
              "2559     2746_01       Mars     False   F/569/P    TRAPPIST-1e  52.0  False   \n",
              "7871     8398_01     Europa      True   B/329/S    TRAPPIST-1e  15.0  False   \n",
              "6086     6432_01     Europa     False   D/202/P    55 Cancri e  55.0  False   \n",
              "\n",
              "      RoomService  FoodCourt  ShoppingMall     Spa  VRDeck  \\\n",
              "6296          0.0        0.0           0.0     0.0     0.0   \n",
              "7270          7.0      489.0           0.0     4.0  6027.0   \n",
              "2930          0.0     9032.0           0.0   128.0  1464.0   \n",
              "476           0.0        0.0           0.0     0.0     0.0   \n",
              "8488          0.0        0.0        1072.0    46.0     3.0   \n",
              "2991          0.0       30.0           0.0   756.0     5.0   \n",
              "4108        192.0        0.0         441.0    18.0     0.0   \n",
              "2559        758.0        0.0         356.0     5.0     0.0   \n",
              "7871          0.0        0.0           0.0     0.0     0.0   \n",
              "6086        114.0      222.0           0.0  2575.0  2919.0   \n",
              "\n",
              "                    Name  Transported Passenger_Group  Group_Size     Surname  \n",
              "6296  Alraium Disivering         True            6665           4  Disivering  \n",
              "7270  Alraium Disivering        False            7775           1  Disivering  \n",
              "2930  Ankalik Nateansive         True            3176           1  Nateansive  \n",
              "476   Ankalik Nateansive         True            0512           2  Nateansive  \n",
              "8488         Anton Woody        False            9071           1       Woody  \n",
              "2991         Anton Woody        False            3236           3       Woody  \n",
              "4108           Apix Wala        False            4387           1        Wala  \n",
              "2559           Apix Wala        False            2746           1        Wala  \n",
              "7871       Asch Stradick         True            8398           2    Stradick  \n",
              "6086       Asch Stradick        False            6432           1    Stradick  "
            ],
            "text/html": [
              "\n",
              "  <div id=\"df-7c9e5353-14c3-49ec-9c0f-cd270790dc0f\">\n",
              "    <div class=\"colab-df-container\">\n",
              "      <div>\n",
              "<style scoped>\n",
              "    .dataframe tbody tr th:only-of-type {\n",
              "        vertical-align: middle;\n",
              "    }\n",
              "\n",
              "    .dataframe tbody tr th {\n",
              "        vertical-align: top;\n",
              "    }\n",
              "\n",
              "    .dataframe thead th {\n",
              "        text-align: right;\n",
              "    }\n",
              "</style>\n",
              "<table border=\"1\" class=\"dataframe\">\n",
              "  <thead>\n",
              "    <tr style=\"text-align: right;\">\n",
              "      <th></th>\n",
              "      <th>PassengerId</th>\n",
              "      <th>HomePlanet</th>\n",
              "      <th>CryoSleep</th>\n",
              "      <th>Cabin</th>\n",
              "      <th>Destination</th>\n",
              "      <th>Age</th>\n",
              "      <th>VIP</th>\n",
              "      <th>RoomService</th>\n",
              "      <th>FoodCourt</th>\n",
              "      <th>ShoppingMall</th>\n",
              "      <th>Spa</th>\n",
              "      <th>VRDeck</th>\n",
              "      <th>Name</th>\n",
              "      <th>Transported</th>\n",
              "      <th>Passenger_Group</th>\n",
              "      <th>Group_Size</th>\n",
              "      <th>Surname</th>\n",
              "    </tr>\n",
              "  </thead>\n",
              "  <tbody>\n",
              "    <tr>\n",
              "      <th>6296</th>\n",
              "      <td>6665_01</td>\n",
              "      <td>Europa</td>\n",
              "      <td>True</td>\n",
              "      <td>B/222/P</td>\n",
              "      <td>55 Cancri e</td>\n",
              "      <td>17.0</td>\n",
              "      <td>False</td>\n",
              "      <td>0.0</td>\n",
              "      <td>0.0</td>\n",
              "      <td>0.0</td>\n",
              "      <td>0.0</td>\n",
              "      <td>0.0</td>\n",
              "      <td>Alraium Disivering</td>\n",
              "      <td>True</td>\n",
              "      <td>6665</td>\n",
              "      <td>4</td>\n",
              "      <td>Disivering</td>\n",
              "    </tr>\n",
              "    <tr>\n",
              "      <th>7270</th>\n",
              "      <td>7775_01</td>\n",
              "      <td>Europa</td>\n",
              "      <td>False</td>\n",
              "      <td>C/253/P</td>\n",
              "      <td>55 Cancri e</td>\n",
              "      <td>28.0</td>\n",
              "      <td>False</td>\n",
              "      <td>7.0</td>\n",
              "      <td>489.0</td>\n",
              "      <td>0.0</td>\n",
              "      <td>4.0</td>\n",
              "      <td>6027.0</td>\n",
              "      <td>Alraium Disivering</td>\n",
              "      <td>False</td>\n",
              "      <td>7775</td>\n",
              "      <td>1</td>\n",
              "      <td>Disivering</td>\n",
              "    </tr>\n",
              "    <tr>\n",
              "      <th>2930</th>\n",
              "      <td>3176_01</td>\n",
              "      <td>Europa</td>\n",
              "      <td>False</td>\n",
              "      <td>E/196/P</td>\n",
              "      <td>TRAPPIST-1e</td>\n",
              "      <td>77.0</td>\n",
              "      <td>False</td>\n",
              "      <td>0.0</td>\n",
              "      <td>9032.0</td>\n",
              "      <td>0.0</td>\n",
              "      <td>128.0</td>\n",
              "      <td>1464.0</td>\n",
              "      <td>Ankalik Nateansive</td>\n",
              "      <td>True</td>\n",
              "      <td>3176</td>\n",
              "      <td>1</td>\n",
              "      <td>Nateansive</td>\n",
              "    </tr>\n",
              "    <tr>\n",
              "      <th>476</th>\n",
              "      <td>0512_02</td>\n",
              "      <td>Europa</td>\n",
              "      <td>True</td>\n",
              "      <td>D/18/S</td>\n",
              "      <td>TRAPPIST-1e</td>\n",
              "      <td>55.0</td>\n",
              "      <td>False</td>\n",
              "      <td>0.0</td>\n",
              "      <td>0.0</td>\n",
              "      <td>0.0</td>\n",
              "      <td>0.0</td>\n",
              "      <td>0.0</td>\n",
              "      <td>Ankalik Nateansive</td>\n",
              "      <td>True</td>\n",
              "      <td>0512</td>\n",
              "      <td>2</td>\n",
              "      <td>Nateansive</td>\n",
              "    </tr>\n",
              "    <tr>\n",
              "      <th>8488</th>\n",
              "      <td>9071_01</td>\n",
              "      <td>Earth</td>\n",
              "      <td>False</td>\n",
              "      <td>F/1855/P</td>\n",
              "      <td>55 Cancri e</td>\n",
              "      <td>22.0</td>\n",
              "      <td>False</td>\n",
              "      <td>0.0</td>\n",
              "      <td>0.0</td>\n",
              "      <td>1072.0</td>\n",
              "      <td>46.0</td>\n",
              "      <td>3.0</td>\n",
              "      <td>Anton Woody</td>\n",
              "      <td>False</td>\n",
              "      <td>9071</td>\n",
              "      <td>1</td>\n",
              "      <td>Woody</td>\n",
              "    </tr>\n",
              "    <tr>\n",
              "      <th>2991</th>\n",
              "      <td>3236_03</td>\n",
              "      <td>Earth</td>\n",
              "      <td>False</td>\n",
              "      <td>E/200/P</td>\n",
              "      <td>TRAPPIST-1e</td>\n",
              "      <td>18.0</td>\n",
              "      <td>False</td>\n",
              "      <td>0.0</td>\n",
              "      <td>30.0</td>\n",
              "      <td>0.0</td>\n",
              "      <td>756.0</td>\n",
              "      <td>5.0</td>\n",
              "      <td>Anton Woody</td>\n",
              "      <td>False</td>\n",
              "      <td>3236</td>\n",
              "      <td>3</td>\n",
              "      <td>Woody</td>\n",
              "    </tr>\n",
              "    <tr>\n",
              "      <th>4108</th>\n",
              "      <td>4387_01</td>\n",
              "      <td>Mars</td>\n",
              "      <td>False</td>\n",
              "      <td>F/902/P</td>\n",
              "      <td>PSO J318.5-22</td>\n",
              "      <td>32.0</td>\n",
              "      <td>False</td>\n",
              "      <td>192.0</td>\n",
              "      <td>0.0</td>\n",
              "      <td>441.0</td>\n",
              "      <td>18.0</td>\n",
              "      <td>0.0</td>\n",
              "      <td>Apix Wala</td>\n",
              "      <td>False</td>\n",
              "      <td>4387</td>\n",
              "      <td>1</td>\n",
              "      <td>Wala</td>\n",
              "    </tr>\n",
              "    <tr>\n",
              "      <th>2559</th>\n",
              "      <td>2746_01</td>\n",
              "      <td>Mars</td>\n",
              "      <td>False</td>\n",
              "      <td>F/569/P</td>\n",
              "      <td>TRAPPIST-1e</td>\n",
              "      <td>52.0</td>\n",
              "      <td>False</td>\n",
              "      <td>758.0</td>\n",
              "      <td>0.0</td>\n",
              "      <td>356.0</td>\n",
              "      <td>5.0</td>\n",
              "      <td>0.0</td>\n",
              "      <td>Apix Wala</td>\n",
              "      <td>False</td>\n",
              "      <td>2746</td>\n",
              "      <td>1</td>\n",
              "      <td>Wala</td>\n",
              "    </tr>\n",
              "    <tr>\n",
              "      <th>7871</th>\n",
              "      <td>8398_01</td>\n",
              "      <td>Europa</td>\n",
              "      <td>True</td>\n",
              "      <td>B/329/S</td>\n",
              "      <td>TRAPPIST-1e</td>\n",
              "      <td>15.0</td>\n",
              "      <td>False</td>\n",
              "      <td>0.0</td>\n",
              "      <td>0.0</td>\n",
              "      <td>0.0</td>\n",
              "      <td>0.0</td>\n",
              "      <td>0.0</td>\n",
              "      <td>Asch Stradick</td>\n",
              "      <td>True</td>\n",
              "      <td>8398</td>\n",
              "      <td>2</td>\n",
              "      <td>Stradick</td>\n",
              "    </tr>\n",
              "    <tr>\n",
              "      <th>6086</th>\n",
              "      <td>6432_01</td>\n",
              "      <td>Europa</td>\n",
              "      <td>False</td>\n",
              "      <td>D/202/P</td>\n",
              "      <td>55 Cancri e</td>\n",
              "      <td>55.0</td>\n",
              "      <td>False</td>\n",
              "      <td>114.0</td>\n",
              "      <td>222.0</td>\n",
              "      <td>0.0</td>\n",
              "      <td>2575.0</td>\n",
              "      <td>2919.0</td>\n",
              "      <td>Asch Stradick</td>\n",
              "      <td>False</td>\n",
              "      <td>6432</td>\n",
              "      <td>1</td>\n",
              "      <td>Stradick</td>\n",
              "    </tr>\n",
              "  </tbody>\n",
              "</table>\n",
              "</div>\n",
              "      <button class=\"colab-df-convert\" onclick=\"convertToInteractive('df-7c9e5353-14c3-49ec-9c0f-cd270790dc0f')\"\n",
              "              title=\"Convert this dataframe to an interactive table.\"\n",
              "              style=\"display:none;\">\n",
              "        \n",
              "  <svg xmlns=\"http://www.w3.org/2000/svg\" height=\"24px\"viewBox=\"0 0 24 24\"\n",
              "       width=\"24px\">\n",
              "    <path d=\"M0 0h24v24H0V0z\" fill=\"none\"/>\n",
              "    <path d=\"M18.56 5.44l.94 2.06.94-2.06 2.06-.94-2.06-.94-.94-2.06-.94 2.06-2.06.94zm-11 1L8.5 8.5l.94-2.06 2.06-.94-2.06-.94L8.5 2.5l-.94 2.06-2.06.94zm10 10l.94 2.06.94-2.06 2.06-.94-2.06-.94-.94-2.06-.94 2.06-2.06.94z\"/><path d=\"M17.41 7.96l-1.37-1.37c-.4-.4-.92-.59-1.43-.59-.52 0-1.04.2-1.43.59L10.3 9.45l-7.72 7.72c-.78.78-.78 2.05 0 2.83L4 21.41c.39.39.9.59 1.41.59.51 0 1.02-.2 1.41-.59l7.78-7.78 2.81-2.81c.8-.78.8-2.07 0-2.86zM5.41 20L4 18.59l7.72-7.72 1.47 1.35L5.41 20z\"/>\n",
              "  </svg>\n",
              "      </button>\n",
              "      \n",
              "  <style>\n",
              "    .colab-df-container {\n",
              "      display:flex;\n",
              "      flex-wrap:wrap;\n",
              "      gap: 12px;\n",
              "    }\n",
              "\n",
              "    .colab-df-convert {\n",
              "      background-color: #E8F0FE;\n",
              "      border: none;\n",
              "      border-radius: 50%;\n",
              "      cursor: pointer;\n",
              "      display: none;\n",
              "      fill: #1967D2;\n",
              "      height: 32px;\n",
              "      padding: 0 0 0 0;\n",
              "      width: 32px;\n",
              "    }\n",
              "\n",
              "    .colab-df-convert:hover {\n",
              "      background-color: #E2EBFA;\n",
              "      box-shadow: 0px 1px 2px rgba(60, 64, 67, 0.3), 0px 1px 3px 1px rgba(60, 64, 67, 0.15);\n",
              "      fill: #174EA6;\n",
              "    }\n",
              "\n",
              "    [theme=dark] .colab-df-convert {\n",
              "      background-color: #3B4455;\n",
              "      fill: #D2E3FC;\n",
              "    }\n",
              "\n",
              "    [theme=dark] .colab-df-convert:hover {\n",
              "      background-color: #434B5C;\n",
              "      box-shadow: 0px 1px 3px 1px rgba(0, 0, 0, 0.15);\n",
              "      filter: drop-shadow(0px 1px 2px rgba(0, 0, 0, 0.3));\n",
              "      fill: #FFFFFF;\n",
              "    }\n",
              "  </style>\n",
              "\n",
              "      <script>\n",
              "        const buttonEl =\n",
              "          document.querySelector('#df-7c9e5353-14c3-49ec-9c0f-cd270790dc0f button.colab-df-convert');\n",
              "        buttonEl.style.display =\n",
              "          google.colab.kernel.accessAllowed ? 'block' : 'none';\n",
              "\n",
              "        async function convertToInteractive(key) {\n",
              "          const element = document.querySelector('#df-7c9e5353-14c3-49ec-9c0f-cd270790dc0f');\n",
              "          const dataTable =\n",
              "            await google.colab.kernel.invokeFunction('convertToInteractive',\n",
              "                                                     [key], {});\n",
              "          if (!dataTable) return;\n",
              "\n",
              "          const docLinkHtml = 'Like what you see? Visit the ' +\n",
              "            '<a target=\"_blank\" href=https://colab.research.google.com/notebooks/data_table.ipynb>data table notebook</a>'\n",
              "            + ' to learn more about interactive tables.';\n",
              "          element.innerHTML = '';\n",
              "          dataTable['output_type'] = 'display_data';\n",
              "          await google.colab.output.renderOutput(dataTable, element);\n",
              "          const docLink = document.createElement('div');\n",
              "          docLink.innerHTML = docLinkHtml;\n",
              "          element.appendChild(docLink);\n",
              "        }\n",
              "      </script>\n",
              "    </div>\n",
              "  </div>\n",
              "  "
            ]
          },
          "metadata": {},
          "execution_count": 30
        }
      ]
    },
    {
      "cell_type": "markdown",
      "source": [
        "* Twenty passengers in the training data have duplicate names.\n",
        "* Analysis of additional features show that passengers with duplicate names have other, meaningful differences indicating that they appear to be different people who happen to share a name. \n",
        "* It does not appear that Passenger Name will be useful as an analytic feature or unique identifier. "
      ],
      "metadata": {
        "id": "6y4F9Ud3e_QY"
      }
    },
    {
      "cell_type": "markdown",
      "source": [
        "## Cabin\n",
        "*The cabin number where the passenger is staying. Takes the form deck/num/side, where side can be either P for Port or S for Starboard.*"
      ],
      "metadata": {
        "id": "1RpnLHwWpmDD"
      }
    },
    {
      "cell_type": "code",
      "source": [
        "train_df['Cabin'].value_counts().head()"
      ],
      "metadata": {
        "colab": {
          "base_uri": "https://localhost:8080/"
        },
        "id": "w4Ii5MQHA034",
        "outputId": "08a55b3c-68c7-4720-f0e1-1d06872087bd"
      },
      "execution_count": 32,
      "outputs": [
        {
          "output_type": "execute_result",
          "data": {
            "text/plain": [
              "G/734/S     8\n",
              "G/109/P     7\n",
              "B/201/P     7\n",
              "G/1368/P    7\n",
              "G/981/S     7\n",
              "Name: Cabin, dtype: int64"
            ]
          },
          "metadata": {},
          "execution_count": 32
        }
      ]
    },
    {
      "cell_type": "markdown",
      "source": [
        "### Fill Missing Values \n",
        "Before parsing the Passenger Cabin feature into deck, number, and side, we need to fill in missing values. The function to implement this is provided at the top of this notebook.\n",
        "* For passengers traveling alone, we will impute an arbitrary value of 'F/999/P' based on prior analysis that showed F is the most common deck and had similar characteristics to passengers with missing Cabins. This was also the case with passengers on the 'Port' side of the ship, so we filled P as well.\n",
        "* For passengers traveling in groups of two or more we will use forward-fill or backward-fill to use the cabin of another passenger in the same group.\n",
        "* For any outlier instances where all travelers in a group are missing a cabin we will fill using the 'F/999/P' cabin."
      ],
      "metadata": {
        "id": "q4G77cbo5m-Y"
      }
    },
    {
      "cell_type": "code",
      "source": [
        "train_df = fill_categorical(df=train_df, col='Cabin', \n",
        "                            fill_value = 'F/999/P')"
      ],
      "metadata": {
        "id": "CXe0Ao_SjSXc"
      },
      "execution_count": 33,
      "outputs": []
    },
    {
      "cell_type": "code",
      "source": [
        "test_df = fill_categorical(df=test_df, col='Cabin', \n",
        "                            fill_value = 'F/999/P')"
      ],
      "metadata": {
        "id": "7WLlTSsHj7Al"
      },
      "execution_count": 34,
      "outputs": []
    },
    {
      "cell_type": "code",
      "source": [
        "print('count of unique cabins:', train_df['Cabin'].nunique())"
      ],
      "metadata": {
        "colab": {
          "base_uri": "https://localhost:8080/"
        },
        "id": "r3k8fQhbQ27G",
        "outputId": "f5e4253b-d67e-4b9b-f979-70bd228e1882"
      },
      "execution_count": 35,
      "outputs": [
        {
          "output_type": "stream",
          "name": "stdout",
          "text": [
            "count of unique cabins: 6560\n"
          ]
        }
      ]
    },
    {
      "cell_type": "markdown",
      "source": [
        "### Parse Cabin into Deck, Number, and Side"
      ],
      "metadata": {
        "id": "htrIRMHH1Gap"
      }
    },
    {
      "cell_type": "code",
      "source": [
        "for df in full_data:\n",
        "  df['Cabin_Deck'] = df['Cabin'].apply(lambda x: x.split('/')[0]).astype(str)\n",
        "  df['Cabin_Num'] = df['Cabin'].apply(lambda x: x.split('/')[1]).astype(str)\n",
        "  df['Cabin_Side'] = df['Cabin'].apply(lambda x: x.split('/')[2]).astype(str) "
      ],
      "metadata": {
        "id": "wlD37Fib1F5E"
      },
      "execution_count": 36,
      "outputs": []
    },
    {
      "cell_type": "code",
      "source": [
        "train_df['Cabin_Deck'] = train_df['Cabin_Deck'].astype('category')\n",
        "test_df['Cabin_Deck'] = test_df['Cabin_Deck'].astype('category')\n",
        "\n",
        "train_df['Cabin_Side'] = train_df['Cabin_Side'].astype('category')\n",
        "test_df['Cabin_Side'] = test_df['Cabin_Side'].astype('category')"
      ],
      "metadata": {
        "id": "0mgzKWk9sFjX"
      },
      "execution_count": 37,
      "outputs": []
    },
    {
      "cell_type": "code",
      "source": [
        "# remove slashes from original cabin value \n",
        "train_df['Cabin'] = train_df['Cabin'].str.replace('/', '')"
      ],
      "metadata": {
        "id": "DF4zbmEKqrH3"
      },
      "execution_count": 38,
      "outputs": []
    },
    {
      "cell_type": "markdown",
      "source": [
        "### Passenger Cabin Deck"
      ],
      "metadata": {
        "id": "cReWIEHT055_"
      }
    },
    {
      "cell_type": "code",
      "source": [
        "horizontal_countplot(df=train_df, \n",
        "                     col='Cabin_Deck', \n",
        "                     title = 'Distribution of Passengers by Cabin Deck',\n",
        "                     order=['A', 'B', 'C', 'D', 'E', 'F', 'G', 'T'])"
      ],
      "metadata": {
        "colab": {
          "base_uri": "https://localhost:8080/",
          "height": 410
        },
        "id": "oyUNGcy4kUT6",
        "outputId": "ecab4ff5-4577-4f55-b982-5e9f0b5eb698"
      },
      "execution_count": 39,
      "outputs": [
        {
          "output_type": "display_data",
          "data": {
            "text/plain": [
              "<Figure size 792x432 with 1 Axes>"
            ],
            "image/png": "[encoded data removed]"
          },
          "metadata": {}
        }
      ]
    },
    {
      "cell_type": "code",
      "source": [
        "plot_transported_pct(df=train_df, \n",
        "                     col='Cabin_Deck', \n",
        "                     title='Percentage of Passengers Transported by Cabin Deck')"
      ],
      "metadata": {
        "colab": {
          "base_uri": "https://localhost:8080/",
          "height": 338
        },
        "id": "6OL41pF608vo",
        "outputId": "4efd240a-56ae-4b0c-d8c8-2f9040237056"
      },
      "execution_count": 40,
      "outputs": [
        {
          "output_type": "display_data",
          "data": {
            "text/plain": [
              "<Figure size 720x360 with 1 Axes>"
            ],
            "image/png": "[encoded data removed]"
          },
          "metadata": {}
        }
      ]
    },
    {
      "cell_type": "markdown",
      "source": [
        "### Passenger Cabin Side"
      ],
      "metadata": {
        "id": "U9dT-wgs5paS"
      }
    },
    {
      "cell_type": "code",
      "source": [
        "horizontal_countplot(df=train_df, col='Cabin_Side',\n",
        "                     title='Distribution of Passengers by Cabin Side')"
      ],
      "metadata": {
        "colab": {
          "base_uri": "https://localhost:8080/",
          "height": 410
        },
        "id": "s8hZMArflKXP",
        "outputId": "45f16b65-2995-4085-f741-f8f015112a19"
      },
      "execution_count": 41,
      "outputs": [
        {
          "output_type": "display_data",
          "data": {
            "text/plain": [
              "<Figure size 792x432 with 1 Axes>"
            ],
            "image/png": "[encoded data removed]"
          },
          "metadata": {}
        }
      ]
    },
    {
      "cell_type": "code",
      "source": [
        "plot_transported_pct(df=train_df, col='Cabin_Side', \n",
        "                     title='Percentage of Passengers Transported by Cabin Side')"
      ],
      "metadata": {
        "colab": {
          "base_uri": "https://localhost:8080/",
          "height": 338
        },
        "id": "IkApzbhw4E8P",
        "outputId": "43a9b55c-9af5-4078-83c4-e2cf819edb37"
      },
      "execution_count": 42,
      "outputs": [
        {
          "output_type": "display_data",
          "data": {
            "text/plain": [
              "<Figure size 720x360 with 1 Axes>"
            ],
            "image/png": "[encoded data removed]"
          },
          "metadata": {}
        }
      ]
    },
    {
      "cell_type": "markdown",
      "source": [
        "### Analysis of Passenger Cabin\n",
        "* `Cabin_Deck:` Passengers on decks B and C appear to have a dramatically higher chance of being transported, while passengers on decks E and the sparsely populated T have much lower changes of being transported.\n",
        "* `Cabin_Side:` While the distribution of passengers is relatively even, as expected, it appears passengers on the Starboard side have a slightly higher rate of being transported than do passengers on the Port side. "
      ],
      "metadata": {
        "id": "LrVsIJ2x4S3U"
      }
    },
    {
      "cell_type": "markdown",
      "source": [
        "## Home Planet\n",
        "*The planet the passenger departed from, typically their planet of permanent residence.*"
      ],
      "metadata": {
        "id": "58ctR149nSo-"
      }
    },
    {
      "cell_type": "markdown",
      "source": [
        "### Impute Missing Values\n",
        "Impute using the mode for the train and test data sets respectively."
      ],
      "metadata": {
        "id": "FCPiEDppPmQS"
      }
    },
    {
      "cell_type": "code",
      "source": [
        "train_df = fill_categorical(df=train_df, col='HomePlanet', \n",
        "                            fill_value=train_df['HomePlanet'].value_counts().index[0])\n",
        "\n",
        "train_df['HomePlanet'] = train_df['HomePlanet'].astype('category')"
      ],
      "metadata": {
        "id": "vKoLNviElpwl"
      },
      "execution_count": 43,
      "outputs": []
    },
    {
      "cell_type": "code",
      "source": [
        "test_df = fill_categorical(df=test_df, col='HomePlanet', \n",
        "                           fill_value=test_df['HomePlanet'].value_counts().index[0])\n",
        "\n",
        "test_df['HomePlanet'] = test_df['HomePlanet'].astype('category')"
      ],
      "metadata": {
        "id": "bkLQa5Iglpnh"
      },
      "execution_count": 44,
      "outputs": []
    },
    {
      "cell_type": "markdown",
      "source": [
        "### Analysis of HomePlanet"
      ],
      "metadata": {
        "id": "b0MFVIngPoBN"
      }
    },
    {
      "cell_type": "code",
      "source": [
        "horizontal_countplot(df=train_df, col='HomePlanet', \n",
        "                     title='Distribution of Passenger Home Planets',\n",
        "                     order=['Earth', 'Europa', 'Mars'])"
      ],
      "metadata": {
        "colab": {
          "base_uri": "https://localhost:8080/",
          "height": 410
        },
        "id": "Jz6SU6CXmLqu",
        "outputId": "59325f29-7145-4299-d6a4-94cdd478e098"
      },
      "execution_count": 45,
      "outputs": [
        {
          "output_type": "display_data",
          "data": {
            "text/plain": [
              "<Figure size 792x432 with 1 Axes>"
            ],
            "image/png": "[encoded data removed]"
          },
          "metadata": {}
        }
      ]
    },
    {
      "cell_type": "code",
      "source": [
        "plot_transported_pct(df=train_df, col='HomePlanet', \n",
        "                     title='Percent Transported by HomePlanet')"
      ],
      "metadata": {
        "colab": {
          "base_uri": "https://localhost:8080/",
          "height": 338
        },
        "id": "iaUTgjGd7mAF",
        "outputId": "fb626b38-465e-430b-d008-042a4b5a2376"
      },
      "execution_count": 46,
      "outputs": [
        {
          "output_type": "display_data",
          "data": {
            "text/plain": [
              "<Figure size 720x360 with 1 Axes>"
            ],
            "image/png": "[encoded data removed]"
          },
          "metadata": {}
        }
      ]
    },
    {
      "cell_type": "markdown",
      "source": [
        "* Earth is the most frequent HomePlanet for passengers.\n",
        "* Passengers from Europa have an almost 15% higher chance of being transported vs. passengers from Earth having about an 8% lower chance of being transported."
      ],
      "metadata": {
        "id": "XXpet_AU74lV"
      }
    },
    {
      "cell_type": "markdown",
      "source": [
        "## Destination\n",
        "*The planet the passenger will be debarking to.*"
      ],
      "metadata": {
        "id": "SazZx84RQ5dd"
      }
    },
    {
      "cell_type": "markdown",
      "source": [
        "### Remove Non-Alphanumeric Characters\n",
        "The non-alphanumeric characters are not necessary and could interfere with other analysis."
      ],
      "metadata": {
        "id": "B-ObO63TBmZU"
      }
    },
    {
      "cell_type": "code",
      "source": [
        "for df in full_data:\n",
        "  df['Destination'] = df['Destination'].str.replace('[^a-zA-Z0-9]', '', regex=True).str.strip()"
      ],
      "metadata": {
        "id": "zAclKrcpBp82"
      },
      "execution_count": 47,
      "outputs": []
    },
    {
      "cell_type": "markdown",
      "source": [
        "### Impute Missing Values\n",
        "Fill based upon the most frequent value in the data."
      ],
      "metadata": {
        "id": "5eW6rzM_RysC"
      }
    },
    {
      "cell_type": "code",
      "source": [
        "train_df = fill_categorical(df=train_df, col='Destination', \n",
        "                            fill_value=train_df['Destination'].value_counts().index[0])\n",
        "\n",
        "train_df['Destination'] = train_df['Destination'].astype('category')"
      ],
      "metadata": {
        "id": "nAoRXC_RqFFG"
      },
      "execution_count": 48,
      "outputs": []
    },
    {
      "cell_type": "code",
      "source": [
        "test_df = fill_categorical(df=test_df, col='Destination', \n",
        "                           fill_value=test_df['Destination'].value_counts().index[0])\n",
        "\n",
        "test_df['Destination'] = test_df['Destination'].astype('category')"
      ],
      "metadata": {
        "id": "zckkc7LAqFFG"
      },
      "execution_count": 49,
      "outputs": []
    },
    {
      "cell_type": "markdown",
      "source": [
        "### Analysis of Destination"
      ],
      "metadata": {
        "id": "3ubiWJd7Q5T3"
      }
    },
    {
      "cell_type": "code",
      "source": [
        "horizontal_countplot(df=train_df, col='Destination',\n",
        "                     title='Distribution of Passenger Destinations',\n",
        "                     order=['TRAPPIST1e', '55Cancrie', 'PSOJ318522'])"
      ],
      "metadata": {
        "colab": {
          "base_uri": "https://localhost:8080/",
          "height": 410
        },
        "id": "4n85q8mgqcU9",
        "outputId": "d496972e-d61b-4030-9565-0bdbcc01a4d8"
      },
      "execution_count": 50,
      "outputs": [
        {
          "output_type": "display_data",
          "data": {
            "text/plain": [
              "<Figure size 792x432 with 1 Axes>"
            ],
            "image/png": "[encoded data removed]"
          },
          "metadata": {}
        }
      ]
    },
    {
      "cell_type": "code",
      "source": [
        "plot_transported_pct(df=train_df, col='Destination', \n",
        "                     title='Percent Transported by Destination')"
      ],
      "metadata": {
        "colab": {
          "base_uri": "https://localhost:8080/",
          "height": 338
        },
        "outputId": "b21735e4-89e8-43d3-d0f9-0ceda4172be3",
        "id": "_iJqEIfUTnKL"
      },
      "execution_count": 51,
      "outputs": [
        {
          "output_type": "display_data",
          "data": {
            "text/plain": [
              "<Figure size 720x360 with 1 Axes>"
            ],
            "image/png": "[encoded data removed]"
          },
          "metadata": {}
        }
      ]
    },
    {
      "cell_type": "markdown",
      "source": [
        "* Trappist-1e is by far the most common passenger destination.\n",
        "* Passengers traveling to 55 Cancri e have more than a 60% chance of being transported, while passengers traveling to Trappist-1e have a slightly less than 50% chance of being transported. "
      ],
      "metadata": {
        "id": "j1LKDkimT7mF"
      }
    },
    {
      "cell_type": "markdown",
      "source": [
        "## CryoSleep\n",
        "*Indicates whether the passenger elected to be put into suspended animation for the duration of the voyage. Passengers in cryosleep are confined to their cabins.*"
      ],
      "metadata": {
        "id": "7Oko3URTo32B"
      }
    },
    {
      "cell_type": "markdown",
      "source": [
        "### Impute Missing Values\n",
        "Fill based on the most frequent value. "
      ],
      "metadata": {
        "id": "5K-V36tBVW8a"
      }
    },
    {
      "cell_type": "code",
      "source": [
        "train_df = fill_categorical(df=train_df, col='CryoSleep', \n",
        "                            fill_value=train_df['CryoSleep'].value_counts().index[0])\n",
        "train_df['CryoSleep'] = train_df['CryoSleep'].astype('category')\n"
      ],
      "metadata": {
        "id": "CEZkSNRdq5Lx"
      },
      "execution_count": 52,
      "outputs": []
    },
    {
      "cell_type": "code",
      "source": [
        "test_df = fill_categorical(df=test_df, col='CryoSleep', \n",
        "                           fill_value=test_df['CryoSleep'].value_counts().index[0])\n",
        "test_df['CryoSleep'] = test_df['CryoSleep'].astype('category')"
      ],
      "metadata": {
        "id": "J3V3FZ9mq5Ly"
      },
      "execution_count": 53,
      "outputs": []
    },
    {
      "cell_type": "markdown",
      "source": [
        "### Analysis of CryoSleep"
      ],
      "metadata": {
        "id": "T1rlf5LYPTr1"
      }
    },
    {
      "cell_type": "code",
      "source": [
        "horizontal_countplot(df=train_df, col='CryoSleep',\n",
        "                     title='Distribution of Passenger CryoSleep Status')"
      ],
      "metadata": {
        "colab": {
          "base_uri": "https://localhost:8080/",
          "height": 410
        },
        "id": "cqvIrATQhTQI",
        "outputId": "23cc47f0-e152-46ca-cb19-f72390efab74"
      },
      "execution_count": 54,
      "outputs": [
        {
          "output_type": "display_data",
          "data": {
            "text/plain": [
              "<Figure size 792x432 with 1 Axes>"
            ],
            "image/png": "[encoded data removed]"
          },
          "metadata": {}
        }
      ]
    },
    {
      "cell_type": "code",
      "source": [
        "plot_transported_pct(df=train_df, col='CryoSleep', \n",
        "                     title='Percent Transported by CryoSleep Status')"
      ],
      "metadata": {
        "colab": {
          "base_uri": "https://localhost:8080/",
          "height": 338
        },
        "id": "R_lq5H8qNQfJ",
        "outputId": "f0235b4a-8a4e-4fcc-dc86-bfd2ae3529be"
      },
      "execution_count": 55,
      "outputs": [
        {
          "output_type": "display_data",
          "data": {
            "text/plain": [
              "<Figure size 720x360 with 1 Axes>"
            ],
            "image/png": "[encoded data removed]"
          },
          "metadata": {}
        }
      ]
    },
    {
      "cell_type": "markdown",
      "source": [
        "* Approximately one-third of passengers chose to be put into CryoSleep during the voyage.\n",
        "* Those that were placed into CryoSleep appear to have a better than 80% chance of being transported to another dimension, making this likely one of our most important predictor variables."
      ],
      "metadata": {
        "id": "pwVbjoZieKLs"
      }
    },
    {
      "cell_type": "markdown",
      "source": [
        "## VIP Status\n",
        "*Whether the passenger has paid for special VIP service during the voyage.*"
      ],
      "metadata": {
        "id": "dhBK5UMEQRTb"
      }
    },
    {
      "cell_type": "markdown",
      "source": [
        "### Impute Missing Values\n",
        "Fill based on the most frequent value."
      ],
      "metadata": {
        "id": "zVpwJErjPiXd"
      }
    },
    {
      "cell_type": "code",
      "source": [
        "train_df = fill_categorical(df=train_df, col='VIP', \n",
        "                            fill_value=train_df['VIP'].value_counts().index[0])\n",
        "train_df['VIP'] = train_df['VIP'].astype('category')"
      ],
      "metadata": {
        "id": "pY20xBr8hrC-"
      },
      "execution_count": 56,
      "outputs": []
    },
    {
      "cell_type": "code",
      "source": [
        "test_df = fill_categorical(df=test_df, col='VIP', \n",
        "                           fill_value=test_df['VIP'].value_counts().index[0])\n",
        "test_df['VIP'] = test_df['VIP'].astype('category')"
      ],
      "metadata": {
        "id": "vHskWcdkhrC-"
      },
      "execution_count": 57,
      "outputs": []
    },
    {
      "cell_type": "markdown",
      "source": [
        "### Analysis of VIP Status"
      ],
      "metadata": {
        "id": "j40gwcC_Wgw-"
      }
    },
    {
      "cell_type": "code",
      "source": [
        "horizontal_countplot(df=train_df, col='VIP',\n",
        "                     title='Distribution of Passenger VIP Status')"
      ],
      "metadata": {
        "colab": {
          "base_uri": "https://localhost:8080/",
          "height": 410
        },
        "id": "QUAXBYPhiP-G",
        "outputId": "181f9eaf-b973-486d-a852-fc99d95dafe8"
      },
      "execution_count": 58,
      "outputs": [
        {
          "output_type": "display_data",
          "data": {
            "text/plain": [
              "<Figure size 792x432 with 1 Axes>"
            ],
            "image/png": "[encoded data removed]"
          },
          "metadata": {}
        }
      ]
    },
    {
      "cell_type": "code",
      "source": [
        "plot_transported_pct(df=train_df, col='VIP', title='Percent Transported by VIP Status')"
      ],
      "metadata": {
        "colab": {
          "base_uri": "https://localhost:8080/",
          "height": 338
        },
        "outputId": "064a77aa-4592-4185-e5dc-3c8069247819",
        "id": "KHfHe6OUWgw_"
      },
      "execution_count": 59,
      "outputs": [
        {
          "output_type": "display_data",
          "data": {
            "text/plain": [
              "<Figure size 720x360 with 1 Axes>"
            ],
            "image/png": "[encoded data removed]"
          },
          "metadata": {}
        }
      ]
    },
    {
      "cell_type": "markdown",
      "source": [
        "* Few passengers have VIP status on the ship.\n",
        "* Those who do have about a 12% lower chance of being transported than do non-VIP passengers."
      ],
      "metadata": {
        "id": "3e34zdRFWgw_"
      }
    },
    {
      "cell_type": "markdown",
      "source": [
        "# Numeric Features"
      ],
      "metadata": {
        "id": "p23xwBxsWzA1"
      }
    },
    {
      "cell_type": "markdown",
      "source": [
        "## Impute Missing Numeric Values\n",
        "  * `Age:` The mean and median are very close, so we will impute the median to be consistent.\n",
        "  * `Onboard Spend Categories:` The median value for all five of these categories is zero, indicating a heavy skew. Therefore we will also use the median. "
      ],
      "metadata": {
        "id": "qmS74GuPnYFe"
      }
    },
    {
      "cell_type": "code",
      "source": [
        "numeric_features = ['Age', 'RoomService', 'FoodCourt', 'ShoppingMall', 'Spa', 'VRDeck']\n",
        "\n",
        "for df in full_data:\n",
        "  for feature in numeric_features:\n",
        "    df[feature].fillna(df[feature].median(), inplace=True)"
      ],
      "metadata": {
        "id": "DabnXgmSkD08"
      },
      "execution_count": 60,
      "outputs": []
    },
    {
      "cell_type": "code",
      "source": [
        "for df in full_data:\n",
        "  for feature in numeric_features:\n",
        "    df[feature] = df[feature].astype(int)"
      ],
      "metadata": {
        "id": "ckdDesuVBWXr"
      },
      "execution_count": 61,
      "outputs": []
    },
    {
      "cell_type": "code",
      "source": [
        "round(train_df[numeric_features].describe(), 0).T"
      ],
      "metadata": {
        "colab": {
          "base_uri": "https://localhost:8080/",
          "height": 237
        },
        "id": "Zhd8Use2okQP",
        "outputId": "659e240a-4d63-4588-e5b7-9d26d9bd5692"
      },
      "execution_count": 62,
      "outputs": [
        {
          "output_type": "execute_result",
          "data": {
            "text/plain": [
              "               count   mean     std  min   25%   50%   75%      max\n",
              "Age           8693.0   29.0    14.0  0.0  20.0  27.0  37.0     79.0\n",
              "RoomService   8693.0  220.0   661.0  0.0   0.0   0.0  41.0  14327.0\n",
              "FoodCourt     8693.0  448.0  1596.0  0.0   0.0   0.0  61.0  29813.0\n",
              "ShoppingMall  8693.0  170.0   598.0  0.0   0.0   0.0  22.0  23492.0\n",
              "Spa           8693.0  305.0  1126.0  0.0   0.0   0.0  53.0  22408.0\n",
              "VRDeck        8693.0  298.0  1134.0  0.0   0.0   0.0  40.0  24133.0"
            ],
            "text/html": [
              "\n",
              "  <div id=\"df-cdf41872-6022-48ca-ab65-1a09411be50f\">\n",
              "    <div class=\"colab-df-container\">\n",
              "      <div>\n",
              "<style scoped>\n",
              "    .dataframe tbody tr th:only-of-type {\n",
              "        vertical-align: middle;\n",
              "    }\n",
              "\n",
              "    .dataframe tbody tr th {\n",
              "        vertical-align: top;\n",
              "    }\n",
              "\n",
              "    .dataframe thead th {\n",
              "        text-align: right;\n",
              "    }\n",
              "</style>\n",
              "<table border=\"1\" class=\"dataframe\">\n",
              "  <thead>\n",
              "    <tr style=\"text-align: right;\">\n",
              "      <th></th>\n",
              "      <th>count</th>\n",
              "      <th>mean</th>\n",
              "      <th>std</th>\n",
              "      <th>min</th>\n",
              "      <th>25%</th>\n",
              "      <th>50%</th>\n",
              "      <th>75%</th>\n",
              "      <th>max</th>\n",
              "    </tr>\n",
              "  </thead>\n",
              "  <tbody>\n",
              "    <tr>\n",
              "      <th>Age</th>\n",
              "      <td>8693.0</td>\n",
              "      <td>29.0</td>\n",
              "      <td>14.0</td>\n",
              "      <td>0.0</td>\n",
              "      <td>20.0</td>\n",
              "      <td>27.0</td>\n",
              "      <td>37.0</td>\n",
              "      <td>79.0</td>\n",
              "    </tr>\n",
              "    <tr>\n",
              "      <th>RoomService</th>\n",
              "      <td>8693.0</td>\n",
              "      <td>220.0</td>\n",
              "      <td>661.0</td>\n",
              "      <td>0.0</td>\n",
              "      <td>0.0</td>\n",
              "      <td>0.0</td>\n",
              "      <td>41.0</td>\n",
              "      <td>14327.0</td>\n",
              "    </tr>\n",
              "    <tr>\n",
              "      <th>FoodCourt</th>\n",
              "      <td>8693.0</td>\n",
              "      <td>448.0</td>\n",
              "      <td>1596.0</td>\n",
              "      <td>0.0</td>\n",
              "      <td>0.0</td>\n",
              "      <td>0.0</td>\n",
              "      <td>61.0</td>\n",
              "      <td>29813.0</td>\n",
              "    </tr>\n",
              "    <tr>\n",
              "      <th>ShoppingMall</th>\n",
              "      <td>8693.0</td>\n",
              "      <td>170.0</td>\n",
              "      <td>598.0</td>\n",
              "      <td>0.0</td>\n",
              "      <td>0.0</td>\n",
              "      <td>0.0</td>\n",
              "      <td>22.0</td>\n",
              "      <td>23492.0</td>\n",
              "    </tr>\n",
              "    <tr>\n",
              "      <th>Spa</th>\n",
              "      <td>8693.0</td>\n",
              "      <td>305.0</td>\n",
              "      <td>1126.0</td>\n",
              "      <td>0.0</td>\n",
              "      <td>0.0</td>\n",
              "      <td>0.0</td>\n",
              "      <td>53.0</td>\n",
              "      <td>22408.0</td>\n",
              "    </tr>\n",
              "    <tr>\n",
              "      <th>VRDeck</th>\n",
              "      <td>8693.0</td>\n",
              "      <td>298.0</td>\n",
              "      <td>1134.0</td>\n",
              "      <td>0.0</td>\n",
              "      <td>0.0</td>\n",
              "      <td>0.0</td>\n",
              "      <td>40.0</td>\n",
              "      <td>24133.0</td>\n",
              "    </tr>\n",
              "  </tbody>\n",
              "</table>\n",
              "</div>\n",
              "      <button class=\"colab-df-convert\" onclick=\"convertToInteractive('df-cdf41872-6022-48ca-ab65-1a09411be50f')\"\n",
              "              title=\"Convert this dataframe to an interactive table.\"\n",
              "              style=\"display:none;\">\n",
              "        \n",
              "  <svg xmlns=\"http://www.w3.org/2000/svg\" height=\"24px\"viewBox=\"0 0 24 24\"\n",
              "       width=\"24px\">\n",
              "    <path d=\"M0 0h24v24H0V0z\" fill=\"none\"/>\n",
              "    <path d=\"M18.56 5.44l.94 2.06.94-2.06 2.06-.94-2.06-.94-.94-2.06-.94 2.06-2.06.94zm-11 1L8.5 8.5l.94-2.06 2.06-.94-2.06-.94L8.5 2.5l-.94 2.06-2.06.94zm10 10l.94 2.06.94-2.06 2.06-.94-2.06-.94-.94-2.06-.94 2.06-2.06.94z\"/><path d=\"M17.41 7.96l-1.37-1.37c-.4-.4-.92-.59-1.43-.59-.52 0-1.04.2-1.43.59L10.3 9.45l-7.72 7.72c-.78.78-.78 2.05 0 2.83L4 21.41c.39.39.9.59 1.41.59.51 0 1.02-.2 1.41-.59l7.78-7.78 2.81-2.81c.8-.78.8-2.07 0-2.86zM5.41 20L4 18.59l7.72-7.72 1.47 1.35L5.41 20z\"/>\n",
              "  </svg>\n",
              "      </button>\n",
              "      \n",
              "  <style>\n",
              "    .colab-df-container {\n",
              "      display:flex;\n",
              "      flex-wrap:wrap;\n",
              "      gap: 12px;\n",
              "    }\n",
              "\n",
              "    .colab-df-convert {\n",
              "      background-color: #E8F0FE;\n",
              "      border: none;\n",
              "      border-radius: 50%;\n",
              "      cursor: pointer;\n",
              "      display: none;\n",
              "      fill: #1967D2;\n",
              "      height: 32px;\n",
              "      padding: 0 0 0 0;\n",
              "      width: 32px;\n",
              "    }\n",
              "\n",
              "    .colab-df-convert:hover {\n",
              "      background-color: #E2EBFA;\n",
              "      box-shadow: 0px 1px 2px rgba(60, 64, 67, 0.3), 0px 1px 3px 1px rgba(60, 64, 67, 0.15);\n",
              "      fill: #174EA6;\n",
              "    }\n",
              "\n",
              "    [theme=dark] .colab-df-convert {\n",
              "      background-color: #3B4455;\n",
              "      fill: #D2E3FC;\n",
              "    }\n",
              "\n",
              "    [theme=dark] .colab-df-convert:hover {\n",
              "      background-color: #434B5C;\n",
              "      box-shadow: 0px 1px 3px 1px rgba(0, 0, 0, 0.15);\n",
              "      filter: drop-shadow(0px 1px 2px rgba(0, 0, 0, 0.3));\n",
              "      fill: #FFFFFF;\n",
              "    }\n",
              "  </style>\n",
              "\n",
              "      <script>\n",
              "        const buttonEl =\n",
              "          document.querySelector('#df-cdf41872-6022-48ca-ab65-1a09411be50f button.colab-df-convert');\n",
              "        buttonEl.style.display =\n",
              "          google.colab.kernel.accessAllowed ? 'block' : 'none';\n",
              "\n",
              "        async function convertToInteractive(key) {\n",
              "          const element = document.querySelector('#df-cdf41872-6022-48ca-ab65-1a09411be50f');\n",
              "          const dataTable =\n",
              "            await google.colab.kernel.invokeFunction('convertToInteractive',\n",
              "                                                     [key], {});\n",
              "          if (!dataTable) return;\n",
              "\n",
              "          const docLinkHtml = 'Like what you see? Visit the ' +\n",
              "            '<a target=\"_blank\" href=https://colab.research.google.com/notebooks/data_table.ipynb>data table notebook</a>'\n",
              "            + ' to learn more about interactive tables.';\n",
              "          element.innerHTML = '';\n",
              "          dataTable['output_type'] = 'display_data';\n",
              "          await google.colab.output.renderOutput(dataTable, element);\n",
              "          const docLink = document.createElement('div');\n",
              "          docLink.innerHTML = docLinkHtml;\n",
              "          element.appendChild(docLink);\n",
              "        }\n",
              "      </script>\n",
              "    </div>\n",
              "  </div>\n",
              "  "
            ]
          },
          "metadata": {},
          "execution_count": 62
        }
      ]
    },
    {
      "cell_type": "markdown",
      "source": [
        "## Age\n",
        "*Age of the passenger.*"
      ],
      "metadata": {
        "id": "3rXyETJbkZs6"
      }
    },
    {
      "cell_type": "code",
      "source": [
        "create_desc_df(df=train_df, col='Age')"
      ],
      "metadata": {
        "colab": {
          "base_uri": "https://localhost:8080/",
          "height": 300
        },
        "id": "E5kJt2A8k_lM",
        "outputId": "e53c27f4-e9aa-4b12-d57b-c9273d603195"
      },
      "execution_count": 63,
      "outputs": [
        {
          "output_type": "execute_result",
          "data": {
            "text/plain": [
              "          All  Transported  Not Transported\n",
              "count  8693.0       4378.0           4315.0\n",
              "mean     29.0         28.0             30.0\n",
              "std      14.0         15.0             14.0\n",
              "min       0.0          0.0              0.0\n",
              "25%      20.0         18.0             21.0\n",
              "50%      27.0         27.0             27.0\n",
              "75%      37.0         37.0             38.0\n",
              "max      79.0         78.0             79.0"
            ],
            "text/html": [
              "\n",
              "  <div id=\"df-a05e21d7-e66c-4e97-8230-dac21ad6c3c0\">\n",
              "    <div class=\"colab-df-container\">\n",
              "      <div>\n",
              "<style scoped>\n",
              "    .dataframe tbody tr th:only-of-type {\n",
              "        vertical-align: middle;\n",
              "    }\n",
              "\n",
              "    .dataframe tbody tr th {\n",
              "        vertical-align: top;\n",
              "    }\n",
              "\n",
              "    .dataframe thead th {\n",
              "        text-align: right;\n",
              "    }\n",
              "</style>\n",
              "<table border=\"1\" class=\"dataframe\">\n",
              "  <thead>\n",
              "    <tr style=\"text-align: right;\">\n",
              "      <th></th>\n",
              "      <th>All</th>\n",
              "      <th>Transported</th>\n",
              "      <th>Not Transported</th>\n",
              "    </tr>\n",
              "  </thead>\n",
              "  <tbody>\n",
              "    <tr>\n",
              "      <th>count</th>\n",
              "      <td>8693.0</td>\n",
              "      <td>4378.0</td>\n",
              "      <td>4315.0</td>\n",
              "    </tr>\n",
              "    <tr>\n",
              "      <th>mean</th>\n",
              "      <td>29.0</td>\n",
              "      <td>28.0</td>\n",
              "      <td>30.0</td>\n",
              "    </tr>\n",
              "    <tr>\n",
              "      <th>std</th>\n",
              "      <td>14.0</td>\n",
              "      <td>15.0</td>\n",
              "      <td>14.0</td>\n",
              "    </tr>\n",
              "    <tr>\n",
              "      <th>min</th>\n",
              "      <td>0.0</td>\n",
              "      <td>0.0</td>\n",
              "      <td>0.0</td>\n",
              "    </tr>\n",
              "    <tr>\n",
              "      <th>25%</th>\n",
              "      <td>20.0</td>\n",
              "      <td>18.0</td>\n",
              "      <td>21.0</td>\n",
              "    </tr>\n",
              "    <tr>\n",
              "      <th>50%</th>\n",
              "      <td>27.0</td>\n",
              "      <td>27.0</td>\n",
              "      <td>27.0</td>\n",
              "    </tr>\n",
              "    <tr>\n",
              "      <th>75%</th>\n",
              "      <td>37.0</td>\n",
              "      <td>37.0</td>\n",
              "      <td>38.0</td>\n",
              "    </tr>\n",
              "    <tr>\n",
              "      <th>max</th>\n",
              "      <td>79.0</td>\n",
              "      <td>78.0</td>\n",
              "      <td>79.0</td>\n",
              "    </tr>\n",
              "  </tbody>\n",
              "</table>\n",
              "</div>\n",
              "      <button class=\"colab-df-convert\" onclick=\"convertToInteractive('df-a05e21d7-e66c-4e97-8230-dac21ad6c3c0')\"\n",
              "              title=\"Convert this dataframe to an interactive table.\"\n",
              "              style=\"display:none;\">\n",
              "        \n",
              "  <svg xmlns=\"http://www.w3.org/2000/svg\" height=\"24px\"viewBox=\"0 0 24 24\"\n",
              "       width=\"24px\">\n",
              "    <path d=\"M0 0h24v24H0V0z\" fill=\"none\"/>\n",
              "    <path d=\"M18.56 5.44l.94 2.06.94-2.06 2.06-.94-2.06-.94-.94-2.06-.94 2.06-2.06.94zm-11 1L8.5 8.5l.94-2.06 2.06-.94-2.06-.94L8.5 2.5l-.94 2.06-2.06.94zm10 10l.94 2.06.94-2.06 2.06-.94-2.06-.94-.94-2.06-.94 2.06-2.06.94z\"/><path d=\"M17.41 7.96l-1.37-1.37c-.4-.4-.92-.59-1.43-.59-.52 0-1.04.2-1.43.59L10.3 9.45l-7.72 7.72c-.78.78-.78 2.05 0 2.83L4 21.41c.39.39.9.59 1.41.59.51 0 1.02-.2 1.41-.59l7.78-7.78 2.81-2.81c.8-.78.8-2.07 0-2.86zM5.41 20L4 18.59l7.72-7.72 1.47 1.35L5.41 20z\"/>\n",
              "  </svg>\n",
              "      </button>\n",
              "      \n",
              "  <style>\n",
              "    .colab-df-container {\n",
              "      display:flex;\n",
              "      flex-wrap:wrap;\n",
              "      gap: 12px;\n",
              "    }\n",
              "\n",
              "    .colab-df-convert {\n",
              "      background-color: #E8F0FE;\n",
              "      border: none;\n",
              "      border-radius: 50%;\n",
              "      cursor: pointer;\n",
              "      display: none;\n",
              "      fill: #1967D2;\n",
              "      height: 32px;\n",
              "      padding: 0 0 0 0;\n",
              "      width: 32px;\n",
              "    }\n",
              "\n",
              "    .colab-df-convert:hover {\n",
              "      background-color: #E2EBFA;\n",
              "      box-shadow: 0px 1px 2px rgba(60, 64, 67, 0.3), 0px 1px 3px 1px rgba(60, 64, 67, 0.15);\n",
              "      fill: #174EA6;\n",
              "    }\n",
              "\n",
              "    [theme=dark] .colab-df-convert {\n",
              "      background-color: #3B4455;\n",
              "      fill: #D2E3FC;\n",
              "    }\n",
              "\n",
              "    [theme=dark] .colab-df-convert:hover {\n",
              "      background-color: #434B5C;\n",
              "      box-shadow: 0px 1px 3px 1px rgba(0, 0, 0, 0.15);\n",
              "      filter: drop-shadow(0px 1px 2px rgba(0, 0, 0, 0.3));\n",
              "      fill: #FFFFFF;\n",
              "    }\n",
              "  </style>\n",
              "\n",
              "      <script>\n",
              "        const buttonEl =\n",
              "          document.querySelector('#df-a05e21d7-e66c-4e97-8230-dac21ad6c3c0 button.colab-df-convert');\n",
              "        buttonEl.style.display =\n",
              "          google.colab.kernel.accessAllowed ? 'block' : 'none';\n",
              "\n",
              "        async function convertToInteractive(key) {\n",
              "          const element = document.querySelector('#df-a05e21d7-e66c-4e97-8230-dac21ad6c3c0');\n",
              "          const dataTable =\n",
              "            await google.colab.kernel.invokeFunction('convertToInteractive',\n",
              "                                                     [key], {});\n",
              "          if (!dataTable) return;\n",
              "\n",
              "          const docLinkHtml = 'Like what you see? Visit the ' +\n",
              "            '<a target=\"_blank\" href=https://colab.research.google.com/notebooks/data_table.ipynb>data table notebook</a>'\n",
              "            + ' to learn more about interactive tables.';\n",
              "          element.innerHTML = '';\n",
              "          dataTable['output_type'] = 'display_data';\n",
              "          await google.colab.output.renderOutput(dataTable, element);\n",
              "          const docLink = document.createElement('div');\n",
              "          docLink.innerHTML = docLinkHtml;\n",
              "          element.appendChild(docLink);\n",
              "        }\n",
              "      </script>\n",
              "    </div>\n",
              "  </div>\n",
              "  "
            ]
          },
          "metadata": {},
          "execution_count": 63
        }
      ]
    },
    {
      "cell_type": "code",
      "source": [
        "plot_transported_hist(df=train_df, col='Age')"
      ],
      "metadata": {
        "colab": {
          "base_uri": "https://localhost:8080/",
          "height": 393
        },
        "id": "PO7H_b4K911o",
        "outputId": "b53866c8-cfd9-47c5-d316-08a35d3f9c90"
      },
      "execution_count": 64,
      "outputs": [
        {
          "output_type": "display_data",
          "data": {
            "text/plain": [
              "<Figure size 792x432 with 1 Axes>"
            ],
            "image/png": "[encoded data removed]"
          },
          "metadata": {}
        }
      ]
    },
    {
      "cell_type": "markdown",
      "source": [
        "### Analysis of Age\n",
        "* Passengers under 20 years old appear to have a higher rate of being transported.\n",
        "* Passengers with ages approx 20 - 40 appear to have a lower probability of being transported.\n",
        "* From age 40 on the percentages appear roughly even between Transported and Not."
      ],
      "metadata": {
        "id": "Bwab1WeopC6M"
      }
    },
    {
      "cell_type": "markdown",
      "source": [
        "## Onboard Spend Categories\n",
        "Amounts spent by the passenger on `RoomService`, or at the `FoodCourt`, `ShoppingMall`, `Spa`, and `VRDeck`."
      ],
      "metadata": {
        "id": "YX2Tsq0DphmC"
      }
    },
    {
      "cell_type": "markdown",
      "source": [
        "### Create Total Spend Feature\n",
        "We will add up all passenger spending to create a total which can then help with analysis and filtering."
      ],
      "metadata": {
        "id": "OtkgMW4tqkUk"
      }
    },
    {
      "cell_type": "code",
      "source": [
        "# create Total_Spend feature \n",
        "for df in full_data:\n",
        "    df['Total_Spend'] = (  df['RoomService'] \n",
        "                         + df['FoodCourt'] \n",
        "                         + df['ShoppingMall']\n",
        "                         + df['Spa'] \n",
        "                         + df['VRDeck']  )\n",
        "    \n",
        "    df['Total_Spend'] = df['Total_Spend'].astype(int)"
      ],
      "metadata": {
        "id": "eVjxhN_9q0AC"
      },
      "execution_count": 65,
      "outputs": []
    },
    {
      "cell_type": "markdown",
      "source": [
        "### Analysis of Total_Spend"
      ],
      "metadata": {
        "id": "P4bjIM1NAi0Y"
      }
    },
    {
      "cell_type": "code",
      "source": [
        "create_desc_df(df=train_df, col='Total_Spend')"
      ],
      "metadata": {
        "colab": {
          "base_uri": "https://localhost:8080/",
          "height": 300
        },
        "id": "oYK5wMT1Am7g",
        "outputId": "e3c4eee0-2ebf-4391-99f7-604410410068"
      },
      "execution_count": 66,
      "outputs": [
        {
          "output_type": "execute_result",
          "data": {
            "text/plain": [
              "           All  Transported  Not Transported\n",
              "count   8693.0       4378.0           4315.0\n",
              "mean    1441.0        886.0           2004.0\n",
              "std     2803.0       2298.0           3137.0\n",
              "min        0.0          0.0              0.0\n",
              "25%        0.0          0.0            678.0\n",
              "50%      716.0          0.0            907.0\n",
              "75%     1441.0        809.0           2093.0\n",
              "max    35987.0      31076.0          35987.0"
            ],
            "text/html": [
              "\n",
              "  <div id=\"df-d528a395-d102-4031-a79c-d28874041430\">\n",
              "    <div class=\"colab-df-container\">\n",
              "      <div>\n",
              "<style scoped>\n",
              "    .dataframe tbody tr th:only-of-type {\n",
              "        vertical-align: middle;\n",
              "    }\n",
              "\n",
              "    .dataframe tbody tr th {\n",
              "        vertical-align: top;\n",
              "    }\n",
              "\n",
              "    .dataframe thead th {\n",
              "        text-align: right;\n",
              "    }\n",
              "</style>\n",
              "<table border=\"1\" class=\"dataframe\">\n",
              "  <thead>\n",
              "    <tr style=\"text-align: right;\">\n",
              "      <th></th>\n",
              "      <th>All</th>\n",
              "      <th>Transported</th>\n",
              "      <th>Not Transported</th>\n",
              "    </tr>\n",
              "  </thead>\n",
              "  <tbody>\n",
              "    <tr>\n",
              "      <th>count</th>\n",
              "      <td>8693.0</td>\n",
              "      <td>4378.0</td>\n",
              "      <td>4315.0</td>\n",
              "    </tr>\n",
              "    <tr>\n",
              "      <th>mean</th>\n",
              "      <td>1441.0</td>\n",
              "      <td>886.0</td>\n",
              "      <td>2004.0</td>\n",
              "    </tr>\n",
              "    <tr>\n",
              "      <th>std</th>\n",
              "      <td>2803.0</td>\n",
              "      <td>2298.0</td>\n",
              "      <td>3137.0</td>\n",
              "    </tr>\n",
              "    <tr>\n",
              "      <th>min</th>\n",
              "      <td>0.0</td>\n",
              "      <td>0.0</td>\n",
              "      <td>0.0</td>\n",
              "    </tr>\n",
              "    <tr>\n",
              "      <th>25%</th>\n",
              "      <td>0.0</td>\n",
              "      <td>0.0</td>\n",
              "      <td>678.0</td>\n",
              "    </tr>\n",
              "    <tr>\n",
              "      <th>50%</th>\n",
              "      <td>716.0</td>\n",
              "      <td>0.0</td>\n",
              "      <td>907.0</td>\n",
              "    </tr>\n",
              "    <tr>\n",
              "      <th>75%</th>\n",
              "      <td>1441.0</td>\n",
              "      <td>809.0</td>\n",
              "      <td>2093.0</td>\n",
              "    </tr>\n",
              "    <tr>\n",
              "      <th>max</th>\n",
              "      <td>35987.0</td>\n",
              "      <td>31076.0</td>\n",
              "      <td>35987.0</td>\n",
              "    </tr>\n",
              "  </tbody>\n",
              "</table>\n",
              "</div>\n",
              "      <button class=\"colab-df-convert\" onclick=\"convertToInteractive('df-d528a395-d102-4031-a79c-d28874041430')\"\n",
              "              title=\"Convert this dataframe to an interactive table.\"\n",
              "              style=\"display:none;\">\n",
              "        \n",
              "  <svg xmlns=\"http://www.w3.org/2000/svg\" height=\"24px\"viewBox=\"0 0 24 24\"\n",
              "       width=\"24px\">\n",
              "    <path d=\"M0 0h24v24H0V0z\" fill=\"none\"/>\n",
              "    <path d=\"M18.56 5.44l.94 2.06.94-2.06 2.06-.94-2.06-.94-.94-2.06-.94 2.06-2.06.94zm-11 1L8.5 8.5l.94-2.06 2.06-.94-2.06-.94L8.5 2.5l-.94 2.06-2.06.94zm10 10l.94 2.06.94-2.06 2.06-.94-2.06-.94-.94-2.06-.94 2.06-2.06.94z\"/><path d=\"M17.41 7.96l-1.37-1.37c-.4-.4-.92-.59-1.43-.59-.52 0-1.04.2-1.43.59L10.3 9.45l-7.72 7.72c-.78.78-.78 2.05 0 2.83L4 21.41c.39.39.9.59 1.41.59.51 0 1.02-.2 1.41-.59l7.78-7.78 2.81-2.81c.8-.78.8-2.07 0-2.86zM5.41 20L4 18.59l7.72-7.72 1.47 1.35L5.41 20z\"/>\n",
              "  </svg>\n",
              "      </button>\n",
              "      \n",
              "  <style>\n",
              "    .colab-df-container {\n",
              "      display:flex;\n",
              "      flex-wrap:wrap;\n",
              "      gap: 12px;\n",
              "    }\n",
              "\n",
              "    .colab-df-convert {\n",
              "      background-color: #E8F0FE;\n",
              "      border: none;\n",
              "      border-radius: 50%;\n",
              "      cursor: pointer;\n",
              "      display: none;\n",
              "      fill: #1967D2;\n",
              "      height: 32px;\n",
              "      padding: 0 0 0 0;\n",
              "      width: 32px;\n",
              "    }\n",
              "\n",
              "    .colab-df-convert:hover {\n",
              "      background-color: #E2EBFA;\n",
              "      box-shadow: 0px 1px 2px rgba(60, 64, 67, 0.3), 0px 1px 3px 1px rgba(60, 64, 67, 0.15);\n",
              "      fill: #174EA6;\n",
              "    }\n",
              "\n",
              "    [theme=dark] .colab-df-convert {\n",
              "      background-color: #3B4455;\n",
              "      fill: #D2E3FC;\n",
              "    }\n",
              "\n",
              "    [theme=dark] .colab-df-convert:hover {\n",
              "      background-color: #434B5C;\n",
              "      box-shadow: 0px 1px 3px 1px rgba(0, 0, 0, 0.15);\n",
              "      filter: drop-shadow(0px 1px 2px rgba(0, 0, 0, 0.3));\n",
              "      fill: #FFFFFF;\n",
              "    }\n",
              "  </style>\n",
              "\n",
              "      <script>\n",
              "        const buttonEl =\n",
              "          document.querySelector('#df-d528a395-d102-4031-a79c-d28874041430 button.colab-df-convert');\n",
              "        buttonEl.style.display =\n",
              "          google.colab.kernel.accessAllowed ? 'block' : 'none';\n",
              "\n",
              "        async function convertToInteractive(key) {\n",
              "          const element = document.querySelector('#df-d528a395-d102-4031-a79c-d28874041430');\n",
              "          const dataTable =\n",
              "            await google.colab.kernel.invokeFunction('convertToInteractive',\n",
              "                                                     [key], {});\n",
              "          if (!dataTable) return;\n",
              "\n",
              "          const docLinkHtml = 'Like what you see? Visit the ' +\n",
              "            '<a target=\"_blank\" href=https://colab.research.google.com/notebooks/data_table.ipynb>data table notebook</a>'\n",
              "            + ' to learn more about interactive tables.';\n",
              "          element.innerHTML = '';\n",
              "          dataTable['output_type'] = 'display_data';\n",
              "          await google.colab.output.renderOutput(dataTable, element);\n",
              "          const docLink = document.createElement('div');\n",
              "          docLink.innerHTML = docLinkHtml;\n",
              "          element.appendChild(docLink);\n",
              "        }\n",
              "      </script>\n",
              "    </div>\n",
              "  </div>\n",
              "  "
            ]
          },
          "metadata": {},
          "execution_count": 66
        }
      ]
    },
    {
      "cell_type": "code",
      "source": [
        "plot_transported_hist(df=train_df, col='Total_Spend', bins=25, log=True)"
      ],
      "metadata": {
        "colab": {
          "base_uri": "https://localhost:8080/",
          "height": 393
        },
        "id": "sPJce4X7AqHK",
        "outputId": "da4edf78-dee1-4da2-c692-adfb46812421"
      },
      "execution_count": 67,
      "outputs": [
        {
          "output_type": "display_data",
          "data": {
            "text/plain": [
              "<Figure size 792x432 with 1 Axes>"
            ],
            "image/png": "[encoded data removed]"
          },
          "metadata": {}
        }
      ]
    },
    {
      "cell_type": "markdown",
      "source": [
        "* Passengers with zero (or minimal) spend appear to be transported at a higher rate than passengers who spent money onboard.\n",
        "* However, this feature may be correlated with passengers in CryoSleep status (and therefore who did not spend), who also had a much higher rate of being transported than the rest of the passengers. "
      ],
      "metadata": {
        "id": "sVyMxzzwA2Te"
      }
    },
    {
      "cell_type": "markdown",
      "source": [
        "### RoomService"
      ],
      "metadata": {
        "id": "CHb8JdEq9wZA"
      }
    },
    {
      "cell_type": "code",
      "source": [
        "create_desc_df(df=train_df, col='RoomService')"
      ],
      "metadata": {
        "colab": {
          "base_uri": "https://localhost:8080/",
          "height": 300
        },
        "id": "hnXBxAFN-HPR",
        "outputId": "31e55dff-c67c-4cc8-83b0-ab42d1ee8721"
      },
      "execution_count": 68,
      "outputs": [
        {
          "output_type": "execute_result",
          "data": {
            "text/plain": [
              "           All  Transported  Not Transported\n",
              "count   8693.0       4378.0           4315.0\n",
              "mean     220.0         62.0            380.0\n",
              "std      661.0        272.0            868.0\n",
              "min        0.0          0.0              0.0\n",
              "25%        0.0          0.0              0.0\n",
              "50%        0.0          0.0              1.0\n",
              "75%       41.0          0.0            454.0\n",
              "max    14327.0       3992.0          14327.0"
            ],
            "text/html": [
              "\n",
              "  <div id=\"df-86e9127b-4f38-4be0-a952-64953e765de0\">\n",
              "    <div class=\"colab-df-container\">\n",
              "      <div>\n",
              "<style scoped>\n",
              "    .dataframe tbody tr th:only-of-type {\n",
              "        vertical-align: middle;\n",
              "    }\n",
              "\n",
              "    .dataframe tbody tr th {\n",
              "        vertical-align: top;\n",
              "    }\n",
              "\n",
              "    .dataframe thead th {\n",
              "        text-align: right;\n",
              "    }\n",
              "</style>\n",
              "<table border=\"1\" class=\"dataframe\">\n",
              "  <thead>\n",
              "    <tr style=\"text-align: right;\">\n",
              "      <th></th>\n",
              "      <th>All</th>\n",
              "      <th>Transported</th>\n",
              "      <th>Not Transported</th>\n",
              "    </tr>\n",
              "  </thead>\n",
              "  <tbody>\n",
              "    <tr>\n",
              "      <th>count</th>\n",
              "      <td>8693.0</td>\n",
              "      <td>4378.0</td>\n",
              "      <td>4315.0</td>\n",
              "    </tr>\n",
              "    <tr>\n",
              "      <th>mean</th>\n",
              "      <td>220.0</td>\n",
              "      <td>62.0</td>\n",
              "      <td>380.0</td>\n",
              "    </tr>\n",
              "    <tr>\n",
              "      <th>std</th>\n",
              "      <td>661.0</td>\n",
              "      <td>272.0</td>\n",
              "      <td>868.0</td>\n",
              "    </tr>\n",
              "    <tr>\n",
              "      <th>min</th>\n",
              "      <td>0.0</td>\n",
              "      <td>0.0</td>\n",
              "      <td>0.0</td>\n",
              "    </tr>\n",
              "    <tr>\n",
              "      <th>25%</th>\n",
              "      <td>0.0</td>\n",
              "      <td>0.0</td>\n",
              "      <td>0.0</td>\n",
              "    </tr>\n",
              "    <tr>\n",
              "      <th>50%</th>\n",
              "      <td>0.0</td>\n",
              "      <td>0.0</td>\n",
              "      <td>1.0</td>\n",
              "    </tr>\n",
              "    <tr>\n",
              "      <th>75%</th>\n",
              "      <td>41.0</td>\n",
              "      <td>0.0</td>\n",
              "      <td>454.0</td>\n",
              "    </tr>\n",
              "    <tr>\n",
              "      <th>max</th>\n",
              "      <td>14327.0</td>\n",
              "      <td>3992.0</td>\n",
              "      <td>14327.0</td>\n",
              "    </tr>\n",
              "  </tbody>\n",
              "</table>\n",
              "</div>\n",
              "      <button class=\"colab-df-convert\" onclick=\"convertToInteractive('df-86e9127b-4f38-4be0-a952-64953e765de0')\"\n",
              "              title=\"Convert this dataframe to an interactive table.\"\n",
              "              style=\"display:none;\">\n",
              "        \n",
              "  <svg xmlns=\"http://www.w3.org/2000/svg\" height=\"24px\"viewBox=\"0 0 24 24\"\n",
              "       width=\"24px\">\n",
              "    <path d=\"M0 0h24v24H0V0z\" fill=\"none\"/>\n",
              "    <path d=\"M18.56 5.44l.94 2.06.94-2.06 2.06-.94-2.06-.94-.94-2.06-.94 2.06-2.06.94zm-11 1L8.5 8.5l.94-2.06 2.06-.94-2.06-.94L8.5 2.5l-.94 2.06-2.06.94zm10 10l.94 2.06.94-2.06 2.06-.94-2.06-.94-.94-2.06-.94 2.06-2.06.94z\"/><path d=\"M17.41 7.96l-1.37-1.37c-.4-.4-.92-.59-1.43-.59-.52 0-1.04.2-1.43.59L10.3 9.45l-7.72 7.72c-.78.78-.78 2.05 0 2.83L4 21.41c.39.39.9.59 1.41.59.51 0 1.02-.2 1.41-.59l7.78-7.78 2.81-2.81c.8-.78.8-2.07 0-2.86zM5.41 20L4 18.59l7.72-7.72 1.47 1.35L5.41 20z\"/>\n",
              "  </svg>\n",
              "      </button>\n",
              "      \n",
              "  <style>\n",
              "    .colab-df-container {\n",
              "      display:flex;\n",
              "      flex-wrap:wrap;\n",
              "      gap: 12px;\n",
              "    }\n",
              "\n",
              "    .colab-df-convert {\n",
              "      background-color: #E8F0FE;\n",
              "      border: none;\n",
              "      border-radius: 50%;\n",
              "      cursor: pointer;\n",
              "      display: none;\n",
              "      fill: #1967D2;\n",
              "      height: 32px;\n",
              "      padding: 0 0 0 0;\n",
              "      width: 32px;\n",
              "    }\n",
              "\n",
              "    .colab-df-convert:hover {\n",
              "      background-color: #E2EBFA;\n",
              "      box-shadow: 0px 1px 2px rgba(60, 64, 67, 0.3), 0px 1px 3px 1px rgba(60, 64, 67, 0.15);\n",
              "      fill: #174EA6;\n",
              "    }\n",
              "\n",
              "    [theme=dark] .colab-df-convert {\n",
              "      background-color: #3B4455;\n",
              "      fill: #D2E3FC;\n",
              "    }\n",
              "\n",
              "    [theme=dark] .colab-df-convert:hover {\n",
              "      background-color: #434B5C;\n",
              "      box-shadow: 0px 1px 3px 1px rgba(0, 0, 0, 0.15);\n",
              "      filter: drop-shadow(0px 1px 2px rgba(0, 0, 0, 0.3));\n",
              "      fill: #FFFFFF;\n",
              "    }\n",
              "  </style>\n",
              "\n",
              "      <script>\n",
              "        const buttonEl =\n",
              "          document.querySelector('#df-86e9127b-4f38-4be0-a952-64953e765de0 button.colab-df-convert');\n",
              "        buttonEl.style.display =\n",
              "          google.colab.kernel.accessAllowed ? 'block' : 'none';\n",
              "\n",
              "        async function convertToInteractive(key) {\n",
              "          const element = document.querySelector('#df-86e9127b-4f38-4be0-a952-64953e765de0');\n",
              "          const dataTable =\n",
              "            await google.colab.kernel.invokeFunction('convertToInteractive',\n",
              "                                                     [key], {});\n",
              "          if (!dataTable) return;\n",
              "\n",
              "          const docLinkHtml = 'Like what you see? Visit the ' +\n",
              "            '<a target=\"_blank\" href=https://colab.research.google.com/notebooks/data_table.ipynb>data table notebook</a>'\n",
              "            + ' to learn more about interactive tables.';\n",
              "          element.innerHTML = '';\n",
              "          dataTable['output_type'] = 'display_data';\n",
              "          await google.colab.output.renderOutput(dataTable, element);\n",
              "          const docLink = document.createElement('div');\n",
              "          docLink.innerHTML = docLinkHtml;\n",
              "          element.appendChild(docLink);\n",
              "        }\n",
              "      </script>\n",
              "    </div>\n",
              "  </div>\n",
              "  "
            ]
          },
          "metadata": {},
          "execution_count": 68
        }
      ]
    },
    {
      "cell_type": "code",
      "source": [
        "plot_transported_hist(df=train_df, col='RoomService', log=True)"
      ],
      "metadata": {
        "colab": {
          "base_uri": "https://localhost:8080/",
          "height": 393
        },
        "id": "hbATl7muAMQT",
        "outputId": "307ea140-4d74-4579-8234-3920cad10d3b"
      },
      "execution_count": 69,
      "outputs": [
        {
          "output_type": "display_data",
          "data": {
            "text/plain": [
              "<Figure size 792x432 with 1 Axes>"
            ],
            "image/png": "[encoded data removed]"
          },
          "metadata": {}
        }
      ]
    },
    {
      "cell_type": "markdown",
      "source": [
        "### FoodCourt "
      ],
      "metadata": {
        "id": "tquhk0iD-nwp"
      }
    },
    {
      "cell_type": "code",
      "source": [
        "create_desc_df(df=train_df, col='FoodCourt')"
      ],
      "metadata": {
        "colab": {
          "base_uri": "https://localhost:8080/",
          "height": 300
        },
        "outputId": "211b8763-f023-4699-82ba-a2e7220abae7",
        "id": "-9LAskciAiLv"
      },
      "execution_count": 70,
      "outputs": [
        {
          "output_type": "execute_result",
          "data": {
            "text/plain": [
              "           All  Transported  Not Transported\n",
              "count   8693.0       4378.0           4315.0\n",
              "mean     448.0        521.0            375.0\n",
              "std     1596.0       1911.0           1190.0\n",
              "min        0.0          0.0              0.0\n",
              "25%        0.0          0.0              0.0\n",
              "50%        0.0          0.0              0.0\n",
              "75%       61.0          0.0            168.0\n",
              "max    29813.0      29813.0          16856.0"
            ],
            "text/html": [
              "\n",
              "  <div id=\"df-81ceda86-db35-4be1-85d9-96a9871d367d\">\n",
              "    <div class=\"colab-df-container\">\n",
              "      <div>\n",
              "<style scoped>\n",
              "    .dataframe tbody tr th:only-of-type {\n",
              "        vertical-align: middle;\n",
              "    }\n",
              "\n",
              "    .dataframe tbody tr th {\n",
              "        vertical-align: top;\n",
              "    }\n",
              "\n",
              "    .dataframe thead th {\n",
              "        text-align: right;\n",
              "    }\n",
              "</style>\n",
              "<table border=\"1\" class=\"dataframe\">\n",
              "  <thead>\n",
              "    <tr style=\"text-align: right;\">\n",
              "      <th></th>\n",
              "      <th>All</th>\n",
              "      <th>Transported</th>\n",
              "      <th>Not Transported</th>\n",
              "    </tr>\n",
              "  </thead>\n",
              "  <tbody>\n",
              "    <tr>\n",
              "      <th>count</th>\n",
              "      <td>8693.0</td>\n",
              "      <td>4378.0</td>\n",
              "      <td>4315.0</td>\n",
              "    </tr>\n",
              "    <tr>\n",
              "      <th>mean</th>\n",
              "      <td>448.0</td>\n",
              "      <td>521.0</td>\n",
              "      <td>375.0</td>\n",
              "    </tr>\n",
              "    <tr>\n",
              "      <th>std</th>\n",
              "      <td>1596.0</td>\n",
              "      <td>1911.0</td>\n",
              "      <td>1190.0</td>\n",
              "    </tr>\n",
              "    <tr>\n",
              "      <th>min</th>\n",
              "      <td>0.0</td>\n",
              "      <td>0.0</td>\n",
              "      <td>0.0</td>\n",
              "    </tr>\n",
              "    <tr>\n",
              "      <th>25%</th>\n",
              "      <td>0.0</td>\n",
              "      <td>0.0</td>\n",
              "      <td>0.0</td>\n",
              "    </tr>\n",
              "    <tr>\n",
              "      <th>50%</th>\n",
              "      <td>0.0</td>\n",
              "      <td>0.0</td>\n",
              "      <td>0.0</td>\n",
              "    </tr>\n",
              "    <tr>\n",
              "      <th>75%</th>\n",
              "      <td>61.0</td>\n",
              "      <td>0.0</td>\n",
              "      <td>168.0</td>\n",
              "    </tr>\n",
              "    <tr>\n",
              "      <th>max</th>\n",
              "      <td>29813.0</td>\n",
              "      <td>29813.0</td>\n",
              "      <td>16856.0</td>\n",
              "    </tr>\n",
              "  </tbody>\n",
              "</table>\n",
              "</div>\n",
              "      <button class=\"colab-df-convert\" onclick=\"convertToInteractive('df-81ceda86-db35-4be1-85d9-96a9871d367d')\"\n",
              "              title=\"Convert this dataframe to an interactive table.\"\n",
              "              style=\"display:none;\">\n",
              "        \n",
              "  <svg xmlns=\"http://www.w3.org/2000/svg\" height=\"24px\"viewBox=\"0 0 24 24\"\n",
              "       width=\"24px\">\n",
              "    <path d=\"M0 0h24v24H0V0z\" fill=\"none\"/>\n",
              "    <path d=\"M18.56 5.44l.94 2.06.94-2.06 2.06-.94-2.06-.94-.94-2.06-.94 2.06-2.06.94zm-11 1L8.5 8.5l.94-2.06 2.06-.94-2.06-.94L8.5 2.5l-.94 2.06-2.06.94zm10 10l.94 2.06.94-2.06 2.06-.94-2.06-.94-.94-2.06-.94 2.06-2.06.94z\"/><path d=\"M17.41 7.96l-1.37-1.37c-.4-.4-.92-.59-1.43-.59-.52 0-1.04.2-1.43.59L10.3 9.45l-7.72 7.72c-.78.78-.78 2.05 0 2.83L4 21.41c.39.39.9.59 1.41.59.51 0 1.02-.2 1.41-.59l7.78-7.78 2.81-2.81c.8-.78.8-2.07 0-2.86zM5.41 20L4 18.59l7.72-7.72 1.47 1.35L5.41 20z\"/>\n",
              "  </svg>\n",
              "      </button>\n",
              "      \n",
              "  <style>\n",
              "    .colab-df-container {\n",
              "      display:flex;\n",
              "      flex-wrap:wrap;\n",
              "      gap: 12px;\n",
              "    }\n",
              "\n",
              "    .colab-df-convert {\n",
              "      background-color: #E8F0FE;\n",
              "      border: none;\n",
              "      border-radius: 50%;\n",
              "      cursor: pointer;\n",
              "      display: none;\n",
              "      fill: #1967D2;\n",
              "      height: 32px;\n",
              "      padding: 0 0 0 0;\n",
              "      width: 32px;\n",
              "    }\n",
              "\n",
              "    .colab-df-convert:hover {\n",
              "      background-color: #E2EBFA;\n",
              "      box-shadow: 0px 1px 2px rgba(60, 64, 67, 0.3), 0px 1px 3px 1px rgba(60, 64, 67, 0.15);\n",
              "      fill: #174EA6;\n",
              "    }\n",
              "\n",
              "    [theme=dark] .colab-df-convert {\n",
              "      background-color: #3B4455;\n",
              "      fill: #D2E3FC;\n",
              "    }\n",
              "\n",
              "    [theme=dark] .colab-df-convert:hover {\n",
              "      background-color: #434B5C;\n",
              "      box-shadow: 0px 1px 3px 1px rgba(0, 0, 0, 0.15);\n",
              "      filter: drop-shadow(0px 1px 2px rgba(0, 0, 0, 0.3));\n",
              "      fill: #FFFFFF;\n",
              "    }\n",
              "  </style>\n",
              "\n",
              "      <script>\n",
              "        const buttonEl =\n",
              "          document.querySelector('#df-81ceda86-db35-4be1-85d9-96a9871d367d button.colab-df-convert');\n",
              "        buttonEl.style.display =\n",
              "          google.colab.kernel.accessAllowed ? 'block' : 'none';\n",
              "\n",
              "        async function convertToInteractive(key) {\n",
              "          const element = document.querySelector('#df-81ceda86-db35-4be1-85d9-96a9871d367d');\n",
              "          const dataTable =\n",
              "            await google.colab.kernel.invokeFunction('convertToInteractive',\n",
              "                                                     [key], {});\n",
              "          if (!dataTable) return;\n",
              "\n",
              "          const docLinkHtml = 'Like what you see? Visit the ' +\n",
              "            '<a target=\"_blank\" href=https://colab.research.google.com/notebooks/data_table.ipynb>data table notebook</a>'\n",
              "            + ' to learn more about interactive tables.';\n",
              "          element.innerHTML = '';\n",
              "          dataTable['output_type'] = 'display_data';\n",
              "          await google.colab.output.renderOutput(dataTable, element);\n",
              "          const docLink = document.createElement('div');\n",
              "          docLink.innerHTML = docLinkHtml;\n",
              "          element.appendChild(docLink);\n",
              "        }\n",
              "      </script>\n",
              "    </div>\n",
              "  </div>\n",
              "  "
            ]
          },
          "metadata": {},
          "execution_count": 70
        }
      ]
    },
    {
      "cell_type": "code",
      "source": [
        "plot_transported_hist(df=train_df, col='FoodCourt', bins=30, log=True)"
      ],
      "metadata": {
        "colab": {
          "base_uri": "https://localhost:8080/",
          "height": 393
        },
        "outputId": "37727bf3-5b53-4621-aef4-94c000df7664",
        "id": "JSzHd0HuAiLv"
      },
      "execution_count": 71,
      "outputs": [
        {
          "output_type": "display_data",
          "data": {
            "text/plain": [
              "<Figure size 792x432 with 1 Axes>"
            ],
            "image/png": "[encoded data removed]"
          },
          "metadata": {}
        }
      ]
    },
    {
      "cell_type": "markdown",
      "source": [
        "### ShoppingMall"
      ],
      "metadata": {
        "id": "r7LoHht8-vz6"
      }
    },
    {
      "cell_type": "code",
      "source": [
        "create_desc_df(df=train_df, col='ShoppingMall')"
      ],
      "metadata": {
        "colab": {
          "base_uri": "https://localhost:8080/",
          "height": 300
        },
        "outputId": "13f2a372-a54b-47d3-d09e-8b4f23236600",
        "id": "Gl-ofpcEAtEC"
      },
      "execution_count": 72,
      "outputs": [
        {
          "output_type": "execute_result",
          "data": {
            "text/plain": [
              "           All  Transported  Not Transported\n",
              "count   8693.0       4378.0           4315.0\n",
              "mean     170.0        175.0            164.0\n",
              "std      598.0        713.0            452.0\n",
              "min        0.0          0.0              0.0\n",
              "25%        0.0          0.0              0.0\n",
              "50%        0.0          0.0              0.0\n",
              "75%       22.0          0.0             87.0\n",
              "max    23492.0      23492.0          10705.0"
            ],
            "text/html": [
              "\n",
              "  <div id=\"df-9ca6f30e-4d5c-4e34-9168-ebefe8367573\">\n",
              "    <div class=\"colab-df-container\">\n",
              "      <div>\n",
              "<style scoped>\n",
              "    .dataframe tbody tr th:only-of-type {\n",
              "        vertical-align: middle;\n",
              "    }\n",
              "\n",
              "    .dataframe tbody tr th {\n",
              "        vertical-align: top;\n",
              "    }\n",
              "\n",
              "    .dataframe thead th {\n",
              "        text-align: right;\n",
              "    }\n",
              "</style>\n",
              "<table border=\"1\" class=\"dataframe\">\n",
              "  <thead>\n",
              "    <tr style=\"text-align: right;\">\n",
              "      <th></th>\n",
              "      <th>All</th>\n",
              "      <th>Transported</th>\n",
              "      <th>Not Transported</th>\n",
              "    </tr>\n",
              "  </thead>\n",
              "  <tbody>\n",
              "    <tr>\n",
              "      <th>count</th>\n",
              "      <td>8693.0</td>\n",
              "      <td>4378.0</td>\n",
              "      <td>4315.0</td>\n",
              "    </tr>\n",
              "    <tr>\n",
              "      <th>mean</th>\n",
              "      <td>170.0</td>\n",
              "      <td>175.0</td>\n",
              "      <td>164.0</td>\n",
              "    </tr>\n",
              "    <tr>\n",
              "      <th>std</th>\n",
              "      <td>598.0</td>\n",
              "      <td>713.0</td>\n",
              "      <td>452.0</td>\n",
              "    </tr>\n",
              "    <tr>\n",
              "      <th>min</th>\n",
              "      <td>0.0</td>\n",
              "      <td>0.0</td>\n",
              "      <td>0.0</td>\n",
              "    </tr>\n",
              "    <tr>\n",
              "      <th>25%</th>\n",
              "      <td>0.0</td>\n",
              "      <td>0.0</td>\n",
              "      <td>0.0</td>\n",
              "    </tr>\n",
              "    <tr>\n",
              "      <th>50%</th>\n",
              "      <td>0.0</td>\n",
              "      <td>0.0</td>\n",
              "      <td>0.0</td>\n",
              "    </tr>\n",
              "    <tr>\n",
              "      <th>75%</th>\n",
              "      <td>22.0</td>\n",
              "      <td>0.0</td>\n",
              "      <td>87.0</td>\n",
              "    </tr>\n",
              "    <tr>\n",
              "      <th>max</th>\n",
              "      <td>23492.0</td>\n",
              "      <td>23492.0</td>\n",
              "      <td>10705.0</td>\n",
              "    </tr>\n",
              "  </tbody>\n",
              "</table>\n",
              "</div>\n",
              "      <button class=\"colab-df-convert\" onclick=\"convertToInteractive('df-9ca6f30e-4d5c-4e34-9168-ebefe8367573')\"\n",
              "              title=\"Convert this dataframe to an interactive table.\"\n",
              "              style=\"display:none;\">\n",
              "        \n",
              "  <svg xmlns=\"http://www.w3.org/2000/svg\" height=\"24px\"viewBox=\"0 0 24 24\"\n",
              "       width=\"24px\">\n",
              "    <path d=\"M0 0h24v24H0V0z\" fill=\"none\"/>\n",
              "    <path d=\"M18.56 5.44l.94 2.06.94-2.06 2.06-.94-2.06-.94-.94-2.06-.94 2.06-2.06.94zm-11 1L8.5 8.5l.94-2.06 2.06-.94-2.06-.94L8.5 2.5l-.94 2.06-2.06.94zm10 10l.94 2.06.94-2.06 2.06-.94-2.06-.94-.94-2.06-.94 2.06-2.06.94z\"/><path d=\"M17.41 7.96l-1.37-1.37c-.4-.4-.92-.59-1.43-.59-.52 0-1.04.2-1.43.59L10.3 9.45l-7.72 7.72c-.78.78-.78 2.05 0 2.83L4 21.41c.39.39.9.59 1.41.59.51 0 1.02-.2 1.41-.59l7.78-7.78 2.81-2.81c.8-.78.8-2.07 0-2.86zM5.41 20L4 18.59l7.72-7.72 1.47 1.35L5.41 20z\"/>\n",
              "  </svg>\n",
              "      </button>\n",
              "      \n",
              "  <style>\n",
              "    .colab-df-container {\n",
              "      display:flex;\n",
              "      flex-wrap:wrap;\n",
              "      gap: 12px;\n",
              "    }\n",
              "\n",
              "    .colab-df-convert {\n",
              "      background-color: #E8F0FE;\n",
              "      border: none;\n",
              "      border-radius: 50%;\n",
              "      cursor: pointer;\n",
              "      display: none;\n",
              "      fill: #1967D2;\n",
              "      height: 32px;\n",
              "      padding: 0 0 0 0;\n",
              "      width: 32px;\n",
              "    }\n",
              "\n",
              "    .colab-df-convert:hover {\n",
              "      background-color: #E2EBFA;\n",
              "      box-shadow: 0px 1px 2px rgba(60, 64, 67, 0.3), 0px 1px 3px 1px rgba(60, 64, 67, 0.15);\n",
              "      fill: #174EA6;\n",
              "    }\n",
              "\n",
              "    [theme=dark] .colab-df-convert {\n",
              "      background-color: #3B4455;\n",
              "      fill: #D2E3FC;\n",
              "    }\n",
              "\n",
              "    [theme=dark] .colab-df-convert:hover {\n",
              "      background-color: #434B5C;\n",
              "      box-shadow: 0px 1px 3px 1px rgba(0, 0, 0, 0.15);\n",
              "      filter: drop-shadow(0px 1px 2px rgba(0, 0, 0, 0.3));\n",
              "      fill: #FFFFFF;\n",
              "    }\n",
              "  </style>\n",
              "\n",
              "      <script>\n",
              "        const buttonEl =\n",
              "          document.querySelector('#df-9ca6f30e-4d5c-4e34-9168-ebefe8367573 button.colab-df-convert');\n",
              "        buttonEl.style.display =\n",
              "          google.colab.kernel.accessAllowed ? 'block' : 'none';\n",
              "\n",
              "        async function convertToInteractive(key) {\n",
              "          const element = document.querySelector('#df-9ca6f30e-4d5c-4e34-9168-ebefe8367573');\n",
              "          const dataTable =\n",
              "            await google.colab.kernel.invokeFunction('convertToInteractive',\n",
              "                                                     [key], {});\n",
              "          if (!dataTable) return;\n",
              "\n",
              "          const docLinkHtml = 'Like what you see? Visit the ' +\n",
              "            '<a target=\"_blank\" href=https://colab.research.google.com/notebooks/data_table.ipynb>data table notebook</a>'\n",
              "            + ' to learn more about interactive tables.';\n",
              "          element.innerHTML = '';\n",
              "          dataTable['output_type'] = 'display_data';\n",
              "          await google.colab.output.renderOutput(dataTable, element);\n",
              "          const docLink = document.createElement('div');\n",
              "          docLink.innerHTML = docLinkHtml;\n",
              "          element.appendChild(docLink);\n",
              "        }\n",
              "      </script>\n",
              "    </div>\n",
              "  </div>\n",
              "  "
            ]
          },
          "metadata": {},
          "execution_count": 72
        }
      ]
    },
    {
      "cell_type": "code",
      "source": [
        "plot_transported_hist(df=train_df, col='ShoppingMall', log=True)"
      ],
      "metadata": {
        "colab": {
          "base_uri": "https://localhost:8080/",
          "height": 393
        },
        "outputId": "67be32d8-2f53-4e8d-c534-fcb93660625c",
        "id": "ClZ_z2W_AtED"
      },
      "execution_count": 73,
      "outputs": [
        {
          "output_type": "display_data",
          "data": {
            "text/plain": [
              "<Figure size 792x432 with 1 Axes>"
            ],
            "image/png": "[encoded data removed]"
          },
          "metadata": {}
        }
      ]
    },
    {
      "cell_type": "markdown",
      "source": [
        "### Spa"
      ],
      "metadata": {
        "id": "StxLZQjR-v58"
      }
    },
    {
      "cell_type": "code",
      "source": [
        "create_desc_df(df=train_df, col='Spa')"
      ],
      "metadata": {
        "colab": {
          "base_uri": "https://localhost:8080/",
          "height": 300
        },
        "id": "cPRBpCG9-v89",
        "outputId": "26f74769-12e9-4d23-ac65-58d80e78496b"
      },
      "execution_count": 74,
      "outputs": [
        {
          "output_type": "execute_result",
          "data": {
            "text/plain": [
              "           All  Transported  Not Transported\n",
              "count   8693.0       4378.0           4315.0\n",
              "mean     305.0         60.0            552.0\n",
              "std     1126.0        260.0           1537.0\n",
              "min        0.0          0.0              0.0\n",
              "25%        0.0          0.0              0.0\n",
              "50%        0.0          0.0              2.0\n",
              "75%       53.0          0.0            431.0\n",
              "max    22408.0       4103.0          22408.0"
            ],
            "text/html": [
              "\n",
              "  <div id=\"df-17d2903a-f516-4f8f-b0e7-42017ec41038\">\n",
              "    <div class=\"colab-df-container\">\n",
              "      <div>\n",
              "<style scoped>\n",
              "    .dataframe tbody tr th:only-of-type {\n",
              "        vertical-align: middle;\n",
              "    }\n",
              "\n",
              "    .dataframe tbody tr th {\n",
              "        vertical-align: top;\n",
              "    }\n",
              "\n",
              "    .dataframe thead th {\n",
              "        text-align: right;\n",
              "    }\n",
              "</style>\n",
              "<table border=\"1\" class=\"dataframe\">\n",
              "  <thead>\n",
              "    <tr style=\"text-align: right;\">\n",
              "      <th></th>\n",
              "      <th>All</th>\n",
              "      <th>Transported</th>\n",
              "      <th>Not Transported</th>\n",
              "    </tr>\n",
              "  </thead>\n",
              "  <tbody>\n",
              "    <tr>\n",
              "      <th>count</th>\n",
              "      <td>8693.0</td>\n",
              "      <td>4378.0</td>\n",
              "      <td>4315.0</td>\n",
              "    </tr>\n",
              "    <tr>\n",
              "      <th>mean</th>\n",
              "      <td>305.0</td>\n",
              "      <td>60.0</td>\n",
              "      <td>552.0</td>\n",
              "    </tr>\n",
              "    <tr>\n",
              "      <th>std</th>\n",
              "      <td>1126.0</td>\n",
              "      <td>260.0</td>\n",
              "      <td>1537.0</td>\n",
              "    </tr>\n",
              "    <tr>\n",
              "      <th>min</th>\n",
              "      <td>0.0</td>\n",
              "      <td>0.0</td>\n",
              "      <td>0.0</td>\n",
              "    </tr>\n",
              "    <tr>\n",
              "      <th>25%</th>\n",
              "      <td>0.0</td>\n",
              "      <td>0.0</td>\n",
              "      <td>0.0</td>\n",
              "    </tr>\n",
              "    <tr>\n",
              "      <th>50%</th>\n",
              "      <td>0.0</td>\n",
              "      <td>0.0</td>\n",
              "      <td>2.0</td>\n",
              "    </tr>\n",
              "    <tr>\n",
              "      <th>75%</th>\n",
              "      <td>53.0</td>\n",
              "      <td>0.0</td>\n",
              "      <td>431.0</td>\n",
              "    </tr>\n",
              "    <tr>\n",
              "      <th>max</th>\n",
              "      <td>22408.0</td>\n",
              "      <td>4103.0</td>\n",
              "      <td>22408.0</td>\n",
              "    </tr>\n",
              "  </tbody>\n",
              "</table>\n",
              "</div>\n",
              "      <button class=\"colab-df-convert\" onclick=\"convertToInteractive('df-17d2903a-f516-4f8f-b0e7-42017ec41038')\"\n",
              "              title=\"Convert this dataframe to an interactive table.\"\n",
              "              style=\"display:none;\">\n",
              "        \n",
              "  <svg xmlns=\"http://www.w3.org/2000/svg\" height=\"24px\"viewBox=\"0 0 24 24\"\n",
              "       width=\"24px\">\n",
              "    <path d=\"M0 0h24v24H0V0z\" fill=\"none\"/>\n",
              "    <path d=\"M18.56 5.44l.94 2.06.94-2.06 2.06-.94-2.06-.94-.94-2.06-.94 2.06-2.06.94zm-11 1L8.5 8.5l.94-2.06 2.06-.94-2.06-.94L8.5 2.5l-.94 2.06-2.06.94zm10 10l.94 2.06.94-2.06 2.06-.94-2.06-.94-.94-2.06-.94 2.06-2.06.94z\"/><path d=\"M17.41 7.96l-1.37-1.37c-.4-.4-.92-.59-1.43-.59-.52 0-1.04.2-1.43.59L10.3 9.45l-7.72 7.72c-.78.78-.78 2.05 0 2.83L4 21.41c.39.39.9.59 1.41.59.51 0 1.02-.2 1.41-.59l7.78-7.78 2.81-2.81c.8-.78.8-2.07 0-2.86zM5.41 20L4 18.59l7.72-7.72 1.47 1.35L5.41 20z\"/>\n",
              "  </svg>\n",
              "      </button>\n",
              "      \n",
              "  <style>\n",
              "    .colab-df-container {\n",
              "      display:flex;\n",
              "      flex-wrap:wrap;\n",
              "      gap: 12px;\n",
              "    }\n",
              "\n",
              "    .colab-df-convert {\n",
              "      background-color: #E8F0FE;\n",
              "      border: none;\n",
              "      border-radius: 50%;\n",
              "      cursor: pointer;\n",
              "      display: none;\n",
              "      fill: #1967D2;\n",
              "      height: 32px;\n",
              "      padding: 0 0 0 0;\n",
              "      width: 32px;\n",
              "    }\n",
              "\n",
              "    .colab-df-convert:hover {\n",
              "      background-color: #E2EBFA;\n",
              "      box-shadow: 0px 1px 2px rgba(60, 64, 67, 0.3), 0px 1px 3px 1px rgba(60, 64, 67, 0.15);\n",
              "      fill: #174EA6;\n",
              "    }\n",
              "\n",
              "    [theme=dark] .colab-df-convert {\n",
              "      background-color: #3B4455;\n",
              "      fill: #D2E3FC;\n",
              "    }\n",
              "\n",
              "    [theme=dark] .colab-df-convert:hover {\n",
              "      background-color: #434B5C;\n",
              "      box-shadow: 0px 1px 3px 1px rgba(0, 0, 0, 0.15);\n",
              "      filter: drop-shadow(0px 1px 2px rgba(0, 0, 0, 0.3));\n",
              "      fill: #FFFFFF;\n",
              "    }\n",
              "  </style>\n",
              "\n",
              "      <script>\n",
              "        const buttonEl =\n",
              "          document.querySelector('#df-17d2903a-f516-4f8f-b0e7-42017ec41038 button.colab-df-convert');\n",
              "        buttonEl.style.display =\n",
              "          google.colab.kernel.accessAllowed ? 'block' : 'none';\n",
              "\n",
              "        async function convertToInteractive(key) {\n",
              "          const element = document.querySelector('#df-17d2903a-f516-4f8f-b0e7-42017ec41038');\n",
              "          const dataTable =\n",
              "            await google.colab.kernel.invokeFunction('convertToInteractive',\n",
              "                                                     [key], {});\n",
              "          if (!dataTable) return;\n",
              "\n",
              "          const docLinkHtml = 'Like what you see? Visit the ' +\n",
              "            '<a target=\"_blank\" href=https://colab.research.google.com/notebooks/data_table.ipynb>data table notebook</a>'\n",
              "            + ' to learn more about interactive tables.';\n",
              "          element.innerHTML = '';\n",
              "          dataTable['output_type'] = 'display_data';\n",
              "          await google.colab.output.renderOutput(dataTable, element);\n",
              "          const docLink = document.createElement('div');\n",
              "          docLink.innerHTML = docLinkHtml;\n",
              "          element.appendChild(docLink);\n",
              "        }\n",
              "      </script>\n",
              "    </div>\n",
              "  </div>\n",
              "  "
            ]
          },
          "metadata": {},
          "execution_count": 74
        }
      ]
    },
    {
      "cell_type": "code",
      "source": [
        "plot_transported_hist(df=train_df, col='Spa', log=True)"
      ],
      "metadata": {
        "colab": {
          "base_uri": "https://localhost:8080/",
          "height": 393
        },
        "id": "CW7zM7xxGiEr",
        "outputId": "3d6cd83e-859d-448a-9d39-300b730a8c65"
      },
      "execution_count": 75,
      "outputs": [
        {
          "output_type": "display_data",
          "data": {
            "text/plain": [
              "<Figure size 792x432 with 1 Axes>"
            ],
            "image/png": "[encoded data removed]"
          },
          "metadata": {}
        }
      ]
    },
    {
      "cell_type": "markdown",
      "source": [
        "### VRDeck"
      ],
      "metadata": {
        "id": "f3S5IAEq-2oO"
      }
    },
    {
      "cell_type": "code",
      "source": [
        "create_desc_df(df=train_df, col='VRDeck')"
      ],
      "metadata": {
        "colab": {
          "base_uri": "https://localhost:8080/",
          "height": 300
        },
        "id": "cNf79cxdGoP8",
        "outputId": "f8aa0fb8-870f-4906-d28b-bf81d0b3f055"
      },
      "execution_count": 76,
      "outputs": [
        {
          "output_type": "execute_result",
          "data": {
            "text/plain": [
              "           All  Transported  Not Transported\n",
              "count   8693.0       4378.0           4315.0\n",
              "mean     298.0         68.0            532.0\n",
              "std     1134.0        289.0           1549.0\n",
              "min        0.0          0.0              0.0\n",
              "25%        0.0          0.0              0.0\n",
              "50%        0.0          0.0              1.0\n",
              "75%       40.0          0.0            372.0\n",
              "max    24133.0       5063.0          24133.0"
            ],
            "text/html": [
              "\n",
              "  <div id=\"df-c9568583-90bf-4f4e-af0d-f42c0756ca14\">\n",
              "    <div class=\"colab-df-container\">\n",
              "      <div>\n",
              "<style scoped>\n",
              "    .dataframe tbody tr th:only-of-type {\n",
              "        vertical-align: middle;\n",
              "    }\n",
              "\n",
              "    .dataframe tbody tr th {\n",
              "        vertical-align: top;\n",
              "    }\n",
              "\n",
              "    .dataframe thead th {\n",
              "        text-align: right;\n",
              "    }\n",
              "</style>\n",
              "<table border=\"1\" class=\"dataframe\">\n",
              "  <thead>\n",
              "    <tr style=\"text-align: right;\">\n",
              "      <th></th>\n",
              "      <th>All</th>\n",
              "      <th>Transported</th>\n",
              "      <th>Not Transported</th>\n",
              "    </tr>\n",
              "  </thead>\n",
              "  <tbody>\n",
              "    <tr>\n",
              "      <th>count</th>\n",
              "      <td>8693.0</td>\n",
              "      <td>4378.0</td>\n",
              "      <td>4315.0</td>\n",
              "    </tr>\n",
              "    <tr>\n",
              "      <th>mean</th>\n",
              "      <td>298.0</td>\n",
              "      <td>68.0</td>\n",
              "      <td>532.0</td>\n",
              "    </tr>\n",
              "    <tr>\n",
              "      <th>std</th>\n",
              "      <td>1134.0</td>\n",
              "      <td>289.0</td>\n",
              "      <td>1549.0</td>\n",
              "    </tr>\n",
              "    <tr>\n",
              "      <th>min</th>\n",
              "      <td>0.0</td>\n",
              "      <td>0.0</td>\n",
              "      <td>0.0</td>\n",
              "    </tr>\n",
              "    <tr>\n",
              "      <th>25%</th>\n",
              "      <td>0.0</td>\n",
              "      <td>0.0</td>\n",
              "      <td>0.0</td>\n",
              "    </tr>\n",
              "    <tr>\n",
              "      <th>50%</th>\n",
              "      <td>0.0</td>\n",
              "      <td>0.0</td>\n",
              "      <td>1.0</td>\n",
              "    </tr>\n",
              "    <tr>\n",
              "      <th>75%</th>\n",
              "      <td>40.0</td>\n",
              "      <td>0.0</td>\n",
              "      <td>372.0</td>\n",
              "    </tr>\n",
              "    <tr>\n",
              "      <th>max</th>\n",
              "      <td>24133.0</td>\n",
              "      <td>5063.0</td>\n",
              "      <td>24133.0</td>\n",
              "    </tr>\n",
              "  </tbody>\n",
              "</table>\n",
              "</div>\n",
              "      <button class=\"colab-df-convert\" onclick=\"convertToInteractive('df-c9568583-90bf-4f4e-af0d-f42c0756ca14')\"\n",
              "              title=\"Convert this dataframe to an interactive table.\"\n",
              "              style=\"display:none;\">\n",
              "        \n",
              "  <svg xmlns=\"http://www.w3.org/2000/svg\" height=\"24px\"viewBox=\"0 0 24 24\"\n",
              "       width=\"24px\">\n",
              "    <path d=\"M0 0h24v24H0V0z\" fill=\"none\"/>\n",
              "    <path d=\"M18.56 5.44l.94 2.06.94-2.06 2.06-.94-2.06-.94-.94-2.06-.94 2.06-2.06.94zm-11 1L8.5 8.5l.94-2.06 2.06-.94-2.06-.94L8.5 2.5l-.94 2.06-2.06.94zm10 10l.94 2.06.94-2.06 2.06-.94-2.06-.94-.94-2.06-.94 2.06-2.06.94z\"/><path d=\"M17.41 7.96l-1.37-1.37c-.4-.4-.92-.59-1.43-.59-.52 0-1.04.2-1.43.59L10.3 9.45l-7.72 7.72c-.78.78-.78 2.05 0 2.83L4 21.41c.39.39.9.59 1.41.59.51 0 1.02-.2 1.41-.59l7.78-7.78 2.81-2.81c.8-.78.8-2.07 0-2.86zM5.41 20L4 18.59l7.72-7.72 1.47 1.35L5.41 20z\"/>\n",
              "  </svg>\n",
              "      </button>\n",
              "      \n",
              "  <style>\n",
              "    .colab-df-container {\n",
              "      display:flex;\n",
              "      flex-wrap:wrap;\n",
              "      gap: 12px;\n",
              "    }\n",
              "\n",
              "    .colab-df-convert {\n",
              "      background-color: #E8F0FE;\n",
              "      border: none;\n",
              "      border-radius: 50%;\n",
              "      cursor: pointer;\n",
              "      display: none;\n",
              "      fill: #1967D2;\n",
              "      height: 32px;\n",
              "      padding: 0 0 0 0;\n",
              "      width: 32px;\n",
              "    }\n",
              "\n",
              "    .colab-df-convert:hover {\n",
              "      background-color: #E2EBFA;\n",
              "      box-shadow: 0px 1px 2px rgba(60, 64, 67, 0.3), 0px 1px 3px 1px rgba(60, 64, 67, 0.15);\n",
              "      fill: #174EA6;\n",
              "    }\n",
              "\n",
              "    [theme=dark] .colab-df-convert {\n",
              "      background-color: #3B4455;\n",
              "      fill: #D2E3FC;\n",
              "    }\n",
              "\n",
              "    [theme=dark] .colab-df-convert:hover {\n",
              "      background-color: #434B5C;\n",
              "      box-shadow: 0px 1px 3px 1px rgba(0, 0, 0, 0.15);\n",
              "      filter: drop-shadow(0px 1px 2px rgba(0, 0, 0, 0.3));\n",
              "      fill: #FFFFFF;\n",
              "    }\n",
              "  </style>\n",
              "\n",
              "      <script>\n",
              "        const buttonEl =\n",
              "          document.querySelector('#df-c9568583-90bf-4f4e-af0d-f42c0756ca14 button.colab-df-convert');\n",
              "        buttonEl.style.display =\n",
              "          google.colab.kernel.accessAllowed ? 'block' : 'none';\n",
              "\n",
              "        async function convertToInteractive(key) {\n",
              "          const element = document.querySelector('#df-c9568583-90bf-4f4e-af0d-f42c0756ca14');\n",
              "          const dataTable =\n",
              "            await google.colab.kernel.invokeFunction('convertToInteractive',\n",
              "                                                     [key], {});\n",
              "          if (!dataTable) return;\n",
              "\n",
              "          const docLinkHtml = 'Like what you see? Visit the ' +\n",
              "            '<a target=\"_blank\" href=https://colab.research.google.com/notebooks/data_table.ipynb>data table notebook</a>'\n",
              "            + ' to learn more about interactive tables.';\n",
              "          element.innerHTML = '';\n",
              "          dataTable['output_type'] = 'display_data';\n",
              "          await google.colab.output.renderOutput(dataTable, element);\n",
              "          const docLink = document.createElement('div');\n",
              "          docLink.innerHTML = docLinkHtml;\n",
              "          element.appendChild(docLink);\n",
              "        }\n",
              "      </script>\n",
              "    </div>\n",
              "  </div>\n",
              "  "
            ]
          },
          "metadata": {},
          "execution_count": 76
        }
      ]
    },
    {
      "cell_type": "code",
      "source": [
        "plot_transported_hist(df=train_df, col='VRDeck', log=True)"
      ],
      "metadata": {
        "colab": {
          "base_uri": "https://localhost:8080/",
          "height": 393
        },
        "id": "m3LBZi5O-2vf",
        "outputId": "01c8f4db-f696-42a6-b2a5-c9d498f065f6"
      },
      "execution_count": 77,
      "outputs": [
        {
          "output_type": "display_data",
          "data": {
            "text/plain": [
              "<Figure size 792x432 with 1 Axes>"
            ],
            "image/png": "[encoded data removed]"
          },
          "metadata": {}
        }
      ]
    },
    {
      "cell_type": "markdown",
      "source": [
        "# Identify Inconsistencies and Outliers\n",
        "*Review prepared and formatted features to confirm imputation and look for any apparent inconsistencies. Also attempt to identify additional relationships that may factor into the graph data model or analysis.*"
      ],
      "metadata": {
        "id": "VEacNi70asjX"
      }
    },
    {
      "cell_type": "markdown",
      "source": [
        "## CryoSleep and Onboard Spending\n",
        "*Confirm that passengers in CryoSleep do not have any onboard spending.*"
      ],
      "metadata": {
        "id": "B9N70f-8jXYF"
      }
    },
    {
      "cell_type": "code",
      "source": [
        "# identify passengers with onboard spend and who are in cryosleep\n",
        "train_df[(train_df['CryoSleep'] == True) & (train_df['Total_Spend'] > 0)].shape"
      ],
      "metadata": {
        "colab": {
          "base_uri": "https://localhost:8080/"
        },
        "id": "IpXHnpcjsbYQ",
        "outputId": "9086bb62-8952-4616-f1d5-42de4ab7503b"
      },
      "execution_count": 78,
      "outputs": [
        {
          "output_type": "execute_result",
          "data": {
            "text/plain": [
              "(25, 21)"
            ]
          },
          "metadata": {},
          "execution_count": 78
        }
      ]
    },
    {
      "cell_type": "code",
      "source": [
        "# set CryoSleep to false for passengers who have onboard spend \n",
        "train_df.loc[(train_df['CryoSleep'] == True) & (train_df['Total_Spend'] > 0), 'CryoSleep'] = False"
      ],
      "metadata": {
        "id": "hb0GyK8RsmXz"
      },
      "execution_count": 79,
      "outputs": []
    },
    {
      "cell_type": "code",
      "source": [
        "# confirm now zero \n",
        "train_df[(train_df['CryoSleep'] == True) & (train_df['Total_Spend'] > 0)].shape"
      ],
      "metadata": {
        "colab": {
          "base_uri": "https://localhost:8080/"
        },
        "id": "-R5uSVgSjZlS",
        "outputId": "eada1d8b-a6b7-4844-9489-713fc6209300"
      },
      "execution_count": 80,
      "outputs": [
        {
          "output_type": "execute_result",
          "data": {
            "text/plain": [
              "(0, 21)"
            ]
          },
          "metadata": {},
          "execution_count": 80
        }
      ]
    },
    {
      "cell_type": "markdown",
      "source": [
        "## HomePlanet and Cabin Deck"
      ],
      "metadata": {
        "id": "_lbywVG9aseb"
      }
    },
    {
      "cell_type": "code",
      "source": [
        "pd.crosstab(index = train_df['HomePlanet'], \n",
        "            columns = train_df['Cabin_Deck'], \n",
        "            values = train_df['PassengerId'],\n",
        "            aggfunc='nunique')"
      ],
      "metadata": {
        "colab": {
          "base_uri": "https://localhost:8080/",
          "height": 175
        },
        "id": "jWhWymwIasYb",
        "outputId": "e3d30e12-951f-4cf3-a380-a81a9d79795f"
      },
      "execution_count": 81,
      "outputs": [
        {
          "output_type": "execute_result",
          "data": {
            "text/plain": [
              "Cabin_Deck    A    B    C    D    E     F     G  T\n",
              "HomePlanet                                        \n",
              "Earth         1    1    4    4  414  1731  2589  1\n",
              "Europa      261  795  757  192  131    21     0  4\n",
              "Mars          0    0    0  291  341  1155     0  0"
            ],
            "text/html": [
              "\n",
              "  <div id=\"df-1f2a486b-dc78-4a6e-8644-a6e884766346\">\n",
              "    <div class=\"colab-df-container\">\n",
              "      <div>\n",
              "<style scoped>\n",
              "    .dataframe tbody tr th:only-of-type {\n",
              "        vertical-align: middle;\n",
              "    }\n",
              "\n",
              "    .dataframe tbody tr th {\n",
              "        vertical-align: top;\n",
              "    }\n",
              "\n",
              "    .dataframe thead th {\n",
              "        text-align: right;\n",
              "    }\n",
              "</style>\n",
              "<table border=\"1\" class=\"dataframe\">\n",
              "  <thead>\n",
              "    <tr style=\"text-align: right;\">\n",
              "      <th>Cabin_Deck</th>\n",
              "      <th>A</th>\n",
              "      <th>B</th>\n",
              "      <th>C</th>\n",
              "      <th>D</th>\n",
              "      <th>E</th>\n",
              "      <th>F</th>\n",
              "      <th>G</th>\n",
              "      <th>T</th>\n",
              "    </tr>\n",
              "    <tr>\n",
              "      <th>HomePlanet</th>\n",
              "      <th></th>\n",
              "      <th></th>\n",
              "      <th></th>\n",
              "      <th></th>\n",
              "      <th></th>\n",
              "      <th></th>\n",
              "      <th></th>\n",
              "      <th></th>\n",
              "    </tr>\n",
              "  </thead>\n",
              "  <tbody>\n",
              "    <tr>\n",
              "      <th>Earth</th>\n",
              "      <td>1</td>\n",
              "      <td>1</td>\n",
              "      <td>4</td>\n",
              "      <td>4</td>\n",
              "      <td>414</td>\n",
              "      <td>1731</td>\n",
              "      <td>2589</td>\n",
              "      <td>1</td>\n",
              "    </tr>\n",
              "    <tr>\n",
              "      <th>Europa</th>\n",
              "      <td>261</td>\n",
              "      <td>795</td>\n",
              "      <td>757</td>\n",
              "      <td>192</td>\n",
              "      <td>131</td>\n",
              "      <td>21</td>\n",
              "      <td>0</td>\n",
              "      <td>4</td>\n",
              "    </tr>\n",
              "    <tr>\n",
              "      <th>Mars</th>\n",
              "      <td>0</td>\n",
              "      <td>0</td>\n",
              "      <td>0</td>\n",
              "      <td>291</td>\n",
              "      <td>341</td>\n",
              "      <td>1155</td>\n",
              "      <td>0</td>\n",
              "      <td>0</td>\n",
              "    </tr>\n",
              "  </tbody>\n",
              "</table>\n",
              "</div>\n",
              "      <button class=\"colab-df-convert\" onclick=\"convertToInteractive('df-1f2a486b-dc78-4a6e-8644-a6e884766346')\"\n",
              "              title=\"Convert this dataframe to an interactive table.\"\n",
              "              style=\"display:none;\">\n",
              "        \n",
              "  <svg xmlns=\"http://www.w3.org/2000/svg\" height=\"24px\"viewBox=\"0 0 24 24\"\n",
              "       width=\"24px\">\n",
              "    <path d=\"M0 0h24v24H0V0z\" fill=\"none\"/>\n",
              "    <path d=\"M18.56 5.44l.94 2.06.94-2.06 2.06-.94-2.06-.94-.94-2.06-.94 2.06-2.06.94zm-11 1L8.5 8.5l.94-2.06 2.06-.94-2.06-.94L8.5 2.5l-.94 2.06-2.06.94zm10 10l.94 2.06.94-2.06 2.06-.94-2.06-.94-.94-2.06-.94 2.06-2.06.94z\"/><path d=\"M17.41 7.96l-1.37-1.37c-.4-.4-.92-.59-1.43-.59-.52 0-1.04.2-1.43.59L10.3 9.45l-7.72 7.72c-.78.78-.78 2.05 0 2.83L4 21.41c.39.39.9.59 1.41.59.51 0 1.02-.2 1.41-.59l7.78-7.78 2.81-2.81c.8-.78.8-2.07 0-2.86zM5.41 20L4 18.59l7.72-7.72 1.47 1.35L5.41 20z\"/>\n",
              "  </svg>\n",
              "      </button>\n",
              "      \n",
              "  <style>\n",
              "    .colab-df-container {\n",
              "      display:flex;\n",
              "      flex-wrap:wrap;\n",
              "      gap: 12px;\n",
              "    }\n",
              "\n",
              "    .colab-df-convert {\n",
              "      background-color: #E8F0FE;\n",
              "      border: none;\n",
              "      border-radius: 50%;\n",
              "      cursor: pointer;\n",
              "      display: none;\n",
              "      fill: #1967D2;\n",
              "      height: 32px;\n",
              "      padding: 0 0 0 0;\n",
              "      width: 32px;\n",
              "    }\n",
              "\n",
              "    .colab-df-convert:hover {\n",
              "      background-color: #E2EBFA;\n",
              "      box-shadow: 0px 1px 2px rgba(60, 64, 67, 0.3), 0px 1px 3px 1px rgba(60, 64, 67, 0.15);\n",
              "      fill: #174EA6;\n",
              "    }\n",
              "\n",
              "    [theme=dark] .colab-df-convert {\n",
              "      background-color: #3B4455;\n",
              "      fill: #D2E3FC;\n",
              "    }\n",
              "\n",
              "    [theme=dark] .colab-df-convert:hover {\n",
              "      background-color: #434B5C;\n",
              "      box-shadow: 0px 1px 3px 1px rgba(0, 0, 0, 0.15);\n",
              "      filter: drop-shadow(0px 1px 2px rgba(0, 0, 0, 0.3));\n",
              "      fill: #FFFFFF;\n",
              "    }\n",
              "  </style>\n",
              "\n",
              "      <script>\n",
              "        const buttonEl =\n",
              "          document.querySelector('#df-1f2a486b-dc78-4a6e-8644-a6e884766346 button.colab-df-convert');\n",
              "        buttonEl.style.display =\n",
              "          google.colab.kernel.accessAllowed ? 'block' : 'none';\n",
              "\n",
              "        async function convertToInteractive(key) {\n",
              "          const element = document.querySelector('#df-1f2a486b-dc78-4a6e-8644-a6e884766346');\n",
              "          const dataTable =\n",
              "            await google.colab.kernel.invokeFunction('convertToInteractive',\n",
              "                                                     [key], {});\n",
              "          if (!dataTable) return;\n",
              "\n",
              "          const docLinkHtml = 'Like what you see? Visit the ' +\n",
              "            '<a target=\"_blank\" href=https://colab.research.google.com/notebooks/data_table.ipynb>data table notebook</a>'\n",
              "            + ' to learn more about interactive tables.';\n",
              "          element.innerHTML = '';\n",
              "          dataTable['output_type'] = 'display_data';\n",
              "          await google.colab.output.renderOutput(dataTable, element);\n",
              "          const docLink = document.createElement('div');\n",
              "          docLink.innerHTML = docLinkHtml;\n",
              "          element.appendChild(docLink);\n",
              "        }\n",
              "      </script>\n",
              "    </div>\n",
              "  </div>\n",
              "  "
            ]
          },
          "metadata": {},
          "execution_count": 81
        }
      ]
    },
    {
      "cell_type": "code",
      "source": [
        "# adjust for potential inconsistencies due to imputation \n",
        "train_df.loc[(train_df['HomePlanet'] == 'Earth') & \n",
        "             (train_df['Cabin_Deck'].str.contains('A|B|C|D|T')),\n",
        "             'HomePlanet'] = 'Europa'"
      ],
      "metadata": {
        "id": "AX3ba7fYP0GS"
      },
      "execution_count": 82,
      "outputs": []
    },
    {
      "cell_type": "code",
      "source": [
        "pd.crosstab(index = train_df['HomePlanet'], \n",
        "            columns = train_df['Cabin_Deck'], \n",
        "            values = train_df['PassengerId'],\n",
        "            aggfunc='nunique')"
      ],
      "metadata": {
        "colab": {
          "base_uri": "https://localhost:8080/",
          "height": 175
        },
        "id": "N9Cb1kkaP0Nc",
        "outputId": "2759589d-e294-495f-9f76-1846bb851bb7"
      },
      "execution_count": 83,
      "outputs": [
        {
          "output_type": "execute_result",
          "data": {
            "text/plain": [
              "Cabin_Deck    A    B    C    D    E     F     G  T\n",
              "HomePlanet                                        \n",
              "Earth         0    0    0    0  414  1731  2589  0\n",
              "Europa      262  796  761  196  131    21     0  5\n",
              "Mars          0    0    0  291  341  1155     0  0"
            ],
            "text/html": [
              "\n",
              "  <div id=\"df-3e686799-e3f3-4b09-9fc9-51182b45ecce\">\n",
              "    <div class=\"colab-df-container\">\n",
              "      <div>\n",
              "<style scoped>\n",
              "    .dataframe tbody tr th:only-of-type {\n",
              "        vertical-align: middle;\n",
              "    }\n",
              "\n",
              "    .dataframe tbody tr th {\n",
              "        vertical-align: top;\n",
              "    }\n",
              "\n",
              "    .dataframe thead th {\n",
              "        text-align: right;\n",
              "    }\n",
              "</style>\n",
              "<table border=\"1\" class=\"dataframe\">\n",
              "  <thead>\n",
              "    <tr style=\"text-align: right;\">\n",
              "      <th>Cabin_Deck</th>\n",
              "      <th>A</th>\n",
              "      <th>B</th>\n",
              "      <th>C</th>\n",
              "      <th>D</th>\n",
              "      <th>E</th>\n",
              "      <th>F</th>\n",
              "      <th>G</th>\n",
              "      <th>T</th>\n",
              "    </tr>\n",
              "    <tr>\n",
              "      <th>HomePlanet</th>\n",
              "      <th></th>\n",
              "      <th></th>\n",
              "      <th></th>\n",
              "      <th></th>\n",
              "      <th></th>\n",
              "      <th></th>\n",
              "      <th></th>\n",
              "      <th></th>\n",
              "    </tr>\n",
              "  </thead>\n",
              "  <tbody>\n",
              "    <tr>\n",
              "      <th>Earth</th>\n",
              "      <td>0</td>\n",
              "      <td>0</td>\n",
              "      <td>0</td>\n",
              "      <td>0</td>\n",
              "      <td>414</td>\n",
              "      <td>1731</td>\n",
              "      <td>2589</td>\n",
              "      <td>0</td>\n",
              "    </tr>\n",
              "    <tr>\n",
              "      <th>Europa</th>\n",
              "      <td>262</td>\n",
              "      <td>796</td>\n",
              "      <td>761</td>\n",
              "      <td>196</td>\n",
              "      <td>131</td>\n",
              "      <td>21</td>\n",
              "      <td>0</td>\n",
              "      <td>5</td>\n",
              "    </tr>\n",
              "    <tr>\n",
              "      <th>Mars</th>\n",
              "      <td>0</td>\n",
              "      <td>0</td>\n",
              "      <td>0</td>\n",
              "      <td>291</td>\n",
              "      <td>341</td>\n",
              "      <td>1155</td>\n",
              "      <td>0</td>\n",
              "      <td>0</td>\n",
              "    </tr>\n",
              "  </tbody>\n",
              "</table>\n",
              "</div>\n",
              "      <button class=\"colab-df-convert\" onclick=\"convertToInteractive('df-3e686799-e3f3-4b09-9fc9-51182b45ecce')\"\n",
              "              title=\"Convert this dataframe to an interactive table.\"\n",
              "              style=\"display:none;\">\n",
              "        \n",
              "  <svg xmlns=\"http://www.w3.org/2000/svg\" height=\"24px\"viewBox=\"0 0 24 24\"\n",
              "       width=\"24px\">\n",
              "    <path d=\"M0 0h24v24H0V0z\" fill=\"none\"/>\n",
              "    <path d=\"M18.56 5.44l.94 2.06.94-2.06 2.06-.94-2.06-.94-.94-2.06-.94 2.06-2.06.94zm-11 1L8.5 8.5l.94-2.06 2.06-.94-2.06-.94L8.5 2.5l-.94 2.06-2.06.94zm10 10l.94 2.06.94-2.06 2.06-.94-2.06-.94-.94-2.06-.94 2.06-2.06.94z\"/><path d=\"M17.41 7.96l-1.37-1.37c-.4-.4-.92-.59-1.43-.59-.52 0-1.04.2-1.43.59L10.3 9.45l-7.72 7.72c-.78.78-.78 2.05 0 2.83L4 21.41c.39.39.9.59 1.41.59.51 0 1.02-.2 1.41-.59l7.78-7.78 2.81-2.81c.8-.78.8-2.07 0-2.86zM5.41 20L4 18.59l7.72-7.72 1.47 1.35L5.41 20z\"/>\n",
              "  </svg>\n",
              "      </button>\n",
              "      \n",
              "  <style>\n",
              "    .colab-df-container {\n",
              "      display:flex;\n",
              "      flex-wrap:wrap;\n",
              "      gap: 12px;\n",
              "    }\n",
              "\n",
              "    .colab-df-convert {\n",
              "      background-color: #E8F0FE;\n",
              "      border: none;\n",
              "      border-radius: 50%;\n",
              "      cursor: pointer;\n",
              "      display: none;\n",
              "      fill: #1967D2;\n",
              "      height: 32px;\n",
              "      padding: 0 0 0 0;\n",
              "      width: 32px;\n",
              "    }\n",
              "\n",
              "    .colab-df-convert:hover {\n",
              "      background-color: #E2EBFA;\n",
              "      box-shadow: 0px 1px 2px rgba(60, 64, 67, 0.3), 0px 1px 3px 1px rgba(60, 64, 67, 0.15);\n",
              "      fill: #174EA6;\n",
              "    }\n",
              "\n",
              "    [theme=dark] .colab-df-convert {\n",
              "      background-color: #3B4455;\n",
              "      fill: #D2E3FC;\n",
              "    }\n",
              "\n",
              "    [theme=dark] .colab-df-convert:hover {\n",
              "      background-color: #434B5C;\n",
              "      box-shadow: 0px 1px 3px 1px rgba(0, 0, 0, 0.15);\n",
              "      filter: drop-shadow(0px 1px 2px rgba(0, 0, 0, 0.3));\n",
              "      fill: #FFFFFF;\n",
              "    }\n",
              "  </style>\n",
              "\n",
              "      <script>\n",
              "        const buttonEl =\n",
              "          document.querySelector('#df-3e686799-e3f3-4b09-9fc9-51182b45ecce button.colab-df-convert');\n",
              "        buttonEl.style.display =\n",
              "          google.colab.kernel.accessAllowed ? 'block' : 'none';\n",
              "\n",
              "        async function convertToInteractive(key) {\n",
              "          const element = document.querySelector('#df-3e686799-e3f3-4b09-9fc9-51182b45ecce');\n",
              "          const dataTable =\n",
              "            await google.colab.kernel.invokeFunction('convertToInteractive',\n",
              "                                                     [key], {});\n",
              "          if (!dataTable) return;\n",
              "\n",
              "          const docLinkHtml = 'Like what you see? Visit the ' +\n",
              "            '<a target=\"_blank\" href=https://colab.research.google.com/notebooks/data_table.ipynb>data table notebook</a>'\n",
              "            + ' to learn more about interactive tables.';\n",
              "          element.innerHTML = '';\n",
              "          dataTable['output_type'] = 'display_data';\n",
              "          await google.colab.output.renderOutput(dataTable, element);\n",
              "          const docLink = document.createElement('div');\n",
              "          docLink.innerHTML = docLinkHtml;\n",
              "          element.appendChild(docLink);\n",
              "        }\n",
              "      </script>\n",
              "    </div>\n",
              "  </div>\n",
              "  "
            ]
          },
          "metadata": {},
          "execution_count": 83
        }
      ]
    },
    {
      "cell_type": "markdown",
      "source": [
        "## Passenger Groups and Cabin Side\n",
        "*Passengers in the same group all appear to travel on the same side of the ship.*"
      ],
      "metadata": {
        "id": "nOPK7zewasNf"
      }
    },
    {
      "cell_type": "code",
      "source": [
        "# all passengers in a group travel on the same side\n",
        "(\n",
        "    train_df[['Cabin_Side', 'Passenger_Group']]\n",
        "    .groupby('Passenger_Group')\n",
        "    .agg('nunique')\n",
        "    .sort_values(by='Cabin_Side', ascending=False) > 1\n",
        ").sum()"
      ],
      "metadata": {
        "colab": {
          "base_uri": "https://localhost:8080/"
        },
        "id": "-ZMKi12si8Le",
        "outputId": "23735fd7-d683-40e1-8637-566761043a0d"
      },
      "execution_count": 84,
      "outputs": [
        {
          "output_type": "execute_result",
          "data": {
            "text/plain": [
              "Cabin_Side    0\n",
              "dtype: int64"
            ]
          },
          "metadata": {},
          "execution_count": 84
        }
      ]
    },
    {
      "cell_type": "markdown",
      "source": [
        "# Prepare Data For Modeling"
      ],
      "metadata": {
        "id": "GfAQU-l4Ib8R"
      }
    },
    {
      "cell_type": "code",
      "source": [
        "train_df.info()"
      ],
      "metadata": {
        "colab": {
          "base_uri": "https://localhost:8080/"
        },
        "id": "XyjYCe-OIe-B",
        "outputId": "c65e7d1f-a5d7-4a21-a095-c4b145572d19"
      },
      "execution_count": 85,
      "outputs": [
        {
          "output_type": "stream",
          "name": "stdout",
          "text": [
            "<class 'pandas.core.frame.DataFrame'>\n",
            "RangeIndex: 8693 entries, 0 to 8692\n",
            "Data columns (total 21 columns):\n",
            " #   Column           Non-Null Count  Dtype   \n",
            "---  ------           --------------  -----   \n",
            " 0   PassengerId      8693 non-null   object  \n",
            " 1   HomePlanet       8693 non-null   category\n",
            " 2   CryoSleep        8693 non-null   category\n",
            " 3   Cabin            8693 non-null   object  \n",
            " 4   Destination      8693 non-null   category\n",
            " 5   Age              8693 non-null   int64   \n",
            " 6   VIP              8693 non-null   category\n",
            " 7   RoomService      8693 non-null   int64   \n",
            " 8   FoodCourt        8693 non-null   int64   \n",
            " 9   ShoppingMall     8693 non-null   int64   \n",
            " 10  Spa              8693 non-null   int64   \n",
            " 11  VRDeck           8693 non-null   int64   \n",
            " 12  Name             8693 non-null   object  \n",
            " 13  Transported      8693 non-null   bool    \n",
            " 14  Passenger_Group  8693 non-null   object  \n",
            " 15  Group_Size       8693 non-null   int64   \n",
            " 16  Surname          8693 non-null   object  \n",
            " 17  Cabin_Deck       8693 non-null   category\n",
            " 18  Cabin_Num        8693 non-null   object  \n",
            " 19  Cabin_Side       8693 non-null   category\n",
            " 20  Total_Spend      8693 non-null   int64   \n",
            "dtypes: bool(1), category(6), int64(8), object(6)\n",
            "memory usage: 1011.3+ KB\n"
          ]
        }
      ]
    },
    {
      "cell_type": "code",
      "source": [
        "train_df.head()"
      ],
      "metadata": {
        "colab": {
          "base_uri": "https://localhost:8080/",
          "height": 357
        },
        "id": "29TIp0U4h-mb",
        "outputId": "fc0552a2-c6ca-4f16-c2dd-5a56be302898"
      },
      "execution_count": 86,
      "outputs": [
        {
          "output_type": "execute_result",
          "data": {
            "text/plain": [
              "  PassengerId HomePlanet CryoSleep Cabin Destination  Age    VIP  RoomService  \\\n",
              "0     0001_01     Europa     False   B0P  TRAPPIST1e   39  False            0   \n",
              "1     0002_01      Earth     False   F0S  TRAPPIST1e   24  False          109   \n",
              "2     0003_01     Europa     False   A0S  TRAPPIST1e   58   True           43   \n",
              "3     0003_02     Europa     False   A0S  TRAPPIST1e   33  False            0   \n",
              "4     0004_01      Earth     False   F1S  TRAPPIST1e   16  False          303   \n",
              "\n",
              "   FoodCourt  ShoppingMall   Spa  VRDeck               Name  Transported  \\\n",
              "0          0             0     0       0    Maham Ofracculy        False   \n",
              "1          9            25   549      44       Juanna Vines         True   \n",
              "2       3576             0  6715      49      Altark Susent        False   \n",
              "3       1283           371  3329     193       Solam Susent        False   \n",
              "4         70           151   565       2  Willy Santantines         True   \n",
              "\n",
              "  Passenger_Group  Group_Size      Surname Cabin_Deck Cabin_Num Cabin_Side  \\\n",
              "0            0001           1    Ofracculy          B         0          P   \n",
              "1            0002           1        Vines          F         0          S   \n",
              "2            0003           2       Susent          A         0          S   \n",
              "3            0003           2       Susent          A         0          S   \n",
              "4            0004           1  Santantines          F         1          S   \n",
              "\n",
              "   Total_Spend  \n",
              "0            0  \n",
              "1          736  \n",
              "2        10383  \n",
              "3         5176  \n",
              "4         1091  "
            ],
            "text/html": [
              "\n",
              "  <div id=\"df-8b845b6c-5851-4cc3-8db4-cf93bc09247b\">\n",
              "    <div class=\"colab-df-container\">\n",
              "      <div>\n",
              "<style scoped>\n",
              "    .dataframe tbody tr th:only-of-type {\n",
              "        vertical-align: middle;\n",
              "    }\n",
              "\n",
              "    .dataframe tbody tr th {\n",
              "        vertical-align: top;\n",
              "    }\n",
              "\n",
              "    .dataframe thead th {\n",
              "        text-align: right;\n",
              "    }\n",
              "</style>\n",
              "<table border=\"1\" class=\"dataframe\">\n",
              "  <thead>\n",
              "    <tr style=\"text-align: right;\">\n",
              "      <th></th>\n",
              "      <th>PassengerId</th>\n",
              "      <th>HomePlanet</th>\n",
              "      <th>CryoSleep</th>\n",
              "      <th>Cabin</th>\n",
              "      <th>Destination</th>\n",
              "      <th>Age</th>\n",
              "      <th>VIP</th>\n",
              "      <th>RoomService</th>\n",
              "      <th>FoodCourt</th>\n",
              "      <th>ShoppingMall</th>\n",
              "      <th>Spa</th>\n",
              "      <th>VRDeck</th>\n",
              "      <th>Name</th>\n",
              "      <th>Transported</th>\n",
              "      <th>Passenger_Group</th>\n",
              "      <th>Group_Size</th>\n",
              "      <th>Surname</th>\n",
              "      <th>Cabin_Deck</th>\n",
              "      <th>Cabin_Num</th>\n",
              "      <th>Cabin_Side</th>\n",
              "      <th>Total_Spend</th>\n",
              "    </tr>\n",
              "  </thead>\n",
              "  <tbody>\n",
              "    <tr>\n",
              "      <th>0</th>\n",
              "      <td>0001_01</td>\n",
              "      <td>Europa</td>\n",
              "      <td>False</td>\n",
              "      <td>B0P</td>\n",
              "      <td>TRAPPIST1e</td>\n",
              "      <td>39</td>\n",
              "      <td>False</td>\n",
              "      <td>0</td>\n",
              "      <td>0</td>\n",
              "      <td>0</td>\n",
              "      <td>0</td>\n",
              "      <td>0</td>\n",
              "      <td>Maham Ofracculy</td>\n",
              "      <td>False</td>\n",
              "      <td>0001</td>\n",
              "      <td>1</td>\n",
              "      <td>Ofracculy</td>\n",
              "      <td>B</td>\n",
              "      <td>0</td>\n",
              "      <td>P</td>\n",
              "      <td>0</td>\n",
              "    </tr>\n",
              "    <tr>\n",
              "      <th>1</th>\n",
              "      <td>0002_01</td>\n",
              "      <td>Earth</td>\n",
              "      <td>False</td>\n",
              "      <td>F0S</td>\n",
              "      <td>TRAPPIST1e</td>\n",
              "      <td>24</td>\n",
              "      <td>False</td>\n",
              "      <td>109</td>\n",
              "      <td>9</td>\n",
              "      <td>25</td>\n",
              "      <td>549</td>\n",
              "      <td>44</td>\n",
              "      <td>Juanna Vines</td>\n",
              "      <td>True</td>\n",
              "      <td>0002</td>\n",
              "      <td>1</td>\n",
              "      <td>Vines</td>\n",
              "      <td>F</td>\n",
              "      <td>0</td>\n",
              "      <td>S</td>\n",
              "      <td>736</td>\n",
              "    </tr>\n",
              "    <tr>\n",
              "      <th>2</th>\n",
              "      <td>0003_01</td>\n",
              "      <td>Europa</td>\n",
              "      <td>False</td>\n",
              "      <td>A0S</td>\n",
              "      <td>TRAPPIST1e</td>\n",
              "      <td>58</td>\n",
              "      <td>True</td>\n",
              "      <td>43</td>\n",
              "      <td>3576</td>\n",
              "      <td>0</td>\n",
              "      <td>6715</td>\n",
              "      <td>49</td>\n",
              "      <td>Altark Susent</td>\n",
              "      <td>False</td>\n",
              "      <td>0003</td>\n",
              "      <td>2</td>\n",
              "      <td>Susent</td>\n",
              "      <td>A</td>\n",
              "      <td>0</td>\n",
              "      <td>S</td>\n",
              "      <td>10383</td>\n",
              "    </tr>\n",
              "    <tr>\n",
              "      <th>3</th>\n",
              "      <td>0003_02</td>\n",
              "      <td>Europa</td>\n",
              "      <td>False</td>\n",
              "      <td>A0S</td>\n",
              "      <td>TRAPPIST1e</td>\n",
              "      <td>33</td>\n",
              "      <td>False</td>\n",
              "      <td>0</td>\n",
              "      <td>1283</td>\n",
              "      <td>371</td>\n",
              "      <td>3329</td>\n",
              "      <td>193</td>\n",
              "      <td>Solam Susent</td>\n",
              "      <td>False</td>\n",
              "      <td>0003</td>\n",
              "      <td>2</td>\n",
              "      <td>Susent</td>\n",
              "      <td>A</td>\n",
              "      <td>0</td>\n",
              "      <td>S</td>\n",
              "      <td>5176</td>\n",
              "    </tr>\n",
              "    <tr>\n",
              "      <th>4</th>\n",
              "      <td>0004_01</td>\n",
              "      <td>Earth</td>\n",
              "      <td>False</td>\n",
              "      <td>F1S</td>\n",
              "      <td>TRAPPIST1e</td>\n",
              "      <td>16</td>\n",
              "      <td>False</td>\n",
              "      <td>303</td>\n",
              "      <td>70</td>\n",
              "      <td>151</td>\n",
              "      <td>565</td>\n",
              "      <td>2</td>\n",
              "      <td>Willy Santantines</td>\n",
              "      <td>True</td>\n",
              "      <td>0004</td>\n",
              "      <td>1</td>\n",
              "      <td>Santantines</td>\n",
              "      <td>F</td>\n",
              "      <td>1</td>\n",
              "      <td>S</td>\n",
              "      <td>1091</td>\n",
              "    </tr>\n",
              "  </tbody>\n",
              "</table>\n",
              "</div>\n",
              "      <button class=\"colab-df-convert\" onclick=\"convertToInteractive('df-8b845b6c-5851-4cc3-8db4-cf93bc09247b')\"\n",
              "              title=\"Convert this dataframe to an interactive table.\"\n",
              "              style=\"display:none;\">\n",
              "        \n",
              "  <svg xmlns=\"http://www.w3.org/2000/svg\" height=\"24px\"viewBox=\"0 0 24 24\"\n",
              "       width=\"24px\">\n",
              "    <path d=\"M0 0h24v24H0V0z\" fill=\"none\"/>\n",
              "    <path d=\"M18.56 5.44l.94 2.06.94-2.06 2.06-.94-2.06-.94-.94-2.06-.94 2.06-2.06.94zm-11 1L8.5 8.5l.94-2.06 2.06-.94-2.06-.94L8.5 2.5l-.94 2.06-2.06.94zm10 10l.94 2.06.94-2.06 2.06-.94-2.06-.94-.94-2.06-.94 2.06-2.06.94z\"/><path d=\"M17.41 7.96l-1.37-1.37c-.4-.4-.92-.59-1.43-.59-.52 0-1.04.2-1.43.59L10.3 9.45l-7.72 7.72c-.78.78-.78 2.05 0 2.83L4 21.41c.39.39.9.59 1.41.59.51 0 1.02-.2 1.41-.59l7.78-7.78 2.81-2.81c.8-.78.8-2.07 0-2.86zM5.41 20L4 18.59l7.72-7.72 1.47 1.35L5.41 20z\"/>\n",
              "  </svg>\n",
              "      </button>\n",
              "      \n",
              "  <style>\n",
              "    .colab-df-container {\n",
              "      display:flex;\n",
              "      flex-wrap:wrap;\n",
              "      gap: 12px;\n",
              "    }\n",
              "\n",
              "    .colab-df-convert {\n",
              "      background-color: #E8F0FE;\n",
              "      border: none;\n",
              "      border-radius: 50%;\n",
              "      cursor: pointer;\n",
              "      display: none;\n",
              "      fill: #1967D2;\n",
              "      height: 32px;\n",
              "      padding: 0 0 0 0;\n",
              "      width: 32px;\n",
              "    }\n",
              "\n",
              "    .colab-df-convert:hover {\n",
              "      background-color: #E2EBFA;\n",
              "      box-shadow: 0px 1px 2px rgba(60, 64, 67, 0.3), 0px 1px 3px 1px rgba(60, 64, 67, 0.15);\n",
              "      fill: #174EA6;\n",
              "    }\n",
              "\n",
              "    [theme=dark] .colab-df-convert {\n",
              "      background-color: #3B4455;\n",
              "      fill: #D2E3FC;\n",
              "    }\n",
              "\n",
              "    [theme=dark] .colab-df-convert:hover {\n",
              "      background-color: #434B5C;\n",
              "      box-shadow: 0px 1px 3px 1px rgba(0, 0, 0, 0.15);\n",
              "      filter: drop-shadow(0px 1px 2px rgba(0, 0, 0, 0.3));\n",
              "      fill: #FFFFFF;\n",
              "    }\n",
              "  </style>\n",
              "\n",
              "      <script>\n",
              "        const buttonEl =\n",
              "          document.querySelector('#df-8b845b6c-5851-4cc3-8db4-cf93bc09247b button.colab-df-convert');\n",
              "        buttonEl.style.display =\n",
              "          google.colab.kernel.accessAllowed ? 'block' : 'none';\n",
              "\n",
              "        async function convertToInteractive(key) {\n",
              "          const element = document.querySelector('#df-8b845b6c-5851-4cc3-8db4-cf93bc09247b');\n",
              "          const dataTable =\n",
              "            await google.colab.kernel.invokeFunction('convertToInteractive',\n",
              "                                                     [key], {});\n",
              "          if (!dataTable) return;\n",
              "\n",
              "          const docLinkHtml = 'Like what you see? Visit the ' +\n",
              "            '<a target=\"_blank\" href=https://colab.research.google.com/notebooks/data_table.ipynb>data table notebook</a>'\n",
              "            + ' to learn more about interactive tables.';\n",
              "          element.innerHTML = '';\n",
              "          dataTable['output_type'] = 'display_data';\n",
              "          await google.colab.output.renderOutput(dataTable, element);\n",
              "          const docLink = document.createElement('div');\n",
              "          docLink.innerHTML = docLinkHtml;\n",
              "          element.appendChild(docLink);\n",
              "        }\n",
              "      </script>\n",
              "    </div>\n",
              "  </div>\n",
              "  "
            ]
          },
          "metadata": {},
          "execution_count": 86
        }
      ]
    },
    {
      "cell_type": "markdown",
      "source": [
        "## One-Hot Encoding Categorical Features"
      ],
      "metadata": {
        "id": "EpMJaN9VjZGf"
      }
    },
    {
      "cell_type": "code",
      "source": [
        "cat_features = train_df.select_dtypes(include='category').columns.tolist()\n",
        "cat_features"
      ],
      "metadata": {
        "colab": {
          "base_uri": "https://localhost:8080/"
        },
        "id": "zII2iHXDjYU2",
        "outputId": "81cc4b11-9d57-4f9e-e21f-a9ae3b8f1e80"
      },
      "execution_count": 87,
      "outputs": [
        {
          "output_type": "execute_result",
          "data": {
            "text/plain": [
              "['HomePlanet', 'CryoSleep', 'Destination', 'VIP', 'Cabin_Deck', 'Cabin_Side']"
            ]
          },
          "metadata": {},
          "execution_count": 87
        }
      ]
    },
    {
      "cell_type": "code",
      "source": [
        "train_cat_processed = pd.get_dummies(train_df[cat_features], drop_first=True)\n",
        "train_cat_processed.shape"
      ],
      "metadata": {
        "colab": {
          "base_uri": "https://localhost:8080/"
        },
        "id": "hA6Lrt1ksnrR",
        "outputId": "558a2bb8-e6a1-4dd2-8fd0-3d83f5080aa0"
      },
      "execution_count": 88,
      "outputs": [
        {
          "output_type": "execute_result",
          "data": {
            "text/plain": [
              "(8693, 14)"
            ]
          },
          "metadata": {},
          "execution_count": 88
        }
      ]
    },
    {
      "cell_type": "code",
      "source": [
        "train_cat_processed.head()"
      ],
      "metadata": {
        "colab": {
          "base_uri": "https://localhost:8080/",
          "height": 270
        },
        "id": "mevjrPP5spya",
        "outputId": "d3458b58-8ef1-490c-d9e3-e696fa8c1d53"
      },
      "execution_count": 89,
      "outputs": [
        {
          "output_type": "execute_result",
          "data": {
            "text/plain": [
              "   HomePlanet_Europa  HomePlanet_Mars  CryoSleep_True  Destination_PSOJ318522  \\\n",
              "0                  1                0               0                       0   \n",
              "1                  0                0               0                       0   \n",
              "2                  1                0               0                       0   \n",
              "3                  1                0               0                       0   \n",
              "4                  0                0               0                       0   \n",
              "\n",
              "   Destination_TRAPPIST1e  VIP_True  Cabin_Deck_B  Cabin_Deck_C  Cabin_Deck_D  \\\n",
              "0                       1         0             1             0             0   \n",
              "1                       1         0             0             0             0   \n",
              "2                       1         1             0             0             0   \n",
              "3                       1         0             0             0             0   \n",
              "4                       1         0             0             0             0   \n",
              "\n",
              "   Cabin_Deck_E  Cabin_Deck_F  Cabin_Deck_G  Cabin_Deck_T  Cabin_Side_S  \n",
              "0             0             0             0             0             0  \n",
              "1             0             1             0             0             1  \n",
              "2             0             0             0             0             1  \n",
              "3             0             0             0             0             1  \n",
              "4             0             1             0             0             1  "
            ],
            "text/html": [
              "\n",
              "  <div id=\"df-85b7abc4-03f3-4551-afef-455b72ddd4bb\">\n",
              "    <div class=\"colab-df-container\">\n",
              "      <div>\n",
              "<style scoped>\n",
              "    .dataframe tbody tr th:only-of-type {\n",
              "        vertical-align: middle;\n",
              "    }\n",
              "\n",
              "    .dataframe tbody tr th {\n",
              "        vertical-align: top;\n",
              "    }\n",
              "\n",
              "    .dataframe thead th {\n",
              "        text-align: right;\n",
              "    }\n",
              "</style>\n",
              "<table border=\"1\" class=\"dataframe\">\n",
              "  <thead>\n",
              "    <tr style=\"text-align: right;\">\n",
              "      <th></th>\n",
              "      <th>HomePlanet_Europa</th>\n",
              "      <th>HomePlanet_Mars</th>\n",
              "      <th>CryoSleep_True</th>\n",
              "      <th>Destination_PSOJ318522</th>\n",
              "      <th>Destination_TRAPPIST1e</th>\n",
              "      <th>VIP_True</th>\n",
              "      <th>Cabin_Deck_B</th>\n",
              "      <th>Cabin_Deck_C</th>\n",
              "      <th>Cabin_Deck_D</th>\n",
              "      <th>Cabin_Deck_E</th>\n",
              "      <th>Cabin_Deck_F</th>\n",
              "      <th>Cabin_Deck_G</th>\n",
              "      <th>Cabin_Deck_T</th>\n",
              "      <th>Cabin_Side_S</th>\n",
              "    </tr>\n",
              "  </thead>\n",
              "  <tbody>\n",
              "    <tr>\n",
              "      <th>0</th>\n",
              "      <td>1</td>\n",
              "      <td>0</td>\n",
              "      <td>0</td>\n",
              "      <td>0</td>\n",
              "      <td>1</td>\n",
              "      <td>0</td>\n",
              "      <td>1</td>\n",
              "      <td>0</td>\n",
              "      <td>0</td>\n",
              "      <td>0</td>\n",
              "      <td>0</td>\n",
              "      <td>0</td>\n",
              "      <td>0</td>\n",
              "      <td>0</td>\n",
              "    </tr>\n",
              "    <tr>\n",
              "      <th>1</th>\n",
              "      <td>0</td>\n",
              "      <td>0</td>\n",
              "      <td>0</td>\n",
              "      <td>0</td>\n",
              "      <td>1</td>\n",
              "      <td>0</td>\n",
              "      <td>0</td>\n",
              "      <td>0</td>\n",
              "      <td>0</td>\n",
              "      <td>0</td>\n",
              "      <td>1</td>\n",
              "      <td>0</td>\n",
              "      <td>0</td>\n",
              "      <td>1</td>\n",
              "    </tr>\n",
              "    <tr>\n",
              "      <th>2</th>\n",
              "      <td>1</td>\n",
              "      <td>0</td>\n",
              "      <td>0</td>\n",
              "      <td>0</td>\n",
              "      <td>1</td>\n",
              "      <td>1</td>\n",
              "      <td>0</td>\n",
              "      <td>0</td>\n",
              "      <td>0</td>\n",
              "      <td>0</td>\n",
              "      <td>0</td>\n",
              "      <td>0</td>\n",
              "      <td>0</td>\n",
              "      <td>1</td>\n",
              "    </tr>\n",
              "    <tr>\n",
              "      <th>3</th>\n",
              "      <td>1</td>\n",
              "      <td>0</td>\n",
              "      <td>0</td>\n",
              "      <td>0</td>\n",
              "      <td>1</td>\n",
              "      <td>0</td>\n",
              "      <td>0</td>\n",
              "      <td>0</td>\n",
              "      <td>0</td>\n",
              "      <td>0</td>\n",
              "      <td>0</td>\n",
              "      <td>0</td>\n",
              "      <td>0</td>\n",
              "      <td>1</td>\n",
              "    </tr>\n",
              "    <tr>\n",
              "      <th>4</th>\n",
              "      <td>0</td>\n",
              "      <td>0</td>\n",
              "      <td>0</td>\n",
              "      <td>0</td>\n",
              "      <td>1</td>\n",
              "      <td>0</td>\n",
              "      <td>0</td>\n",
              "      <td>0</td>\n",
              "      <td>0</td>\n",
              "      <td>0</td>\n",
              "      <td>1</td>\n",
              "      <td>0</td>\n",
              "      <td>0</td>\n",
              "      <td>1</td>\n",
              "    </tr>\n",
              "  </tbody>\n",
              "</table>\n",
              "</div>\n",
              "      <button class=\"colab-df-convert\" onclick=\"convertToInteractive('df-85b7abc4-03f3-4551-afef-455b72ddd4bb')\"\n",
              "              title=\"Convert this dataframe to an interactive table.\"\n",
              "              style=\"display:none;\">\n",
              "        \n",
              "  <svg xmlns=\"http://www.w3.org/2000/svg\" height=\"24px\"viewBox=\"0 0 24 24\"\n",
              "       width=\"24px\">\n",
              "    <path d=\"M0 0h24v24H0V0z\" fill=\"none\"/>\n",
              "    <path d=\"M18.56 5.44l.94 2.06.94-2.06 2.06-.94-2.06-.94-.94-2.06-.94 2.06-2.06.94zm-11 1L8.5 8.5l.94-2.06 2.06-.94-2.06-.94L8.5 2.5l-.94 2.06-2.06.94zm10 10l.94 2.06.94-2.06 2.06-.94-2.06-.94-.94-2.06-.94 2.06-2.06.94z\"/><path d=\"M17.41 7.96l-1.37-1.37c-.4-.4-.92-.59-1.43-.59-.52 0-1.04.2-1.43.59L10.3 9.45l-7.72 7.72c-.78.78-.78 2.05 0 2.83L4 21.41c.39.39.9.59 1.41.59.51 0 1.02-.2 1.41-.59l7.78-7.78 2.81-2.81c.8-.78.8-2.07 0-2.86zM5.41 20L4 18.59l7.72-7.72 1.47 1.35L5.41 20z\"/>\n",
              "  </svg>\n",
              "      </button>\n",
              "      \n",
              "  <style>\n",
              "    .colab-df-container {\n",
              "      display:flex;\n",
              "      flex-wrap:wrap;\n",
              "      gap: 12px;\n",
              "    }\n",
              "\n",
              "    .colab-df-convert {\n",
              "      background-color: #E8F0FE;\n",
              "      border: none;\n",
              "      border-radius: 50%;\n",
              "      cursor: pointer;\n",
              "      display: none;\n",
              "      fill: #1967D2;\n",
              "      height: 32px;\n",
              "      padding: 0 0 0 0;\n",
              "      width: 32px;\n",
              "    }\n",
              "\n",
              "    .colab-df-convert:hover {\n",
              "      background-color: #E2EBFA;\n",
              "      box-shadow: 0px 1px 2px rgba(60, 64, 67, 0.3), 0px 1px 3px 1px rgba(60, 64, 67, 0.15);\n",
              "      fill: #174EA6;\n",
              "    }\n",
              "\n",
              "    [theme=dark] .colab-df-convert {\n",
              "      background-color: #3B4455;\n",
              "      fill: #D2E3FC;\n",
              "    }\n",
              "\n",
              "    [theme=dark] .colab-df-convert:hover {\n",
              "      background-color: #434B5C;\n",
              "      box-shadow: 0px 1px 3px 1px rgba(0, 0, 0, 0.15);\n",
              "      filter: drop-shadow(0px 1px 2px rgba(0, 0, 0, 0.3));\n",
              "      fill: #FFFFFF;\n",
              "    }\n",
              "  </style>\n",
              "\n",
              "      <script>\n",
              "        const buttonEl =\n",
              "          document.querySelector('#df-85b7abc4-03f3-4551-afef-455b72ddd4bb button.colab-df-convert');\n",
              "        buttonEl.style.display =\n",
              "          google.colab.kernel.accessAllowed ? 'block' : 'none';\n",
              "\n",
              "        async function convertToInteractive(key) {\n",
              "          const element = document.querySelector('#df-85b7abc4-03f3-4551-afef-455b72ddd4bb');\n",
              "          const dataTable =\n",
              "            await google.colab.kernel.invokeFunction('convertToInteractive',\n",
              "                                                     [key], {});\n",
              "          if (!dataTable) return;\n",
              "\n",
              "          const docLinkHtml = 'Like what you see? Visit the ' +\n",
              "            '<a target=\"_blank\" href=https://colab.research.google.com/notebooks/data_table.ipynb>data table notebook</a>'\n",
              "            + ' to learn more about interactive tables.';\n",
              "          element.innerHTML = '';\n",
              "          dataTable['output_type'] = 'display_data';\n",
              "          await google.colab.output.renderOutput(dataTable, element);\n",
              "          const docLink = document.createElement('div');\n",
              "          docLink.innerHTML = docLinkHtml;\n",
              "          element.appendChild(docLink);\n",
              "        }\n",
              "      </script>\n",
              "    </div>\n",
              "  </div>\n",
              "  "
            ]
          },
          "metadata": {},
          "execution_count": 89
        }
      ]
    },
    {
      "cell_type": "markdown",
      "source": [
        "## Select Quant Features"
      ],
      "metadata": {
        "id": "KgGj-U7StB_a"
      }
    },
    {
      "cell_type": "code",
      "source": [
        "quant_features = train_df.select_dtypes(include='int').columns.tolist()\n",
        "quant_features"
      ],
      "metadata": {
        "colab": {
          "base_uri": "https://localhost:8080/"
        },
        "id": "au-QNctmtJ-6",
        "outputId": "0a0fade1-4a09-4582-be51-9fae2eb2ee54"
      },
      "execution_count": 90,
      "outputs": [
        {
          "output_type": "execute_result",
          "data": {
            "text/plain": [
              "['Age',\n",
              " 'RoomService',\n",
              " 'FoodCourt',\n",
              " 'ShoppingMall',\n",
              " 'Spa',\n",
              " 'VRDeck',\n",
              " 'Group_Size',\n",
              " 'Total_Spend']"
            ]
          },
          "metadata": {},
          "execution_count": 90
        }
      ]
    },
    {
      "cell_type": "markdown",
      "source": [
        "## Training Data Sets"
      ],
      "metadata": {
        "id": "ZsVf336muBA3"
      }
    },
    {
      "cell_type": "code",
      "source": [
        "# combine training features\n",
        "X_train = pd.concat([train_cat_processed, train_df[quant_features]], axis=1)\n",
        "X_train.shape"
      ],
      "metadata": {
        "colab": {
          "base_uri": "https://localhost:8080/"
        },
        "id": "nInSN-uStKTT",
        "outputId": "4cf6b989-69be-43d6-859f-0a14961041b2"
      },
      "execution_count": 91,
      "outputs": [
        {
          "output_type": "execute_result",
          "data": {
            "text/plain": [
              "(8693, 22)"
            ]
          },
          "metadata": {},
          "execution_count": 91
        }
      ]
    },
    {
      "cell_type": "code",
      "source": [
        "y = train_df['Transported']\n",
        "y.shape"
      ],
      "metadata": {
        "colab": {
          "base_uri": "https://localhost:8080/"
        },
        "id": "fiZMZY7MuGJk",
        "outputId": "4aee06e0-2512-41a3-b04c-c2bf69b2acb6"
      },
      "execution_count": 92,
      "outputs": [
        {
          "output_type": "execute_result",
          "data": {
            "text/plain": [
              "(8693,)"
            ]
          },
          "metadata": {},
          "execution_count": 92
        }
      ]
    },
    {
      "cell_type": "markdown",
      "source": [
        "# Baseline Random Forest Model\n",
        "*Based on prior analyisis these features get us just over 80% accuracy on the training data.*"
      ],
      "metadata": {
        "id": "dvx7xsTdHNLQ"
      }
    },
    {
      "cell_type": "markdown",
      "source": [
        "## Model"
      ],
      "metadata": {
        "id": "COC9kTZIhkvH"
      }
    },
    {
      "cell_type": "code",
      "source": [
        "# specify the model with optimal parameters\n",
        "rf_model = RandomForestClassifier(criterion='entropy', \n",
        "                                  n_estimators=450,\n",
        "                                  min_samples_split=32,\n",
        "                                  min_samples_leaf=3,\n",
        "                                  max_features='sqrt',\n",
        "                                  oob_score=True,\n",
        "                                  max_depth=45,\n",
        "                                  random_state=1,\n",
        "                                  n_jobs=-1)"
      ],
      "metadata": {
        "id": "hfmT1CkZxR-y"
      },
      "execution_count": 93,
      "outputs": []
    },
    {
      "cell_type": "code",
      "source": [
        "# fit to training data \n",
        "rf_model.fit(X_train, y)\n"
      ],
      "metadata": {
        "colab": {
          "base_uri": "https://localhost:8080/"
        },
        "id": "0TwIlzo1xcmC",
        "outputId": "5f43615e-acb4-475f-a436-27c5c427409e"
      },
      "execution_count": 94,
      "outputs": [
        {
          "output_type": "execute_result",
          "data": {
            "text/plain": [
              "RandomForestClassifier(criterion='entropy', max_depth=45, max_features='sqrt',\n",
              "                       min_samples_leaf=3, min_samples_split=32,\n",
              "                       n_estimators=450, n_jobs=-1, oob_score=True,\n",
              "                       random_state=1)"
            ]
          },
          "metadata": {},
          "execution_count": 94
        }
      ]
    },
    {
      "cell_type": "markdown",
      "source": [
        "## Feature Importance"
      ],
      "metadata": {
        "id": "rzIIpTx5hhJZ"
      }
    },
    {
      "cell_type": "code",
      "source": [
        "plt.barh(X_train.columns, rf_model.feature_importances_)\n",
        "plt.title('Random Forest Model Feature Importance')\n",
        "plt.show()"
      ],
      "metadata": {
        "colab": {
          "base_uri": "https://localhost:8080/",
          "height": 393
        },
        "id": "aay7Q6jix3by",
        "outputId": "7db331a0-3509-4f4c-9e64-3792fbc6de38"
      },
      "execution_count": 95,
      "outputs": [
        {
          "output_type": "display_data",
          "data": {
            "text/plain": [
              "<Figure size 792x432 with 1 Axes>"
            ],
            "image/png": "[encoded data removed]"
          },
          "metadata": {}
        }
      ]
    },
    {
      "cell_type": "markdown",
      "source": [
        "# Output Processed Training Data\n",
        "Write processed data to CSV for further preprocessing into node and edge lists."
      ],
      "metadata": {
        "id": "f-s3toB72Yg6"
      }
    },
    {
      "cell_type": "code",
      "source": [
        "train_df.to_csv('source_data/spaceshipTitanic_train_processed.csv', index=None)"
      ],
      "metadata": {
        "id": "rEo8mHTr2oVA"
      },
      "execution_count": 96,
      "outputs": []
    },
    {
      "cell_type": "code",
      "source": [],
      "metadata": {
        "id": "C2Y2rhBONy5u"
      },
      "execution_count": null,
      "outputs": []
    }
  ]
}